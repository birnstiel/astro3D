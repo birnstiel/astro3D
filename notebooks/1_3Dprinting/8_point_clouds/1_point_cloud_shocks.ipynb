{
 "cells": [
  {
   "cell_type": "markdown",
   "id": "62ed6ea1",
   "metadata": {},
   "source": [
    "# Printing point clouds"
   ]
  },
  {
   "cell_type": "code",
   "execution_count": null,
   "id": "2da35d37-52e7-4d0f-a3dc-89f91a5de0cd",
   "metadata": {},
   "outputs": [],
   "source": [
    "import subprocess\n",
    "from pathlib import Path\n",
    "from matplotlib import pyplot as plt\n",
    "from IPython.display import Video\n",
    "import numpy as np\n",
    "from tqdm.auto import tqdm\n",
    "import astro3d\n",
    "from astropy.visualization import ImageNormalize, LogStretch"
   ]
  },
  {
   "cell_type": "markdown",
   "id": "43438092-4c36-411a-a53e-a19df1dffed8",
   "metadata": {},
   "source": [
    "## Load Data"
   ]
  },
  {
   "cell_type": "code",
   "execution_count": null,
   "id": "c29204fc-0386-4213-8b93-b98035a0fe2a",
   "metadata": {},
   "outputs": [],
   "source": [
    "data = np.loadtxt('shocks.csv', delimiter=',')\n",
    "xi, yi, zi, sigma, mach, = data[:, :5].T\n",
    "del data"
   ]
  },
  {
   "cell_type": "markdown",
   "id": "2ff99702",
   "metadata": {},
   "source": [
    "## Prepare data"
   ]
  },
  {
   "cell_type": "markdown",
   "id": "80010e6f",
   "metadata": {},
   "source": [
    "Rescale to a maximum side-length of 5 cm"
   ]
  },
  {
   "cell_type": "code",
   "execution_count": null,
   "id": "721728d1-25bd-48d0-bd86-26625adf801b",
   "metadata": {},
   "outputs": [],
   "source": [
    "Lreal = 5.0\n",
    "debug = True"
   ]
  },
  {
   "cell_type": "code",
   "execution_count": null,
   "id": "e1bc9414-d9b2-492e-ae1f-2d55260c620a",
   "metadata": {},
   "outputs": [],
   "source": [
    "Lx = xi.max() - xi.min()\n",
    "Ly = yi.max() - yi.min()\n",
    "Lz = zi.max() - zi.min()\n",
    "\n",
    "Lmax = max(Lx, Ly, Lz)\n",
    "\n",
    "Lx *= Lreal / Lmax\n",
    "Ly *= Lreal / Lmax\n",
    "Lz *= Lreal / Lmax\n",
    "\n",
    "xi = (xi - xi.min()) / Lmax * Lreal\n",
    "yi = (yi - yi.min()) / Lmax * Lreal\n",
    "zi = (zi - zi.min()) / Lmax * Lreal\n",
    "\n",
    "if debug:\n",
    "    # for development: smaller z-range\n",
    "    mask = (zi > Lreal/2 - 0.25) & (zi < Lreal/2 + 0.25)\n",
    "    xi = xi[mask]\n",
    "    yi = yi[mask]\n",
    "    zi = zi[mask]\n",
    "    mach = mach[mask]\n",
    "    sigma = sigma[mask]\n",
    "    \n",
    "    zi = zi - zi.min()\n",
    "    Lz = zi.max()"
   ]
  },
  {
   "cell_type": "code",
   "execution_count": null,
   "id": "c3ad7ed8-ce46-426c-a10e-4799a37a5e8b",
   "metadata": {},
   "outputs": [],
   "source": [
    "stack = astro3d.image_stack.IStack([Lx, Ly, Lz])"
   ]
  },
  {
   "cell_type": "code",
   "execution_count": null,
   "id": "16945388-6d33-4553-b8c1-ca9f278161fb",
   "metadata": {},
   "outputs": [],
   "source": [
    "stack.nx, stack.ny, stack.nz"
   ]
  },
  {
   "cell_type": "code",
   "execution_count": null,
   "id": "13572819",
   "metadata": {},
   "outputs": [],
   "source": [
    "xg = np.linspace(xi.min(), xi.max(), stack.nx)\n",
    "yg = np.linspace(yi.min(), yi.max(), stack.ny)\n",
    "zg = np.linspace(zi.min(), zi.max(), stack.nz)\n",
    "del stack"
   ]
  },
  {
   "cell_type": "code",
   "execution_count": null,
   "id": "e9b1b06f-e603-4b81-bd54-96ea88d0df2d",
   "metadata": {},
   "outputs": [],
   "source": [
    "n_sigma = 5 # beyond how many sigma as distance we don't include this star in the slice"
   ]
  },
  {
   "cell_type": "markdown",
   "id": "2675e5fb-5563-4b97-b739-378395483e48",
   "metadata": {},
   "source": [
    "### Compute images with color information as weights\n",
    "\n",
    "Here, every particle deposits some density weighted by the respective color information, e.g. an entirely green particle will deposity no density in the blue channel and so on. We use `RGB_cmap` which makes an existing colormap transition to white."
   ]
  },
  {
   "cell_type": "code",
   "execution_count": null,
   "id": "5a9a1c51-9bb9-4e99-a8ee-16dec2d39fe5",
   "metadata": {},
   "outputs": [],
   "source": [
    "cmap = astro3d.cmaps.RGB_cmap('magma')\n",
    "\n",
    "# we shift by `shift` to have only the upper part of the color scale, more saturation and less white points\n",
    "shift = 0.25\n",
    "x_color = shift  + (1 - shift) * (mach - mach.min()) / (mach.max() - mach.min())\n",
    "weights = cmap(x_color)"
   ]
  },
  {
   "cell_type": "code",
   "execution_count": null,
   "id": "7981d83b-f97b-4456-90f3-871caad2228d",
   "metadata": {},
   "outputs": [],
   "source": [
    "idx = mach.argsort()\n",
    "\n",
    "f, ax = plt.subplots()\n",
    "pcm = ax.pcolormesh(mach[idx], [0, 1], [mach[idx], mach[idx]], fc='none')\n",
    "pcm.set_facecolor(weights[idx, :])\n",
    "pcm.set_array(None)\n",
    "ax.set_aspect(0.1)\n",
    "ax.set_xlabel('mach number')\n",
    "ax.set_title('color mapping')\n",
    "ax.set_yticks([]);"
   ]
  },
  {
   "cell_type": "markdown",
   "id": "a9c26ee8-6172-4722-abe8-cec2f6930185",
   "metadata": {},
   "source": [
    "This runs about 12 minutes on 8 cores (M1) for a 5cm full res image stack"
   ]
  },
  {
   "cell_type": "code",
   "execution_count": null,
   "id": "7251a3a2-2573-4c2a-bcbf-8bb1194dda92",
   "metadata": {},
   "outputs": [],
   "source": [
    "%%time\n",
    "astro3d.fmodule.numthreads = 8\n",
    "image, alpha = astro3d.image_stack.image_stack_from_point_cloud(\n",
    "    xi, yi, zi, xg=xg, yg=yg, zg=zg, sigmas=sigma, weights=weights, alpha_method=True)"
   ]
  },
  {
   "cell_type": "code",
   "execution_count": null,
   "id": "1500b3df-2b15-4191-873e-9e91dac79388",
   "metadata": {},
   "outputs": [],
   "source": [
    "%%time\n",
    "astro3d.fmodule.numthreads = 8\n",
    "image = astro3d.image_stack.image_stack_from_point_cloud(xi, yi, zi, xg=xg, yg=yg, zg=zg, sigmas=sigma, weights=weights)\n",
    "image = image.astype(np.float32)"
   ]
  },
  {
   "cell_type": "code",
   "execution_count": null,
   "id": "0a23eb55-a103-42a7-9719-4309d473acb4",
   "metadata": {},
   "outputs": [],
   "source": [
    "%%time\n",
    "image = np.load('image.npz')['image']"
   ]
  },
  {
   "cell_type": "markdown",
   "id": "2bda34e5-3a13-460d-9f20-cab971ba0b8f",
   "metadata": {},
   "source": [
    "## Plotting"
   ]
  },
  {
   "cell_type": "markdown",
   "id": "b3004f35-0039-4e6b-bb30-cef0eac30cda",
   "metadata": {},
   "source": [
    "### Normalize\n",
    "\n",
    "Normalize the image (keep a copy of the original in `image_o`).  \n",
    "**Runtime of 90 minutes!**"
   ]
  },
  {
   "cell_type": "markdown",
   "id": "13577b5d-f6d1-4082-b26d-0cee93d14080",
   "metadata": {},
   "source": [
    "A first approach."
   ]
  },
  {
   "cell_type": "markdown",
   "id": "bdd6bb9e-aac8-48ad-8e2b-6ebab730c43e",
   "metadata": {},
   "source": [
    "```python\n",
    "%%time\n",
    "maxval = 100 * image.mean()\n",
    "image_norm = image / maxval\n",
    "image_norm[image_norm>1.0] = 1.0\n",
    "````\u001b"
   ]
  },
  {
   "cell_type": "markdown",
   "id": "a14f08d5-1ab0-48af-a338-9c939be1aecc",
   "metadata": {},
   "source": [
    "Second approach.  \n",
    "**Note:** This takes around 21 min."
   ]
  },
  {
   "cell_type": "code",
   "execution_count": null,
   "id": "46f22d7c-aab9-4149-83b1-ddda5e48b51b",
   "metadata": {},
   "outputs": [],
   "source": [
    "%%time\n",
    "maxval = image.max() / 10\n",
    "print(f'maxval = {maxval}')\n",
    "image = np.array(ImageNormalize(vmin=0, vmax=maxval, clip=True, stretch=LogStretch(a=1))(image))"
   ]
  },
  {
   "cell_type": "markdown",
   "id": "8f476281-7ff8-4c2f-815a-7a5567df8c47",
   "metadata": {},
   "source": [
    "## Save the dataset\n",
    "\n",
    "we convert this to 0...255 unsigned integer to save on file size (factor of 100!)"
   ]
  },
  {
   "cell_type": "code",
   "execution_count": null,
   "id": "6dea02cd-b3a3-416d-b13e-a24be82bb140",
   "metadata": {},
   "outputs": [],
   "source": [
    "data = (255 * image).astype(np.uint8)\n",
    "\n",
    "print(f'image is {image.nbytes / 1024**3:.2g} GB')\n",
    "print(f'data is {data.nbytes / 1024**3:.2g} GB')\n",
    "\n",
    "del image"
   ]
  },
  {
   "cell_type": "code",
   "execution_count": null,
   "id": "6f46eb57-6977-4c7f-845f-dc21f57a8ae6",
   "metadata": {},
   "outputs": [],
   "source": [
    "np.savez_compressed('data.npz', rho=data, x=xg, y=yg, z=zg)"
   ]
  },
  {
   "cell_type": "markdown",
   "id": "c33ed243-e3ce-4abc-b4ad-6151546f17ce",
   "metadata": {},
   "source": [
    "### Single plot"
   ]
  },
  {
   "cell_type": "code",
   "execution_count": null,
   "id": "e03d67a3-ffb6-4bf8-8030-dc8ffdd52a9d",
   "metadata": {},
   "outputs": [],
   "source": [
    "iz = data.shape[2] // 2\n",
    "vmax = data.max()\n",
    "\n",
    "f, ax = plt.subplots(figsize = (6,6))\n",
    "if data.ndim == 3:\n",
    "    cc = ax.pcolormesh(xg, yg, data[:, :, iz].T, vmax=vmax, vmin=0)\n",
    "elif data.ndim == 4:\n",
    "    cc = ax.imshow(data[:, :, iz, :].transpose(1, 0, 2), extent=[xg[0], xg[-1], yg[0], yg[-1]], origin='lower')\n",
    "\n",
    "# scatter points\n",
    "#alpha_max = 0.01   # maximum alpha of the scatter points. Set to 0 to turn off\n",
    "#mask = np.abs(zi - zg[iz]) < n_sigma * sigma\n",
    "#alphas = np.exp(-((zi[mask] - zg[iz])/(np.sqrt(2) * sigma[mask]))**2) * alpha_max\n",
    "#sc = ax.scatter(xi[mask], yi[mask], c='r', s=2, alpha=alphas)\n",
    "\n",
    "ti = ax.text(0.03, 0.96, f'iz = {iz}', c='w',  transform=ax.transAxes, ha='left', va='top')\n",
    "ax.set_aspect(1)\n",
    "ax.set_facecolor('g')"
   ]
  },
  {
   "cell_type": "markdown",
   "id": "014add97-a4b4-4cc7-9a4a-ec2f5a9cec65",
   "metadata": {},
   "source": [
    "Define update function for making movie"
   ]
  },
  {
   "cell_type": "code",
   "execution_count": null,
   "id": "2ea0fbf1-cd69-4cdd-bc5d-23f056d06467",
   "metadata": {},
   "outputs": [],
   "source": [
    "def update(iz):\n",
    "    # update density\n",
    "    if image.ndim == 3:\n",
    "        cc.set_array(data[:, :, iz].T.ravel())\n",
    "    elif image.ndim == 4:\n",
    "        cc.set_data(data[:, :, iz, :].transpose(1, 0, 2))\n",
    "    # update scatter\n",
    "    if alpha_max > 0.0:\n",
    "        mask = np.abs(zi - zg[iz]) < n_sigma * sigma\n",
    "        if mask.sum()==0:\n",
    "            sc.set_alpha(np.zeros(len(sc.get_offsets())))\n",
    "        else:\n",
    "            alphas = np.exp(-((zi[mask] - zg[iz])/(np.sqrt(2) * sigma[mask]))**2) * alpha_max\n",
    "            sc.set_offsets(np.c_[xi[mask], yi[mask]])\n",
    "            sc.set_alpha(alphas)\n",
    "    \n",
    "    ti.set_text(f'iz = {iz}')"
   ]
  },
  {
   "cell_type": "markdown",
   "id": "c450d3b6-a57c-4aed-a9e4-f10ca6d9d3ff",
   "metadata": {},
   "source": [
    "## Make movie parallel\n",
    "\n",
    "This is a very simple paralellization that doesn't work with `multiprocessing`, but does work with `multiprocess`. In my test, this brought down the movie generation from 2m8s to 0m22s (included about 6 seconds for images->movie)."
   ]
  },
  {
   "cell_type": "code",
   "execution_count": null,
   "id": "67db242c-e9c8-4275-a076-7dc6edc2b66e",
   "metadata": {},
   "outputs": [],
   "source": [
    "parallel = True # whether to compile the movie in parallel or not"
   ]
  },
  {
   "cell_type": "code",
   "execution_count": null,
   "id": "ce2827ba-b687-4c7e-b4cd-3f30c4d3c893",
   "metadata": {},
   "outputs": [],
   "source": [
    "%%time \n",
    "fpath = Path('frames')\n",
    "fpath.mkdir(exist_ok=True)\n",
    "\n",
    "if parallel:\n",
    "    import multiprocess as mp\n",
    "    \n",
    "    # the worker function that the workers execute\n",
    "    def work(iz):\n",
    "        update(iz)\n",
    "        f.savefig(fpath / f'frame_{iz:03d}.png', transparent=False, dpi=300)\n",
    "        \n",
    "    # create a pool\n",
    "    p = mp.Pool(processes=mp.cpu_count())\n",
    "    res = p.map(work, range(len(zg)))\n",
    "else:\n",
    "    # normal serial loop\n",
    "    for iz in tqdm(range(len(zg))):\n",
    "        update(iz)\n",
    "        f.savefig(fpath / f'frame_{iz:03d}.png', transparent=False, dpi=300)\n",
    "\n",
    "ret = subprocess.check_output(\n",
    "    (f'ffmpeg -y -framerate 15 -i {fpath}/frame_%03d.png -c:v libx264 -crf 23 -pix_fmt yuv420p output_mp.mp4').split(), stderr=subprocess.STDOUT)"
   ]
  },
  {
   "cell_type": "code",
   "execution_count": null,
   "id": "52884a5a-afe6-4f1e-86bb-6329094e1e4b",
   "metadata": {},
   "outputs": [],
   "source": [
    "Video('output_mp.mp4', width=500, html_attributes='autoplay controls')"
   ]
  },
  {
   "cell_type": "markdown",
   "id": "ad1d8f54-b0e1-445d-8839-918dbc5574bb",
   "metadata": {},
   "source": [
    "# Dithering to image slices"
   ]
  },
  {
   "cell_type": "markdown",
   "id": "16b3197b-757d-478b-8933-ee7c4048930e",
   "metadata": {},
   "source": [
    "Set output path"
   ]
  },
  {
   "cell_type": "code",
   "execution_count": null,
   "id": "560c6a5d-81e9-4788-9d0f-b93bdbeb65d7",
   "metadata": {},
   "outputs": [],
   "source": [
    "path = Path(astro3d.get_output()) / 'shock_surfaces_v2'\n",
    "path.mkdir(exist_ok=True)"
   ]
  },
  {
   "cell_type": "markdown",
   "id": "afdfbddd-145c-4995-adb3-435a73309401",
   "metadata": {},
   "source": [
    "Set a filling fraction of the dithering"
   ]
  },
  {
   "cell_type": "code",
   "execution_count": null,
   "id": "5f1836a7-00ba-4c7e-9303-cb6e2fef6644",
   "metadata": {},
   "outputs": [],
   "source": [
    "fill = 0.3"
   ]
  },
  {
   "cell_type": "markdown",
   "id": "b08a882c-0bd8-419e-b9c7-747ee255e382",
   "metadata": {},
   "source": [
    "define a color palette matching CMYK but with white as black"
   ]
  },
  {
   "cell_type": "code",
   "execution_count": null,
   "id": "ea160665-9399-4b1e-b5a0-31e2f6d742e9",
   "metadata": {},
   "outputs": [],
   "source": [
    "palette = np.array(astro3d.image_stack.vero_palette)[[2,3,4,1,0]]\n",
    "ax = plt.imshow([palette]).axes\n",
    "ax.axis('off')\n",
    "ax.figure.set_facecolor('0.75')"
   ]
  },
  {
   "cell_type": "markdown",
   "id": "69ab52ac-4f57-4333-94e8-f50c0dcd344a",
   "metadata": {},
   "source": [
    "Display a single slice"
   ]
  },
  {
   "cell_type": "code",
   "execution_count": null,
   "id": "26d05bde-8ebb-4383-819c-302a68354b84",
   "metadata": {},
   "outputs": [],
   "source": [
    "iz = data.shape[2] // 2\n",
    "slice = data[:, :, iz, :]"
   ]
  },
  {
   "cell_type": "code",
   "execution_count": null,
   "id": "03c7e992-236a-40e2-90f6-b7f9c8590d6d",
   "metadata": {},
   "outputs": [],
   "source": [
    "# dither image\n",
    "imd = astro3d.image_stack.dither_palette(slice, palette)"
   ]
  },
  {
   "cell_type": "code",
   "execution_count": null,
   "id": "316ac75a-e749-428a-82eb-99543694c8e5",
   "metadata": {},
   "outputs": [],
   "source": [
    "# brighten and apply alpha\n",
    "imdb = astro3d.image_stack.dither_brighten(imd, 1-fill, bg=3 * [128])"
   ]
  },
  {
   "cell_type": "code",
   "execution_count": null,
   "id": "e92c7095-766c-4a07-a41c-d166f27f72bf",
   "metadata": {},
   "outputs": [],
   "source": [
    "def showslice(slice, ax=None, title=None):\n",
    "    if ax is None:\n",
    "        f, ax = plt.subplots()\n",
    "    ax.imshow(slice.transpose(1, 0, 2), origin='lower')\n",
    "    ax.set_aspect(2)\n",
    "    ax.set_facecolor('g')\n",
    "    ax.set_xticks([])\n",
    "    ax.set_yticks([])\n",
    "    ax.set_title(title)"
   ]
  },
  {
   "cell_type": "code",
   "execution_count": null,
   "id": "c6ba30bd-8bb4-4727-b09c-30e55e8ea80a",
   "metadata": {},
   "outputs": [],
   "source": [
    "f, axs = plt.subplots(1, 3, figsize=(9, 3), dpi=150, gridspec_kw={'wspace':0.05})\n",
    "showslice(slice, axs[0], 'original')\n",
    "showslice(imd,   axs[1], 'dithered RGBA')\n",
    "showslice(imdb,  axs[2], 'dithered RGB')"
   ]
  },
  {
   "cell_type": "code",
   "execution_count": null,
   "id": "74fba578-874b-4bf9-b8b2-7376c1918706",
   "metadata": {},
   "outputs": [],
   "source": [
    "import imageio"
   ]
  },
  {
   "cell_type": "code",
   "execution_count": null,
   "id": "bd4200f8-6608-4d9c-b3f4-ac732ea01f8b",
   "metadata": {},
   "outputs": [],
   "source": [
    "def worker_function(ranges):\n",
    "    # loop over the given ranges\n",
    "    iz0, iz1 = ranges\n",
    "    for iz in range(iz0, iz1):\n",
    "\n",
    "        # get the slice\n",
    "        slice = data[:, :, iz, :]\n",
    "    \n",
    "        # dither image\n",
    "        imd = astro3d.image_stack.dither_palette(slice, palette)\n",
    "    \n",
    "        # dither alpha\n",
    "        imdb = astro3d.image_stack.dither_brighten(imd, 1 - fill, bg=3*[128])\n",
    "\n",
    "        # save as png\n",
    "        if path is not None:\n",
    "            imageio.imwrite(path / f'slice_{iz:04d}.png', imdb.transpose(1, 0, 2)[::-1, :, :])\n",
    "\n",
    "    return 0"
   ]
  },
  {
   "cell_type": "markdown",
   "id": "fa0852cf-36b0-4dea-9afa-7276b24d7537",
   "metadata": {},
   "source": [
    "### Serial execution"
   ]
  },
  {
   "cell_type": "markdown",
   "id": "0e817474-90c5-4557-8341-5bfad2aa51ad",
   "metadata": {},
   "source": [
    "```python\n",
    "%%time\n",
    "worker_function([0, data.shape[2]])\n",
    "```"
   ]
  },
  {
   "cell_type": "markdown",
   "id": "b68f7435-b2ef-414e-9888-d805d49859b3",
   "metadata": {},
   "source": [
    "### Parallel execution\n",
    "\n",
    "To be able to do this inside a notebook, we use `multiprocess` since `multiprocessing` will not be able to pickle the worker function"
   ]
  },
  {
   "cell_type": "code",
   "execution_count": null,
   "id": "315fe1d4-bec2-4cf1-9318-9799f04ce8c9",
   "metadata": {},
   "outputs": [],
   "source": [
    "import multiprocess as mp"
   ]
  },
  {
   "cell_type": "code",
   "execution_count": null,
   "id": "600cb706-0b3e-4b59-8edd-f29777a71294",
   "metadata": {},
   "outputs": [],
   "source": [
    "# define the number of workers, and the ranges on which each is working\n",
    "n_workers = mp.cpu_count()\n",
    "chunk_size = int(data.shape[2] / n_workers)\n",
    "ranges = [[i * chunk_size, (i + 1) * chunk_size] for i in range(n_workers)]\n",
    "ranges[-1][-1] = data.shape[2]"
   ]
  },
  {
   "cell_type": "markdown",
   "id": "aacbe3ab-12ac-41a3-bcbe-3f54e875d7c6",
   "metadata": {},
   "source": [
    "Execute"
   ]
  },
  {
   "cell_type": "code",
   "execution_count": null,
   "id": "b44ed419-79b4-4efe-963c-6f7d1308e518",
   "metadata": {},
   "outputs": [],
   "source": [
    "%%time\n",
    "with mp.get_context().Pool() as pool:\n",
    "    pool.map(worker_function, ranges)"
   ]
  },
  {
   "cell_type": "markdown",
   "id": "5bef22e9-1142-4318-9f67-ac3e7684d877",
   "metadata": {},
   "source": [
    "# Analyze Stack"
   ]
  },
  {
   "cell_type": "code",
   "execution_count": null,
   "id": "7ecb153c-e1f4-4576-b288-fd89cc0e30fe",
   "metadata": {},
   "outputs": [],
   "source": [
    "stack = astro3d.image_stack.IStack(path)\n",
    "stack.show_colors(titles=['VeroWhite', 'VeroYellow', 'UltraClear', 'VeroCyan', 'VeroMagenta', 'VeroBlack'])"
   ]
  },
  {
   "cell_type": "code",
   "execution_count": null,
   "id": "01a07c91-e534-4b98-9d86-6c7ae33d30be",
   "metadata": {},
   "outputs": [],
   "source": [
    "stack.empty_indices = [2]"
   ]
  },
  {
   "cell_type": "code",
   "execution_count": null,
   "id": "c77d086f-4ac8-4229-8d35-952d07446777",
   "metadata": {},
   "outputs": [],
   "source": [
    "f, axs = stack.three_views(bg=3 * [200])\n",
    "f.dpi = 400"
   ]
  },
  {
   "cell_type": "markdown",
   "id": "1a89f946-cc5d-49ae-942b-4ef68f609451",
   "metadata": {},
   "source": [
    "Try improving things"
   ]
  },
  {
   "cell_type": "code",
   "execution_count": null,
   "id": "b6b19b14-4322-4d11-8844-b476922e9866",
   "metadata": {},
   "outputs": [],
   "source": [
    "stack.replace_color(5, 3 * [255])"
   ]
  },
  {
   "cell_type": "code",
   "execution_count": null,
   "id": "04d53f9f-a859-4978-92d5-a4904a490135",
   "metadata": {},
   "outputs": [],
   "source": [
    "stack.show_colors(titles=['VeroWhite', 'VeroYellow', 'UltraClear', 'VeroCyan', 'VeroMagenta'])"
   ]
  },
  {
   "cell_type": "code",
   "execution_count": null,
   "id": "da33982b-8e68-4917-ab9e-9c5e54d231f2",
   "metadata": {},
   "outputs": [],
   "source": [
    "stack.empty_indices = [2]"
   ]
  },
  {
   "cell_type": "code",
   "execution_count": null,
   "id": "1eb8e369-ee07-4b7c-a7ba-69dce85114b6",
   "metadata": {},
   "outputs": [],
   "source": [
    "f, axs = stack.three_views(bg=3 * [200])\n",
    "f.dpi = 400"
   ]
  },
  {
   "cell_type": "code",
   "execution_count": null,
   "id": "14209e15-67c6-4507-a0bb-8d16cdee002b",
   "metadata": {},
   "outputs": [],
   "source": []
  }
 ],
 "metadata": {
  "kernelspec": {
   "display_name": "Python 3 (ipykernel)",
   "language": "python",
   "name": "python3"
  },
  "language_info": {
   "codemirror_mode": {
    "name": "ipython",
    "version": 3
   },
   "file_extension": ".py",
   "mimetype": "text/x-python",
   "name": "python",
   "nbconvert_exporter": "python",
   "pygments_lexer": "ipython3",
   "version": "3.10.12"
  }
 },
 "nbformat": 4,
 "nbformat_minor": 5
}
