{
 "cells": [
  {
   "cell_type": "markdown",
   "id": "f338f3ae-c9fb-4e39-826d-0ecb50f191cc",
   "metadata": {
    "tags": []
   },
   "source": [
    "# Analyze Gaia image stack & add a logo"
   ]
  },
  {
   "cell_type": "code",
   "execution_count": null,
   "id": "0e4c6a93-2b6d-4674-b4f4-9f005e60c20e",
   "metadata": {},
   "outputs": [],
   "source": [
    "import astro3d\n",
    "from astro3d import image_stack\n",
    "import matplotlib.pyplot as plt"
   ]
  },
  {
   "cell_type": "markdown",
   "id": "ee52b82c-ac52-4798-b79e-cfc72486409f",
   "metadata": {},
   "source": [
    "## Read the image stack\n",
    "\n",
    "We again need to set the printer-specific settings and the directory of the slides:"
   ]
  },
  {
   "cell_type": "code",
   "execution_count": null,
   "id": "f308f5fd-b3ad-4c94-9f44-03ecaebfef9d",
   "metadata": {},
   "outputs": [],
   "source": [
    "stack = image_stack.IStack(\n",
    "    astro3d.get_output('slices_gaia_2022_linear'),\n",
    "    dpi_x=600, dpi_y=300, dz=27e-4,\n",
    ")"
   ]
  },
  {
   "cell_type": "markdown",
   "id": "e46eb9da-b5e4-4e8a-8632-94ce8550bacc",
   "metadata": {
    "tags": []
   },
   "source": [
    "## Print out statistics\n"
   ]
  },
  {
   "cell_type": "code",
   "execution_count": null,
   "id": "2d9c2717-7827-421f-81fb-ff4fa6a39fc5",
   "metadata": {},
   "outputs": [],
   "source": [
    "f, ax = stack.show_colors(titles=['Black', 'Red', 'PureWhite'], fontsize='small')"
   ]
  },
  {
   "cell_type": "markdown",
   "id": "b830e2e7-0912-43e4-9935-dd24893c74c6",
   "metadata": {},
   "source": [
    "Now we assign the transparent color index"
   ]
  },
  {
   "cell_type": "code",
   "execution_count": null,
   "id": "5d9038b6-960e-4790-83a6-0d12529c68bc",
   "metadata": {},
   "outputs": [],
   "source": [
    "stack.empty_indices = [0]"
   ]
  },
  {
   "cell_type": "code",
   "execution_count": null,
   "id": "1b9d3dcb-2ee4-4d0a-9e48-c5de1a2b76ad",
   "metadata": {},
   "outputs": [],
   "source": [
    "stack.show_info()"
   ]
  },
  {
   "cell_type": "markdown",
   "id": "b8b4e869-cb07-4852-8cf4-020e799d3748",
   "metadata": {},
   "source": [
    "## Plots"
   ]
  },
  {
   "cell_type": "markdown",
   "id": "b41f949c-17ab-4456-ac55-ecf5ee44f3fb",
   "metadata": {},
   "source": [
    "Show the distribution of materials"
   ]
  },
  {
   "cell_type": "code",
   "execution_count": null,
   "id": "56ca0bf4-a979-4540-ac9f-2c8e63c472d7",
   "metadata": {},
   "outputs": [],
   "source": [
    "f, ax = stack.show_counts()"
   ]
  },
  {
   "cell_type": "markdown",
   "id": "482447f3-3509-4a92-919c-3181ad6b28bd",
   "metadata": {},
   "source": [
    "Show fully transparent pixels and the density distribution."
   ]
  },
  {
   "cell_type": "code",
   "execution_count": null,
   "id": "440f40c3-e2bc-4a99-aa77-7f595b7c8803",
   "metadata": {},
   "outputs": [],
   "source": [
    "f, ax = stack.show_transparency_estimate()"
   ]
  },
  {
   "cell_type": "markdown",
   "id": "8a8c16ff-78bd-4268-84e2-9a4f81857fb4",
   "metadata": {},
   "source": [
    "Top view"
   ]
  },
  {
   "cell_type": "code",
   "execution_count": null,
   "id": "d0685b77-95d0-47d0-9629-a896b315043b",
   "metadata": {},
   "outputs": [],
   "source": [
    "f, ax = stack.show_view('xy', backward=True)"
   ]
  },
  {
   "cell_type": "markdown",
   "id": "18e03201-b190-4404-a149-2ed785aaf182",
   "metadata": {},
   "source": [
    "All sides"
   ]
  },
  {
   "cell_type": "code",
   "execution_count": null,
   "id": "9bf7856a-7a14-4c7a-bf24-42a4de04462e",
   "metadata": {},
   "outputs": [],
   "source": [
    "f, ax = stack.three_views()"
   ]
  },
  {
   "cell_type": "markdown",
   "id": "11d87d2e-2d46-4a44-8806-5b318017af64",
   "metadata": {},
   "source": [
    "## Add logo and more "
   ]
  },
  {
   "cell_type": "markdown",
   "id": "7e4444a4-f394-47b6-a5c1-a66606ba3d7e",
   "metadata": {},
   "source": [
    "First we add the logo from an image file"
   ]
  },
  {
   "cell_type": "code",
   "execution_count": null,
   "id": "24262986-0119-4f70-abf4-deaf93a50acd",
   "metadata": {},
   "outputs": [],
   "source": [
    "# logo = '/Users/birnstiel/Desktop/Logo_Origins2.png'\n",
    "logo = '/Users/birnstiel/CODES/astro3Dprinting/figures/Logo_Origins+qr.png'\n",
    "stack.add_logo(logo, [0.3, stack.dimension[1] - 0.5, 2.8], width=2.0, depth=0.09, col=image_stack.BaseCyan, flip_x=True, flip_y=True)"
   ]
  },
  {
   "cell_type": "markdown",
   "id": "96e70e0e-1994-4ba0-95c5-502ed4cf7f56",
   "metadata": {},
   "source": [
    "We mark the center with a 1mm-diameter sphere"
   ]
  },
  {
   "cell_type": "code",
   "execution_count": null,
   "id": "f17e9c59-8013-43e9-82e5-150b4197a0ca",
   "metadata": {},
   "outputs": [],
   "source": [
    "stack.add_sphere(np.array(stack.dimension) / 2, radius=0.05)"
   ]
  },
  {
   "cell_type": "markdown",
   "id": "50a7d395-b475-43ac-92aa-0135e7fbbb00",
   "metadata": {},
   "source": [
    "We add a scale bar. The full box is 740 x 740 x 540 pc. A 100 pc line is therefore $5 / 740 \\times 100 \\simeq 0.676$ cm."
   ]
  },
  {
   "cell_type": "code",
   "execution_count": null,
   "id": "6ec5a788-9a34-4aeb-8923-67c8dd692298",
   "metadata": {},
   "outputs": [],
   "source": [
    "stack.add_scale(5 / 740 * 100, [4.2, 5.0, 3.375])"
   ]
  },
  {
   "cell_type": "markdown",
   "id": "7f3a253f-31b0-4723-a04c-a7fbd3c53b7d",
   "metadata": {},
   "source": [
    "We redo the rendering"
   ]
  },
  {
   "cell_type": "code",
   "execution_count": null,
   "id": "0e4f5e66-c492-4589-8c9a-0eeb52bbf355",
   "metadata": {},
   "outputs": [],
   "source": [
    "stack.show_colors();\n",
    "stack.empty_indices = [0]"
   ]
  },
  {
   "cell_type": "code",
   "execution_count": null,
   "id": "704565ea-bc48-4443-b72b-59e07da2432b",
   "metadata": {},
   "outputs": [],
   "source": [
    "stack.show_view(view='xy', backward=True);"
   ]
  },
  {
   "cell_type": "code",
   "execution_count": null,
   "id": "a9d1521e-2599-4d09-b8b4-9eeb2d4cc1e1",
   "metadata": {},
   "outputs": [],
   "source": [
    "stack.three_views();"
   ]
  },
  {
   "cell_type": "markdown",
   "id": "eae9af4b-0538-4992-af14-3cfd1b2a1be7",
   "metadata": {},
   "source": [
    "Save it under a new folder"
   ]
  },
  {
   "cell_type": "code",
   "execution_count": null,
   "id": "c8e60d75-f264-482e-9c0a-80212a85d3b5",
   "metadata": {},
   "outputs": [],
   "source": [
    "out_dir = stack.directory.parent / (stack.directory.name + '_logo')\n",
    "!mkdir -p {out_dir}\n",
    "stack.save_images(out_dir)"
   ]
  }
 ],
 "metadata": {
  "kernelspec": {
   "display_name": "Python 3 (ipykernel)",
   "language": "python",
   "name": "python3"
  },
  "language_info": {
   "codemirror_mode": {
    "name": "ipython",
    "version": 3
   },
   "file_extension": ".py",
   "mimetype": "text/x-python",
   "name": "python",
   "nbconvert_exporter": "python",
   "pygments_lexer": "ipython3",
   "version": "3.9.15"
  },
  "vscode": {
   "interpreter": {
    "hash": "bccf082f898b2356c8628c9441a85af51350700d2f5e39f1a029accc41e42a3d"
   }
  }
 },
 "nbformat": 4,
 "nbformat_minor": 5
}
