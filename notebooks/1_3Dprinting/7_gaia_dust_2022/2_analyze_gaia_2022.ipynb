{
 "cells": [
  {
   "cell_type": "markdown",
   "id": "f338f3ae-c9fb-4e39-826d-0ecb50f191cc",
   "metadata": {
    "tags": []
   },
   "source": [
    "# Analyze Gaia image stack & add a logo"
   ]
  },
  {
   "cell_type": "code",
   "execution_count": null,
   "id": "0e4c6a93-2b6d-4674-b4f4-9f005e60c20e",
   "metadata": {},
   "outputs": [],
   "source": [
    "from pathlib import Path\n",
    "from pkg_resources import resource_filename\n",
    "import matplotlib.pyplot as plt\n",
    "\n",
    "import astro3d\n",
    "from astro3d import image_stack"
   ]
  },
  {
   "cell_type": "markdown",
   "id": "ee52b82c-ac52-4798-b79e-cfc72486409f",
   "metadata": {},
   "source": [
    "## Read the image stack\n",
    "\n",
    "We again need to set the printer-specific settings and the directory of the slides:"
   ]
  },
  {
   "cell_type": "code",
   "execution_count": null,
   "id": "f308f5fd-b3ad-4c94-9f44-03ecaebfef9d",
   "metadata": {},
   "outputs": [],
   "source": [
    "stack = image_stack.IStack(\n",
    "    #astro3d.get_output('slices_gaia_2022_linear'),\n",
    "    astro3d.get_output('slices_gaia_2022_log'))"
   ]
  },
  {
   "cell_type": "markdown",
   "id": "e46eb9da-b5e4-4e8a-8632-94ce8550bacc",
   "metadata": {
    "tags": []
   },
   "source": [
    "## Print out statistics\n"
   ]
  },
  {
   "cell_type": "code",
   "execution_count": null,
   "id": "2d9c2717-7827-421f-81fb-ff4fa6a39fc5",
   "metadata": {},
   "outputs": [],
   "source": [
    "f, ax = stack.show_colors(titles=['Black', 'Red', 'PureWhite'], fontsize='small')"
   ]
  },
  {
   "cell_type": "markdown",
   "id": "b830e2e7-0912-43e4-9935-dd24893c74c6",
   "metadata": {},
   "source": [
    "Now we assign the transparent color index"
   ]
  },
  {
   "cell_type": "code",
   "execution_count": null,
   "id": "5d9038b6-960e-4790-83a6-0d12529c68bc",
   "metadata": {},
   "outputs": [],
   "source": [
    "stack.empty_indices = [0]"
   ]
  },
  {
   "cell_type": "code",
   "execution_count": null,
   "id": "1b9d3dcb-2ee4-4d0a-9e48-c5de1a2b76ad",
   "metadata": {},
   "outputs": [],
   "source": [
    "stack.show_info()"
   ]
  },
  {
   "cell_type": "markdown",
   "id": "b8b4e869-cb07-4852-8cf4-020e799d3748",
   "metadata": {},
   "source": [
    "## Plots"
   ]
  },
  {
   "cell_type": "markdown",
   "id": "b41f949c-17ab-4456-ac55-ecf5ee44f3fb",
   "metadata": {},
   "source": [
    "Show the distribution of materials"
   ]
  },
  {
   "cell_type": "code",
   "execution_count": null,
   "id": "56ca0bf4-a979-4540-ac9f-2c8e63c472d7",
   "metadata": {},
   "outputs": [],
   "source": [
    "f, ax = stack.show_counts()"
   ]
  },
  {
   "cell_type": "markdown",
   "id": "482447f3-3509-4a92-919c-3181ad6b28bd",
   "metadata": {},
   "source": [
    "Show fully transparent pixels and the density distribution."
   ]
  },
  {
   "cell_type": "code",
   "execution_count": null,
   "id": "440f40c3-e2bc-4a99-aa77-7f595b7c8803",
   "metadata": {},
   "outputs": [],
   "source": [
    "f, ax = stack.show_transparency_estimate()"
   ]
  },
  {
   "cell_type": "markdown",
   "id": "18e03201-b190-4404-a149-2ed785aaf182",
   "metadata": {},
   "source": [
    "All sides"
   ]
  },
  {
   "cell_type": "code",
   "execution_count": null,
   "id": "9bf7856a-7a14-4c7a-bf24-42a4de04462e",
   "metadata": {},
   "outputs": [],
   "source": [
    "f, ax = stack.three_views()"
   ]
  },
  {
   "cell_type": "markdown",
   "id": "11d87d2e-2d46-4a44-8806-5b318017af64",
   "metadata": {},
   "source": [
    "## Add logo and more "
   ]
  },
  {
   "cell_type": "markdown",
   "id": "7e4444a4-f394-47b6-a5c1-a66606ba3d7e",
   "metadata": {},
   "source": [
    "First we add the logo from an image file"
   ]
  },
  {
   "cell_type": "code",
   "execution_count": null,
   "id": "e9f8d263-373e-4726-8417-f9f30fbfbc41",
   "metadata": {},
   "outputs": [],
   "source": [
    "logo = resource_filename('astro3d', str(Path('..') / 'figures' / 'Logo_Origins+qr.png'))\n",
    "# stack.add_logo(logo, [0.3, 0.3, 0.3], width=2.0, depth=0.09, col=image_stack.BaseCyan)"
   ]
  },
  {
   "cell_type": "markdown",
   "id": "4063046c-612b-47d9-9ff3-c01b9229674e",
   "metadata": {},
   "source": [
    "This one needs to be modified: the QR will get a white background, so we separate both parts and include them separately"
   ]
  },
  {
   "cell_type": "code",
   "execution_count": null,
   "id": "d025bafb-971e-43cd-a5d6-ca31cb3dd195",
   "metadata": {},
   "outputs": [],
   "source": [
    "from PIL import Image\n",
    "im = np.array(Image.open(logo)).transpose(1, 0, 2)[:, ::-1, :].max(-1)\n",
    "\n",
    "x0 = 1125\n",
    "x1 = 1979\n",
    "\n",
    "ori = im[:x0, :]\n",
    "qr = im[x0:x1, 20:-20]\n",
    "\n",
    "f, ax = plt.subplots(1, 2)\n",
    "ax[0].pcolormesh(np.arange(ori.shape[0]), np.arange(ori.shape[1]), ori.T, cmap='gray_r')\n",
    "ax[1].pcolormesh(np.arange(qr.shape[0]), np.arange(qr.shape[1]), qr.T, cmap='gray_r')\n",
    "ax[0].set_aspect('equal')\n",
    "ax[1].set_aspect('equal')"
   ]
  },
  {
   "cell_type": "code",
   "execution_count": null,
   "id": "0f7d2ab3-32fa-4382-a102-3b78e32b26f2",
   "metadata": {},
   "outputs": [],
   "source": [
    "height = 1.2\n",
    "width = ori.shape[0] / ori.shape[1] * height\n",
    "\n",
    "stack.add_logo(ori, [0.3, 0.3, 0.3],         None, 0.09, height=height, threshold=0.3, pal=[stack.colors[0], image_stack.BaseCyan])\n",
    "stack.add_logo(qr,  [0.4 + width, 0.3, 0.3], None, 0.09, height=height, threshold=0.3, pal=[image_stack.BaseWhite, image_stack.BaseCyan])"
   ]
  },
  {
   "cell_type": "code",
   "execution_count": null,
   "id": "f7f51524-845a-4f62-ab97-3200cd3ffbdc",
   "metadata": {},
   "outputs": [],
   "source": [
    "stack.show_view('xz');"
   ]
  },
  {
   "cell_type": "markdown",
   "id": "96e70e0e-1994-4ba0-95c5-502ed4cf7f56",
   "metadata": {},
   "source": [
    "We mark the center with a 1mm-diameter sphere"
   ]
  },
  {
   "cell_type": "code",
   "execution_count": null,
   "id": "f17e9c59-8013-43e9-82e5-150b4197a0ca",
   "metadata": {},
   "outputs": [],
   "source": [
    "stack.add_sphere(np.array(stack.dimension) / 2, radius=0.05)"
   ]
  },
  {
   "cell_type": "markdown",
   "id": "50a7d395-b475-43ac-92aa-0135e7fbbb00",
   "metadata": {},
   "source": [
    "We add a scale bar. The full box is 740 x 740 x 540 pc. A 200 pc line is therefore $5 / 740 \\times 200 \\simeq 1.352$ cm."
   ]
  },
  {
   "cell_type": "code",
   "execution_count": null,
   "id": "6ec5a788-9a34-4aeb-8923-67c8dd692298",
   "metadata": {},
   "outputs": [],
   "source": [
    "L = 5 / 740 * 200\n",
    "pos = np.array([4.0, 0.3, 0.3])\n",
    "stack.add_scale(L, pos, radius=12 * stack.dx)"
   ]
  },
  {
   "cell_type": "code",
   "execution_count": null,
   "id": "27579784-1792-472d-b216-c009fc1d161b",
   "metadata": {},
   "outputs": [],
   "source": [
    "stack.add_text('200 parsec', pos + [0.05 * L, 0.0, 0.1 * L], 1.2, 0.09, col=[255, 0, 0])"
   ]
  },
  {
   "cell_type": "markdown",
   "id": "7f3a253f-31b0-4723-a04c-a7fbd3c53b7d",
   "metadata": {},
   "source": [
    "We redo the rendering"
   ]
  },
  {
   "cell_type": "code",
   "execution_count": null,
   "id": "0e4f5e66-c492-4589-8c9a-0eeb52bbf355",
   "metadata": {},
   "outputs": [],
   "source": [
    "stack.show_colors();\n",
    "stack.empty_indices = [1]"
   ]
  },
  {
   "cell_type": "code",
   "execution_count": null,
   "id": "663c3dcc-c77d-4eee-aa6b-b70402b1b5c7",
   "metadata": {},
   "outputs": [],
   "source": [
    "stack.replace_color(0, [128, 128, 128])"
   ]
  },
  {
   "cell_type": "code",
   "execution_count": null,
   "id": "289d0c99-2aba-4a33-91ff-df4f24f185d4",
   "metadata": {},
   "outputs": [],
   "source": [
    "stack.show_colors();"
   ]
  },
  {
   "cell_type": "code",
   "execution_count": null,
   "id": "e94542f1-aff7-49e2-afba-9992e3c55d28",
   "metadata": {},
   "outputs": [],
   "source": [
    "stack.replace_color(0, [255, 255, 255])"
   ]
  },
  {
   "cell_type": "code",
   "execution_count": null,
   "id": "0c46152f-b40e-4a9a-87e0-08f46e9e6bd7",
   "metadata": {},
   "outputs": [],
   "source": [
    "stack.show_colors();\n",
    "stack.empty_indices = [1]"
   ]
  },
  {
   "cell_type": "code",
   "execution_count": null,
   "id": "8bc93c04-9874-44b6-a97f-9d87ca3bac6d",
   "metadata": {},
   "outputs": [],
   "source": [
    "stack.show_view('xz');"
   ]
  },
  {
   "cell_type": "code",
   "execution_count": null,
   "id": "a9d1521e-2599-4d09-b8b4-9eeb2d4cc1e1",
   "metadata": {},
   "outputs": [],
   "source": [
    "stack.three_views();"
   ]
  },
  {
   "cell_type": "markdown",
   "id": "eae9af4b-0538-4992-af14-3cfd1b2a1be7",
   "metadata": {},
   "source": [
    "Save it under a new folder"
   ]
  },
  {
   "cell_type": "code",
   "execution_count": null,
   "id": "3d25a9a6-61c1-4435-9a10-6aa81b9f2c8d",
   "metadata": {},
   "outputs": [],
   "source": [
    "out_dir = stack.directory.parent / (stack.directory.name + '_logo')\n",
    "!mkdir -p {out_dir}\n",
    "stack.save_images(out_dir)\n",
    "!open {out_dir}"
   ]
  }
 ],
 "metadata": {
  "kernelspec": {
   "display_name": "Python 3 (ipykernel)",
   "language": "python",
   "name": "python3"
  },
  "language_info": {
   "codemirror_mode": {
    "name": "ipython",
    "version": 3
   },
   "file_extension": ".py",
   "mimetype": "text/x-python",
   "name": "python",
   "nbconvert_exporter": "python",
   "pygments_lexer": "ipython3",
   "version": "3.9.15"
  },
  "vscode": {
   "interpreter": {
    "hash": "bccf082f898b2356c8628c9441a85af51350700d2f5e39f1a029accc41e42a3d"
   }
  }
 },
 "nbformat": 4,
 "nbformat_minor": 5
}
