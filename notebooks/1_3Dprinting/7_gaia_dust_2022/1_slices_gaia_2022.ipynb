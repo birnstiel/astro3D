{
 "cells": [
  {
   "cell_type": "markdown",
   "id": "621623c8-8af9-43d0-96cd-f5685addb4b3",
   "metadata": {
    "tags": []
   },
   "source": [
    "# Gaia 3D Dust Extinction Map\n",
    "\n",
    "from [Leike, Glatzle, Ensslin 2022](https://dx.doi.org/10.1051/0004-6361/202038169)\n",
    "\n",
    "Download the file `mean_std.h5` from [here](http://cdsarc.u-strasbg.fr/viz-bin/cat/J/A+A/639/A138)"
   ]
  },
  {
   "cell_type": "code",
   "execution_count": null,
   "id": "22c31e33-bf10-4ec4-a2f5-968f0d88adb5",
   "metadata": {
    "tags": []
   },
   "outputs": [],
   "source": [
    "from pathlib import Path\n",
    "import imageio\n",
    "\n",
    "import numpy as np\n",
    "import matplotlib.pyplot as plt\n",
    "from matplotlib.colors import LogNorm, Normalize\n",
    "import h5py\n",
    "\n",
    "import  astro3d\n",
    "from astro3d.image_stack import makeslice, process\n",
    "\n",
    "plt.style.use([{'image.cmap':'gray_r'}])"
   ]
  },
  {
   "cell_type": "markdown",
   "id": "2b15b53f-1ce8-4699-b42d-47045c3c68b9",
   "metadata": {},
   "source": [
    "Read the data"
   ]
  },
  {
   "cell_type": "code",
   "execution_count": null,
   "id": "6541a957-7d6d-4bb4-9a06-e1dd4ad654a3",
   "metadata": {},
   "outputs": [],
   "source": [
    "data_path = Path('~/Desktop/Leike_Ensslin_2019/data/Leike_Glatzle_Ensslin_2020').expanduser()\n",
    "\n",
    "with h5py.File(data_path / 'mean_std.h5') as f:\n",
    "    data = f['mean'][()]\n",
    "    print(f.attrs['information'].decode())"
   ]
  },
  {
   "cell_type": "markdown",
   "id": "f7f4a3a8-e0dc-4f78-942a-2e0dd6b7e214",
   "metadata": {},
   "source": [
    "Set a normalization for the density"
   ]
  },
  {
   "cell_type": "code",
   "execution_count": null,
   "id": "73b8fd40-cd79-4eb4-b219-3e1f269c9305",
   "metadata": {},
   "outputs": [],
   "source": [
    "vmax = data.max()\n",
    "norm = LogNorm(1e-4 * vmax, vmax, clip=True)\n",
    "#norm = Normalize(0.0003, 0.03 * vmax, clip=True)"
   ]
  },
  {
   "cell_type": "markdown",
   "id": "7b81b8b0-ae17-4146-a6e9-13902200dc35",
   "metadata": {},
   "source": [
    "Define function for the interpolation"
   ]
  },
  {
   "cell_type": "code",
   "execution_count": null,
   "id": "3dab9eb1-d109-43dc-a6a5-3ba1c3f6e833",
   "metadata": {},
   "outputs": [],
   "source": [
    "x = np.arange(data.shape[0])\n",
    "y = np.arange(data.shape[1])\n",
    "z = np.arange(data.shape[2])"
   ]
  },
  {
   "cell_type": "code",
   "execution_count": null,
   "id": "9bbe635f",
   "metadata": {},
   "outputs": [],
   "source": [
    "def f_interp(coords):\n",
    "    return astro3d.fmodule.interpolate(x, y, z, data, coords)"
   ]
  },
  {
   "cell_type": "markdown",
   "id": "30196df7-dd28-4a11-a1b4-5fbcbb33e6b3",
   "metadata": {},
   "source": [
    "Next, we need to look up the printer settings. Depending on the model, the (in-plane) x and y resolution is 600x300 DPI or 600x600 DPI. This distinction is crucial because printing a square image on 600x600 DPI would result also in a printed square, but on 600x300 DPI we would get a 1:2 aspect ratio.\n",
    "\n",
    "In addition to that, we need to find out what layer thickness values the printer supports and pick one of them. Here we will proceed with a 600x300 DPI printer resolution and a layer thickness of 27 micron.\n",
    "\n",
    "Furthermore, we want to print our data into a cubeoid of 4 cm height:"
   ]
  },
  {
   "cell_type": "code",
   "execution_count": null,
   "id": "1118ee02-8100-464d-a1d4-3e7788c3f33f",
   "metadata": {},
   "outputs": [],
   "source": [
    "height = 4 # this should be the total height of the printed cube in cm\n",
    "\n",
    "# these are the values for the J850 Prime\n",
    "dpi_x = 600\n",
    "dpi_y = 300\n",
    "dpi_z = 940 # 0.027 mm layer thickness = 2.54 / dpi_z"
   ]
  },
  {
   "cell_type": "markdown",
   "id": "0de90f79-2732-4fd3-bf53-a09408842845",
   "metadata": {},
   "source": [
    "Define higher resolution grids on the printer resolution.\n",
    "\n",
    "Apparently the image dimension should be even, so we add a single pixel if it isn't."
   ]
  },
  {
   "cell_type": "code",
   "execution_count": null,
   "id": "83d655a5-6dd0-4cde-99af-943818cc5db1",
   "metadata": {},
   "outputs": [],
   "source": [
    "n_z = int(height * dpi_z / 2.54)\n",
    "n_x = int(n_z * len(x) / len(z) / dpi_z * dpi_x)\n",
    "n_y = int(n_z * len(y) / len(z) / dpi_z * dpi_y)\n",
    "\n",
    "n_x += n_x % 2 # add 1 to make it even if it isn't\n",
    "n_y += n_y % 2 # add 1 to make it even if it isn't\n",
    "\n",
    "# these are our new grids\n",
    "x2 = np.linspace(0, data.shape[0] - 1, n_x)\n",
    "y2 = np.linspace(0, data.shape[1] - 1, n_y)\n",
    "z2 = np.linspace(0, data.shape[2] - 1, n_z)\n",
    "\n",
    "coords = (x2, y2, z2)\n",
    "\n",
    "print([*x2.shape, *y2.shape, *z2.shape])"
   ]
  },
  {
   "cell_type": "markdown",
   "id": "27e5bbcb-1044-48bc-a214-a5eef4e19b05",
   "metadata": {},
   "source": [
    "### Iteration"
   ]
  },
  {
   "cell_type": "markdown",
   "id": "da6e0189-a1be-4b69-a013-95ccde7b6419",
   "metadata": {},
   "source": [
    "We iterate over the entire 1850 layers and store the images in the path set by `output_dir`."
   ]
  },
  {
   "cell_type": "code",
   "execution_count": null,
   "id": "637a421a-09ae-4f03-ba71-ed48d7cbc229",
   "metadata": {},
   "outputs": [],
   "source": [
    "output_dir = 'slices_gaia_2022'"
   ]
  },
  {
   "cell_type": "code",
   "execution_count": null,
   "id": "914cd2ad-077e-4fb0-9752-7b2096a21f5b",
   "metadata": {},
   "outputs": [],
   "source": [
    "if type(norm).__name__ == 'Normalize':\n",
    "    output_dir += '_linear'\n",
    "elif type(norm).__name__ == 'LogNorm':\n",
    "    output_dir += '_log'\n",
    "else:\n",
    "    output_dir += '_' + type(norm).__name__"
   ]
  },
  {
   "cell_type": "markdown",
   "id": "3e0db862-3437-486f-9c46-460859c6b853",
   "metadata": {},
   "source": [
    "Prepare output folder"
   ]
  },
  {
   "cell_type": "code",
   "execution_count": null,
   "id": "9e81c81f-4a16-43ce-ba46-678f19bc69db",
   "metadata": {},
   "outputs": [],
   "source": [
    "path = Path(astro3d.get_output()) / output_dir\n",
    "path.mkdir(exist_ok=True)"
   ]
  },
  {
   "cell_type": "markdown",
   "id": "1e299648-87fa-4d75-85d5-eaf2b28f5348",
   "metadata": {},
   "source": [
    "First, select which layer index in the new z-grid to process for this example:"
   ]
  },
  {
   "cell_type": "code",
   "execution_count": null,
   "id": "8881419a-eeb3-4d49-805b-c86f1f80496d",
   "metadata": {},
   "outputs": [],
   "source": [
    "iz = data.shape[-1] // 2\n",
    "#iz = 0"
   ]
  },
  {
   "cell_type": "markdown",
   "id": "ad9e6867-1ddb-4f8d-a126-c32a0dc4aec2",
   "metadata": {},
   "source": [
    "This cell does the same as `makeslice`: interpolates one layer, creates and dithers the image and writes it to file"
   ]
  },
  {
   "cell_type": "code",
   "execution_count": null,
   "id": "e725261c-fb41-4b3e-bbf0-17a2e1e4ec0e",
   "metadata": {},
   "outputs": [],
   "source": [
    "makeslice(iz, z2, f_interp, coords, norm, path);"
   ]
  },
  {
   "cell_type": "markdown",
   "id": "28859638-6915-44b7-a9a2-af39397afe05",
   "metadata": {},
   "source": [
    "Let's check what this image looks like and compare to the data"
   ]
  },
  {
   "cell_type": "code",
   "execution_count": null,
   "id": "ee391061-902b-46b4-9c62-fc93c5bedf38",
   "metadata": {},
   "outputs": [],
   "source": [
    "im = imageio.v2.imread(path / f'slice_{iz:04d}.png')\n",
    "\n",
    "f, axs = plt.subplots(1, 2, figsize=(8, 4))\n",
    "\n",
    "ax = axs[0]\n",
    "ax.pcolormesh(x, y, data[:, :, z.searchsorted(z2[iz])].T, norm=norm, cmap='gray_r')\n",
    "ax.set_xlabel('x [pixel]')\n",
    "ax.set_ylabel('y [pixel]')\n",
    "ax.set_aspect(1)\n",
    "ax.set_title('original data')\n",
    "\n",
    "ax = axs[1]\n",
    "ax.imshow(im, vmin=0, vmax=255, cmap='gray')\n",
    "ax.set_xlabel('x [pixel]')\n",
    "ax.set_aspect(dpi_x / dpi_y)\n",
    "ax.set_title('output image')"
   ]
  },
  {
   "cell_type": "markdown",
   "id": "d8485d90-fd2d-48d3-bdad-bef2072971e3",
   "metadata": {
    "tags": []
   },
   "source": [
    "## Batch processing"
   ]
  },
  {
   "cell_type": "markdown",
   "id": "a7253311-9187-4e59-a5c9-5bbf8ce4df4e",
   "metadata": {},
   "source": [
    "all of the above can also be done in a loop with `process`:\n",
    "normalizing with the given norm, up-scaling and saving to images. We'll just do this same one here by specifying the `iz` keyword."
   ]
  },
  {
   "cell_type": "code",
   "execution_count": null,
   "id": "5598d0a3-83c1-4575-953f-e0b4521d413d",
   "metadata": {},
   "outputs": [],
   "source": [
    "iz = np.arange(int(0.1 * dpi_z / 2.54)) # just the first millimeter"
   ]
  },
  {
   "cell_type": "code",
   "execution_count": null,
   "id": "8bea13b9-ff89-436b-8248-f3a89b176d55",
   "metadata": {},
   "outputs": [],
   "source": [
    "process(data,\n",
    "        height=height, dpi_x=dpi_x, dpi_y=dpi_y, dpi_z=dpi_z,\n",
    "        output_dir=path,\n",
    "        norm=norm,\n",
    "        #iz=iz # comment this out to run the full stack\n",
    "       )"
   ]
  }
 ],
 "metadata": {
  "kernelspec": {
   "display_name": "Python 3 (ipykernel)",
   "language": "python",
   "name": "python3"
  },
  "language_info": {
   "codemirror_mode": {
    "name": "ipython",
    "version": 3
   },
   "file_extension": ".py",
   "mimetype": "text/x-python",
   "name": "python",
   "nbconvert_exporter": "python",
   "pygments_lexer": "ipython3",
   "version": "3.9.15"
  },
  "vscode": {
   "interpreter": {
    "hash": "bccf082f898b2356c8628c9441a85af51350700d2f5e39f1a029accc41e42a3d"
   }
  }
 },
 "nbformat": 4,
 "nbformat_minor": 5
}
