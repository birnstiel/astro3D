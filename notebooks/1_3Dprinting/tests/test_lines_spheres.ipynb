{
 "cells": [
  {
   "cell_type": "markdown",
   "id": "bb2f4839-3cd4-49d8-bdac-2a49f6316f05",
   "metadata": {},
   "source": [
    "# Test Streamlines & Spheres"
   ]
  },
  {
   "cell_type": "code",
   "execution_count": null,
   "id": "3cc8b24e-9849-4553-abb8-8d944a98907e",
   "metadata": {},
   "outputs": [],
   "source": [
    "import matplotlib.pyplot as plt\n",
    "import numpy as np\n",
    "\n",
    "import astro3d\n",
    "from astro3d import image_stack\n",
    "\n",
    "cyan = image_stack.BaseCyan"
   ]
  },
  {
   "cell_type": "markdown",
   "id": "5d376a2b-1efc-4485-8d57-6988657a3609",
   "metadata": {},
   "source": [
    "make an empty stack"
   ]
  },
  {
   "cell_type": "code",
   "execution_count": null,
   "id": "3481d313-c2cf-40c1-b705-e40389ac3709",
   "metadata": {},
   "outputs": [],
   "source": [
    "dpi_x = 600\n",
    "dpi_y = 300\n",
    "dz    = 27e-4\n",
    "L     = 2.\n",
    "\n",
    "input = np.ones(np.array([dpi_x * L / 2.54, dpi_y * L / 2.54, L / dz, 3], dtype=int), dtype=np.uint8) * 255\n",
    "\n",
    "stack = astro3d.image_stack.IStack(input)"
   ]
  },
  {
   "cell_type": "markdown",
   "id": "80b3b353-c1fb-41ad-a547-a61072fbd1ad",
   "metadata": {},
   "source": [
    "Add a box"
   ]
  },
  {
   "cell_type": "code",
   "execution_count": null,
   "id": "0e640154-035a-4b82-914d-1277bf18643c",
   "metadata": {},
   "outputs": [],
   "source": [
    "stack.add_box(pos=L/4, length=L/2)"
   ]
  },
  {
   "cell_type": "markdown",
   "id": "354e56d2-b577-43fa-a3db-53591bf28990",
   "metadata": {},
   "source": [
    "Add a blue sphere"
   ]
  },
  {
   "cell_type": "code",
   "execution_count": null,
   "id": "7ab216b9-d075-4b92-82fd-6b350b847a96",
   "metadata": {},
   "outputs": [],
   "source": [
    "stack.add_sphere(pos=L / 2 * np.ones(3), radius=L/10, color=cyan)"
   ]
  },
  {
   "cell_type": "markdown",
   "id": "0a6b7ce6-8062-4d8f-adec-168e5a0dc736",
   "metadata": {},
   "source": [
    "Add some text"
   ]
  },
  {
   "cell_type": "code",
   "execution_count": null,
   "id": "1f36ca2a-0f2d-4b65-903e-2f147d1b0635",
   "metadata": {},
   "outputs": [],
   "source": [
    "opts = dict(height=L/15, width=None, depth=L/40, col=cyan)\n",
    "\n",
    "stack.add_text('b-l-xz', [0.1 * L, 0.02 * L, 0.05 * L], **opts, plane='xz')\n",
    "stack.add_text('b-r-xz', [0.7 * L, 0.02 * L, 0.05 * L], **opts, plane='xz')\n",
    "stack.add_text('t-l-xz', [0.1 * L, 0.02 * L, 0.90 * L], **opts, plane='xz')\n",
    "stack.add_text('t-r-xz', [0.7 * L, 0.02 * L, 0.90 * L], **opts, plane='xz')\n",
    "\n",
    "stack.add_text('b-l-xy', [0.05 * L, 0.05 * L, 0.05 * L], **opts, plane='xy')\n",
    "stack.add_text('b-r-xy', [0.75 * L, 0.05 * L, 0.05 * L], **opts, plane='xy')\n",
    "stack.add_text('t-l-xy', [0.05 * L, 0.90 * L, 0.05 * L], **opts, plane='xy')\n",
    "stack.add_text('t-r-xy', [0.75 * L, 0.90 * L, 0.05 * L], **opts, plane='xy')\n",
    "\n",
    "stack.add_text('b-l-yz', [0.02 * L, 0.1 * L, 0.05 * L], **opts, plane='yz')\n",
    "stack.add_text('b-r-yz', [0.02 * L, 0.7 * L, 0.05 * L], **opts, plane='yz')\n",
    "stack.add_text('t-l-yz', [0.02 * L, 0.1 * L, 0.90 * L], **opts, plane='yz')\n",
    "stack.add_text('t-r-yz', [0.02 * L, 0.7 * L, 0.90 * L], **opts, plane='yz')"
   ]
  },
  {
   "cell_type": "code",
   "execution_count": null,
   "id": "3aa4e351-282d-40f6-a583-3b8efc6fe5a4",
   "metadata": {},
   "outputs": [],
   "source": [
    "stack.show_colors()\n",
    "stack.empty_indices = [0]"
   ]
  },
  {
   "cell_type": "code",
   "execution_count": null,
   "id": "d9a0920c-c0a7-4877-bf23-56f05cc19f89",
   "metadata": {},
   "outputs": [],
   "source": [
    "f, ax = stack.three_views()"
   ]
  },
  {
   "cell_type": "code",
   "execution_count": null,
   "id": "7a20d153-458c-4d3d-9211-ee768b7d891e",
   "metadata": {},
   "outputs": [],
   "source": [
    "f, ax = plt.subplots()\n",
    "ax.pcolormesh(stack._x, stack._y, stack.imgs.mean(-1)[:, :, 38].T)"
   ]
  },
  {
   "cell_type": "code",
   "execution_count": null,
   "id": "5a0b5192-ea71-449e-b949-839c129ec41f",
   "metadata": {},
   "outputs": [],
   "source": [
    "stack.save_images('test_stack')"
   ]
  },
  {
   "cell_type": "code",
   "execution_count": null,
   "id": "39e85a5b-fcba-49b7-b186-19cb66353d9e",
   "metadata": {},
   "outputs": [],
   "source": [
    "stack2 = image_stack.IStack('test_stack', dpi_x=600, dpi_y=300, dz=27e-4)"
   ]
  },
  {
   "cell_type": "code",
   "execution_count": null,
   "id": "dd44fffa-3e58-471f-af4f-2bc1fde049a4",
   "metadata": {},
   "outputs": [],
   "source": [
    "stack.imgs.shape == stack2.imgs.shape"
   ]
  },
  {
   "cell_type": "code",
   "execution_count": null,
   "id": "178336d0-6697-44be-9996-581619b315ce",
   "metadata": {},
   "outputs": [],
   "source": [
    "f, ax = plt.subplots()\n",
    "ax.pcolormesh(stack2._x, stack2._y, stack2.imgs.mean(-1)[:, :, 38].T)"
   ]
  },
  {
   "cell_type": "code",
   "execution_count": null,
   "id": "8db0fb1a-59cb-4f21-8507-4f77df2cfd7b",
   "metadata": {},
   "outputs": [],
   "source": [
    "stack2.show_colors()\n",
    "stack2.empty_indices = [0]\n",
    "stack2.three_views()"
   ]
  }
 ],
 "metadata": {
  "kernelspec": {
   "display_name": "Python 3 (ipykernel)",
   "language": "python",
   "name": "python3"
  },
  "language_info": {
   "codemirror_mode": {
    "name": "ipython",
    "version": 3
   },
   "file_extension": ".py",
   "mimetype": "text/x-python",
   "name": "python",
   "nbconvert_exporter": "python",
   "pygments_lexer": "ipython3",
   "version": "3.9.15"
  }
 },
 "nbformat": 4,
 "nbformat_minor": 5
}
