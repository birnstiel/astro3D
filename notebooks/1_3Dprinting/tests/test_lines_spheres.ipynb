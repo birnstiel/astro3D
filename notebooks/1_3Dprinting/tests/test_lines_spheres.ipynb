{
 "cells": [
  {
   "cell_type": "markdown",
   "id": "bb2f4839-3cd4-49d8-bdac-2a49f6316f05",
   "metadata": {},
   "source": [
    "# Test adding of Streamlines, Text, Logo, Spheres"
   ]
  },
  {
   "cell_type": "code",
   "execution_count": null,
   "id": "3cc8b24e-9849-4553-abb8-8d944a98907e",
   "metadata": {},
   "outputs": [],
   "source": [
    "from pkg_resources import resource_filename\n",
    "\n",
    "from PIL import Image\n",
    "import matplotlib.pyplot as plt\n",
    "import numpy as np\n",
    "\n",
    "import astro3d\n",
    "from astro3d import image_stack\n",
    "\n",
    "cyan = image_stack.BaseCyan"
   ]
  },
  {
   "cell_type": "markdown",
   "id": "5d376a2b-1efc-4485-8d57-6988657a3609",
   "metadata": {},
   "source": [
    "## Create stack"
   ]
  },
  {
   "cell_type": "code",
   "execution_count": null,
   "id": "3481d313-c2cf-40c1-b705-e40389ac3709",
   "metadata": {
    "tags": []
   },
   "outputs": [],
   "source": [
    "dpi_x = 600\n",
    "dpi_y = 300\n",
    "dz    = 27e-4\n",
    "L     = 4.\n",
    "\n",
    "input = np.ones(np.array([dpi_x * L / 2.54, dpi_y * L / 2.54, L / dz, 3], dtype=int), dtype=np.uint8) * 255\n",
    "\n",
    "stack = astro3d.image_stack.IStack(input)"
   ]
  },
  {
   "cell_type": "markdown",
   "id": "80b3b353-c1fb-41ad-a547-a61072fbd1ad",
   "metadata": {},
   "source": [
    "### Add a box"
   ]
  },
  {
   "cell_type": "code",
   "execution_count": null,
   "id": "0e640154-035a-4b82-914d-1277bf18643c",
   "metadata": {},
   "outputs": [],
   "source": [
    "stack.add_box(pos=L/4, length=L/2)"
   ]
  },
  {
   "cell_type": "markdown",
   "id": "354e56d2-b577-43fa-a3db-53591bf28990",
   "metadata": {},
   "source": [
    "### Add a blue sphere"
   ]
  },
  {
   "cell_type": "code",
   "execution_count": null,
   "id": "7ab216b9-d075-4b92-82fd-6b350b847a96",
   "metadata": {},
   "outputs": [],
   "source": [
    "stack.add_sphere(pos=L / 2 * np.ones(3), radius=L/10, color=cyan)"
   ]
  },
  {
   "cell_type": "markdown",
   "id": "0a6b7ce6-8062-4d8f-adec-168e5a0dc736",
   "metadata": {},
   "source": [
    "### Add some text"
   ]
  },
  {
   "cell_type": "code",
   "execution_count": null,
   "id": "373cfbd6-e572-4bc5-b3d7-36a54d6a364c",
   "metadata": {},
   "outputs": [],
   "source": [
    "opts = dict(height=L/15, width=None, depth=L/40, col=cyan)\n",
    "\n",
    "stack.add_text('b-l-xz', [0.1 * L, 0.02 * L, 0.05 * L], **opts, plane='xz')\n",
    "stack.add_text('b-r-xz', [0.7 * L, 0.02 * L, 0.05 * L], **opts, plane='xz')\n",
    "stack.add_text('t-l-xz', [0.1 * L, 0.02 * L, 0.90 * L], **opts, plane='xz')\n",
    "stack.add_text('t-r-xz', [0.7 * L, 0.02 * L, 0.90 * L], **opts, plane='xz')\n",
    "\n",
    "stack.add_text('b-l-xy', [0.05 * L, 0.05 * L, 0.05 * L], **opts, plane='xy')\n",
    "stack.add_text('b-r-xy', [0.75 * L, 0.05 * L, 0.05 * L], **opts, plane='xy')\n",
    "stack.add_text('t-l-xy', [0.05 * L, 0.90 * L, 0.05 * L], **opts, plane='xy')\n",
    "stack.add_text('t-r-xy', [0.75 * L, 0.90 * L, 0.05 * L], **opts, plane='xy')\n",
    "\n",
    "stack.add_text('b-l-yz', [0.02 * L, 0.1 * L, 0.05 * L], **opts, plane='yz')\n",
    "stack.add_text('b-r-yz', [0.02 * L, 0.7 * L, 0.05 * L], **opts, plane='yz')\n",
    "stack.add_text('t-l-yz', [0.02 * L, 0.1 * L, 0.90 * L], **opts, plane='yz')\n",
    "stack.add_text('t-r-yz', [0.02 * L, 0.7 * L, 0.90 * L], **opts, plane='yz')"
   ]
  },
  {
   "cell_type": "markdown",
   "id": "e6f7933d-eeaf-4d64-b8e5-32541f7a9190",
   "metadata": {},
   "source": [
    "### Add a logo"
   ]
  },
  {
   "cell_type": "markdown",
   "id": "92be3358-7dc0-45ff-b846-9c1ade53ab90",
   "metadata": {},
   "source": [
    "this image has no alpha, so white would become white, but we want white material be used for dithering\n",
    "the right color. What's white in the image should become transparent. So we need to define an alpha map"
   ]
  },
  {
   "cell_type": "code",
   "execution_count": null,
   "id": "10d1a141-df2b-4e1a-bab1-b829e4b184ff",
   "metadata": {},
   "outputs": [],
   "source": [
    "im = np.array(Image.open(resource_filename('astro3d', '/../figures/Logo_Origins+qr.png')).convert('RGBA'))\n",
    "im[:, :, 3] = 255 * (np.array(im).mean(-1)<180)"
   ]
  },
  {
   "cell_type": "code",
   "execution_count": null,
   "id": "cfa82144-5c0f-4dda-9ad3-63dda2a6e4c0",
   "metadata": {},
   "outputs": [],
   "source": [
    "f, ax = plt.subplots()\n",
    "f.set_facecolor('0.7')\n",
    "ax.set_facecolor('0.7')\n",
    "#ax.imshow(im[:,:,:3].mean(-1)<180)\n",
    "ax.imshow(im)"
   ]
  },
  {
   "cell_type": "markdown",
   "id": "cc0b959a-7351-4269-87be-79a25c78a23e",
   "metadata": {},
   "source": [
    "#### Method 1: useing dithering"
   ]
  },
  {
   "cell_type": "code",
   "execution_count": null,
   "id": "ff5eff0b-99c1-412c-a080-b9b1d132d616",
   "metadata": {},
   "outputs": [],
   "source": [
    "stack.add_logo(im, [0.25 * L, 0.1 * L, 0.25 * L], 0.5 * L, L / 30, plane='xz')\n",
    "\n",
    "stack.show_colors()\n",
    "stack.empty_indices = [0]\n",
    "\n",
    "f, ax = stack.show_view('xz', bg=[60, 60, 60])\n",
    "ax.set_xlim(400, 600)\n",
    "ax.set_ylim(400, 600)"
   ]
  },
  {
   "cell_type": "markdown",
   "id": "ef4f9fcb-0916-46b4-bb77-fcc723fa3e8e",
   "metadata": {},
   "source": [
    "#### Method 2: useing the threshold-method"
   ]
  },
  {
   "cell_type": "code",
   "execution_count": null,
   "id": "66fd79a7-877c-4ef4-b187-84cc7889f431",
   "metadata": {},
   "outputs": [],
   "source": [
    "stack.add_logo(im, [0.25 * L, 0.1 * L, 0.25 * L], 0.5 * L, L / 30, plane='xz',\n",
    "               threshold=0.2, pal=[[255, 255, 255],image_stack.BaseCyan])\n",
    "\n",
    "f, ax = stack.show_view('xz', bg=[60, 60, 60])\n",
    "ax.set_xlim(200, 400)\n",
    "ax.set_ylim(400, 600)"
   ]
  },
  {
   "cell_type": "markdown",
   "id": "cf4dbc64-4624-43b5-95d3-62f13b07c22a",
   "metadata": {},
   "source": [
    "## Display results"
   ]
  },
  {
   "cell_type": "code",
   "execution_count": null,
   "id": "d9a0920c-c0a7-4877-bf23-56f05cc19f89",
   "metadata": {},
   "outputs": [],
   "source": [
    "f, ax = stack.three_views()\n",
    "f.dpi = 200"
   ]
  },
  {
   "cell_type": "markdown",
   "id": "c8640949-14c4-40f4-9d55-b989dd0d283a",
   "metadata": {},
   "source": [
    "## Compare stack slice and output image"
   ]
  },
  {
   "cell_type": "code",
   "execution_count": null,
   "id": "7a20d153-458c-4d3d-9211-ee768b7d891e",
   "metadata": {},
   "outputs": [],
   "source": [
    "f, ax = plt.subplots()\n",
    "ax.pcolormesh(stack._x, stack._y, stack.imgs.mean(-1)[:, :, 76].T)"
   ]
  },
  {
   "cell_type": "code",
   "execution_count": null,
   "id": "5a0b5192-ea71-449e-b949-839c129ec41f",
   "metadata": {},
   "outputs": [],
   "source": [
    "stack.save_images('test_stack')"
   ]
  },
  {
   "cell_type": "code",
   "execution_count": null,
   "id": "39e85a5b-fcba-49b7-b186-19cb66353d9e",
   "metadata": {},
   "outputs": [],
   "source": [
    "stack2 = image_stack.IStack('test_stack', dpi_x=600, dpi_y=300, dz=27e-4)"
   ]
  },
  {
   "cell_type": "markdown",
   "id": "9eed7b1b-12c9-4fcc-a65a-cda91f810782",
   "metadata": {},
   "source": [
    "Check if the created stack and the read-in stack are identical:"
   ]
  },
  {
   "cell_type": "code",
   "execution_count": null,
   "id": "dd44fffa-3e58-471f-af4f-2bc1fde049a4",
   "metadata": {},
   "outputs": [],
   "source": [
    "stack.imgs.shape == stack2.imgs.shape"
   ]
  },
  {
   "cell_type": "code",
   "execution_count": null,
   "id": "178336d0-6697-44be-9996-581619b315ce",
   "metadata": {},
   "outputs": [],
   "source": [
    "f, ax = plt.subplots()\n",
    "ax.pcolormesh(stack2._x, stack2._y, stack2.imgs.mean(-1)[:, :, 76].T)"
   ]
  },
  {
   "cell_type": "markdown",
   "id": "6a4150ca-5b1f-4d1c-ab30-2b3e53aeca1c",
   "metadata": {},
   "source": [
    "Display read-in stack"
   ]
  },
  {
   "cell_type": "code",
   "execution_count": null,
   "id": "8db0fb1a-59cb-4f21-8507-4f77df2cfd7b",
   "metadata": {},
   "outputs": [],
   "source": [
    "stack2.show_colors()\n",
    "stack2.empty_indices = [0]\n",
    "stack2.three_views()"
   ]
  }
 ],
 "metadata": {
  "kernelspec": {
   "display_name": "Python 3 (ipykernel)",
   "language": "python",
   "name": "python3"
  },
  "language_info": {
   "codemirror_mode": {
    "name": "ipython",
    "version": 3
   },
   "file_extension": ".py",
   "mimetype": "text/x-python",
   "name": "python",
   "nbconvert_exporter": "python",
   "pygments_lexer": "ipython3",
   "version": "3.9.15"
  }
 },
 "nbformat": 4,
 "nbformat_minor": 5
}
