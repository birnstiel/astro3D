{
 "cells": [
  {
   "cell_type": "markdown",
   "id": "a583b7cd-9303-41fb-9448-30e1b891bc4a",
   "metadata": {
    "tags": []
   },
   "source": [
    "# 3D printing a pluto data set"
   ]
  },
  {
   "cell_type": "code",
   "execution_count": null,
   "id": "ca32dcfd-0ada-439c-a07b-c3677faca2ca",
   "metadata": {
    "tags": []
   },
   "outputs": [],
   "source": [
    "from pathlib import Path\n",
    "import sys\n",
    "import imageio\n",
    "\n",
    "import numpy as np\n",
    "from PIL import Image, ImageOps\n",
    "from scipy.interpolate import RegularGridInterpolator\n",
    "\n",
    "import matplotlib.pyplot as plt\n",
    "from matplotlib.colors import LogNorm\n",
    "\n",
    "from IPython.display import display\n",
    "\n",
    "import astro3d\n",
    "from astro3d.image_stack import makeslice, process\n",
    "\n",
    "plt.style.use([{'image.cmap':'gray_r'}])"
   ]
  },
  {
   "cell_type": "markdown",
   "id": "828a3565-4267-499f-9a36-7feed826a57d",
   "metadata": {},
   "source": [
    "Read data."
   ]
  },
  {
   "cell_type": "code",
   "execution_count": null,
   "id": "e6a5dc06-173a-4eeb-a79b-7de028dc3023",
   "metadata": {},
   "outputs": [],
   "source": [
    "with np.load('../../../data/pluto_data_norm.npz') as f:\n",
    "    x = f['x']\n",
    "    y = f['y']\n",
    "    z = f['z']\n",
    "    data = f['rho']"
   ]
  },
  {
   "cell_type": "markdown",
   "id": "50c1673f-9f58-4c4f-b303-70096770a4b9",
   "metadata": {},
   "source": [
    "## Normalization"
   ]
  },
  {
   "cell_type": "markdown",
   "id": "43192ac7-3eb6-4efa-9517-46e74a7ec311",
   "metadata": {},
   "source": [
    "Find the largest magnitude of the data values and define a logarithmic norm"
   ]
  },
  {
   "cell_type": "code",
   "execution_count": null,
   "id": "7ce4cf12-0ad2-4a2c-85ae-c70379b50b23",
   "metadata": {},
   "outputs": [],
   "source": [
    "vmax = 10**np.ceil(np.log10(data.max()))\n",
    "norm = LogNorm(1e-2 * vmax, vmax, clip=True)"
   ]
  },
  {
   "cell_type": "markdown",
   "id": "53fadd59-98e1-4648-9544-145e7e820bdf",
   "metadata": {},
   "source": [
    "## Example plot"
   ]
  },
  {
   "cell_type": "markdown",
   "id": "d2b0f8c2-be2b-4a8f-9acd-08f6609d7d0c",
   "metadata": {},
   "source": [
    "Select which slice to plot"
   ]
  },
  {
   "cell_type": "code",
   "execution_count": null,
   "id": "87f1a35e-e517-40bf-99ae-e318298b1a2b",
   "metadata": {},
   "outputs": [],
   "source": [
    "i = 50"
   ]
  },
  {
   "cell_type": "code",
   "execution_count": null,
   "id": "5e4203f4-9b08-467c-9953-dfddc8ed97dd",
   "metadata": {},
   "outputs": [],
   "source": [
    "# apply the norm\n",
    "d_0 = np.array(norm(data[:, :, i]))\n",
    "\n",
    "# plot it and it's dithered version\n",
    "f, ax = plt.subplots(1, 2, figsize=(10, 5))\n",
    "ax[0].imshow(d_0, vmin=0, vmax=1)\n",
    "ax[1].imshow(astro3d.fmodule.dither(d_0), vmin=0, vmax=1);"
   ]
  },
  {
   "cell_type": "markdown",
   "id": "41f78473-6616-42f1-997f-d9dd0ddf7dcb",
   "metadata": {},
   "source": [
    "## Upscale the data"
   ]
  },
  {
   "cell_type": "markdown",
   "id": "f9b1a31d-3f94-4c4e-ac7e-2dd7ec460125",
   "metadata": {},
   "source": [
    "### Coordinates & aspect ratios"
   ]
  },
  {
   "cell_type": "markdown",
   "id": "e47c7e59-f6a5-4f4d-9f14-f666f7d264ef",
   "metadata": {},
   "source": [
    "these are the original \"coordinates\" of the pixels"
   ]
  },
  {
   "cell_type": "code",
   "execution_count": null,
   "id": "113c991f-29fc-4080-b0d1-2d750cfaac21",
   "metadata": {},
   "outputs": [],
   "source": [
    "x = np.arange(data.shape[0])\n",
    "y = np.arange(data.shape[1])\n",
    "z = np.arange(data.shape[2])"
   ]
  },
  {
   "cell_type": "markdown",
   "id": "6052798f-bc29-4ab2-a91c-6f31dc283d09",
   "metadata": {},
   "source": [
    "create an interpolation function for the 3d data"
   ]
  },
  {
   "cell_type": "code",
   "execution_count": null,
   "id": "4c63928c-f2c1-4725-a3b9-88706243a3d0",
   "metadata": {},
   "outputs": [],
   "source": [
    "f_interp = RegularGridInterpolator((x, y, z), data)"
   ]
  },
  {
   "cell_type": "markdown",
   "id": "30196df7-dd28-4a11-a1b4-5fbcbb33e6b3",
   "metadata": {},
   "source": [
    "settings of the printer (educated guess, especially the layer thickness might be different)"
   ]
  },
  {
   "cell_type": "code",
   "execution_count": null,
   "id": "1118ee02-8100-464d-a1d4-3e7788c3f33f",
   "metadata": {},
   "outputs": [],
   "source": [
    "height = 2.5 # this should be the total height of the object. Other dimensions should be scaled to keep the aspect ratio\n",
    "\n",
    "# these are the values according to alphacams website on the J850 Prime (Frank)\n",
    "#dpi_x = 600\n",
    "#dpi_y = 600\n",
    "#dpi_z = 940  # 0.027 mm layer thickness\n",
    "\n",
    "# these are the values used at FIT and alphacam\n",
    "dpi_x = 600\n",
    "dpi_y = 300\n",
    "# dpi_z = 1814 # 0.014 mm layer thickness\n",
    "dpi_z = 940 # 0.027 mm layer thickness\n",
    "\n",
    "# layer_thickness = 2.54 / dpi_z#55e-4 # 14 micron"
   ]
  },
  {
   "cell_type": "markdown",
   "id": "0de90f79-2732-4fd3-bf53-a09408842845",
   "metadata": {},
   "source": [
    "calculate the new grids in x, y, z"
   ]
  },
  {
   "cell_type": "code",
   "execution_count": null,
   "id": "83d655a5-6dd0-4cde-99af-943818cc5db1",
   "metadata": {},
   "outputs": [],
   "source": [
    "n_z = int(height * dpi_z / 2.54)\n",
    "n_x = int(n_z * len(x) / len(z) / dpi_z * dpi_x)\n",
    "n_y = int(n_z * len(y) / len(z) / dpi_z * dpi_y)\n",
    "\n",
    "n_x += n_x % 2  # add 1 to make it even if it isn't\n",
    "n_y += n_y % 2  # add 1 to make it even if it isn't\n",
    "\n",
    "x2 = np.linspace(0, data.shape[0] - 1, n_x)\n",
    "y2 = np.linspace(0, data.shape[1] - 1, n_y)\n",
    "z2 = np.linspace(0, data.shape[2] - 1, n_z)"
   ]
  },
  {
   "cell_type": "markdown",
   "id": "27e5bbcb-1044-48bc-a214-a5eef4e19b05",
   "metadata": {},
   "source": [
    "### Iteration"
   ]
  },
  {
   "cell_type": "markdown",
   "id": "da6e0189-a1be-4b69-a013-95ccde7b6419",
   "metadata": {},
   "source": [
    "we get the new layer by interpolating the 3D data. We store the images in the path set by `output_dir`."
   ]
  },
  {
   "cell_type": "code",
   "execution_count": null,
   "id": "637a421a-09ae-4f03-ba71-ed48d7cbc229",
   "metadata": {},
   "outputs": [],
   "source": [
    "output_dir = 'slices_pluto_v01'"
   ]
  },
  {
   "cell_type": "markdown",
   "id": "3e0db862-3437-486f-9c46-460859c6b853",
   "metadata": {},
   "source": [
    "Prepare output folder"
   ]
  },
  {
   "cell_type": "code",
   "execution_count": null,
   "id": "9e81c81f-4a16-43ce-ba46-678f19bc69db",
   "metadata": {},
   "outputs": [],
   "source": [
    "path = Path(output_dir)\n",
    "\n",
    "if not path.is_dir():\n",
    "    path.mkdir()\n",
    "else:\n",
    "    files = list(path.glob('slice*.png'))\n",
    "    if len(files)>0:\n",
    "        print('directory exists, deleting old files')\n",
    "        for file in files:\n",
    "            file.unlink()"
   ]
  },
  {
   "cell_type": "markdown",
   "id": "1e299648-87fa-4d75-85d5-eaf2b28f5348",
   "metadata": {},
   "source": [
    "select which index in the new z-grid to process"
   ]
  },
  {
   "cell_type": "code",
   "execution_count": null,
   "id": "8881419a-eeb3-4d49-805b-c86f1f80496d",
   "metadata": {},
   "outputs": [],
   "source": [
    "iz = n_z//2"
   ]
  },
  {
   "cell_type": "markdown",
   "id": "ad9e6867-1ddb-4f8d-a126-c32a0dc4aec2",
   "metadata": {},
   "source": [
    "This cell does the same as `makeslice`: interpolates one layer, creates and dithers the image and writes it to file"
   ]
  },
  {
   "cell_type": "code",
   "execution_count": null,
   "id": "938ff949-9369-4a58-a33c-a064bbf2f4cb",
   "metadata": {},
   "outputs": [],
   "source": [
    "# update coordinates - only last entry changes\n",
    "_x, _y, _z = np.meshgrid(x2, y2, [z2[0]], sparse=False, indexing='ij')\n",
    "_z = np.array([[[z2[iz]]]])\n",
    "coords = (_x, _y, _z)\n",
    "\n",
    "# interpolate\n",
    "new_layer = f_interp(coords)[:, :, 0].T\n",
    "\n",
    "# normalize, convert to grayscale image\n",
    "layer_norm = np.array(norm(new_layer))\n",
    "layer_dither = astro3d.fmodule.dither(layer_norm)\n",
    "\n",
    "# save as 1bit bitmap\n",
    "imageio.imwrite(path / f'slice_{iz:04d}.png', np.uint8(255 - 255 * layer_dither))"
   ]
  },
  {
   "cell_type": "code",
   "execution_count": null,
   "id": "c1f35055-cd75-4048-9037-972db3090c7a",
   "metadata": {},
   "outputs": [],
   "source": [
    "iz2 = z.searchsorted(z2[iz])\n",
    "\n",
    "f, axs = plt.subplots(3, 1, dpi=100, figsize=(2*3, 3*3), constrained_layout=True)\n",
    "axs[0].imshow(norm(data[:,:,iz2]).T, vmin=0, vmax=1, origin='lower')\n",
    "axs[1].imshow(layer_norm, vmin=0, vmax=1, origin='lower')\n",
    "axs[2].imshow(layer_dither, vmin=0, vmax=1, origin='lower')\n",
    "axs[0].text(0.05, 0.95, 'step 1: original data, log-normalized', fontsize='small', transform=axs[0].transAxes)\n",
    "axs[1].text(0.05, 0.95, 'step 2: interpolated to printer dimension', fontsize='small', transform=axs[1].transAxes)\n",
    "axs[2].text(0.05, 0.95, 'step 3: dithered', fontsize='small', transform=axs[2].transAxes)\n",
    "\n",
    "for ax in axs:\n",
    "    ax.set_ylabel('y [pixel]')\n",
    "    ax.set_anchor('W')\n",
    "axs[-1].set_xlabel('x [pixel]');"
   ]
  },
  {
   "cell_type": "markdown",
   "id": "4c26eb79-5745-47c2-b50d-c78809b99095",
   "metadata": {},
   "source": [
    "this is the same result using `makeslice`, but one can select between 1 or 32 bit. stratasys voxelprint wants 32 bit."
   ]
  },
  {
   "cell_type": "code",
   "execution_count": null,
   "id": "9e78a221-68a6-4282-bdc5-f6d5c8a0e422",
   "metadata": {},
   "outputs": [],
   "source": [
    "makeslice(iz, z2, f_interp, coords, norm, path)"
   ]
  },
  {
   "cell_type": "markdown",
   "id": "28859638-6915-44b7-a9a2-af39397afe05",
   "metadata": {},
   "source": [
    "get the colors in that slice"
   ]
  },
  {
   "cell_type": "code",
   "execution_count": null,
   "id": "ee391061-902b-46b4-9c62-fc93c5bedf38",
   "metadata": {},
   "outputs": [],
   "source": [
    "im = Image.open(Path(output_dir) / f'slice_{iz:04d}.png')\n",
    "colors = np.unique(np.array(im).reshape(-1, 4), axis=0)\n",
    "print(f'There are {len(colors)} colors in this image:')\n",
    "for row in colors:\n",
    "    print(f'- {list(row)}')\n",
    "\n",
    "f, ax = plt.subplots()\n",
    "ax.imshow(im, vmin=0, vmax=254, origin='lower')\n",
    "ax.set_xlabel('x [pixel]')\n",
    "ax.set_ylabel('y [pixel]');"
   ]
  },
  {
   "cell_type": "markdown",
   "id": "850f5785-d982-4e99-ac6f-0cc6665275d3",
   "metadata": {
    "tags": []
   },
   "source": [
    "## Batch processing"
   ]
  },
  {
   "cell_type": "markdown",
   "id": "a7253311-9187-4e59-a5c9-5bbf8ce4df4e",
   "metadata": {},
   "source": [
    "all of the above can also be done in a loop with `process`:\n",
    "normalizing with the given norm, up-scaling and saving to images. We'll just do this same one here by specifying the `iz` keyword."
   ]
  },
  {
   "cell_type": "markdown",
   "id": "8684dff7-4a2c-4dc3-8890-493db24d969e",
   "metadata": {},
   "source": [
    "Here we just want to print the first cm."
   ]
  },
  {
   "cell_type": "code",
   "execution_count": null,
   "id": "5598d0a3-83c1-4575-953f-e0b4521d413d",
   "metadata": {},
   "outputs": [],
   "source": [
    "iz = np.arange(int(dpi_z/2.54))"
   ]
  },
  {
   "cell_type": "code",
   "execution_count": null,
   "id": "8bea13b9-ff89-436b-8248-f3a89b176d55",
   "metadata": {},
   "outputs": [],
   "source": [
    "process(data,\n",
    "        height=height, dpi_x=dpi_x, dpi_y=dpi_y, dpi_z=dpi_z,\n",
    "        output_dir=output_dir,\n",
    "        norm=norm,\n",
    "        #iz=iz\n",
    "       )"
   ]
  }
 ],
 "metadata": {
  "kernelspec": {
   "display_name": "Python 3 (ipykernel)",
   "language": "python",
   "name": "python3"
  },
  "language_info": {
   "codemirror_mode": {
    "name": "ipython",
    "version": 3
   },
   "file_extension": ".py",
   "mimetype": "text/x-python",
   "name": "python",
   "nbconvert_exporter": "python",
   "pygments_lexer": "ipython3",
   "version": "3.9.7"
  }
 },
 "nbformat": 4,
 "nbformat_minor": 5
}
