{
 "cells": [
  {
   "cell_type": "markdown",
   "id": "11d7e55e-c11e-4481-bcc6-5515b258cc49",
   "metadata": {
    "tags": []
   },
   "source": [
    "# Rendering 3D spherical PLUTO data"
   ]
  },
  {
   "cell_type": "markdown",
   "id": "79950ed9-86fd-4e93-b697-9ff56ff098eb",
   "metadata": {
    "tags": []
   },
   "source": [
    "# Part 1: generate data\n",
    "generating the cartesian data out of the original pluto data."
   ]
  },
  {
   "cell_type": "code",
   "execution_count": null,
   "id": "68a7693c-f1c9-4657-a9dc-393ba836f37e",
   "metadata": {},
   "outputs": [],
   "source": [
    "import numpy as np\n",
    "import matplotlib.pyplot as plt\n",
    "from matplotlib.colors import LogNorm\n",
    "from scipy.interpolate import interpn\n",
    "from astropy import constants as c"
   ]
  },
  {
   "cell_type": "markdown",
   "id": "50bbb01f-4642-4bd5-b775-70a91fc4ba83",
   "metadata": {},
   "source": [
    "Note: I required [this fork of pyPLUTO](https://gitlab.mpcdf.mpg.de/sdoetsch/pypluto.git) to work, because of changes in the standard library, see [this fix](https://gitlab.mpcdf.mpg.de/sdoetsch/pypluto/-/commit/7b8243c6073785d1486f1bd495a98082f09f95f3)"
   ]
  },
  {
   "cell_type": "code",
   "execution_count": null,
   "id": "cebd3991-6b06-4d3f-b4a2-4cb8bef807a0",
   "metadata": {},
   "outputs": [],
   "source": [
    "import pyPLUTO as pp\n",
    "au = c.au.cgs.value"
   ]
  },
  {
   "cell_type": "code",
   "execution_count": null,
   "id": "2abd4828-d326-4289-8f6c-48a5729b09b2",
   "metadata": {},
   "outputs": [],
   "source": [
    "data = pp.pload.pload(10, datatype='flt', w_dir='/Users/birnstiel/Desktop/PLUTO_Planet/data/')\n",
    "\n",
    "UNIT_DENSITY  = 3.604e-13 # (gr/cm^3)\n",
    "UNIT_VELOCITY = 6.679e+05 # (cm/s)\n",
    "UNIT_LENGTH   = 2.992e+14 # (cm)\n",
    "\n",
    "r = data.x1 * UNIT_LENGTH\n",
    "ri = data.x1r * UNIT_LENGTH\n",
    "th = data.x2\n",
    "thi = data.x2r\n",
    "ph = data.x3\n",
    "phi = data.x3r\n",
    "rho = data.rho.copy() * UNIT_DENSITY"
   ]
  },
  {
   "cell_type": "markdown",
   "id": "28ba3522-075c-4c76-b00d-20e4d6f6297a",
   "metadata": {},
   "source": [
    "Determine planet position"
   ]
  },
  {
   "cell_type": "code",
   "execution_count": null,
   "id": "92e37631-b111-469a-a816-6178e0533b70",
   "metadata": {},
   "outputs": [],
   "source": [
    "_rho = rho[:, len(th)//2:len(th)//2+2, :].mean(1)\n",
    "\n",
    "ir_p = (_rho / _rho.mean(-1)[:, None]).max(-1).argmax()\n",
    "ip_p = _rho[ir_p, :].argmax()"
   ]
  },
  {
   "cell_type": "markdown",
   "id": "d8f4422e-2f28-46fe-8a5c-951c2c2f7c32",
   "metadata": {},
   "source": [
    "Add $\\Omega_\\mathsf{planet}$"
   ]
  },
  {
   "cell_type": "code",
   "execution_count": null,
   "id": "979dc7b4-876a-4e54-bff9-de2c515fd325",
   "metadata": {},
   "outputs": [],
   "source": [
    "vr = data.vx1 * UNIT_VELOCITY\n",
    "vt = data.vx2 * UNIT_VELOCITY\n",
    "vp = data.vx3 * UNIT_VELOCITY\n",
    "\n",
    "#omegaP = np.sqrt(c.G.cgs.value * c.M_sun.cgs.value / UNIT_LENGTH**3)\n",
    "#omega = vp / r[:, None, None] + omegaP\n",
    "#vp = omega * r[:, None, None]"
   ]
  },
  {
   "cell_type": "code",
   "execution_count": null,
   "id": "e06b9475-7b75-4ea4-bb95-ada7e9e525c5",
   "metadata": {},
   "outputs": [],
   "source": [
    "rhod0 = data.rho * data.tr1 * UNIT_DENSITY\n",
    "rhod1 = data.rho * data.tr2 * UNIT_DENSITY\n",
    "rhod = rhod0 + rhod1"
   ]
  },
  {
   "cell_type": "markdown",
   "id": "cf1e591f-6a52-4c74-a18b-a554ee869f3d",
   "metadata": {},
   "source": [
    "Roll planet to $\\phi=0$"
   ]
  },
  {
   "cell_type": "code",
   "execution_count": null,
   "id": "be53d267-b8cf-4837-94ce-4178fa805b78",
   "metadata": {},
   "outputs": [],
   "source": [
    "rhod0 = np.roll(rhod0, -ip_p, axis=2)\n",
    "rhod1 = np.roll(rhod1, -ip_p, axis=2)\n",
    "rhod = rhod0 + rhod1\n",
    "vr = np.roll(vr, -ip_p, axis=2)\n",
    "vt = np.roll(vt, -ip_p, axis=2)\n",
    "vp = np.roll(vp, -ip_p, axis=2)"
   ]
  },
  {
   "cell_type": "markdown",
   "id": "2f2cf40e-ef15-44b8-9075-601109fbbf99",
   "metadata": {},
   "source": [
    "## Inspect the data"
   ]
  },
  {
   "cell_type": "markdown",
   "id": "0928e04b-8b7d-4de8-b484-38da16f56006",
   "metadata": {},
   "source": [
    "Here are the original data dimensions"
   ]
  },
  {
   "cell_type": "code",
   "execution_count": null,
   "id": "9a524d9a-45e3-4f60-8717-22808cc06bda",
   "metadata": {},
   "outputs": [],
   "source": [
    "r.shape, th.shape, ph.shape"
   ]
  },
  {
   "cell_type": "code",
   "execution_count": null,
   "id": "524c9125-72ff-431b-aa85-2a32ebeb99a5",
   "metadata": {},
   "outputs": [],
   "source": [
    "rho.shape"
   ]
  },
  {
   "cell_type": "code",
   "execution_count": null,
   "id": "c248fee4-defa-4c1c-b895-2fe544fc8a4e",
   "metadata": {},
   "outputs": [],
   "source": [
    "def convert_vel_pol2cart(r, theta, phi, vr, vt, vp):\n",
    "    r     = r[:, None, None]\n",
    "    theta = theta[None, :, None]\n",
    "    phi   = phi[None, None, :]\n",
    "    \n",
    "    vx = vr * np.sin(theta) * np.cos(phi) + vt * np.cos(theta) * np.cos(phi) - vp * np.sin(theta) * np.sin(phi)\n",
    "    vy = vr * np.sin(theta) * np.sin(phi) + vt * np.cos(theta) * np.sin(phi) + vp * np.sin(theta) * np.cos(phi)\n",
    "    vz = vr * np.cos(theta) * vt * np.sin(phi)\n",
    "\n",
    "    return vx, vy, vz"
   ]
  },
  {
   "cell_type": "code",
   "execution_count": null,
   "id": "560d4091-b099-4849-a70f-6b57840db0a4",
   "metadata": {},
   "outputs": [],
   "source": [
    "vx, vy, vz = convert_vel_pol2cart(r, th, ph, vr, vt, vp)"
   ]
  },
  {
   "cell_type": "markdown",
   "id": "e7bf8f8c-003f-496b-b481-ea05cd9a8c1c",
   "metadata": {},
   "source": [
    "make a 2D vertical slice"
   ]
  },
  {
   "cell_type": "code",
   "execution_count": null,
   "id": "3a8c997c-94a4-4e5e-9e2d-3e61fac013a3",
   "metadata": {},
   "outputs": [],
   "source": [
    "rri, tti = np.meshgrid(ri, thi, indexing='ij')\n",
    "\n",
    "xxi = rri * np.sin(tti)\n",
    "zzi = rri * np.cos(tti)\n",
    "\n",
    "i_phi = 0\n",
    "\n",
    "f, ax = plt.subplots(dpi=200)\n",
    "vmax = 10.**np.ceil(np.log10(rhod.max()))\n",
    "cc =ax.pcolormesh(xxi / au, zzi / au, rhod[:, :, i_phi], norm=LogNorm(vmin=1e-8 * vmax, vmax=vmax), shading='flat')\n",
    "ax.set_aspect('equal')\n",
    "pos = ax.get_position()\n",
    "cax = f.add_axes([pos.x1, pos.y0, pos.height / 30, pos.height])\n",
    "cb = plt.colorbar(cc, cax=cax)\n",
    "cb.set_label('$\\\\rho_{dust}$')"
   ]
  },
  {
   "cell_type": "markdown",
   "id": "d45ad809-d885-4fd4-809f-0055bf0787d7",
   "metadata": {},
   "source": [
    "Quiver plot"
   ]
  },
  {
   "cell_type": "code",
   "execution_count": null,
   "id": "abbd7a7f-7899-4272-9f4d-966d7915b357",
   "metadata": {},
   "outputs": [],
   "source": [
    "rri, ppi = np.meshgrid(ri, phi, indexing='ij')\n",
    "rr, pp = np.meshgrid(r, ph, indexing='ij')\n",
    "\n",
    "xxi = rri * np.cos(phi)\n",
    "yyi = rri * np.sin(phi)\n",
    "\n",
    "xx = rr * np.cos(pp)\n",
    "yy = rr * np.sin(pp)\n",
    "\n",
    "i_th = rho.shape[1]//2\n",
    "\n",
    "i_r_in = r.searchsorted(17.5 * au)\n",
    "i_r_out = r.searchsorted(22.5 * au)\n",
    "\n",
    "f, ax = plt.subplots(dpi=200)\n",
    "vmax = 10.**np.ceil(np.log10(rhod.max()))\n",
    "cc =ax.pcolormesh(\n",
    "    xxi[i_r_in:i_r_out + 1, :] / au,\n",
    "    yyi[i_r_in:i_r_out + 1, :] / au,\n",
    "    rhod[i_r_in:i_r_out,:, :][:, i_th, :], norm=LogNorm(vmin=1e-8 * vmax, vmax=vmax), shading='flat')\n",
    "ax.set_aspect('equal')\n",
    "pos = ax.get_position()\n",
    "cax = f.add_axes([pos.x1, pos.y0, pos.height / 30, pos.height])\n",
    "cb = plt.colorbar(cc, cax=cax)\n",
    "cb.set_label('$\\\\rho_{dust}$')\n",
    "\n",
    "s = 1\n",
    "\n",
    "x_arr = xx[i_r_in:i_r_out,...][::s,::s] / au\n",
    "y_arr = yy[i_r_in:i_r_out,...][::s,::s] / au\n",
    "vx_arr = vx[i_r_in:i_r_out,...][::s, i_th, ::s] / au * 3.15e7\n",
    "vy_arr = vy[i_r_in:i_r_out,...][::s, i_th, ::s] / au * 3.15e7\n",
    "\n",
    "v = np.hypot(vx_arr, vy_arr)\n",
    "vx_arr *= np.log10(v) / v\n",
    "vy_arr *= np.log10(v) / v\n",
    "\n",
    "ax.quiver(x_arr, y_arr, vx_arr, vy_arr, color='w', pivot='mid', scale=100)#, angles='uv')\n",
    "\n",
    "_phi = 0\n",
    "ax.set_xlim(20 * np.cos(np.deg2rad(_phi)) + np.array([-2.5, 2.5]))\n",
    "ax.set_ylim(20 * np.sin(np.deg2rad(_phi)) + np.array([-2.5, 2.5]))"
   ]
  },
  {
   "cell_type": "markdown",
   "id": "170c7ad4-aff0-401a-a2c4-fa65eed72937",
   "metadata": {},
   "source": [
    "Divide out the mid-plane gradient. This normalizes the disk to mostly take out the general radial gradient."
   ]
  },
  {
   "cell_type": "code",
   "execution_count": null,
   "id": "632cd871-0b3d-4151-a29f-9e617c5495f5",
   "metadata": {},
   "outputs": [],
   "source": [
    "rho_mid = rho[:, data.n2//2].mean(-1)\n",
    "rho_mid_ini = 4e-12 * (data.x1/data.x1[0])**-2.5"
   ]
  },
  {
   "cell_type": "code",
   "execution_count": null,
   "id": "e35aea18-4ed9-4937-ac02-d58a7d37ffef",
   "metadata": {},
   "outputs": [],
   "source": [
    "f, ax = plt.subplots()\n",
    "ax.loglog(data.x1, rho_mid)\n",
    "ax.loglog(data.x1, rho_mid_ini)"
   ]
  },
  {
   "cell_type": "code",
   "execution_count": null,
   "id": "060021f8-14d5-4e7f-8f1f-152d8dfa8bc6",
   "metadata": {},
   "outputs": [],
   "source": [
    "rri, tti = np.meshgrid(ri, thi, indexing='ij')\n",
    "\n",
    "xxi = rri * np.sin(tti)\n",
    "zzi = rri * np.cos(tti)\n",
    "\n",
    "i_phi = 0\n",
    "\n",
    "rho_norm = rhod * 100 / rho_mid_ini[:, None, None]\n",
    "\n",
    "f, ax = plt.subplots(dpi=200)\n",
    "vmax = 10.**np.ceil(np.log10(rho_norm.max()))\n",
    "cc =ax.pcolormesh(xxi / au, zzi / au, rho_norm[:, :, i_phi], norm=LogNorm(vmin=1e-8 * vmax, vmax=vmax), shading='flat')\n",
    "ax.set_aspect('equal')\n",
    "pos = ax.get_position()\n",
    "cax = f.add_axes([pos.x1, pos.y0, pos.height / 30, pos.height])\n",
    "cb = plt.colorbar(cc, cax=cax)\n",
    "cb.set_label('$\\\\rho_{gas}$')"
   ]
  },
  {
   "cell_type": "markdown",
   "id": "36c7498e-7037-46af-ac66-c8e8ce33861c",
   "metadata": {
    "tags": []
   },
   "source": [
    "## Prepare for interpolation"
   ]
  },
  {
   "cell_type": "markdown",
   "id": "b5c1c522-3552-4b9e-af95-b92ac508a1c6",
   "metadata": {},
   "source": [
    "select which density we want to write out, here we take the normalized dust density defined above."
   ]
  },
  {
   "cell_type": "code",
   "execution_count": null,
   "id": "8cac853f-fd81-42fd-88a5-b2f1de258516",
   "metadata": {},
   "outputs": [],
   "source": [
    "rho_out = rho_norm"
   ]
  },
  {
   "cell_type": "markdown",
   "id": "8497684f-ec11-42c0-b355-3a8050fd9d57",
   "metadata": {},
   "source": [
    "also a bit tricky: we define the density only grid centers, so there is a gap in phi direction between the last and the first grid center as the interpolation will not know about the periodic direction. We close this here by adding another point beyond $2\\pi$ which is a copy of the first point near $\\phi = 0$."
   ]
  },
  {
   "cell_type": "code",
   "execution_count": null,
   "id": "72b31bf9-9356-4b9e-a7bc-3f611b7ba465",
   "metadata": {},
   "outputs": [],
   "source": [
    "ph_mod = np.hstack((ph - ph[0], 2 * np.pi))\n",
    "rho_mod = np.concatenate((rho_out, rho_out[:, :, 0:1]), axis=2)\n",
    "vx_mod = np.concatenate((vx, vx[:, :, 0:1]), axis=2)\n",
    "vy_mod = np.concatenate((vy, vy[:, :, 0:1]), axis=2)\n",
    "vz_mod = np.concatenate((vz, vz[:, :, 0:1]), axis=2)"
   ]
  },
  {
   "cell_type": "markdown",
   "id": "64adfce6-b4eb-4821-bc6b-30f378a881f7",
   "metadata": {},
   "source": [
    "We create a cartesian slice, here in the mid-plane `(x, y)` while we call the height `z`"
   ]
  },
  {
   "cell_type": "code",
   "execution_count": null,
   "id": "839dcdfe-3b7b-427e-b51a-e609a42fe016",
   "metadata": {},
   "outputs": [],
   "source": [
    "dx = 0.08\n",
    "#dx = 0.3\n",
    "\n",
    "x = np.arange(-40, 40, dx) * au\n",
    "y = np.arange(-40, 40, dx) * au\n",
    "z = np.arange(-8, 8, dx) * au\n",
    "\n",
    "X, Y, Z = np.meshgrid(x, y, z, indexing='ij')"
   ]
  },
  {
   "cell_type": "markdown",
   "id": "5c489352-4372-40be-98cc-bfc329f9404a",
   "metadata": {},
   "source": [
    "We translate the coordinates of that slice to spherical coordinates.\n",
    "\n",
    "Note that phi goes from 0 to $2 \\pi$ in the original data, but the output of `np.arctan2` has negative angles and needs to be shifted"
   ]
  },
  {
   "cell_type": "code",
   "execution_count": null,
   "id": "37f5f57f-5ed8-4f5c-b645-f7a5fe23157f",
   "metadata": {},
   "outputs": [],
   "source": [
    "R = np.sqrt(X**2 + Y**2 + Z**2)\n",
    "T = np.pi/2 - np.arctan2(Z, np.sqrt(X**2 + Y**2))\n",
    "P = (np.arctan2(Y, X) + 2 * np.pi) % (2 * np.pi)"
   ]
  },
  {
   "cell_type": "markdown",
   "id": "e338f609-3cf2-4ca4-8c19-766d34b58d4b",
   "metadata": {},
   "source": [
    "We create a array of new points, shape is (N, 3)"
   ]
  },
  {
   "cell_type": "code",
   "execution_count": null,
   "id": "5d8c01ab-a682-494c-a3c6-33656aa37803",
   "metadata": {},
   "outputs": [],
   "source": [
    "points = np.array([R.ravel(), T.ravel(), P.ravel()]).T"
   ]
  },
  {
   "cell_type": "markdown",
   "id": "c6fb0636-eafc-47c8-a1e8-0510e12720bb",
   "metadata": {},
   "source": [
    "We call the interpolation. There's values outside the box, so we assign them the value `0.0`."
   ]
  },
  {
   "cell_type": "code",
   "execution_count": null,
   "id": "e9da9a19-bc5a-46a1-bb5f-c45778a77c60",
   "metadata": {},
   "outputs": [],
   "source": [
    "interp_rho = interpn((r, th, ph_mod), rho_mod, points, fill_value=0.0, bounds_error=False)\n",
    "interp_vx = interpn((r, th, ph_mod), vx_mod, points, fill_value=0.0, bounds_error=False)\n",
    "interp_vy = interpn((r, th, ph_mod), vy_mod, points, fill_value=0.0, bounds_error=False)\n",
    "interp_vz = interpn((r, th, ph_mod), vz_mod, points, fill_value=0.0, bounds_error=False)"
   ]
  },
  {
   "cell_type": "markdown",
   "id": "46803de6-5399-46fb-9afd-6b27bae9a0e4",
   "metadata": {},
   "source": [
    "The result is again one dimensional (one value per new point), so we need to reshape it to match the shape of the slice. After this, it is again 3-dimensional, since our slice has 3 dimensions, but the z-dimension is just one value here."
   ]
  },
  {
   "cell_type": "code",
   "execution_count": null,
   "id": "58699d05-fa68-4cd5-958c-04df5ed84908",
   "metadata": {},
   "outputs": [],
   "source": [
    "interp_rho = interp_rho.reshape(X.shape)\n",
    "interp_vx = interp_vx.reshape(X.shape)\n",
    "interp_vy = interp_vy.reshape(X.shape)\n",
    "interp_vz = interp_vz.reshape(X.shape)"
   ]
  },
  {
   "cell_type": "markdown",
   "id": "967adaf7-9901-41b4-95cc-784c0a4c1985",
   "metadata": {},
   "source": [
    "Plot it"
   ]
  },
  {
   "cell_type": "code",
   "execution_count": null,
   "id": "da8b33d8-7366-4b48-9471-11413e2decc4",
   "metadata": {},
   "outputs": [],
   "source": [
    "f, axs = plt.subplots(1, 2, dpi=200, gridspec_kw={'width_ratios':[4, 1]}, figsize=(10, 2))\n",
    "\n",
    "vmax = 10.**np.ceil(np.log10(interp_rho.max()))\n",
    "\n",
    "iy = len(y) // 2 \n",
    "iz = len(z) // 2\n",
    "\n",
    "ax = axs[0]\n",
    "cc1 = ax.pcolormesh(X[:, iy, :] / au, Z[:, iy, :] / au, interp_rho[:, iy, :], norm=LogNorm(vmin=1e-8 * vmax, vmax=vmax), shading='auto', rasterized=True)\n",
    "\n",
    "ax = axs[1]\n",
    "cc2 = ax.pcolormesh(X[:, :, iz] / au, Y[:, :, iz] / au, interp_rho[:, :, iz], norm=LogNorm(vmin=1e-8 * vmax, vmax=vmax), shading='auto', rasterized=True)\n",
    "\n",
    "\n",
    "for ax, cc in zip(axs, [cc1, cc2]):\n",
    "    ax.set_aspect('equal')\n",
    "    pos = ax.get_position()\n",
    "    cax = f.add_axes([pos.x0, pos.y1, pos.width, pos.height / 20])\n",
    "    cb = plt.colorbar(cc, cax=cax, orientation='horizontal')\n",
    "    cb.set_label('$\\\\rho_{gas}$')\n",
    "    cax.xaxis.set_label_position('top')\n",
    "    cax.xaxis.set_ticks_position('top')"
   ]
  },
  {
   "cell_type": "markdown",
   "id": "ff12d206-e921-49ab-89f0-fe27bcb1e493",
   "metadata": {
    "tags": []
   },
   "source": [
    "## Export data"
   ]
  },
  {
   "cell_type": "markdown",
   "id": "dd45e519-ff7a-4fa8-ba40-ac31fd22a34d",
   "metadata": {},
   "source": [
    "store the data in a simple format"
   ]
  },
  {
   "cell_type": "code",
   "execution_count": null,
   "id": "b5a6b294-ca9b-4e78-b683-a973c650c00a",
   "metadata": {},
   "outputs": [],
   "source": [
    "np.savez('pluto_total_dust.npz', x=x, y=y, z=z, rho=interp_rho, vx=interp_vx, vy=interp_vy, vz=interp_vz)"
   ]
  },
  {
   "cell_type": "markdown",
   "id": "df889700-af01-4bfe-912d-4b07cd3d3935",
   "metadata": {},
   "source": [
    "this can be loaded with:"
   ]
  },
  {
   "cell_type": "markdown",
   "id": "66f4eae1-b63c-4e37-b161-51e20b0677fa",
   "metadata": {
    "tags": []
   },
   "source": [
    "# Part 2: Rendering"
   ]
  },
  {
   "cell_type": "code",
   "execution_count": null,
   "id": "214f7997-eb04-4aaf-9687-6bccb0c65532",
   "metadata": {},
   "outputs": [],
   "source": [
    "import numpy as np\n",
    "import matplotlib.pyplot as plt\n",
    "from volrender import TransferFunction, Renderer, render_movie\n",
    "from matplotlib.colors import LogNorm, Normalize"
   ]
  },
  {
   "cell_type": "markdown",
   "id": "d8dc7f0c-9582-4db0-b3cf-d41f94657b5b",
   "metadata": {},
   "source": [
    "## Load interpolated data"
   ]
  },
  {
   "cell_type": "code",
   "execution_count": null,
   "id": "acba839d-7c0a-493c-9a10-2d15b652dcb4",
   "metadata": {},
   "outputs": [],
   "source": [
    "with np.load('pluto_total_dust.npz') as f:\n",
    "    x = f['x']\n",
    "    y = f['y']\n",
    "    z = f['z']\n",
    "    rho = f['rho']\n",
    "    vx = f['vx']\n",
    "    vy = f['vy']\n",
    "    vz = f['vz']"
   ]
  },
  {
   "cell_type": "markdown",
   "id": "2460c7f4-de5d-499b-8e9e-d4da318fd43b",
   "metadata": {},
   "source": [
    "## Rescale data and define the transfer function"
   ]
  },
  {
   "cell_type": "code",
   "execution_count": null,
   "id": "3bd492eb-3541-4f27-a169-d59b2b6b4134",
   "metadata": {},
   "outputs": [],
   "source": [
    "vmax = rho.max()\n",
    "norm = LogNorm(vmin=1e-8 * vmax, vmax=vmax, clip=True)\n",
    "datacube = norm(rho.ravel()).reshape(rho.shape)"
   ]
  },
  {
   "cell_type": "markdown",
   "id": "d742d606-a0c0-4345-a4fc-65cc5aafdef4",
   "metadata": {},
   "source": [
    "**Create the renderer**  \n",
    "Note: this is quite high resolution and takes of the order of a minute to render. Reduce `N` to something like 300 to get results in seconds for testing."
   ]
  },
  {
   "cell_type": "code",
   "execution_count": null,
   "id": "f51757fd-cea0-40c8-b34b-541d61651504",
   "metadata": {},
   "outputs": [],
   "source": [
    "tf = TransferFunction(x0=[0.15, 0.42, 0.7])\n",
    "r = Renderer(datacube, tf=tf, N=800)"
   ]
  },
  {
   "cell_type": "markdown",
   "id": "b1997f4b-0822-4567-9368-c9d093331dd4",
   "metadata": {},
   "source": [
    "update the transfer function"
   ]
  },
  {
   "cell_type": "code",
   "execution_count": null,
   "id": "081095b5-7521-4648-a757-e0b697cea20d",
   "metadata": {},
   "outputs": [],
   "source": [
    "tf.sigma[:] = np.array([0.03, 0.02, 0.08])\n",
    "tf.colors[:, -1] = np.array([0.05, 0.02, 0.8])"
   ]
  },
  {
   "cell_type": "code",
   "execution_count": null,
   "id": "962a6312-55a6-470e-bdce-98b47b500596",
   "metadata": {},
   "outputs": [],
   "source": [
    "tf.colors[:, :3] = np.array([\n",
    "    [1.00, 0.00, 0.25],\n",
    "    [0.25, 0.25, 0.75],\n",
    "    [0.15 ,0.90, 0.15],\n",
    "    ])\n",
    "\n",
    "#tf.colors[:, -1] = np.array([0.05, 0.02, 1.0])\n",
    "tf.colors[:, -1] = np.array([0.025, 0.01, 0.7])"
   ]
  },
  {
   "cell_type": "code",
   "execution_count": null,
   "id": "e3571e08-fc42-4f4e-b87f-5079f2bf9b67",
   "metadata": {},
   "outputs": [],
   "source": [
    "plt.imshow([tf.colors[:,:3]])"
   ]
  },
  {
   "cell_type": "markdown",
   "id": "c7db1c8b-278f-41a6-92b9-8c0799b54524",
   "metadata": {},
   "source": [
    "## Render images"
   ]
  },
  {
   "cell_type": "code",
   "execution_count": null,
   "id": "71a563bb-efda-4279-8863-208959df9609",
   "metadata": {},
   "outputs": [],
   "source": [
    "%%time\n",
    "r.render(phi=40, theta=60, transparent=False, bg=1.0)"
   ]
  },
  {
   "cell_type": "code",
   "execution_count": null,
   "id": "4e679b4e-455c-4f6a-a9fa-1e15969bf6af",
   "metadata": {},
   "outputs": [],
   "source": [
    "f, ax = r.plot(diagnostics=True, cb_norm=norm, L=80, invert=True)"
   ]
  },
  {
   "cell_type": "markdown",
   "id": "eaa238a3-f749-4e56-83f6-dd51bb18ae5d",
   "metadata": {},
   "source": [
    "Make two plots, one with white background, the other one transparent.\n",
    "\n",
    "**Note:** the alpha channel contains the optical depth, i.e. we have to invert it. To get a good looking scaling, we also take it to the fourth power."
   ]
  },
  {
   "cell_type": "code",
   "execution_count": null,
   "id": "09d76355-b30d-4411-af87-2cdd58baad84",
   "metadata": {
    "tags": []
   },
   "outputs": [],
   "source": [
    "# alpha = 1 - r.image[:,:,-1]**4\n",
    "alpha = 1 - (r.image.sum(-1)/r.image.sum(-1).max())**8\n",
    "f, ax = plt.subplots(figsize=(10, 4), dpi=300)\n",
    "ax.set_ylim(-12, 15)\n",
    "_ = r.plot(alpha=alpha, cb_norm=norm, L=40, invert=True, ax=ax)\n",
    "\n",
    "ax.set_facecolor('none')\n",
    "ax.add_artist(plt.Circle((10, 0.5), 1.5, ec='k', fc='none', alpha=0.5, ls='--'))\n",
    "ax.annotate('planet', (10, 2),\n",
    "            xytext=(10, 7), horizontalalignment='center',\n",
    "            arrowprops=dict(facecolor='black', width=.5, headwidth=5, headlength=5),\n",
    "    )\n",
    "ax.annotate('vortex', (-3, 8),\n",
    "            xytext=(-3, 13), horizontalalignment='center',\n",
    "            arrowprops=dict(facecolor='black', width=.5, headwidth=5, headlength=5),\n",
    "    )\n",
    "f.get_axes()[1].set_ylabel(r'$\\rho/\\rho_0$')\n",
    "\n",
    "f.savefig(f'disk.pdf', dpi=300, transparent=True, bbox_inches='tight')"
   ]
  },
  {
   "cell_type": "markdown",
   "id": "577424dc-9fc1-4b1e-96e3-39d8c2cee871",
   "metadata": {},
   "source": [
    "## Render movie\n",
    "\n",
    "Again: N is quite high, so each frame takes about a minute to render on my laptop. Reduce this to get a (probably $N^3$) speed-up."
   ]
  },
  {
   "cell_type": "code",
   "execution_count": null,
   "id": "05565223-f0bd-43b8-8d65-503e926e2405",
   "metadata": {},
   "outputs": [],
   "source": [
    "phi = np.linspace(0, 360, 97)[:-1]\n",
    "fname = '../output/movie_disk.mp4'\n",
    "render_movie(datacube, theta=60 *np.ones_like(phi), phi=phi, ncpu=1, tf=tf, N=800, dpi=600, bg=1.0, fname=fname)"
   ]
  },
  {
   "cell_type": "code",
   "execution_count": null,
   "id": "2e33dbfa-c77f-42da-b70b-65a35a0c2717",
   "metadata": {},
   "outputs": [],
   "source": [
    "from IPython.display import HTML\n",
    "HTML(f\"\"\"\n",
    "<video width=\"500\" controls loop autoplay>\n",
    "  <source src=\"{fname}\" type=\"video/mp4\">\n",
    "</video>\n",
    "\"\"\")"
   ]
  },
  {
   "cell_type": "markdown",
   "id": "1bbba806-2d38-4026-9f20-a4e044bb07a3",
   "metadata": {},
   "source": [
    "Try making a transparent movie:"
   ]
  },
  {
   "cell_type": "code",
   "execution_count": null,
   "id": "fc25c5cb-9fe9-4ca7-8f96-0c2288b07103",
   "metadata": {},
   "outputs": [],
   "source": [
    "phi = np.linspace(0, 360, 97)[:-1]\n",
    "fname = '../output/movie_disk.mov'\n",
    "render_movie(datacube, theta=60 *np.ones_like(phi), phi=phi, ncpu=1, tf=tf, N=600, dpi=600, bg=1.0, fname=fname,\n",
    "             alpha=lambda image: 1 - (image.sum(-1)/image.sum(-1).max())**8)"
   ]
  },
  {
   "cell_type": "markdown",
   "id": "a9d0549b-9251-43d7-a34e-7a38a0b70e03",
   "metadata": {
    "tags": []
   },
   "source": [
    "# Part 3: Line Integral Convolution"
   ]
  },
  {
   "cell_type": "markdown",
   "id": "89e78711-8039-4a52-8d41-da62ad2a66e5",
   "metadata": {
    "tags": []
   },
   "source": [
    "## Load interpolated data"
   ]
  },
  {
   "cell_type": "code",
   "execution_count": null,
   "id": "f6914ace-fed2-4a2a-8e84-419e58b5153f",
   "metadata": {
    "tags": []
   },
   "outputs": [],
   "source": [
    "import numpy as np\n",
    "import matplotlib.pyplot as plt\n",
    "from volrender import TransferFunction, Renderer, render_movie\n",
    "from matplotlib.colors import LogNorm, Normalize\n",
    "\n",
    "import volrender\n",
    "import astropy.units as u\n",
    "import astropy.constants as c\n",
    "\n",
    "au = c.au.cgs.value"
   ]
  },
  {
   "cell_type": "code",
   "execution_count": null,
   "id": "aa8b024f-2aa4-415a-90a2-27a560ac8059",
   "metadata": {},
   "outputs": [],
   "source": [
    "with np.load('pluto_total_dust.npz') as f:\n",
    "    x = f['x']\n",
    "    y = f['y']\n",
    "    z = f['z']\n",
    "    rho = f['rho']\n",
    "    vx = f['vx']\n",
    "    vy = f['vy']\n",
    "    vz = f['vz']"
   ]
  },
  {
   "cell_type": "code",
   "execution_count": null,
   "id": "32daab40-7659-4471-8e1d-19c048f59b89",
   "metadata": {},
   "outputs": [],
   "source": [
    "nx, ny, nz = rho.shape\n",
    "i_mid = nz // 2"
   ]
  },
  {
   "cell_type": "markdown",
   "id": "56764de8-8a3d-4133-9045-2d2b85bc37a1",
   "metadata": {
    "tags": []
   },
   "source": [
    "## Azimuthal plot"
   ]
  },
  {
   "cell_type": "markdown",
   "id": "b184d6f6-6836-4fe6-850d-48602380aa30",
   "metadata": {
    "tags": []
   },
   "source": [
    "### Quiver Plot\n",
    "as sanity check, here r-phi mid-plane"
   ]
  },
  {
   "cell_type": "code",
   "execution_count": null,
   "id": "3b0cbe08-f3f2-4b68-93aa-719c5edcb3ae",
   "metadata": {},
   "outputs": [],
   "source": [
    "v = np.array([vx[..., i_mid],  vy[..., i_mid]]).transpose(1, 2, 0)\n",
    "s = 10\n",
    "\n",
    "f, ax = plt.subplots(dpi=100)\n",
    "ax.set_aspect('equal')\n",
    "ax.pcolormesh(x / au, y / au, rho[:, :, i_mid], norm=LogNorm())\n",
    "ax.quiver(x[::s] / au, y[::s] / au, vx[::s, ::s, i_mid].T, vy[::s, ::s, i_mid].T, pivot='mid')\n",
    "\n",
    "for _p in np.linspace(12,17,20):\n",
    "    res = volrender.lic.calc_2D_streamline(np.array([(_p-1) * au, (_p+1) * au]), x, y, v, rho[..., i_mid], length=20*au, direction='both')\n",
    "    ax.plot(*(res[0]/au).T, 'r-', lw=.5)"
   ]
  },
  {
   "cell_type": "markdown",
   "id": "89d0b706-95dd-4b51-a2f3-2b500b2df5ca",
   "metadata": {},
   "source": [
    "### LIC"
   ]
  },
  {
   "cell_type": "markdown",
   "id": "b3c7ecdd-e455-47f8-85f5-c2f4949af002",
   "metadata": {},
   "source": [
    "Down-scaling parameter. 1 is full resolution (4 min), 2 means half resolution (few seconds)."
   ]
  },
  {
   "cell_type": "code",
   "execution_count": null,
   "id": "37b9e4f0-81fb-474e-ad0e-33207064dd21",
   "metadata": {},
   "outputs": [],
   "source": [
    "s = 1"
   ]
  },
  {
   "cell_type": "markdown",
   "id": "2f21dcb6-60a3-4c28-93eb-a6aceb9b6af8",
   "metadata": {},
   "source": [
    "Get the velocity in the right format"
   ]
  },
  {
   "cell_type": "code",
   "execution_count": null,
   "id": "7b478260-45b1-4710-b507-ba5459c0e3f3",
   "metadata": {},
   "outputs": [],
   "source": [
    "vel = np.array([vx[::s, ::s, i_mid],  vy[::s, ::s, i_mid]]).transpose(1, 2, 0)\n",
    "_x = x[::s]\n",
    "_y = y[::s]"
   ]
  },
  {
   "cell_type": "markdown",
   "id": "61d862ec-2c53-4c8b-b4f6-988ce861ad95",
   "metadata": {},
   "source": [
    "Call the LIC"
   ]
  },
  {
   "cell_type": "code",
   "execution_count": null,
   "id": "c9233cd3-a911-46f2-b351-068dabef9e53",
   "metadata": {},
   "outputs": [],
   "source": [
    "noise = volrender.lic.gen_noise_fast(*vel.shape[:-1])\n",
    "%time lic1 = volrender.lic.LIC(noise, _x, _y, vel, length=min(_x[-1] - _x[0], _y[-1] - _y[0]) / 10.)\n",
    "plt.imshow(lic1)"
   ]
  },
  {
   "cell_type": "code",
   "execution_count": null,
   "id": "f8f649d9-4d07-477b-9be0-2ed6258b3be2",
   "metadata": {},
   "outputs": [],
   "source": [
    "%time lic2 = volrender.lic.LIC_twostage(_x, _y, vel, generate_plot=True)"
   ]
  },
  {
   "cell_type": "markdown",
   "id": "a4ab959e-a997-4bc0-b78f-1f3a0f354c44",
   "metadata": {},
   "source": [
    "Magic scaling to make it look good."
   ]
  },
  {
   "cell_type": "code",
   "execution_count": null,
   "id": "bc667298-4890-437b-b1cd-3d013caaadb0",
   "metadata": {},
   "outputs": [],
   "source": [
    "f = 1\n",
    "fig, axs = plt.subplots(2, 4, figsize=(8, 4), dpi=200)\n",
    "\n",
    "for ilic, lic in enumerate([lic1, lic2]):\n",
    "\n",
    "    vmax = rho[..., i_mid].max()\n",
    "    axs[ilic, 0].imshow(rho[..., i_mid], norm=LogNorm(vmin=1e-8 * vmax, vmax=vmax), cmap='magma', interpolation='none')\n",
    "\n",
    "    axs[ilic, 1].imshow(lic, norm=Normalize(vmin=0, vmax=1), cmap='gray', interpolation='none')\n",
    "\n",
    "    Q = 10**(-f + 2 * f * Normalize()(lic)) * rho[::s, ::s, i_mid]\n",
    "    vmax = Q.max()\n",
    "    axs[ilic, 2].imshow(Q, norm=LogNorm(vmin=1e-8 * vmax, vmax=vmax), cmap='magma', interpolation='none')\n",
    "\n",
    "    vmax = rho[..., i_mid].max()\n",
    "    rgb = volrender.lic.hsv_mix(rho[::s, ::s, i_mid], lic, norm=LogNorm(vmin=1e-8 * vmax, vmax=vmax))\n",
    "    volrender.lic.pcolormesh_rgb(_x, _y, rgb, ax= axs[ilic, 3], rasterized=True)\n",
    "    axs[ilic, 3].set_aspect('equal')\n",
    "\n",
    "for ax in axs.ravel():\n",
    "    ax.set_facecolor('none')\n",
    "    ax.set_axis_off()\n",
    "    \n",
    "fig.savefig('comparison.pdf', transparent=True, bbox_inches='tight')"
   ]
  },
  {
   "cell_type": "code",
   "execution_count": null,
   "id": "692fabcd-35c8-4f21-93a8-49765ef00495",
   "metadata": {},
   "outputs": [],
   "source": [
    "for f in [0, 1,2,3,4]:\n",
    "    fig, ax = plt.subplots(dpi=200)\n",
    "    Q = 10**(-f + 2 * f * Normalize()(lic1)) * rho[::s, ::s, i_mid]\n",
    "    vmax = Q.max()\n",
    "    ax.imshow(Q, norm=LogNorm(vmin=1e-8 * vmax, vmax=vmax), cmap='magma', interpolation='none')\n",
    "    ax.set_axis_off()\n",
    "    ax.set_facecolor('k')\n",
    "    fig.savefig(f'/Users/birnstiel/Desktop/LIC_disk_f{f}.pdf', transparent=True, bbox_inches='tight')"
   ]
  },
  {
   "cell_type": "markdown",
   "id": "63ff3410-ff39-434e-a252-7cc5f168e52d",
   "metadata": {
    "tags": []
   },
   "source": [
    "## Vertical Plot"
   ]
  },
  {
   "cell_type": "code",
   "execution_count": null,
   "id": "5d4502c4-3ba5-4ff1-88af-68a5a2cd4d77",
   "metadata": {},
   "outputs": [],
   "source": [
    "s = 1\n",
    "ir0 = x.searchsorted(7 * au)\n",
    "i_slice = nx//2"
   ]
  },
  {
   "cell_type": "code",
   "execution_count": null,
   "id": "f5d3757f-47cf-4f3b-b2a9-4adef144fbd8",
   "metadata": {},
   "outputs": [],
   "source": [
    "_x = x[ir0::s]\n",
    "_y = z[::s]\n",
    "\n",
    "_v = np.array([vx[ir0::s, i_slice, ::s],  vz[ir0::s, i_slice, ::s]]).transpose(1, 2, 0)\n",
    "_rho = rho[ir0::s, i_slice, ::s]\n",
    "\n",
    "vmax = _rho.max()\n",
    "\n",
    "f, ax = plt.subplots(figsize=(10, 5))\n",
    "ax.pcolormesh(_x / au, _y / au, _rho.T, norm=LogNorm(vmin=1e-8 * vmax, vmax=vmax))\n",
    "ax.set_aspect('equal')\n",
    "ax.set_ylim(-8, 8)"
   ]
  },
  {
   "cell_type": "code",
   "execution_count": null,
   "id": "b6a7cc67-d4b1-436d-9a38-4ea6b940a217",
   "metadata": {},
   "outputs": [],
   "source": [
    "noise = volrender.lic.gen_noise_fast(*_v.shape[:-1], sigma=0.5)\n",
    "%time lic1 = volrender.lic.LIC(noise, _x, _y, _v, length=min(_x[-1] - _x[0], _y[-1] - _y[0]) / 5.)"
   ]
  },
  {
   "cell_type": "code",
   "execution_count": null,
   "id": "676ac763-cef4-45c5-8894-ea3f5322489a",
   "metadata": {},
   "outputs": [],
   "source": [
    "%time lic2 = volrender.lic.LIC_twostage(_x, _y, _v, generate_plot=True)"
   ]
  },
  {
   "cell_type": "code",
   "execution_count": null,
   "id": "a99e3f51-bac1-42bb-abb4-8e2ee0ce1178",
   "metadata": {},
   "outputs": [],
   "source": [
    "f, ax = plt.subplots(figsize=(10, 5))\n",
    "ax.imshow(lic2.T)"
   ]
  },
  {
   "cell_type": "code",
   "execution_count": null,
   "id": "44cede85-5084-4929-a10e-cac1a3ba1084",
   "metadata": {},
   "outputs": [],
   "source": [
    "Q = _rho * 10.**(-1 + 2 * Normalize()(lic2))\n",
    "\n",
    "f, ax = plt.subplots(dpi=200)\n",
    "vmax = Q.max()\n",
    "ax.pcolormesh(_x / au, _y / au, Q.T, rasterized=True, norm=LogNorm(vmin=1e-8 * vmax, vmax=vmax), shading='gouraud')"
   ]
  },
  {
   "cell_type": "code",
   "execution_count": null,
   "id": "ebd3e988-c84d-400e-82f0-932cd3083ee7",
   "metadata": {},
   "outputs": [],
   "source": [
    "im = volrender.lic.hsv_mix(_rho, lic2, norm=LogNorm(vmin=1e-8 * vmax, vmax=vmax))"
   ]
  },
  {
   "cell_type": "code",
   "execution_count": null,
   "id": "923eaae1-8430-4267-8086-ab4ec1705b7f",
   "metadata": {},
   "outputs": [],
   "source": [
    "f, ax = plt.subplots(dpi=200)\n",
    "volrender.lic.pcolormesh_rgb(_x / au, _y / au, im, rasterized=True, ax=ax)"
   ]
  }
 ],
 "metadata": {
  "kernelspec": {
   "display_name": "Python 3 (ipykernel)",
   "language": "python",
   "name": "python3"
  },
  "language_info": {
   "codemirror_mode": {
    "name": "ipython",
    "version": 3
   },
   "file_extension": ".py",
   "mimetype": "text/x-python",
   "name": "python",
   "nbconvert_exporter": "python",
   "pygments_lexer": "ipython3",
   "version": "3.9.7"
  }
 },
 "nbformat": 4,
 "nbformat_minor": 5
}
