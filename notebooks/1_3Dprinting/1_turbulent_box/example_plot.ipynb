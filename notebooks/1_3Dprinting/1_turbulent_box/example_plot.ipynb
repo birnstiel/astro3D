{
 "cells": [
  {
   "cell_type": "markdown",
   "id": "f0212a8f-8b39-43b7-9706-b10f5772fcf2",
   "metadata": {},
   "source": [
    "# Dithering Example"
   ]
  },
  {
   "cell_type": "code",
   "execution_count": null,
   "id": "fe0ccdcc-6118-4662-8e0f-ea6165824489",
   "metadata": {
    "tags": []
   },
   "outputs": [],
   "source": [
    "from pathlib import Path\n",
    "import numpy as np\n",
    "import matplotlib.pyplot as plt\n",
    "from matplotlib.colors import LogNorm\n",
    "from scipy.interpolate import RegularGridInterpolator\n",
    "\n",
    "import  astro3d\n",
    "from astro3d import image_stack\n",
    "\n",
    "plt.style.use([{'image.cmap':'gray_r'}])"
   ]
  },
  {
   "cell_type": "markdown",
   "id": "326a5e3b-35ea-41e8-b840-079df358d96d",
   "metadata": {},
   "source": [
    "load data, but we take just a small subset"
   ]
  },
  {
   "cell_type": "code",
   "execution_count": null,
   "id": "74ebdf64-e945-40da-adc2-33f935ec6e6b",
   "metadata": {},
   "outputs": [],
   "source": [
    "f = np.load(astro3d.get_data('turbulentbox.npy'))\n",
    "_data = f.copy()\n",
    "del f\n",
    "\n",
    "data = _data[:, :, 0]\n",
    "data = data[data.shape[0]//2:, data.shape[1]//2:]"
   ]
  },
  {
   "cell_type": "code",
   "execution_count": null,
   "id": "b4bd4626-f399-47a3-a137-f954029711f1",
   "metadata": {},
   "outputs": [],
   "source": [
    "n_highres = 400"
   ]
  },
  {
   "cell_type": "markdown",
   "id": "07f61fd4-1ce5-48d5-a7cd-a35da279e7de",
   "metadata": {},
   "source": [
    "define a norm"
   ]
  },
  {
   "cell_type": "code",
   "execution_count": null,
   "id": "07cebaf7-f0d7-4113-a06f-ac1b8e352705",
   "metadata": {},
   "outputs": [],
   "source": [
    "vmax = _data.max()\n",
    "norm = LogNorm(1e-3 * vmax, vmax, clip=True)\n",
    "\n",
    "d_00 = np.array(norm(data))"
   ]
  },
  {
   "cell_type": "markdown",
   "id": "ab9c8ae4-bae9-4f80-96ac-4fc7248fac13",
   "metadata": {},
   "source": [
    "define an interpolation function"
   ]
  },
  {
   "cell_type": "code",
   "execution_count": null,
   "id": "216e3e56-3e2a-4942-a2b3-dc92ddfd32b8",
   "metadata": {},
   "outputs": [],
   "source": [
    "f_interp = RegularGridInterpolator(list(np.arange(i) for i in list(data.shape) + [1]), data[:, :, None])\n",
    "\n",
    "coords = [\n",
    "    np.linspace(0, data.shape[0] - 1, n_highres),\n",
    "    np.linspace(0, data.shape[1] - 1, n_highres),\n",
    "    [0]\n",
    "    ]"
   ]
  },
  {
   "cell_type": "markdown",
   "id": "bc410e4e-09e9-4b04-99f0-1084d0acf34c",
   "metadata": {},
   "source": [
    "Define color mapping"
   ]
  },
  {
   "cell_type": "code",
   "execution_count": null,
   "id": "46fc8e18-8a5c-40b5-8f57-b34fad2d6528",
   "metadata": {},
   "outputs": [],
   "source": [
    "colors = [image_stack.BaseCyan, image_stack.BaseMagenta]\n",
    "levels = [0.2, 0.7]\n",
    "sigmas = [0.1, 0.15]\n",
    "clips = 3 * np.ones(len(levels))"
   ]
  },
  {
   "cell_type": "code",
   "execution_count": null,
   "id": "0a93bb61-a397-4dc3-8cda-43cd523b2e28",
   "metadata": {},
   "outputs": [],
   "source": [
    "image_stack.show_histogram(data, norm, colors=colors, levels=levels, sigmas=sigmas, clips=clips)"
   ]
  },
  {
   "cell_type": "markdown",
   "id": "41cd97c7-4a3d-4605-8e98-f2c2adabcfc5",
   "metadata": {},
   "source": [
    "Compute color-dithering"
   ]
  },
  {
   "cell_type": "code",
   "execution_count": null,
   "id": "3c46ee2c-03b2-4426-a351-20869cc32f1c",
   "metadata": {},
   "outputs": [],
   "source": [
    "ld, im = astro3d.image_stack.makeslice(0, [0], f_interp, coords, norm, None, levels=levels, sigmas=sigmas, colors=colors, clip=1, fill=0.8)"
   ]
  },
  {
   "cell_type": "markdown",
   "id": "8cbf56c5-5480-4b75-8a56-b894145ce766",
   "metadata": {},
   "source": [
    "Plot displaying the different steps"
   ]
  },
  {
   "cell_type": "code",
   "execution_count": null,
   "id": "ac8eeae5-7663-43da-8644-a270187e20fc",
   "metadata": {},
   "outputs": [],
   "source": [
    "from scipy.interpolate import interp2d\n",
    "\n",
    "f, ax = plt.subplots(2, 2, figsize=(10, 10), gridspec_kw={'hspace':0.12, 'wspace':0.12})\n",
    "\n",
    "_x = np.linspace(0, d_00.shape[0], n_highres)\n",
    "_y = np.linspace(0, d_00.shape[1], n_highres)\n",
    "\n",
    "# use color-dithered image\n",
    "d_01 = im.transpose(1, 0, 2)\n",
    "\n",
    "# interpolate original data\n",
    "d_10 = interp2d(np.arange(d_00.shape[0]), np.arange(d_00.shape[1]), d_00, kind='cubic')(_x, _y)\n",
    "\n",
    "# dither interpolated data\n",
    "d_11 = astro3d.fmodule.dither(d_10)\n",
    "\n",
    "wx = 0.5\n",
    "wy = 0.5\n",
    "dw = 0.15\n",
    "\n",
    "d = [d_00, d_01, d_10, d_11]\n",
    "\n",
    "for _ax, _d in zip(ax.ravel(), d):\n",
    "    \n",
    "    _ax.imshow(_d, vmin=0, vmax=1, origin='lower')\n",
    "\n",
    "    _axins = _ax.inset_axes([0.05, 0.05, 0.3, 0.3])\n",
    "    _axins.imshow(_d, vmin=0, vmax=1, origin=\"lower\")\n",
    "    _axins.set_xlim(wx * _d.shape[0], (wx + dw) * _d.shape[0])\n",
    "    _axins.set_ylim(wy * _d.shape[1], (wy + dw) * _d.shape[1])\n",
    "    _ax.indicate_inset_zoom(_axins, edgecolor='k')\n",
    "    \n",
    "    for __ax in [_ax, _axins]:\n",
    "        __ax.set_xticks([])\n",
    "        __ax.set_yticks([])\n",
    "\n",
    "def tprops(ax):\n",
    "    return dict(va='top', ha='right', fontsize='x-large', transform=ax.transAxes, bbox=dict(boxstyle='round', facecolor='0.85', alpha=0.75))\n",
    "\n",
    "ax[0,0].text(0.95, 0.95, 'original data', **tprops(ax[0, 0]))\n",
    "ax[1,0].text(0.95, 0.95, 'interpolated data', **tprops(ax[1, 0]))\n",
    "ax[0,1].text(0.95, 0.95, 'color-dithered', **tprops(ax[0, 1]))\n",
    "ax[1,1].text(0.95, 0.95, 'dithered', **tprops(ax[1, 1]))\n",
    "\n",
    "\n",
    "prop1 = dict(fontsize='40', va='center')\n",
    "prop2 = dict(fontsize='10', va='center')\n",
    "\n",
    "pos = ax[0, 0].get_position()\n",
    "f.text(pos.x1 + 0.05 * pos.width, pos.y0 - 0.08 * pos.height, r'$\\mathsf{\\Rightarrow}$', **prop1, rotation=45, ha='center')\n",
    "f.text(pos.x1 + 0.05 * pos.width + 0.04 * pos.height, pos.y0 - 0.12 * pos.height, r'color-dither', **prop2, rotation=45, ha='center')\n",
    "\n",
    "pos = ax[1,0].get_position()\n",
    "f.text(pos.x1 + 0.05 * pos.width, pos.y0 + 0.5 * pos.height, '$\\mathsf{\\Rightarrow}$', **prop1, ha='center')\n",
    "f.text(pos.x1 + 0.06 * pos.width, pos.y0 + 0.4 * pos.height, 'dither', **prop2, ha='center')\n",
    "\n",
    "f.text(pos.x0 + 0.5 * pos.width, pos.y1 + 0.05 * pos.height, '$\\mathsf{\\Downarrow}$', **prop1, ha='center')\n",
    "f.text(pos.x0 + 0.57 * pos.width, pos.y1 + 0.06 * pos.height, 'interpolate', **prop2, ha='left')\n",
    "\n",
    "    \n",
    "f.savefig('example.pdf', transparent=True, bbox_inches='tight', dpi=300)"
   ]
  }
 ],
 "metadata": {
  "kernelspec": {
   "display_name": "Python 3 (ipykernel)",
   "language": "python",
   "name": "python3"
  },
  "language_info": {
   "codemirror_mode": {
    "name": "ipython",
    "version": 3
   },
   "file_extension": ".py",
   "mimetype": "text/x-python",
   "name": "python",
   "nbconvert_exporter": "python",
   "pygments_lexer": "ipython3",
   "version": "3.9.7"
  }
 },
 "nbformat": 4,
 "nbformat_minor": 5
}
