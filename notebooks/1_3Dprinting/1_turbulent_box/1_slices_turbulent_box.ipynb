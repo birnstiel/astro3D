{
 "cells": [
  {
   "cell_type": "markdown",
   "id": "a583b7cd-9303-41fb-9448-30e1b891bc4a",
   "metadata": {
    "tags": []
   },
   "source": [
    "# Slicing a turbulent box for 3D printing\n",
    "\n",
    "In this notebook, we will explain how to get from a 3D density distribution to a stack of images that can get sent to polyjet 3D printing."
   ]
  },
  {
   "cell_type": "code",
   "execution_count": null,
   "id": "22c31e33-bf10-4ec4-a2f5-968f0d88adb5",
   "metadata": {
    "tags": []
   },
   "outputs": [],
   "source": [
    "from pathlib import Path\n",
    "import imageio\n",
    "\n",
    "import numpy as np\n",
    "import matplotlib.pyplot as plt\n",
    "from matplotlib.colors import LogNorm\n",
    "\n",
    "\n",
    "import  astro3d\n",
    "from astro3d.image_stack import makeslice, process\n",
    "\n",
    "plt.style.use([{'image.cmap':'gray_r'}])"
   ]
  },
  {
   "cell_type": "markdown",
   "id": "828a3565-4267-499f-9a36-7feed826a57d",
   "metadata": {},
   "source": [
    "Read data file"
   ]
  },
  {
   "cell_type": "code",
   "execution_count": null,
   "id": "77841817-5c2a-4e46-9929-1e1c84229206",
   "metadata": {},
   "outputs": [],
   "source": [
    "f = np.load(astro3d.get_data('turbulentbox.npy'))\n",
    "data = f.copy()\n",
    "del f"
   ]
  },
  {
   "cell_type": "markdown",
   "id": "50c1673f-9f58-4c4f-b303-70096770a4b9",
   "metadata": {},
   "source": [
    "## Normalization"
   ]
  },
  {
   "cell_type": "markdown",
   "id": "43192ac7-3eb6-4efa-9517-46e74a7ec311",
   "metadata": {},
   "source": [
    "The data set needs to be normalized to values between 0 and 1. In this case, we want to use a logarithmic norm. We find the largest magnitude of the data values and define a logarithmic norm from 1/100th of the maximum to the maximum value."
   ]
  },
  {
   "cell_type": "code",
   "execution_count": null,
   "id": "7ce4cf12-0ad2-4a2c-85ae-c70379b50b23",
   "metadata": {},
   "outputs": [],
   "source": [
    "vmax = data.max()\n",
    "norm = LogNorm(1e-2 * vmax, vmax, clip=True)"
   ]
  },
  {
   "cell_type": "code",
   "execution_count": null,
   "id": "cdcf9e52-3977-4da2-b800-b14b0ebe803f",
   "metadata": {},
   "outputs": [],
   "source": [
    "astro3d.image_stack.show_histogram(data, norm)"
   ]
  },
  {
   "cell_type": "markdown",
   "id": "53fadd59-98e1-4648-9544-145e7e820bdf",
   "metadata": {},
   "source": [
    "## Example plot"
   ]
  },
  {
   "cell_type": "markdown",
   "id": "8c1585db-d704-4b07-b551-bbe6253697b5",
   "metadata": {},
   "source": [
    "We apply the norm to the data slice and show the image on gray scale and dithered:"
   ]
  },
  {
   "cell_type": "code",
   "execution_count": null,
   "id": "d86e6fbb-2a2a-4ce3-b21e-9829484b6754",
   "metadata": {},
   "outputs": [],
   "source": [
    "# Select which slice to plot\n",
    "i = 0\n",
    "\n",
    "# apply the norm\n",
    "d_0 = np.array(norm(data[:, :, i]))\n",
    "\n",
    "# plot it and it's dithered version\n",
    "f, ax = plt.subplots(1, 2, figsize=(10, 5))\n",
    "ax[0].imshow(d_0, vmin=0, vmax=1)\n",
    "ax[1].imshow(astro3d.fmodule.dither(d_0), vmin=0, vmax=1);"
   ]
  },
  {
   "cell_type": "markdown",
   "id": "b7590204-e35b-4a20-884d-57835bfc7af3",
   "metadata": {},
   "source": [
    "Same, but interpolated to higher resolution"
   ]
  },
  {
   "cell_type": "markdown",
   "id": "41f78473-6616-42f1-997f-d9dd0ddf7dcb",
   "metadata": {},
   "source": [
    "## Upscale the data"
   ]
  },
  {
   "cell_type": "markdown",
   "id": "1b00a26b-b6ba-4afb-9edb-5205ceaa9c67",
   "metadata": {},
   "source": [
    "We can see that the dithering above is working, but while the left image can display grayscale, the right image needs to emulate this with black and white points. To achieve a visually similar result, we would need a higher pixel count in the dithered image. Thankfully, we will need much more pixels for 3D printing anyhow as we will see next."
   ]
  },
  {
   "cell_type": "markdown",
   "id": "f9b1a31d-3f94-4c4e-ac7e-2dd7ec460125",
   "metadata": {},
   "source": [
    "### Coordinates & aspect ratios"
   ]
  },
  {
   "cell_type": "markdown",
   "id": "e47c7e59-f6a5-4f4d-9f14-f666f7d264ef",
   "metadata": {},
   "source": [
    "these are the original \"coordinates\" of the pixels, if we start counting from 0:"
   ]
  },
  {
   "cell_type": "code",
   "execution_count": null,
   "id": "113c991f-29fc-4080-b0d1-2d750cfaac21",
   "metadata": {},
   "outputs": [],
   "source": [
    "x = np.linspace(0, data.shape[0] - 1, data.shape[0])\n",
    "y = np.linspace(0, data.shape[1] - 1, data.shape[1])\n",
    "z = np.linspace(0, data.shape[2] - 1, data.shape[2])"
   ]
  },
  {
   "cell_type": "markdown",
   "id": "6052798f-bc29-4ab2-a91c-6f31dc283d09",
   "metadata": {},
   "source": [
    "To provide more pixels than the original resolution, we need to upscale/interpolate the data. We need to do this in 3 dimensions as the printer dictates the resolution in each dimension. For example the dataset is $256^3$, but 256 points would only correspond to a printed length of 0.7 to 2 cm, depending on the printer resolution.\n",
    "\n",
    "So to upscale the data, we need to know the resolution in each direction and as need an interpolation function to map the 3D data onto the printer grid.\n",
    "\n",
    "We start with defining an interpolation function:"
   ]
  },
  {
   "cell_type": "code",
   "execution_count": null,
   "id": "9bbe635f",
   "metadata": {},
   "outputs": [],
   "source": [
    "def f_interp(coords):\n",
    "    return astro3d.fmodule.interpolate(x, y, z, data, coords)"
   ]
  },
  {
   "cell_type": "markdown",
   "id": "30196df7-dd28-4a11-a1b4-5fbcbb33e6b3",
   "metadata": {},
   "source": [
    "Next, we need to look up the printer settings. Depending on the model, the (in-plane) x and y resolution is 600x300 DPI or 600x600 DPI. This distinction is crucial because printing a square image on 600x600 DPI would result also in a printed square, but on 600x300 DPI we would get a 1:2 aspect ratio.\n",
    "\n",
    "In addition to that, we need to find out what layer thickness values the printer supports and pick one of them. Here we will proceed with a 600x300 DPI printer resolution and a layer thickness of 27 micron.\n",
    "\n",
    "Furthermore, we want to print our data into a cube of 5 cm on each side:"
   ]
  },
  {
   "cell_type": "code",
   "execution_count": null,
   "id": "1118ee02-8100-464d-a1d4-3e7788c3f33f",
   "metadata": {},
   "outputs": [],
   "source": [
    "height = 5 # this should be the total height of the printed cube in cm\n",
    "\n",
    "# these are the values for the J850 Prime\n",
    "#dpi_x = 600\n",
    "#dpi_y = 600\n",
    "#dpi_z = 940  # 0.027 mm layer thickness\n",
    "\n",
    "# these are the values used in alphacams TEILEFABRIK, where we ordered some of our prints\n",
    "dpi_x = 600\n",
    "dpi_y = 300\n",
    "dpi_z = 940 # 0.027 mm layer thickness = 2.54 / dpi_z"
   ]
  },
  {
   "cell_type": "markdown",
   "id": "0de90f79-2732-4fd3-bf53-a09408842845",
   "metadata": {},
   "source": [
    "Now we define the new grids which are in the same coordinate space as our data (0...254), but with finer grid size to match the printer resolution: the number of points is the physical dimension along one direction divided by the layer thickness in that direction:\n",
    "\n",
    "\\begin{align}\n",
    "n _ i &= int\\left(\\frac{\\mathrm{length} _ i}{\\mathrm{layer~thickness} _ i}\\right)\\\\\n",
    "\\mathrm{layer~thickness}_i &= \\frac{2.54 cm}{\\mathrm{DPI}_i}\n",
    "\\end{align}\n",
    "\n",
    "Apparently the image dimension should be even, so we add a single pixel if it isn't."
   ]
  },
  {
   "cell_type": "code",
   "execution_count": null,
   "id": "83d655a5-6dd0-4cde-99af-943818cc5db1",
   "metadata": {},
   "outputs": [],
   "source": [
    "n_z = int(height * dpi_z / 2.54)\n",
    "n_x = int(n_z * len(x) / len(z) / dpi_z * dpi_x)\n",
    "n_y = int(n_z * len(y) / len(z) / dpi_z * dpi_y)\n",
    "\n",
    "n_x += n_x % 2 # add 1 to make it even if it isn't\n",
    "n_y += n_y % 2 # add 1 to make it even if it isn't\n",
    "\n",
    "# these are our new grids\n",
    "x2 = np.linspace(0, data.shape[0] - 1, n_x)\n",
    "y2 = np.linspace(0, data.shape[1] - 1, n_y)\n",
    "z2 = np.linspace(0, data.shape[2] - 1, n_z)\n",
    "\n",
    "coords = (x2, y2, z2)"
   ]
  },
  {
   "cell_type": "markdown",
   "id": "27e5bbcb-1044-48bc-a214-a5eef4e19b05",
   "metadata": {},
   "source": [
    "### Iteration"
   ]
  },
  {
   "cell_type": "markdown",
   "id": "da6e0189-a1be-4b69-a013-95ccde7b6419",
   "metadata": {},
   "source": [
    "We iterate over the entire 1850 layers and store the images in the path set by `output_dir`."
   ]
  },
  {
   "cell_type": "code",
   "execution_count": null,
   "id": "637a421a-09ae-4f03-ba71-ed48d7cbc229",
   "metadata": {},
   "outputs": [],
   "source": [
    "output_dir = 'slices_turbulent_box_example'"
   ]
  },
  {
   "cell_type": "markdown",
   "id": "3e0db862-3437-486f-9c46-460859c6b853",
   "metadata": {},
   "source": [
    "Prepare output folder"
   ]
  },
  {
   "cell_type": "code",
   "execution_count": null,
   "id": "9e81c81f-4a16-43ce-ba46-678f19bc69db",
   "metadata": {},
   "outputs": [],
   "source": [
    "path = Path(astro3d.get_output()) / output_dir\n",
    "\n",
    "if not path.is_dir():\n",
    "    path.mkdir()\n",
    "else:\n",
    "    files = list(path.glob('slice*.png'))\n",
    "    if len(files)>0:\n",
    "        print('directory exists, deleting old files')\n",
    "        for file in files:\n",
    "            file.unlink()"
   ]
  },
  {
   "cell_type": "markdown",
   "id": "385aa921-4daa-4cb5-a168-f7c2f1a750fc",
   "metadata": {},
   "source": [
    "Next, we will plug the new grid into a format that we can pass to our interpolation function. As the interpolated data will be quite large (in this example `1180 x 590 x 1850`), we will do the interpolation one layer at a time. `coords` will stay mostly the same, we will just update the z-coordinate, so the height at which we comppute the layer."
   ]
  },
  {
   "cell_type": "markdown",
   "id": "1e299648-87fa-4d75-85d5-eaf2b28f5348",
   "metadata": {},
   "source": [
    "First, select which layer index in the new z-grid to process for this example:"
   ]
  },
  {
   "cell_type": "code",
   "execution_count": null,
   "id": "8881419a-eeb3-4d49-805b-c86f1f80496d",
   "metadata": {},
   "outputs": [],
   "source": [
    "iz = 0"
   ]
  },
  {
   "cell_type": "markdown",
   "id": "ad9e6867-1ddb-4f8d-a126-c32a0dc4aec2",
   "metadata": {},
   "source": [
    "This cell does the same as `makeslice`: interpolates one layer, creates and dithers the image and writes it to file"
   ]
  },
  {
   "cell_type": "code",
   "execution_count": null,
   "id": "938ff949-9369-4a58-a33c-a064bbf2f4cb",
   "metadata": {},
   "outputs": [],
   "source": [
    "coords2 = np.array(np.meshgrid(x2, y2, z2[iz])).squeeze().reshape(3, -1).T\n",
    "\n",
    "# interpolate: note that we transpose as this is how the image will be safed\n",
    "new_layer = f_interp(coords2).reshape(len(y2), len(x2))\n",
    "\n",
    "# normalize, convert to grayscale image\n",
    "layer_norm = np.array(norm(new_layer))\n",
    "layer_dither = astro3d.fmodule.dither_colors(layer_norm[:,:, None])\n",
    "\n",
    "# save as png\n",
    "imageio.imwrite(path / f'slice_{iz:04d}.png', np.uint8(255 - 255 * layer_dither))"
   ]
  },
  {
   "cell_type": "code",
   "execution_count": null,
   "id": "2f6fcd58-e384-48a8-8de6-9d85b9214bb2",
   "metadata": {},
   "outputs": [],
   "source": [
    "f, axs = plt.subplots(3, 1, dpi=100, figsize=(2*3, 3*3), constrained_layout=True)\n",
    "axs[0].imshow(norm(data[:, :, z.searchsorted(z2[iz])]).T, vmin=0, vmax=1, origin='lower')\n",
    "axs[1].imshow(layer_norm, vmin=0, vmax=1, origin='lower')\n",
    "axs[2].imshow(layer_dither, vmin=0, vmax=1, origin='lower')\n",
    "axs[0].text(0.05, 0.95, 'step 1: original data, log-normalized', fontsize='small', transform=axs[0].transAxes)\n",
    "axs[1].text(0.05, 0.95, 'step 2: interpolated to printer dimension', fontsize='small', transform=axs[1].transAxes)\n",
    "axs[2].text(0.05, 0.95, 'step 3: dithered', fontsize='small', transform=axs[2].transAxes)\n",
    "\n",
    "for ax in axs:\n",
    "    ax.set_ylabel('y [pixel]')\n",
    "    ax.set_anchor('W')\n",
    "axs[-1].set_xlabel('x [pixel]');"
   ]
  },
  {
   "cell_type": "markdown",
   "id": "4c26eb79-5745-47c2-b50d-c78809b99095",
   "metadata": {},
   "source": [
    "this is the same result using `makeslice_color`:"
   ]
  },
  {
   "cell_type": "code",
   "execution_count": null,
   "id": "e725261c-fb41-4b3e-bbf0-17a2e1e4ec0e",
   "metadata": {},
   "outputs": [],
   "source": [
    "makeslice(iz, z2, f_interp, coords, norm, path);"
   ]
  },
  {
   "cell_type": "markdown",
   "id": "28859638-6915-44b7-a9a2-af39397afe05",
   "metadata": {},
   "source": [
    "Let's check what this image looks like:"
   ]
  },
  {
   "cell_type": "code",
   "execution_count": null,
   "id": "ee391061-902b-46b4-9c62-fc93c5bedf38",
   "metadata": {},
   "outputs": [],
   "source": [
    "im = imageio.v2.imread(path / f'slice_{iz:04d}.png')\n",
    "colors = astro3d.image_stack.check_colors(im)\n",
    "\n",
    "plt.imshow([colors]).axes.tick_params(left=False, right=False , labelleft=False , labelbottom=False, bottom=False)\n",
    "\n",
    "f, ax = plt.subplots()\n",
    "ax.imshow(im, vmin=0, vmax=254, origin='lower')\n",
    "ax.set_xlabel('x [pixel]')\n",
    "ax.set_ylabel('y [pixel]');"
   ]
  },
  {
   "cell_type": "markdown",
   "id": "d8485d90-fd2d-48d3-bdad-bef2072971e3",
   "metadata": {
    "tags": []
   },
   "source": [
    "## Batch processing"
   ]
  },
  {
   "cell_type": "markdown",
   "id": "a7253311-9187-4e59-a5c9-5bbf8ce4df4e",
   "metadata": {},
   "source": [
    "all of the above can also be done in a loop with `process`:\n",
    "normalizing with the given norm, up-scaling and saving to images. We'll just do this same one here by specifying the `iz` keyword."
   ]
  },
  {
   "cell_type": "code",
   "execution_count": null,
   "id": "5598d0a3-83c1-4575-953f-e0b4521d413d",
   "metadata": {},
   "outputs": [],
   "source": [
    "iz = np.arange(int(0.1 * dpi_z / 2.54)) # just the first millimeter"
   ]
  },
  {
   "cell_type": "code",
   "execution_count": null,
   "id": "8bea13b9-ff89-436b-8248-f3a89b176d55",
   "metadata": {},
   "outputs": [],
   "source": [
    "process(data,\n",
    "        height=height, dpi_x=dpi_x, dpi_y=dpi_y, dpi_z=dpi_z,\n",
    "        output_dir=path,\n",
    "        norm=norm,\n",
    "        iz=iz # comment this out to run the full stack\n",
    "       )"
   ]
  }
 ],
 "metadata": {
  "kernelspec": {
   "display_name": "Python 3 (ipykernel)",
   "language": "python",
   "name": "python3"
  },
  "language_info": {
   "codemirror_mode": {
    "name": "ipython",
    "version": 3
   },
   "file_extension": ".py",
   "mimetype": "text/x-python",
   "name": "python",
   "nbconvert_exporter": "python",
   "pygments_lexer": "ipython3",
   "version": "3.9.7"
  },
  "vscode": {
   "interpreter": {
    "hash": "bccf082f898b2356c8628c9441a85af51350700d2f5e39f1a029accc41e42a3d"
   }
  }
 },
 "nbformat": 4,
 "nbformat_minor": 5
}
