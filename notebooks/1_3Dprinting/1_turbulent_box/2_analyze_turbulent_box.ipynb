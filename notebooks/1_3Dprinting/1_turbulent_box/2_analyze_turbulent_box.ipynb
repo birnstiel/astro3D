{
 "cells": [
  {
   "cell_type": "markdown",
   "id": "f338f3ae-c9fb-4e39-826d-0ecb50f191cc",
   "metadata": {
    "tags": []
   },
   "source": [
    "# Analyze image stack of turbulent box"
   ]
  },
  {
   "cell_type": "code",
   "execution_count": null,
   "id": "a25056e4-e7ae-40c9-a37b-e5d4c0511ffa",
   "metadata": {},
   "outputs": [],
   "source": [
    "import imageio\n",
    "\n",
    "import matplotlib.pyplot as plt\n",
    "\n",
    "import astro3d\n",
    "from astro3d import image_stack"
   ]
  },
  {
   "cell_type": "markdown",
   "id": "ee52b82c-ac52-4798-b79e-cfc72486409f",
   "metadata": {},
   "source": [
    "## Read the image stack\n",
    "\n",
    "We again need to set the printer-specific settings and the directory of the slides:"
   ]
  },
  {
   "cell_type": "code",
   "execution_count": null,
   "id": "f308f5fd-b3ad-4c94-9f44-03ecaebfef9d",
   "metadata": {},
   "outputs": [],
   "source": [
    "stack = image_stack.IStack(\n",
    "    astro3d.get_output('slices_turbulent_box'),\n",
    "    dpi_x=600, dpi_y=300, dz=27e-4,\n",
    ")"
   ]
  },
  {
   "cell_type": "markdown",
   "id": "e46eb9da-b5e4-4e8a-8632-94ce8550bacc",
   "metadata": {
    "tags": []
   },
   "source": [
    "## Print out statistics"
   ]
  },
  {
   "cell_type": "code",
   "execution_count": null,
   "id": "584fd412-0f2f-4846-83e5-229836c44e0c",
   "metadata": {},
   "outputs": [],
   "source": [
    "stack._get_colors(N=1)\n",
    "stack.show_colors()"
   ]
  },
  {
   "cell_type": "markdown",
   "id": "e085a620-7206-42d7-9934-4dd856a27cc3",
   "metadata": {},
   "source": [
    "Now we assign the transparent color index"
   ]
  },
  {
   "cell_type": "code",
   "execution_count": null,
   "id": "5d9038b6-960e-4790-83a6-0d12529c68bc",
   "metadata": {},
   "outputs": [],
   "source": [
    "stack.empty_indices = [1]"
   ]
  },
  {
   "cell_type": "code",
   "execution_count": null,
   "id": "1b9d3dcb-2ee4-4d0a-9e48-c5de1a2b76ad",
   "metadata": {},
   "outputs": [],
   "source": [
    "stack.show_info()"
   ]
  },
  {
   "cell_type": "markdown",
   "id": "b8b4e869-cb07-4852-8cf4-020e799d3748",
   "metadata": {},
   "source": [
    "## Plots"
   ]
  },
  {
   "cell_type": "markdown",
   "id": "b41f949c-17ab-4456-ac55-ecf5ee44f3fb",
   "metadata": {},
   "source": [
    "Show the distribution of materials"
   ]
  },
  {
   "cell_type": "code",
   "execution_count": null,
   "id": "56ca0bf4-a979-4540-ac9f-2c8e63c472d7",
   "metadata": {},
   "outputs": [],
   "source": [
    "f, ax = stack.show_counts()"
   ]
  },
  {
   "cell_type": "markdown",
   "id": "2a3d4af8-3956-4d2b-b51e-8f1f2fc5d263",
   "metadata": {},
   "source": [
    "Show a histogram of the columns that are not fully transparent"
   ]
  },
  {
   "cell_type": "code",
   "execution_count": null,
   "id": "c9da9bc1-d84c-4195-84e8-85bbc76cb0e5",
   "metadata": {},
   "outputs": [],
   "source": [
    "f, ax = stack.show_histogram()"
   ]
  },
  {
   "cell_type": "markdown",
   "id": "482447f3-3509-4a92-919c-3181ad6b28bd",
   "metadata": {},
   "source": [
    "Show fully transparent pixels and the density distribution."
   ]
  },
  {
   "cell_type": "code",
   "execution_count": null,
   "id": "440f40c3-e2bc-4a99-aa77-7f595b7c8803",
   "metadata": {},
   "outputs": [],
   "source": [
    "f, ax = stack.show_transparency_estimate()"
   ]
  },
  {
   "cell_type": "markdown",
   "id": "8a8c16ff-78bd-4268-84e2-9a4f81857fb4",
   "metadata": {},
   "source": [
    "Top view"
   ]
  },
  {
   "cell_type": "code",
   "execution_count": null,
   "id": "db2770da-9960-4e9e-96e5-bd36694eb9fb",
   "metadata": {},
   "outputs": [],
   "source": [
    "img = stack.get_top_view(bg=[255, 255, 255]);"
   ]
  },
  {
   "cell_type": "markdown",
   "id": "4ba9e056-3bdd-4f4f-b667-2c2e5c6798be",
   "metadata": {},
   "source": [
    "### Compare data to 3d-printed result"
   ]
  },
  {
   "cell_type": "code",
   "execution_count": null,
   "id": "d075e0c9-af08-4490-8e78-d017373a7ea6",
   "metadata": {},
   "outputs": [],
   "source": [
    "f, axs = plt.subplots(1, 3, dpi=200, figsize=(15,5))\n",
    "axs[0].imshow((255 - img.transpose(1, 0, 2)) / 255.)\n",
    "axs[0].set_aspect(stack.dpi_x / stack.dpi_y)\n",
    "axs[0].set_title(f'top view')\n",
    "\n",
    "axs[1].imshow(imageio.v2.imread('results/img1.jpg'))\n",
    "axs[1].set_title('45º front illuminated')\n",
    "axs[2].axis('off')\n",
    "\n",
    "axs[2].imshow(imageio.v2.imread('results/img2.jpg'))\n",
    "axs[2].set_title('side illuminated')\n",
    "axs[2].axis('off');"
   ]
  },
  {
   "cell_type": "code",
   "execution_count": null,
   "id": "4bbe057c-1025-49c5-8a63-f855f2bfff10",
   "metadata": {},
   "outputs": [],
   "source": [
    "from IPython.display import Video\n",
    "Video('results/turbulent_box.mp4', width=500, html_attributes='autoplay loop')"
   ]
  }
 ],
 "metadata": {
  "kernelspec": {
   "display_name": "Python 3 (ipykernel)",
   "language": "python",
   "name": "python3"
  },
  "language_info": {
   "codemirror_mode": {
    "name": "ipython",
    "version": 3
   },
   "file_extension": ".py",
   "mimetype": "text/x-python",
   "name": "python",
   "nbconvert_exporter": "python",
   "pygments_lexer": "ipython3",
   "version": "3.9.7"
  },
  "vscode": {
   "interpreter": {
    "hash": "bccf082f898b2356c8628c9441a85af51350700d2f5e39f1a029accc41e42a3d"
   }
  }
 },
 "nbformat": 4,
 "nbformat_minor": 5
}
