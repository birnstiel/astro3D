{
 "cells": [
  {
   "cell_type": "markdown",
   "id": "f338f3ae-c9fb-4e39-826d-0ecb50f191cc",
   "metadata": {
    "tags": []
   },
   "source": [
    "# Read image stack"
   ]
  },
  {
   "cell_type": "code",
   "execution_count": null,
   "id": "458e19ff-0b5f-4353-82d3-d3ff27926cd7",
   "metadata": {},
   "outputs": [],
   "source": [
    "import imageio\n",
    "from pathlib import Path\n",
    "import numpy as np\n",
    "import matplotlib.pyplot as plt\n",
    "from tqdm.auto import tqdm"
   ]
  },
  {
   "cell_type": "markdown",
   "id": "ee52b82c-ac52-4798-b79e-cfc72486409f",
   "metadata": {},
   "source": [
    "## Settings"
   ]
  },
  {
   "cell_type": "code",
   "execution_count": null,
   "id": "d4e5775d-4bb1-470f-b657-c3e131644112",
   "metadata": {},
   "outputs": [],
   "source": [
    "dpi_x = 600\n",
    "dpi_y = 300\n",
    "dz    = 27e-4 # 27 micron\n",
    "# directory = '/Users/birnstiel/Desktop/slices_pluto_color/'\n",
    "directory = 'slices_fit3/'"
   ]
  },
  {
   "cell_type": "markdown",
   "id": "1a6040a6-ca0c-4a46-a0d8-e84c636cfa9a",
   "metadata": {},
   "source": [
    "## Read Images"
   ]
  },
  {
   "cell_type": "markdown",
   "id": "2a3d4af8-3956-4d2b-b51e-8f1f2fc5d263",
   "metadata": {},
   "source": [
    "Get number of files and file dimensions"
   ]
  },
  {
   "cell_type": "code",
   "execution_count": null,
   "id": "610f850b-5861-4f76-b6cf-af87275805b8",
   "metadata": {},
   "outputs": [],
   "source": [
    "files = sorted(list(Path(directory).glob('*.png')))\n",
    "im = imageio.imread(files[0]).transpose(1, 0, 2)\n",
    "_x = np.arange(im.shape[0])\n",
    "_y = np.arange(im.shape[1])\n",
    "\n",
    "dx = 2.54 / dpi_x\n",
    "dy = 2.54 / dpi_y\n",
    "dpi_z = 2.54 / dz"
   ]
  },
  {
   "cell_type": "markdown",
   "id": "e76d9456-b53a-4334-8684-8fff4620227d",
   "metadata": {},
   "source": [
    "Sum up all filled pixels: this counts all pixels, that are not `[255, 255, 255]`, so other than white."
   ]
  },
  {
   "cell_type": "code",
   "execution_count": null,
   "id": "8c52e28c-77b9-4934-91fa-ced2fd317f25",
   "metadata": {},
   "outputs": [],
   "source": [
    "summed_image = np.zeros(im.shape[:2])\n",
    "\n",
    "for file in tqdm(files):\n",
    "    summed_image += np.array(imageio.imread(file).sum(-1) < 3 * 255, dtype=int).T"
   ]
  },
  {
   "cell_type": "markdown",
   "id": "3f84389b-6355-413b-a647-41d70a1948be",
   "metadata": {},
   "source": [
    "## Print out statistics"
   ]
  },
  {
   "cell_type": "code",
   "execution_count": null,
   "id": "430dc0be-e43d-42cb-8492-f2a54dcd9ee3",
   "metadata": {},
   "outputs": [],
   "source": [
    "print(f'{len(files)} files')\n",
    "print(f'dimension = {im.shape[0] * dx:.2f} x {im.shape[1] * dy:.2f} x {len(files) * dz:.2f} cm')\n",
    "print(f'nr of empty pixels: {(summed_image==0).sum() / np.prod(summed_image.shape):.2%}')\n",
    "print(f'most opaque pixel has {summed_image.max():n} filled pixels (={summed_image.max() / len(files):.2%} of all layers are filled)')"
   ]
  },
  {
   "cell_type": "markdown",
   "id": "482447f3-3509-4a92-919c-3181ad6b28bd",
   "metadata": {},
   "source": [
    "## Plots\n",
    "\n",
    "### Statistics plots\n",
    "Show fully transparent pixels and the density distribution."
   ]
  },
  {
   "cell_type": "code",
   "execution_count": null,
   "id": "6ec5a6ff-3c45-4dd0-9f1d-a545d029f346",
   "metadata": {},
   "outputs": [],
   "source": [
    "f, axs = plt.subplots(1, 3, figsize=(15, 4))\n",
    "\n",
    "ax = axs[0]\n",
    "cc=ax.imshow(summed_image>0, cmap='gray_r')\n",
    "ax.set_aspect(dpi_y / dpi_x)\n",
    "plt.colorbar(cc, ax=ax)\n",
    "ax.set_title('white = all voxels transparent');\n",
    "\n",
    "ax = axs[1]\n",
    "ax.set_aspect(dpi_x / dpi_y)\n",
    "i = ax.pcolormesh(_x, _y, summed_image.T, vmin=0, vmax=summed_image.max(), cmap='gray_r')\n",
    "cb = plt.colorbar(i, ax=ax)\n",
    "cb.set_label('# of opaque pixes along LOS')\n",
    "\n",
    "ax = axs[-1]\n",
    "counts, bins, patches = ax.hist(summed_image.ravel(), bins=np.arange(summed_image.max()))\n",
    "ax.set_xlabel('number of filled voxels in column')\n",
    "ax.set_xlabel('count');"
   ]
  },
  {
   "cell_type": "markdown",
   "id": "0078bf66-9256-437c-abbd-6f76e3514eb8",
   "metadata": {},
   "source": [
    "### Compare data to 3d-printed result"
   ]
  },
  {
   "cell_type": "code",
   "execution_count": null,
   "id": "c02fcaa4-2a68-456b-828d-8e1eabd44aa3",
   "metadata": {},
   "outputs": [],
   "source": [
    "slice_width = .1 # in cm\n",
    "n_slice = int(slice_width / dz)"
   ]
  },
  {
   "cell_type": "code",
   "execution_count": null,
   "id": "5d683d1a-d189-4c86-92a6-2e26b0a6d870",
   "metadata": {},
   "outputs": [],
   "source": [
    "img = np.zeros(im.shape[:2])\n",
    "\n",
    "for i, file in enumerate(tqdm(files[:n_slice])):\n",
    "    img += np.array(imageio.imread(file).sum(-1) < 3 * 255, dtype=int).T"
   ]
  },
  {
   "cell_type": "code",
   "execution_count": null,
   "id": "e4cb4460-f87f-46dd-9c1a-8458e4e14ffb",
   "metadata": {},
   "outputs": [],
   "source": [
    "f, axs = plt.subplots(1, 3, dpi=200, figsize=(15,5))\n",
    "axs[0].imshow(img.T / img.max(), cmap='gray_r')\n",
    "axs[0].set_aspect(dpi_x / dpi_y)\n",
    "axs[0].set_title(f'sum over first {slice_width:.2f} cm')\n",
    "\n",
    "axs[1].imshow(imageio.imread('results/img1.jpg'))\n",
    "axs[1].set_title('45º front illuminated')\n",
    "axs[2].axis('off')\n",
    "\n",
    "axs[2].imshow(imageio.imread('results/img2.jpg'))\n",
    "axs[2].set_title('side illuminated')\n",
    "axs[2].axis('off');"
   ]
  },
  {
   "cell_type": "code",
   "execution_count": null,
   "id": "492fccf5-ede3-4272-b5e1-1f319ee87759",
   "metadata": {},
   "outputs": [],
   "source": [
    "from IPython.display import Video\n",
    "Video('results/turbulent_box.mp4', width=500, html_attributes='autoplay loop')"
   ]
  }
 ],
 "metadata": {
  "kernelspec": {
   "display_name": "Python 3 (ipykernel)",
   "language": "python",
   "name": "python3"
  },
  "language_info": {
   "codemirror_mode": {
    "name": "ipython",
    "version": 3
   },
   "file_extension": ".py",
   "mimetype": "text/x-python",
   "name": "python",
   "nbconvert_exporter": "python",
   "pygments_lexer": "ipython3",
   "version": "3.9.7"
  }
 },
 "nbformat": 4,
 "nbformat_minor": 5
}
