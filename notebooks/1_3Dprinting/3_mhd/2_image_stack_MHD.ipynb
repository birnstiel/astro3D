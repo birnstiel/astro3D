{
 "cells": [
  {
   "cell_type": "markdown",
   "id": "7ba360b9-5685-4a23-a421-3567d35847ac",
   "metadata": {
    "tags": []
   },
   "source": [
    "# Slicing a MHD simulation with field lines"
   ]
  },
  {
   "cell_type": "code",
   "execution_count": null,
   "id": "f6ed839e",
   "metadata": {
    "tags": []
   },
   "outputs": [],
   "source": [
    "from pathlib import Path\n",
    "import imageio\n",
    "\n",
    "import numpy as np\n",
    "\n",
    "\n",
    "import matplotlib.pyplot as plt\n",
    "from matplotlib.colors import LogNorm\n",
    "from matplotlib.colors import LinearSegmentedColormap\n",
    "\n",
    "from tqdm.auto import tqdm\n",
    "\n",
    "import astro3d\n",
    "from astro3d.image_stack import makeslice\n",
    "from astro3d.image_stack import VeroC_sRGB\n",
    "from astro3d.image_stack import VeroM_sRGB\n",
    "from astro3d.image_stack import VeroY_sRGB\n",
    "from astro3d.image_stack import C_sRGB\n",
    "from astro3d.image_stack import M_sRGB\n",
    "from astro3d.image_stack import Y_sRGB\n",
    "\n",
    "plt.style.use([{'image.cmap':'gray_r'}])"
   ]
  },
  {
   "cell_type": "markdown",
   "id": "2b4732dc-9682-4a54-92ec-0c58ec8440e5",
   "metadata": {},
   "source": [
    "## Setup"
   ]
  },
  {
   "cell_type": "markdown",
   "id": "a77b9412",
   "metadata": {},
   "source": [
    "### Read data"
   ]
  },
  {
   "cell_type": "code",
   "execution_count": null,
   "id": "1cab72bc-98ab-45e0-a14a-fd00a1993073",
   "metadata": {},
   "outputs": [],
   "source": [
    "with np.load(astro3d.get_data('diskdata/rho.npz')) as f:\n",
    "    data = f['arr_0'][()]\n",
    "    \n",
    "with np.load(astro3d.get_output('streamlines.npz'), allow_pickle=True) as f:\n",
    "    streamlines = list(f['pathes'][()])"
   ]
  },
  {
   "cell_type": "code",
   "execution_count": null,
   "id": "6e26c144-d790-4093-b9a1-744b81799b9b",
   "metadata": {},
   "outputs": [],
   "source": [
    "x = np.linspace(0, 1, data.shape[0])\n",
    "y = np.linspace(0, 1, data.shape[1])\n",
    "z = np.linspace(0, 1, data.shape[2])"
   ]
  },
  {
   "cell_type": "markdown",
   "id": "355c125b",
   "metadata": {},
   "source": [
    "### Printer settings\n",
    "\n",
    "printer specific and layer thickness can be chosen to be different)"
   ]
  },
  {
   "cell_type": "code",
   "execution_count": null,
   "id": "5b88e969-0b8f-4c84-92be-ebc40345b615",
   "metadata": {},
   "outputs": [],
   "source": [
    "# these are the values used in the 850Prime, also used in alphacams TEILEFABRIK, where we ordered some of our prints\n",
    "dpi_x = 600\n",
    "dpi_y = 300\n",
    "dpi_z = 940 # 0.027 mm layer thickness = 2.54 / dpi_z"
   ]
  },
  {
   "cell_type": "markdown",
   "id": "2dac5e78-a883-40ee-8940-0f545ee68b30",
   "metadata": {},
   "source": [
    "Choose the height of the print, the rest should rescale accordingly"
   ]
  },
  {
   "cell_type": "code",
   "execution_count": null,
   "id": "c47139fb-df27-4157-be97-4634ccde5108",
   "metadata": {},
   "outputs": [],
   "source": [
    "height = 5.0 # this should be the total height of the printed cube in cm"
   ]
  },
  {
   "cell_type": "markdown",
   "id": "eed84b8e-7bc4-4cf5-8120-8d7017578a23",
   "metadata": {},
   "source": [
    "We distinguish between Vivid colors and the Rigid Colors. The Vivid colors are transparent and need to be mixed with white or black to make them intransparent. In the following we use `vivid=False` as we used the rigid color set in our prints."
   ]
  },
  {
   "cell_type": "code",
   "execution_count": null,
   "id": "81ec901b-38c9-4955-ada3-6d370cbc51e5",
   "metadata": {},
   "outputs": [],
   "source": [
    "vivid = False"
   ]
  },
  {
   "cell_type": "markdown",
   "id": "91d22e38-4a78-4f1e-b9dc-840e51b4ea48",
   "metadata": {},
   "source": [
    "### Output folder\n",
    "\n",
    "We store the images in the path set by `output_dir`."
   ]
  },
  {
   "cell_type": "code",
   "execution_count": null,
   "id": "9627c649",
   "metadata": {},
   "outputs": [],
   "source": [
    "output_dir = 'slices_mhd_v2' + vivid * '_vivid'"
   ]
  },
  {
   "cell_type": "code",
   "execution_count": null,
   "id": "e451feb5",
   "metadata": {},
   "outputs": [],
   "source": [
    "path = Path(astro3d.get_output()) / output_dir\n",
    "\n",
    "if not path.is_dir():\n",
    "    path.mkdir()\n",
    "else:\n",
    "    files = list(path.glob('slice*.png'))\n",
    "    if len(files)>0:\n",
    "        print('directory exists, deleting old files')\n",
    "        for file in files:\n",
    "            file.unlink()"
   ]
  },
  {
   "cell_type": "markdown",
   "id": "a8729d8e-2934-4aa4-b6b8-e7541513d25c",
   "metadata": {
    "tags": []
   },
   "source": [
    "## New coordinates"
   ]
  },
  {
   "cell_type": "markdown",
   "id": "72e6acfe-1a05-48b5-b810-7b1ab0c8cbf6",
   "metadata": {},
   "source": [
    "calculate the new grids in x, y, z"
   ]
  },
  {
   "cell_type": "code",
   "execution_count": null,
   "id": "a64edeca",
   "metadata": {},
   "outputs": [],
   "source": [
    "#n_z = int(height / layer_thickness)\n",
    "n_z = int(height * dpi_z / 2.54)\n",
    "\n",
    "n_x = int(n_z * len(x) / len(z) / dpi_z * dpi_x)\n",
    "n_y = int(n_z * len(y) / len(z) / dpi_z * dpi_y)\n",
    "\n",
    "n_x += n_x%2 # add 1 to make it even if it isn't\n",
    "n_y += n_y%2 # add 1 to make it even if it isn't\n",
    "\n",
    "x2 = np.linspace(x[0], x[-1], n_x)\n",
    "y2 = np.linspace(y[0], y[-1], n_y)\n",
    "z2 = np.linspace(z[0], z[-1], n_z)"
   ]
  },
  {
   "cell_type": "markdown",
   "id": "de00cba6-6a74-4b35-8609-c8c74cc776c7",
   "metadata": {},
   "source": [
    "create an interpolation function for the non-normalized 3D data"
   ]
  },
  {
   "cell_type": "code",
   "execution_count": null,
   "id": "a028c1a0-0ec2-45ee-a310-42cc26ee8198",
   "metadata": {},
   "outputs": [],
   "source": [
    "def f_interp(coords):\n",
    "    return astro3d._fortran.fmodule.interpolate(x, y, z, data, coords)"
   ]
  },
  {
   "cell_type": "markdown",
   "id": "b7feec11-9123-4a49-8dce-06d7db8c3e24",
   "metadata": {},
   "source": [
    "set the coordinates-tuple which is passed to the interpolation. x and y entries will stay the same and only the z entry will change.\n",
    "\n",
    "Note that `coords` will not be passed to the interpolation function in this form, but will be transformed to a shape `(N, 3)`, where the number of points `N = len(x2) * len(y2)`."
   ]
  },
  {
   "cell_type": "code",
   "execution_count": null,
   "id": "4aed376b-14f2-4fd6-9390-1d58bf31d49c",
   "metadata": {},
   "outputs": [],
   "source": [
    "coords = (x2, y2, z2)"
   ]
  },
  {
   "cell_type": "markdown",
   "id": "17d2a8f5-5bb0-4def-be4f-b327bfbd21b8",
   "metadata": {},
   "source": [
    "## Normalization & color choices"
   ]
  },
  {
   "cell_type": "markdown",
   "id": "dc074743-986c-4da4-bd59-488c5e2ed49f",
   "metadata": {},
   "source": [
    "Find the largest magnitude of the data values and define a logarithmic norm"
   ]
  },
  {
   "cell_type": "code",
   "execution_count": null,
   "id": "8b1dda6c",
   "metadata": {},
   "outputs": [],
   "source": [
    "dyn_range = 1e-4\n",
    "vmax = data.max()\n",
    "norm = LogNorm(dyn_range * vmax, vmax, clip=True)"
   ]
  },
  {
   "cell_type": "markdown",
   "id": "dcb34ff1-b527-453d-8ee9-0e84a27d2045",
   "metadata": {},
   "source": [
    "define the density levels, their width, their colors, and the filling factors of the colors"
   ]
  },
  {
   "cell_type": "code",
   "execution_count": null,
   "id": "2c113e4f-163e-44bd-aabf-9a391dc70996",
   "metadata": {},
   "outputs": [],
   "source": [
    "levels = np.array([0.1, 0.45, 0.92])\n",
    "\n",
    "sigmas = np.array([0.04, 0.03, 0.03])\n",
    "clip = np.array([2.25, 4.0, 5.0])\n",
    "fill = np.array([0.006, 0.1, 0.25])"
   ]
  },
  {
   "cell_type": "markdown",
   "id": "dc5fcbaa-422b-4c04-9d43-8b989e1dee03",
   "metadata": {},
   "source": [
    "We distinguish between Vivid colors and the Rigid Colors. The Vivid colors are transparent and need to be mixed with white or black to make them intransparent."
   ]
  },
  {
   "cell_type": "code",
   "execution_count": null,
   "id": "d92841b9-718e-43ea-8bce-25b6f4932b2e",
   "metadata": {},
   "outputs": [],
   "source": [
    "MidGreen = [1, 154, 106]"
   ]
  },
  {
   "cell_type": "code",
   "execution_count": null,
   "id": "e93bb4ae-8f8e-44e2-b574-d59b415fafd1",
   "metadata": {},
   "outputs": [],
   "source": [
    "from astro3d.image_stack import rgb_to_cmyk\n",
    "mg = rgb_to_cmyk(MidGreen)\n",
    "mg[-1] = 1 - mg[-1]\n",
    "mg /= mg.sum()\n",
    "mg = np.round(mg * 100) / 100"
   ]
  },
  {
   "cell_type": "code",
   "execution_count": null,
   "id": "f5b6d2f5-a99f-4eb7-a884-82a10e8000de",
   "metadata": {},
   "outputs": [],
   "source": [
    "# we add one extra color for the streamlines\n",
    "White = np.ones(3)\n",
    "if vivid:\n",
    "    colors = [[Y_sRGB, White], [C_sRGB, White], [Y_sRGB, M_sRGB, White], [C_sRGB, Y_sRGB, White]]\n",
    "    fmix   = [[0.8,    0.2  ], [0.8,    0.2  ], [0.4,    0.4,    0.2  ], [0.58,   0.22,   0.2  ]]\n",
    "else:\n",
    "    colors = [VeroY_sRGB, VeroC_sRGB, [VeroY_sRGB, VeroM_sRGB], VeroM_sRGB]\n",
    "    fmix = [1, 1, [0.5, 0.5], 1]"
   ]
  },
  {
   "cell_type": "code",
   "execution_count": null,
   "id": "5015699a-f958-4414-94e7-2c65b0b6fce7",
   "metadata": {},
   "outputs": [],
   "source": [
    "# show the mixed colors\n",
    "mix = [(np.array(c, ndmin=2) * np.array(_f, ndmin=2).T).sum(0) for c, _f in zip(colors, fmix)]\n",
    "plt.imshow([np.array(mix) / 255]).axes.axis('off');"
   ]
  },
  {
   "cell_type": "markdown",
   "id": "f597e20d-c8e2-43fa-b191-276bebdb60d8",
   "metadata": {},
   "source": [
    "Show a histogram of the data values"
   ]
  },
  {
   "cell_type": "code",
   "execution_count": null,
   "id": "bebc53f2-019a-4879-9e8b-4f14d8ce3f56",
   "metadata": {},
   "outputs": [],
   "source": [
    "astro3d.image_stack.show_histogram(data, norm, colors=colors, levels=levels, sigmas=sigmas, clips=clip, f=fmix, fill=fill)"
   ]
  },
  {
   "cell_type": "markdown",
   "id": "fdd01e15-f77c-4302-8861-6d4c4500ea71",
   "metadata": {
    "tags": []
   },
   "source": [
    "## Example slice"
   ]
  },
  {
   "cell_type": "markdown",
   "id": "5bfee65a-dd06-4917-ba41-7c25c36a1f45",
   "metadata": {},
   "source": [
    "select which index in the new z-grid to process"
   ]
  },
  {
   "cell_type": "code",
   "execution_count": null,
   "id": "0f0b2193-2df2-48df-a500-24498253f8fa",
   "metadata": {},
   "outputs": [],
   "source": [
    "iz = int(np.ceil(n_z / 2))"
   ]
  },
  {
   "cell_type": "markdown",
   "id": "a35a8a85-6c4c-42c8-aa32-3792bb113aac",
   "metadata": {},
   "source": [
    "Process one slice and check the results"
   ]
  },
  {
   "cell_type": "code",
   "execution_count": null,
   "id": "9f9a36bd-556c-4bc6-a24a-b8d53fd523e8",
   "metadata": {},
   "outputs": [],
   "source": [
    "data_d, img = makeslice(iz, z2, f_interp, coords, norm, path,\n",
    "                levels=levels, sigmas=sigmas, fill=fill,\n",
    "                colors=colors, f=fmix, streamlines=streamlines, bg=255)"
   ]
  },
  {
   "cell_type": "code",
   "execution_count": null,
   "id": "4a741571-954e-4e12-8cc3-87a8efff36ba",
   "metadata": {},
   "outputs": [],
   "source": [
    "fig, axs = plt.subplots(2, 4, figsize=(16, 8), dpi=300)\n",
    "\n",
    "axs[0,0].pcolormesh(np.arange(data.shape[0]), np.arange(data.shape[1]), data[:, :, z.searchsorted(z2[iz])].T, norm=norm)\n",
    "axs[0,0].text(0.05, 0.95, 'density', va='top', transform=axs[0,0].transAxes)\n",
    "\n",
    "im = imageio.v2.imread(path / f'slice_{iz:04d}.png')\n",
    "axs[0,1].imshow(im)#, norm=norm)\n",
    "axs[0,1].set_aspect(dpi_x/dpi_y)\n",
    "axs[0,1].text(0.05, 0.95, 'dithered image', va='top', transform=axs[0,1].transAxes)\n",
    "\n",
    "axs[0,2].set_visible(False)\n",
    "axs[0,3].set_visible(False)\n",
    "\n",
    "for i, ax in enumerate(axs[1,:]):\n",
    "    cmap = LinearSegmentedColormap.from_list('my', [[1,1,1], mix[i]/255])\n",
    "    ax.imshow(data_d[:, :, i], origin='lower', cmap=cmap)\n",
    "    ax.set_aspect(dpi_x/dpi_y)\n",
    "    ax.text(0.05, 0.95, f'color {i+1}', va='top', transform=ax.transAxes)"
   ]
  },
  {
   "cell_type": "markdown",
   "id": "2998eeff-bafe-4e1d-9d1c-1be49e72d264",
   "metadata": {},
   "source": [
    "## Iteration"
   ]
  },
  {
   "cell_type": "code",
   "execution_count": null,
   "id": "d45bf5f2",
   "metadata": {},
   "outputs": [],
   "source": [
    "iz = [0]  # Here we just want to print the first slice\n",
    "# iz = np.arange(n_z)"
   ]
  },
  {
   "cell_type": "code",
   "execution_count": null,
   "id": "3af9f17b",
   "metadata": {},
   "outputs": [],
   "source": [
    "for _iz in tqdm(iz):\n",
    "    makeslice(_iz, z2, f_interp, coords, norm, path,\n",
    "                    levels=levels, sigmas=sigmas, fill=fill,\n",
    "                    colors=colors, f=fmix, streamlines=streamlines, bg=255)"
   ]
  }
 ],
 "metadata": {
  "kernelspec": {
   "display_name": "Python 3 (ipykernel)",
   "language": "python",
   "name": "python3"
  },
  "language_info": {
   "codemirror_mode": {
    "name": "ipython",
    "version": 3
   },
   "file_extension": ".py",
   "mimetype": "text/x-python",
   "name": "python",
   "nbconvert_exporter": "python",
   "pygments_lexer": "ipython3",
   "version": "3.10.12"
  },
  "vscode": {
   "interpreter": {
    "hash": "bccf082f898b2356c8628c9441a85af51350700d2f5e39f1a029accc41e42a3d"
   }
  }
 },
 "nbformat": 4,
 "nbformat_minor": 5
}
