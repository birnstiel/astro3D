{
 "cells": [
  {
   "cell_type": "markdown",
   "id": "d4516199-d10c-4095-9099-0ae8e324dc86",
   "metadata": {},
   "source": [
    "# Compute MHD fieldlines for 3D printing"
   ]
  },
  {
   "cell_type": "code",
   "execution_count": null,
   "id": "a269b291-0d54-4029-ba1d-2b5be9d71dc7",
   "metadata": {
    "tags": []
   },
   "outputs": [],
   "source": [
    "from pathlib import Path\n",
    "\n",
    "import numpy as np\n",
    "import matplotlib.pyplot as plt\n",
    "from matplotlib.colors import LogNorm\n",
    "from scipy.interpolate import interpn\n",
    "from astropy import constants as c\n",
    "\n",
    "import astro3d\n",
    "from astro3d import image_stack\n",
    "from astro3d import volrender"
   ]
  },
  {
   "cell_type": "markdown",
   "id": "fde89c2b-1606-4712-b3f0-99143bdeb082",
   "metadata": {},
   "source": [
    "Read **STEFAN HEIGLS** data:"
   ]
  },
  {
   "cell_type": "code",
   "execution_count": null,
   "id": "6ba2ea5c-ca98-49c5-82cf-c38624a35c35",
   "metadata": {},
   "outputs": [],
   "source": [
    "data_path = Path(astro3d.get_data('diskdata'))\n",
    "dataset = {}\n",
    "\n",
    "for fname in data_path.glob('*.npz'):\n",
    "    print(f'reading in {fname.stem}')\n",
    "\n",
    "    with np.load(fname) as f:\n",
    "        dataset[fname.stem] = f['arr_0'][()]\n",
    "        \n",
    "rho = dataset['rho']\n",
    "bfield = np.stack((dataset['magx'], dataset['magy'], dataset['magz']), axis=-1)"
   ]
  },
  {
   "cell_type": "markdown",
   "id": "7283b4a5-585f-44b3-b980-50fe648865e6",
   "metadata": {},
   "source": [
    "Create a grid of original positions"
   ]
  },
  {
   "cell_type": "code",
   "execution_count": null,
   "id": "107d7e0e-28d2-43d1-97e5-5bca3224c8c3",
   "metadata": {},
   "outputs": [],
   "source": [
    "x = np.linspace(0, 1, rho.shape[0])\n",
    "y = np.linspace(0, 1, rho.shape[1])\n",
    "z = np.linspace(0, 1, rho.shape[2])"
   ]
  },
  {
   "cell_type": "markdown",
   "id": "a3627479-7ba6-41be-82a3-bb248af5123e",
   "metadata": {},
   "source": [
    "## Test streamline in 2D"
   ]
  },
  {
   "cell_type": "markdown",
   "id": "728bcdba-da27-49bf-9a4a-ca912e452053",
   "metadata": {},
   "source": [
    "We set the z-component to zero and test\n",
    "1) the computation of the  streamline and\n",
    "2) how the streamline is masked in the image"
   ]
  },
  {
   "cell_type": "code",
   "execution_count": null,
   "id": "c9456c12-fe6f-4040-9b89-84dda1b01d1e",
   "metadata": {},
   "outputs": [],
   "source": [
    "# use the magentic field but with B_z = 0\n",
    "vel = bfield.copy()\n",
    "vel[:,:,:,-1] = 0.0\n",
    "\n",
    "# compute stream line\n",
    "path = image_stack.streamline(x, y, z, vel, [0.1,0.9,0], n_steps=20)\n",
    "\n",
    "# compute the mask with a radius of 2 pixels\n",
    "mask = astro3d.fmodule.mark_streamline(x, y, z, 2.0 * np.diff(x)[0], path)"
   ]
  },
  {
   "cell_type": "code",
   "execution_count": null,
   "id": "ccd7e477-7b7b-47d8-b6c0-698e50bbe0bb",
   "metadata": {},
   "outputs": [],
   "source": [
    "f, ax = plt.subplots(dpi=200)\n",
    "ax.set_aspect(1)\n",
    "\n",
    "# plot the image\n",
    "plt.pcolormesh(x, y, mask.T, cmap='gray_r')\n",
    "\n",
    "# plot the stream line\n",
    "ax.plot(*path[:,:2].T, 'r-', lw=2, alpha=0.5);\n",
    "\n",
    "# plot the vector field\n",
    "s = 4\n",
    "ax.quiver(x[::s], y[::s], vel[::s,::s,0,0].T, vel[::s,::s,0,1].T, angles='xy', zorder=100, pivot='mid');"
   ]
  },
  {
   "cell_type": "markdown",
   "id": "b4b4853b-7741-41a8-9731-61f00ac4c4f0",
   "metadata": {},
   "source": [
    "## 3D Streamlines"
   ]
  },
  {
   "cell_type": "markdown",
   "id": "ffc5bcf4-8083-4e57-9bba-7170da17f47d",
   "metadata": {},
   "source": [
    "Here we compute a grid of stream lines and vizualize them. We also store the list of streamlines in a file for 3D printing."
   ]
  },
  {
   "cell_type": "code",
   "execution_count": null,
   "id": "3d77ee99-9f5f-41ea-8104-209abaeb74d9",
   "metadata": {},
   "outputs": [],
   "source": [
    "%matplotlib widget"
   ]
  },
  {
   "cell_type": "code",
   "execution_count": null,
   "id": "e44611a8-9bd0-4c75-9db6-a9212ecec767",
   "metadata": {},
   "outputs": [],
   "source": [
    "xp = np.linspace(0.05, 0.95, 4)\n",
    "yp = np.linspace(0.05, 0.95, 4)\n",
    "pathes = []\n",
    "\n",
    "f = plt.figure(figsize=(10,10))\n",
    "ax = f.add_subplot(projection='3d')\n",
    "for _x in xp:\n",
    "    for _y in yp:\n",
    "        for _z in [0,1]:\n",
    "            path0 = image_stack.streamline(x, y, z, +bfield, [_x, _y, _z], n_steps=200)\n",
    "            path = image_stack.streamline(x, y, z, -bfield, [_x, _y, _z], n_steps=200)\n",
    "            path = np.vstack((path[::-1,:], path0))\n",
    "            \n",
    "            # get rid of all points that are identical with the first or last point\n",
    "            mask = np.all(path != path[-1], 1) & np.all(path != path[0], 1)\n",
    "            path_mod = np.vstack((path[0,:], path[mask],  path[-1,:]))\n",
    "            \n",
    "            # get rid of short stream lines\n",
    "            if path_mod.shape[0] > 100:\n",
    "                ax.plot(*path.T, c='r')\n",
    "                pathes += [path_mod]\n",
    "\n",
    "ax.set_xlim(0,1)\n",
    "ax.set_ylim(0,1)\n",
    "ax.set_zlim(0,1)\n",
    "\n",
    "# store it in the output folder\n",
    "fname = Path(astro3d.get_output()) / 'streamlines.npz'\n",
    "np.savez_compressed(fname, pathes=np.array(pathes, dtype=object))"
   ]
  }
 ],
 "metadata": {
  "kernelspec": {
   "display_name": "Python 3 (ipykernel)",
   "language": "python",
   "name": "python3"
  },
  "language_info": {
   "codemirror_mode": {
    "name": "ipython",
    "version": 3
   },
   "file_extension": ".py",
   "mimetype": "text/x-python",
   "name": "python",
   "nbconvert_exporter": "python",
   "pygments_lexer": "ipython3",
   "version": "3.9.7"
  }
 },
 "nbformat": 4,
 "nbformat_minor": 5
}
