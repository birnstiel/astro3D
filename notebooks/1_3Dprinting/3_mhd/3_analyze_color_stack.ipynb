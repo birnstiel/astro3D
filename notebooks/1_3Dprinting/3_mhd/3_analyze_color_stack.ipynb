{
 "cells": [
  {
   "cell_type": "markdown",
   "id": "f338f3ae-c9fb-4e39-826d-0ecb50f191cc",
   "metadata": {
    "tags": []
   },
   "source": [
    "# Read image stack"
   ]
  },
  {
   "cell_type": "code",
   "execution_count": null,
   "id": "458e19ff-0b5f-4353-82d3-d3ff27926cd7",
   "metadata": {},
   "outputs": [],
   "source": [
    "import imageio\n",
    "from pathlib import Path\n",
    "\n",
    "import numpy as np\n",
    "\n",
    "import matplotlib.pyplot as plt\n",
    "from matplotlib.colors import LinearSegmentedColormap\n",
    "\n",
    "from tqdm.auto import tqdm\n",
    "\n",
    "from astro3d import image_stack, get_output"
   ]
  },
  {
   "cell_type": "markdown",
   "id": "ee52b82c-ac52-4798-b79e-cfc72486409f",
   "metadata": {},
   "source": [
    "## Settings\n",
    "\n",
    "We again need to set the printer-specific settings and the directory of the slides:"
   ]
  },
  {
   "cell_type": "code",
   "execution_count": null,
   "id": "d4e5775d-4bb1-470f-b657-c3e131644112",
   "metadata": {},
   "outputs": [],
   "source": [
    "dpi_x = 600\n",
    "dpi_y = 300\n",
    "dz    = 27e-4 # 27 micron\n",
    "# directory = 'slices_turbulent_box'\n",
    "directory = Path(get_output()) / 'slices_mhd'"
   ]
  },
  {
   "cell_type": "markdown",
   "id": "1a6040a6-ca0c-4a46-a0d8-e84c636cfa9a",
   "metadata": {},
   "source": [
    "## Read Images"
   ]
  },
  {
   "cell_type": "markdown",
   "id": "2a3d4af8-3956-4d2b-b51e-8f1f2fc5d263",
   "metadata": {},
   "source": [
    "Get number of files and file dimensions"
   ]
  },
  {
   "cell_type": "code",
   "execution_count": null,
   "id": "610f850b-5861-4f76-b6cf-af87275805b8",
   "metadata": {},
   "outputs": [],
   "source": [
    "files = sorted(list(directory.glob('*.png')))\n",
    "im = imageio.imread(files[len(files)//2])\n",
    "_x = np.arange(im.shape[1])\n",
    "_y = np.arange(im.shape[0])\n",
    "\n",
    "dx = 2.54 / dpi_x\n",
    "dy = 2.54 / dpi_y\n",
    "dpi_z = 2.54 / dz"
   ]
  },
  {
   "cell_type": "markdown",
   "id": "3f84389b-6355-413b-a647-41d70a1948be",
   "metadata": {},
   "source": [
    "## Print out statistics"
   ]
  },
  {
   "cell_type": "markdown",
   "id": "d3a47a5e-aa2b-45ec-9923-0012bfe70f19",
   "metadata": {},
   "source": [
    "Sum up the individual colors other than white. This can take a few minutes for large stacks."
   ]
  },
  {
   "cell_type": "code",
   "execution_count": null,
   "id": "8c628892-ffd6-4bcc-8e89-3ad59219b91c",
   "metadata": {},
   "outputs": [],
   "source": [
    "cols = image_stack.check_colors(im)\n",
    "%time summed = image_stack.image_sum(files, colors=cols)#[:-1])"
   ]
  },
  {
   "cell_type": "markdown",
   "id": "155faa15-9f7d-4745-a441-6a6d7073dd0c",
   "metadata": {},
   "source": [
    "Check that every pixel is assigned one color and not more"
   ]
  },
  {
   "cell_type": "code",
   "execution_count": null,
   "id": "dca0c02b-0d99-4972-bc71-5860c2abffdc",
   "metadata": {},
   "outputs": [],
   "source": [
    "print(f'Material assignment is {int(summed.sum() != len(files) * np.prod(im.shape[:2])) * \"NOT \"}OK')"
   ]
  },
  {
   "cell_type": "markdown",
   "id": "66a2d28f-736e-449c-9b14-147c6a426868",
   "metadata": {},
   "source": [
    "Show the distribution of materials"
   ]
  },
  {
   "cell_type": "code",
   "execution_count": null,
   "id": "dcdb48e3-b09a-4e17-95a3-0efa67e97553",
   "metadata": {},
   "outputs": [],
   "source": [
    "nc = len(cols) - 1\n",
    "\n",
    "f, ax = plt.subplots(2, nc, figsize=(5 * nc, 5), gridspec_kw={'height_ratios': [1, 20]}, dpi=150)\n",
    "\n",
    "for ic, col in enumerate(cols[:-1]):\n",
    "    cmap = LinearSegmentedColormap.from_list('my', [[1, 1, 1], cols[ic] / 255])\n",
    "    cc = ax[1, ic].imshow(summed[:, :, ic], vmin=0, vmax=1, origin='lower', cmap=cmap)\n",
    "    ax[1, ic].set_aspect(0.5)\n",
    "    f.colorbar(cc, cax=ax[0, ic], orientation='horizontal');"
   ]
  },
  {
   "cell_type": "code",
   "execution_count": null,
   "id": "9b96ef06-8e22-4cd0-8fbf-f77f5715324f",
   "metadata": {},
   "outputs": [],
   "source": [
    "print(f'{len(files)} files')\n",
    "print(f'dimension = {len(_x) * dx:.2f} x {len(_y) * dy:.2f} x {len(files) * dz:.2f} cm')\n",
    "print(f'nr of empty pixels: {(summed[:,:,:-1].sum(-1)==0).sum() / np.prod(summed.shape[:2]):.2%}')\n",
    "print(f'filling fraction: {(summed[:,:,:-1].sum(-1)).sum() / (len(files) * np.prod(summed.shape[:2])):.2%}')\n",
    "print(f'most opaque pixel has {summed[:,:,:-1].sum(-1).max():n} filled pixels (={summed[:, :, :-1].sum(-1).max() / len(files):.2%} of all layers are filled)')\n",
    "\n",
    "plt.imshow([cols]).axes.tick_params(left=False, bottom=False, labelleft=False, labelbottom=False)\n",
    "print('mean counts in non-transparent columns: ' + ', '.join([f'{np.mean(summed[:,:,i][summed[:,:,i]!=0]):.2g}' for i in range(len(cols))]))"
   ]
  },
  {
   "cell_type": "code",
   "execution_count": null,
   "id": "f4fe2500-4110-4175-a5e9-e9c7b15c9e1b",
   "metadata": {},
   "outputs": [],
   "source": [
    "f, ax = plt.subplots()\n",
    "_= ax.hist(summed[:,:, 0].ravel(), bins=np.linspace(0,20,21)-0.5);\n",
    "ax.set_yscale('log')\n",
    "ax.set_xlim(right=20);"
   ]
  },
  {
   "cell_type": "markdown",
   "id": "482447f3-3509-4a92-919c-3181ad6b28bd",
   "metadata": {},
   "source": [
    "## Plots\n",
    "\n",
    "### Statistics plots\n",
    "Show fully transparent pixels and the density distribution."
   ]
  },
  {
   "cell_type": "code",
   "execution_count": null,
   "id": "6ec5a6ff-3c45-4dd0-9f1d-a545d029f346",
   "metadata": {},
   "outputs": [],
   "source": [
    "f, axs = plt.subplots(1, 3, figsize=(11, 3), dpi=100, tight_layout=True)\n",
    "\n",
    "opts = dict(cmap='gray', origin='upper')\n",
    "summed_image = summed[:, :, :-1].sum(-1)\n",
    "\n",
    "ax = axs[0]\n",
    "cc=ax.imshow(summed_image.T, **opts, vmin=0, vmax=7)\n",
    "ax.set_aspect(dpi_x / dpi_y)\n",
    "plt.colorbar(cc, ax=ax).set_label('# of opaque pixes along LOS')\n",
    "\n",
    "ax = axs[1]\n",
    "i = ax.imshow(summed_image.T, vmin=0, vmax=summed_image.max(), **opts)\n",
    "ax.set_aspect(dpi_x / dpi_y)\n",
    "plt.colorbar(i, ax=ax).set_label('# of opaque pixes along LOS')\n",
    "\n",
    "ax = axs[-1]\n",
    "counts, bins, patches = ax.hist(summed_image.ravel(), bins=np.arange(summed_image.max()))\n",
    "ax.set_yscale('log')\n",
    "ax.set_xlabel('number of filled voxels in column')\n",
    "ax.set_xlabel('count');"
   ]
  },
  {
   "cell_type": "markdown",
   "id": "fd135692-f5aa-4f1c-8033-f5d3687e9548",
   "metadata": {},
   "source": [
    "# Top color\n",
    "\n",
    "Compute the first color along each column as estimate of what the plot might look like"
   ]
  },
  {
   "cell_type": "code",
   "execution_count": null,
   "id": "bf088e5c-998a-4293-80cf-c15b830b6385",
   "metadata": {},
   "outputs": [],
   "source": [
    "im = imageio.imread(files[0])\n",
    "\n",
    "dummyval = 300\n",
    "\n",
    "im_set = dummyval * np.ones(im.shape, dtype=np.int32)\n",
    "bg = np.array([255] * 3, dtype=np.int32)\n",
    "empty = np.array([dummyval] * 3, dtype=np.int32)\n",
    "\n",
    "for file in tqdm(files):\n",
    "    im = imageio.imread(file)\n",
    "    im_set = np.where((np.all(im_set==empty[None, None, :], -1) &  ~np.all(im==bg[None, None, :], -1))[:,:,None], im, im_set)"
   ]
  },
  {
   "cell_type": "code",
   "execution_count": null,
   "id": "7fcecd38-3aef-4d3c-9d90-19ace64dc6a8",
   "metadata": {},
   "outputs": [],
   "source": [
    "f, ax = plt.subplots(dpi=300)\n",
    "ax.imshow(np.minimum(np.maximum(im_set, 0), 255))\n",
    "ax.set_aspect(dpi_x / dpi_y);"
   ]
  }
 ],
 "metadata": {
  "kernelspec": {
   "display_name": "Python 3 (ipykernel)",
   "language": "python",
   "name": "python3"
  },
  "language_info": {
   "codemirror_mode": {
    "name": "ipython",
    "version": 3
   },
   "file_extension": ".py",
   "mimetype": "text/x-python",
   "name": "python",
   "nbconvert_exporter": "python",
   "pygments_lexer": "ipython3",
   "version": "3.9.7"
  },
  "vscode": {
   "interpreter": {
    "hash": "bccf082f898b2356c8628c9441a85af51350700d2f5e39f1a029accc41e42a3d"
   }
  }
 },
 "nbformat": 4,
 "nbformat_minor": 5
}
