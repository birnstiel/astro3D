{
 "cells": [
  {
   "cell_type": "markdown",
   "id": "f338f3ae-c9fb-4e39-826d-0ecb50f191cc",
   "metadata": {
    "tags": []
   },
   "source": [
    "# Analyze an image stack"
   ]
  },
  {
   "cell_type": "code",
   "execution_count": null,
   "id": "a25056e4-e7ae-40c9-a37b-e5d4c0511ffa",
   "metadata": {},
   "outputs": [],
   "source": [
    "import astro3d\n",
    "from astro3d import image_stack\n",
    "import matplotlib.pyplot as plt"
   ]
  },
  {
   "cell_type": "markdown",
   "id": "ee52b82c-ac52-4798-b79e-cfc72486409f",
   "metadata": {},
   "source": [
    "## Read the image stack\n",
    "\n",
    "We again need to set the printer-specific settings and the directory of the slides:"
   ]
  },
  {
   "cell_type": "markdown",
   "id": "cd121299-d583-49c5-8e8a-f6934d773af4",
   "metadata": {},
   "source": [
    "Note: original print was: `LocalBox``"
   ]
  },
  {
   "cell_type": "code",
   "execution_count": null,
   "id": "e087243f-9230-4f1c-8b31-a2cfd0cf0337",
   "metadata": {},
   "outputs": [],
   "source": [
    "stack = image_stack.IStack(astro3d.get_output('LocalBox'))"
   ]
  },
  {
   "cell_type": "code",
   "execution_count": null,
   "id": "f308f5fd-b3ad-4c94-9f44-03ecaebfef9d",
   "metadata": {},
   "outputs": [],
   "source": [
    "stack = image_stack.IStack(astro3d.get_output('LocalTry6_redo'))"
   ]
  },
  {
   "cell_type": "markdown",
   "id": "e46eb9da-b5e4-4e8a-8632-94ce8550bacc",
   "metadata": {
    "tags": []
   },
   "source": [
    "## Show view"
   ]
  },
  {
   "cell_type": "code",
   "execution_count": null,
   "id": "6085d2ff-5b26-4e30-b13e-972191dbf270",
   "metadata": {},
   "outputs": [],
   "source": [
    "stack.show_colors()"
   ]
  },
  {
   "cell_type": "markdown",
   "id": "e085a620-7206-42d7-9934-4dd856a27cc3",
   "metadata": {},
   "source": [
    "Now we assign the transparent color index"
   ]
  },
  {
   "cell_type": "code",
   "execution_count": null,
   "id": "5d9038b6-960e-4790-83a6-0d12529c68bc",
   "metadata": {},
   "outputs": [],
   "source": [
    "stack.empty_indices = [1]"
   ]
  },
  {
   "cell_type": "code",
   "execution_count": null,
   "id": "4ca94ff1-6106-4ba6-8e4c-f93e437f4aff",
   "metadata": {},
   "outputs": [],
   "source": [
    "stack.show_view('xy', backward=True, bg=(127, 127, 127))"
   ]
  },
  {
   "cell_type": "markdown",
   "id": "40c7db0d-3518-4306-9da1-0723892aa1d6",
   "metadata": {},
   "source": [
    "**Note:** as we replace one color with an existing one, there will be less colors afterwards, so we need to check the indices carefully. First replacement is similar, just the first index is changeing color. Second change effectively removes a color, so the later colors move up in index."
   ]
  },
  {
   "cell_type": "code",
   "execution_count": null,
   "id": "bd319604-c08f-4490-929b-846471235f48",
   "metadata": {},
   "outputs": [],
   "source": [
    "%%time\n",
    "stack.replace_color(2, image_stack.VeroM_sRGB)\n",
    "stack.replace_color(3, image_stack.VeroC_sRGB)"
   ]
  },
  {
   "cell_type": "code",
   "execution_count": null,
   "id": "4f1e7715-3033-4e6f-bb40-e4d8b9df8615",
   "metadata": {},
   "outputs": [],
   "source": [
    "stack.show_colors()"
   ]
  },
  {
   "cell_type": "code",
   "execution_count": null,
   "id": "3d9ab693-afdb-46bd-94c1-abdcdb64cf65",
   "metadata": {},
   "outputs": [],
   "source": [
    "stack.empty_indices = [1]"
   ]
  },
  {
   "cell_type": "code",
   "execution_count": null,
   "id": "db2770da-9960-4e9e-96e5-bd36694eb9fb",
   "metadata": {},
   "outputs": [],
   "source": [
    "import matplotlib.pyplot as plt\n",
    "f, ax = plt.subplots(dpi=400)\n",
    "f, ax = stack.show_view('xy', backward=True, ax=ax)"
   ]
  },
  {
   "cell_type": "code",
   "execution_count": null,
   "id": "1dd280be-c863-4275-9bf0-1fa121335a22",
   "metadata": {},
   "outputs": [],
   "source": [
    "f, ax = stack.three_views()\n",
    "f.dpi = 200"
   ]
  },
  {
   "cell_type": "markdown",
   "id": "32f34901-d20e-4b90-a322-fc411b60d3ca",
   "metadata": {},
   "source": [
    "### Add logos"
   ]
  },
  {
   "cell_type": "code",
   "execution_count": null,
   "id": "811b4368-651b-4645-a101-0bcc46185028",
   "metadata": {},
   "outputs": [],
   "source": [
    "sep = 0.3 # separation between logos and edges in cm\n",
    "height = 1.125 # height of the logos\n",
    "depth = 0.09 # how thick the logos will be"
   ]
  },
  {
   "cell_type": "markdown",
   "id": "751fb00e-6f9f-421c-a75c-29173ff90bd6",
   "metadata": {},
   "source": [
    "As perfect black is used in the image, we will use that black also in our palette"
   ]
  },
  {
   "cell_type": "code",
   "execution_count": null,
   "id": "878891b9-2b0a-4e6e-8e5f-c3af90b69217",
   "metadata": {},
   "outputs": [],
   "source": [
    "pal = image_stack.vero_palette.copy()\n",
    "pal[0] = [0, 0, 0]"
   ]
  },
  {
   "cell_type": "markdown",
   "id": "7e47fec9-d1f5-4c02-8387-a721ca1c4aa7",
   "metadata": {},
   "source": [
    "#### Origin Logo\n",
    "\n",
    "Here we have to add an alpha channel to make the white parts transparent"
   ]
  },
  {
   "cell_type": "code",
   "execution_count": null,
   "id": "3122be68-d173-48b6-9e48-139e8cbe7f47",
   "metadata": {},
   "outputs": [],
   "source": [
    "from pkg_resources import resource_filename\n",
    "from pathlib import Path\n",
    "from PIL import Image\n",
    "\n",
    "logo = Path(resource_filename('astro3d', '')).parent / 'figures' / 'Logo_Origins2.png'\n",
    "logo_shape = np.array(Image.open(logo)).shape\n",
    "width_o = height / logo_shape[0] * logo_shape[1]"
   ]
  },
  {
   "cell_type": "markdown",
   "id": "fe74cc0a-9d86-4710-91d9-6198027ca379",
   "metadata": {},
   "source": [
    "Add origins logo using dithering of Cyan, Magenta, White"
   ]
  },
  {
   "cell_type": "code",
   "execution_count": null,
   "id": "f472e0ea-426b-41f9-8924-b83820f87961",
   "metadata": {},
   "outputs": [],
   "source": [
    "stack.add_logo(logo, [sep, sep, sep], None, depth, height=height, plane='xz', threshold=0.8,\n",
    "               pal=[pal[2], [128, 128, 128]])"
   ]
  },
  {
   "cell_type": "markdown",
   "id": "0a522e2a-a777-4cfb-8c48-f59b80cc51c2",
   "metadata": {},
   "source": [
    "Check the colors: now the white material appears first, we need to update that gray remains transparent"
   ]
  },
  {
   "cell_type": "markdown",
   "id": "3792de23-ae7f-4581-9c78-5ee147897b61",
   "metadata": {},
   "source": [
    "Now we replace red with magenta and blue with cyan"
   ]
  },
  {
   "cell_type": "code",
   "execution_count": null,
   "id": "19f85b72-943b-4172-8f52-66ec9a0139c3",
   "metadata": {},
   "outputs": [],
   "source": [
    "stack.replace_color(4, stack.colors[3])\n",
    "stack.replace_color(4, stack.colors[2])"
   ]
  },
  {
   "cell_type": "code",
   "execution_count": null,
   "id": "d73a29cd-f695-42d9-ba46-46087bca6ef0",
   "metadata": {},
   "outputs": [],
   "source": [
    "stack.show_colors()"
   ]
  },
  {
   "cell_type": "code",
   "execution_count": null,
   "id": "ec13c56e-512b-4874-b370-4ceeae67d0c9",
   "metadata": {},
   "outputs": [],
   "source": [
    "stack.empty_indices = [1]"
   ]
  },
  {
   "cell_type": "code",
   "execution_count": null,
   "id": "adc2e680-93c4-402a-938f-7363440cccdf",
   "metadata": {},
   "outputs": [],
   "source": [
    "f, ax = plt.subplots(dpi=400)\n",
    "f, ax = stack.show_view('xy', backward=True, ax=ax, bg=(0, 0, 0))"
   ]
  },
  {
   "cell_type": "code",
   "execution_count": null,
   "id": "cb949726-18df-43f5-b70f-9fed2ccec526",
   "metadata": {},
   "outputs": [],
   "source": [
    "f, ax = plt.subplots(dpi=400)\n",
    "f, ax = stack.show_view('xz', ax=ax, bg=(0, 0, 0))"
   ]
  },
  {
   "cell_type": "markdown",
   "id": "ba12bdf1-6f37-43bb-afcd-71b86118d4ff",
   "metadata": {},
   "source": [
    "#### Localize Logo"
   ]
  },
  {
   "cell_type": "code",
   "execution_count": null,
   "id": "5a03e59e-2829-45a7-b789-09523e816ebc",
   "metadata": {},
   "outputs": [],
   "source": [
    "import requests\n",
    "from io import BytesIO\n",
    "\n",
    "response = requests.get('https://localization.ias.universite-paris-saclay.fr/sites/localization/files/Logo_Localization_150.png')\n",
    "img = Image.open(BytesIO(response.content))"
   ]
  },
  {
   "cell_type": "markdown",
   "id": "fd5bc61c-6158-4e3b-94ac-9c7bc17d00cd",
   "metadata": {},
   "source": [
    "We dither this with the base palette. Here's what it will approximately look like (this is unscaled to voxel sizes)."
   ]
  },
  {
   "cell_type": "code",
   "execution_count": null,
   "id": "d5a61978-cd0f-429f-865a-089281df0ca6",
   "metadata": {},
   "outputs": [],
   "source": [
    "img_d = image_stack.dither_palette(img, pal)\n",
    "plt.imshow(img_d);"
   ]
  },
  {
   "cell_type": "code",
   "execution_count": null,
   "id": "3579fe24-c907-46c6-af96-26f7b757d8f5",
   "metadata": {},
   "outputs": [],
   "source": [
    "stack.add_logo(img, [2 * sep + width_o, sep, sep], None,\n",
    "               depth, height=height, plane='xz', pal=pal)"
   ]
  },
  {
   "cell_type": "code",
   "execution_count": null,
   "id": "2bfe870b-dca8-46b2-ab17-b8ff2a1a9e76",
   "metadata": {},
   "outputs": [],
   "source": [
    "stack.show_colors()"
   ]
  },
  {
   "cell_type": "code",
   "execution_count": null,
   "id": "206e8483-cfa7-4e09-abec-46baac3ff9ad",
   "metadata": {},
   "outputs": [],
   "source": [
    "stack.empty_indices = [2]"
   ]
  },
  {
   "cell_type": "code",
   "execution_count": null,
   "id": "06fc6fab-509e-4815-bb91-29bc6ed96fe0",
   "metadata": {},
   "outputs": [],
   "source": [
    "f, ax = stack.three_views()\n",
    "f.dpi = 200"
   ]
  },
  {
   "cell_type": "markdown",
   "id": "41dae6e8-689b-48ec-aaa0-c80ae5231522",
   "metadata": {},
   "source": [
    "### Save Stack"
   ]
  },
  {
   "cell_type": "code",
   "execution_count": null,
   "id": "d3f8d616-ec27-484c-981c-769763714921",
   "metadata": {},
   "outputs": [],
   "source": [
    "stack.show_colors(titles=['White', 'Yellow', 'UltraClear', 'Cyan', 'Magenta', 'Black']);"
   ]
  },
  {
   "cell_type": "code",
   "execution_count": null,
   "id": "1a34b8cb-146a-4f43-ad53-a485740c9964",
   "metadata": {},
   "outputs": [],
   "source": [
    "stack.dimension"
   ]
  },
  {
   "cell_type": "code",
   "execution_count": null,
   "id": "2fc97c73-edd3-41f2-a141-39bfc6205e0c",
   "metadata": {},
   "outputs": [],
   "source": [
    "out_dir = stack.directory.parent / (stack.directory.stem + '_logos')\n",
    "stack.save_images(out_dir)\n",
    "!zip -r {out_dir} {out_dir}\n",
    "!mv {out_dir}.zip /Users/birnstiel/nextcloud/shared/3d-image-stacks/\n",
    "!open /Users/birnstiel/nextcloud/shared/3d-image-stacks/"
   ]
  }
 ],
 "metadata": {
  "kernelspec": {
   "display_name": "Python 3 (ipykernel)",
   "language": "python",
   "name": "python3"
  },
  "language_info": {
   "codemirror_mode": {
    "name": "ipython",
    "version": 3
   },
   "file_extension": ".py",
   "mimetype": "text/x-python",
   "name": "python",
   "nbconvert_exporter": "python",
   "pygments_lexer": "ipython3",
   "version": "3.9.15"
  },
  "vscode": {
   "interpreter": {
    "hash": "bccf082f898b2356c8628c9441a85af51350700d2f5e39f1a029accc41e42a3d"
   }
  }
 },
 "nbformat": 4,
 "nbformat_minor": 5
}
