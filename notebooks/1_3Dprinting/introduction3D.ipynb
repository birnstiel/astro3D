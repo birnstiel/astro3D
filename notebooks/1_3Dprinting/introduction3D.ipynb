{
 "cells": [
  {
   "cell_type": "markdown",
   "metadata": {},
   "source": [
    "# Introduction to printing 3D densities"
   ]
  },
  {
   "cell_type": "markdown",
   "metadata": {},
   "source": [
    "This package provides:\n",
    "- \"raw\" 3D data ready to be downloaded\n",
    "- notebooks to compute image stacks which can be printed for example with Stratasys PolyJet printers\n",
    "- the resulting image stacks for download\n",
    "- routines to estimate the print result, given an image stack\n",
    "- pictures of the resulting prints"
   ]
  },
  {
   "cell_type": "markdown",
   "metadata": {},
   "source": [
    "With this, we hope to make the process as transparent as possible such that these methods can be readily be applied for outreach or education purposes, not only for the given data sets but for any research that provides 3D data."
   ]
  },
  {
   "cell_type": "markdown",
   "metadata": {},
   "source": [
    "## General Process"
   ]
  },
  {
   "cell_type": "markdown",
   "metadata": {},
   "source": [
    "The entire process usually involves these steps:\n",
    "\n",
    "1. **Defining a norm**: the norm maps the given 3D densities to a color. This can be a logarithmic map or it could map certain density ranges to different colors.\n",
    "2. **Interpolation**: the printer and data dimension and aspect ratio usually does not correspond to each other. This means that for a given print dimension, the value for each printed volume element (voxel) needs to be computed by interpolation.\n",
    "3. **Dithering**: the printer cannot print different levels of color/brightness, but instead needs to assign one material to each volume element. Brightness/Color therefore needs to be represented by dithering. For example printing gray color could be achieved by alternating between white and black material.\n",
    "4. **Iteration**: all this needs to be done for every printed layer. This will result in one image for each layer. \n",
    "5. **Printing**: This can be printed with the voxel print utility of GrabCad on a Stratasys PolyJet printer.\n",
    "6. **Polishing**: usually the prints need to be polished to achieve a transparent surface."
   ]
  },
  {
   "cell_type": "markdown",
   "metadata": {},
   "source": [
    "Items 1 through 4 will be discussed in the notebooks. As a start, see [turbulent box](1_turbulent_box/1_link.html) for an introduction to those processes. The notebook [color disk](4_color_disk/1_link.html) covers these points but shows how different densities can be color-coded.\n",
    "\n",
    "All examples also include a notebook that shows how an image stack can be analyzed in order to predict the printed output."
   ]
  },
  {
   "cell_type": "markdown",
   "metadata": {},
   "source": [
    "## Printing"
   ]
  },
  {
   "cell_type": "markdown",
   "metadata": {},
   "source": [
    "### Printing Companies\n",
    "\n",
    "The image stacks produced in this process are the input for the printing process. This is carried out with the [GRABCAD](https://www.grabcad.com) software on a Stratasys PolyJet printer, however this requires the Voxel Printing Utility which not many printing companies can offer.\n",
    "\n",
    "For convenience, we provide a list of companies that have this capability. If you know more (especially in other countries), let us know!\n",
    "\n",
    "- [FIT](https://fit.technology)\n",
    "- [Alphacam](https://www.alphacam.de)\n",
    "\n",
    "Printing with such companies can be expensive (e.g. a 5 cm cube can cost of the order of 800 €). Ideally one can find other science users within the science/education sector that are able to share access to a printer. The material costs for such a cube with an educational license can be more than an order of magnitude cheaper than commercial providers."
   ]
  },
  {
   "cell_type": "markdown",
   "metadata": {},
   "source": [
    "### The printing process\n",
    "\n",
    "The process within the software follows the PNG printing process described [here](https://help.grabcad.com/article/230-guide-to-voxel-printing?locale=en). In short: on the *first screen* the folder with the images is selected along with the stem of the file name (see below), and a background color can be defined. On a *second screen*, each color that appears in the image stack will be assigned a printer material. As such the actual colors have no meaning (blue pixels could be assigned yellow material), but it makes it easier to use corresponding colors to avoid confusion.\n",
    "\n",
    "Things to watch out for:\n",
    "\n",
    "- All images of the image stack should be in one folder, ideally with no other files around to avoid  issues.\n",
    "- The file names should follow the template `[stem]_0001.png` or `[stem]_1234.png`\n",
    "- The color space should be 32-bit RGB or RGBA\n",
    "- By default, black (`[0,0,0]`) is set to be the background (=no material).\n",
    "\n",
    "  This means that on the second window of the voxel printing utility the black pixels cannot be assigned a material. This can be changed on the first screen by changing the default background color. This can, for example, be a color that is not present in the files. To avoid issues with the printing company (they might be unaware of this), it is best to not use black in the PNGs unless this should be empty space. Better assign a very dark gray (e.g. `[1,1,1]`) which will then not be taken as background by default but still show up as basically black in the material selection screen."
   ]
  },
  {
   "cell_type": "markdown",
   "metadata": {},
   "source": [
    "## Polishing\n",
    "\n",
    "The resulting print is automatically surrounded by support material which needs to be removed. The resulting surface of the print is somewhat rough and thus not transparent. The surfaces need to be polished. This can be done by sandpaper of increasing grit, starting with something rough (100 - 200) but going up to high grids (few 1000). For full transparency, some polishing paste or chalk needs to be used. Most companies that offer any polishing services (e.g. for metals) can easily do this. As reference value, we paid 180 € for polishing of 4 cubic structures."
   ]
  }
 ],
 "metadata": {
  "kernelspec": {
   "display_name": "Python 3.9.7 ('base')",
   "language": "python",
   "name": "python3"
  },
  "language_info": {
   "name": "python",
   "version": "3.9.7"
  },
  "orig_nbformat": 4,
  "vscode": {
   "interpreter": {
    "hash": "bccf082f898b2356c8628c9441a85af51350700d2f5e39f1a029accc41e42a3d"
   }
  }
 },
 "nbformat": 4,
 "nbformat_minor": 2
}
