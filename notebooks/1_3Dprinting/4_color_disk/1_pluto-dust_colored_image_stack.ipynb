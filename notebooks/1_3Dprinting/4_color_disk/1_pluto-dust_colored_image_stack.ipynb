{
 "cells": [
  {
   "cell_type": "markdown",
   "id": "378f04a0",
   "metadata": {
    "tags": []
   },
   "source": [
    "# 3D printing pluto dust"
   ]
  },
  {
   "cell_type": "code",
   "execution_count": null,
   "id": "f6ed839e",
   "metadata": {
    "tags": []
   },
   "outputs": [],
   "source": [
    "from pathlib import Path\n",
    "import sys\n",
    "import imageio\n",
    "\n",
    "import numpy as np\n",
    "\n",
    "from scipy.interpolate import RegularGridInterpolator\n",
    "\n",
    "import matplotlib.pyplot as plt\n",
    "from matplotlib import ticker\n",
    "from matplotlib.colors import LogNorm\n",
    "from matplotlib.colors import LinearSegmentedColormap\n",
    "\n",
    "from IPython.display import display\n",
    "\n",
    "from tqdm.auto import tqdm\n",
    "\n",
    "import seaborn as sns\n",
    "\n",
    "import astro3d\n",
    "from astro3d.image_stack import makeslice\n",
    "from astro3d.image_stack import VeroC_sRGB\n",
    "from astro3d.image_stack import VeroM_sRGB\n",
    "from astro3d.image_stack import VeroT_sRGB\n",
    "from astro3d.image_stack import VeroY_sRGB\n",
    "\n",
    "plt.style.use([{'image.cmap':'gray_r'}])"
   ]
  },
  {
   "cell_type": "markdown",
   "id": "2b4732dc-9682-4a54-92ec-0c58ec8440e5",
   "metadata": {},
   "source": [
    "# Setup"
   ]
  },
  {
   "cell_type": "markdown",
   "id": "a77b9412",
   "metadata": {},
   "source": [
    "## Read data"
   ]
  },
  {
   "cell_type": "code",
   "execution_count": null,
   "id": "5d86216e",
   "metadata": {},
   "outputs": [],
   "source": [
    "with np.load(astro3d.get_data('pluto_data_norm.npz')) as f:\n",
    "    data = f['rho']\n",
    "    x = f['x']\n",
    "    y = f['y']\n",
    "    z = f['z']"
   ]
  },
  {
   "cell_type": "markdown",
   "id": "355c125b",
   "metadata": {},
   "source": [
    "## Printer settings\n",
    "\n",
    "printer specific and layer thickness can be chosen to be different)"
   ]
  },
  {
   "cell_type": "code",
   "execution_count": null,
   "id": "5b88e969-0b8f-4c84-92be-ebc40345b615",
   "metadata": {},
   "outputs": [],
   "source": [
    "# these are the values used in alphacams TEILEFABRIK, where we ordered some of our prints\n",
    "dpi_x = 600\n",
    "dpi_y = 300\n",
    "dpi_z = 940 # 0.027 mm layer thickness = 2.54 / dpi_z"
   ]
  },
  {
   "cell_type": "markdown",
   "id": "2dac5e78-a883-40ee-8940-0f545ee68b30",
   "metadata": {},
   "source": [
    "Choose the height of the print, the rest should rescale accordingly"
   ]
  },
  {
   "cell_type": "code",
   "execution_count": null,
   "id": "c47139fb-df27-4157-be97-4634ccde5108",
   "metadata": {},
   "outputs": [],
   "source": [
    "height = 2 # this should be the total height of the printed cube in cm"
   ]
  },
  {
   "cell_type": "markdown",
   "id": "91d22e38-4a78-4f1e-b9dc-840e51b4ea48",
   "metadata": {},
   "source": [
    "## Output folder\n",
    "\n",
    "We store the images in the path set by `path`."
   ]
  },
  {
   "cell_type": "code",
   "execution_count": null,
   "id": "d0b3b407-94d3-42cd-8293-851880a7a2e0",
   "metadata": {},
   "outputs": [],
   "source": [
    "path = Path(astro3d.get_output()) / 'slices_pluto_color3'"
   ]
  },
  {
   "cell_type": "code",
   "execution_count": null,
   "id": "e451feb5",
   "metadata": {},
   "outputs": [],
   "source": [
    "if not path.is_dir():\n",
    "    path.mkdir()\n",
    "else:\n",
    "    files = list(path.glob('slice*.png'))\n",
    "    if len(files)>0:\n",
    "        print('directory exists, deleting old files')\n",
    "        for file in files:\n",
    "            file.unlink()"
   ]
  },
  {
   "cell_type": "markdown",
   "id": "a8729d8e-2934-4aa4-b6b8-e7541513d25c",
   "metadata": {
    "tags": []
   },
   "source": [
    "## New coordinates"
   ]
  },
  {
   "cell_type": "markdown",
   "id": "72e6acfe-1a05-48b5-b810-7b1ab0c8cbf6",
   "metadata": {},
   "source": [
    "calculate the new grids in x, y, z"
   ]
  },
  {
   "cell_type": "code",
   "execution_count": null,
   "id": "a64edeca",
   "metadata": {},
   "outputs": [],
   "source": [
    "#n_z = int(height / layer_thickness)\n",
    "n_z = int(height * dpi_z / 2.54)\n",
    "\n",
    "n_x = int(n_z * len(x) / len(z) / dpi_z * dpi_x)\n",
    "n_y = int(n_z * len(y) / len(z) / dpi_z * dpi_y)\n",
    "\n",
    "n_x += n_x%2 # add 1 to make it even if it isn't\n",
    "n_y += n_y%2 # add 1 to make it even if it isn't\n",
    "\n",
    "x2 = np.linspace(x[0], x[-1], n_x)\n",
    "y2 = np.linspace(y[0], y[-1], n_y)\n",
    "z2 = np.linspace(z[0], z[-1], n_z)"
   ]
  },
  {
   "cell_type": "markdown",
   "id": "de00cba6-6a74-4b35-8609-c8c74cc776c7",
   "metadata": {},
   "source": [
    "create an interpolation function for the non-normalized 3D data"
   ]
  },
  {
   "cell_type": "code",
   "execution_count": null,
   "id": "a028c1a0-0ec2-45ee-a310-42cc26ee8198",
   "metadata": {},
   "outputs": [],
   "source": [
    "def f_interp(coords):\n",
    "    return astro3d._fortran.fmodule.interpolate(x, y, z, data, coords)"
   ]
  },
  {
   "cell_type": "markdown",
   "id": "b7feec11-9123-4a49-8dce-06d7db8c3e24",
   "metadata": {},
   "source": [
    "set the coordinates-tuple which is passed to the interpolation. x and y entries will stay the same and only the z entry will change.\n",
    "\n",
    "Note that `coords` will not be passed to the interpolation function in this form, but will be transformed to a shape `(N, 3)`, where the number of points `N = len(x2) * len(y2)`."
   ]
  },
  {
   "cell_type": "code",
   "execution_count": null,
   "id": "4aed376b-14f2-4fd6-9390-1d58bf31d49c",
   "metadata": {},
   "outputs": [],
   "source": [
    "coords = (x2, y2, z2)"
   ]
  },
  {
   "cell_type": "markdown",
   "id": "17d2a8f5-5bb0-4def-be4f-b327bfbd21b8",
   "metadata": {},
   "source": [
    "## Normalization & color choices"
   ]
  },
  {
   "cell_type": "markdown",
   "id": "dc074743-986c-4da4-bd59-488c5e2ed49f",
   "metadata": {},
   "source": [
    "Find the largest magnitude of the data values and define a logarithmic norm"
   ]
  },
  {
   "cell_type": "code",
   "execution_count": null,
   "id": "8b1dda6c",
   "metadata": {},
   "outputs": [],
   "source": [
    "dyn_range = 1e-4\n",
    "vmax = data.max()\n",
    "norm = LogNorm(dyn_range * vmax, vmax, clip=True)"
   ]
  },
  {
   "cell_type": "markdown",
   "id": "dcb34ff1-b527-453d-8ee9-0e84a27d2045",
   "metadata": {},
   "source": [
    "define the density levels, their width, their colors, and the filling factors of the colors"
   ]
  },
  {
   "cell_type": "code",
   "execution_count": null,
   "id": "e9b3e072-e5b0-4ce9-a890-5f37b87ca2d5",
   "metadata": {},
   "outputs": [],
   "source": [
    "levels = np.array([0.15, 0.65, 0.92])\n",
    "sigmas = np.array([0.02, 0.05, 0.06])\n",
    "fill = np.array([0.2, 0.06, 0.3])\n",
    "clip = np.array([3.0, 3.0, 3.0])\n",
    "\n",
    "colors = [VeroM_sRGB, VeroY_sRGB, VeroC_sRGB]\n",
    "\n",
    "plt.imshow([colors]).axes.axis('off');"
   ]
  },
  {
   "cell_type": "markdown",
   "id": "f597e20d-c8e2-43fa-b191-276bebdb60d8",
   "metadata": {},
   "source": [
    "Show a histogram of the data values"
   ]
  },
  {
   "cell_type": "code",
   "execution_count": null,
   "id": "bebc53f2-019a-4879-9e8b-4f14d8ce3f56",
   "metadata": {},
   "outputs": [],
   "source": [
    "astro3d.image_stack.show_histogram(data, norm, colors, levels, sigmas, clip)"
   ]
  },
  {
   "cell_type": "markdown",
   "id": "fdd01e15-f77c-4302-8861-6d4c4500ea71",
   "metadata": {},
   "source": [
    "## Example slice"
   ]
  },
  {
   "cell_type": "markdown",
   "id": "5bfee65a-dd06-4917-ba41-7c25c36a1f45",
   "metadata": {},
   "source": [
    "select which index in the new z-grid to process"
   ]
  },
  {
   "cell_type": "code",
   "execution_count": null,
   "id": "0f0b2193-2df2-48df-a500-24498253f8fa",
   "metadata": {},
   "outputs": [],
   "source": [
    "iz = int(np.ceil(n_z / 2))"
   ]
  },
  {
   "cell_type": "markdown",
   "id": "a35a8a85-6c4c-42c8-aa32-3792bb113aac",
   "metadata": {},
   "source": [
    "Process one slice and check the results"
   ]
  },
  {
   "cell_type": "code",
   "execution_count": null,
   "id": "9f9a36bd-556c-4bc6-a24a-b8d53fd523e8",
   "metadata": {},
   "outputs": [],
   "source": [
    "layer_dithered = makeslice(iz, z2, f_interp, coords, norm, path,\n",
    "                levels=levels, sigmas=sigmas, fill=fill,\n",
    "                colors=colors, f=np.ones(3))"
   ]
  },
  {
   "cell_type": "code",
   "execution_count": null,
   "id": "4a6b7f77-e329-49aa-941e-103cbde12ce9",
   "metadata": {},
   "outputs": [],
   "source": [
    "f, axs = plt.subplots(len(colors) + 1, 2, dpi=100, figsize=(6, 3 * (len(colors) + 1)), gridspec_kw={'top':0.9})\n",
    "f.subplots_adjust(top=0.9)\n",
    "\n",
    "# get original data near the desired position\n",
    "iz0 = z.searchsorted(z2[iz])\n",
    "\n",
    "cc=axs[0,0].imshow(norm(data[:,:,iz0]).T, vmin=0, vmax=1, origin='lower')\n",
    "axs[0,0].text(0.05, 0.95, 'original data, log-normalized', c='0.5', fontsize='small', transform=axs[0,0].transAxes, va='top')\n",
    "\n",
    "pos = axs[0,0].get_position()\n",
    "cba = f.add_axes([pos.x0, pos.y1 + pos.height / 20, pos.width, pos.height / 20])\n",
    "cb = f.colorbar(cc, cax=cba, orientation='horizontal')\n",
    "cba.xaxis.tick_top()\n",
    "\n",
    "\n",
    "# interpolate on new coordinates\n",
    "_x, _y = np.meshgrid(x2, y2, indexing='ij')\n",
    "_c = np.array([_x.ravel(), _y.ravel(), np.zeros_like(_x.ravel()) + z2[iz]]).T\n",
    "d = f_interp(_c).reshape(len(x2), len(y2)).T\n",
    "\n",
    "axs[0,1].imshow(d, origin='lower', norm=norm)\n",
    "axs[0,1].text(0.05, 0.95, 'interpolated', fontsize='small', c='0.5', transform=axs[0,1].transAxes, va='top')\n",
    "\n",
    "# color weightening\n",
    "dist_sq = (norm(d.ravel()).reshape(d.shape)[..., None] - levels[None,None,:])**2 / (2 * sigmas[None, None, :]**2)\n",
    "dist_sq[d==0] = np.inf\n",
    "dist_sq[dist_sq  >clip**2] = np.inf\n",
    "col_dens = 1. / (1. + dist_sq) * fill\n",
    "\n",
    "# dithering\n",
    "d2 = astro3d.fmodule.dither_colors(col_dens)\n",
    "\n",
    "\n",
    "for ic, col in enumerate(colors):\n",
    "    \n",
    "    # cmap = sns.light_palette(col, as_cmap=True)\n",
    "    cmap = LinearSegmentedColormap.from_list('my', [[1,1,1], col])\n",
    "    \n",
    "    axs[1+ic,0].imshow(col_dens[:, :, ic], origin='lower', vmin=0, vmax=1, cmap=cmap)\n",
    "    axs[1+ic,0].text(0.05, 0.95, 'color weighted', fontsize='small', transform=axs[1+ic,0].transAxes, va='top')\n",
    "\n",
    "    axs[1+ic,1].imshow(d2[:, :, ic], origin='lower', vmin=0, vmax=1, cmap=cmap)\n",
    "    axs[1+ic,1].text(0.05, 0.95, 'dithered', fontsize='small', transform=axs[1+ic,1].transAxes, va='top');\n",
    "\n",
    "# plot tunining\n",
    "\n",
    "\n",
    "for ax in axs[:,0].ravel():\n",
    "    ax.set_ylabel('y [pixel]');\n",
    "for ax in axs[-1,:].ravel():\n",
    "    ax.set_xlabel('x [pixel]');\n",
    "    \n",
    "for ax in axs.ravel()[1:]:\n",
    "    ax.set_aspect(dpi_x / dpi_y)"
   ]
  },
  {
   "cell_type": "markdown",
   "id": "2998eeff-bafe-4e1d-9d1c-1be49e72d264",
   "metadata": {},
   "source": [
    "# Iteration"
   ]
  },
  {
   "cell_type": "code",
   "execution_count": null,
   "id": "d45bf5f2",
   "metadata": {},
   "outputs": [],
   "source": [
    "# iz = np.arange(int(dpi_z/2.54))  # Here we just want to print the first cm\n",
    "iz = np.arange(n_z)"
   ]
  },
  {
   "cell_type": "code",
   "execution_count": null,
   "id": "3af9f17b",
   "metadata": {},
   "outputs": [],
   "source": [
    "for _iz in tqdm(iz):\n",
    "    makeslice(_iz, z2, f_interp, coords, norm, path,\n",
    "                    levels=levels, sigmas=sigmas, fill=fill,\n",
    "                    colors=colors, f=np.ones(3), bg=0.7)"
   ]
  }
 ],
 "metadata": {
  "kernelspec": {
   "display_name": "Python 3 (ipykernel)",
   "language": "python",
   "name": "python3"
  },
  "language_info": {
   "codemirror_mode": {
    "name": "ipython",
    "version": 3
   },
   "file_extension": ".py",
   "mimetype": "text/x-python",
   "name": "python",
   "nbconvert_exporter": "python",
   "pygments_lexer": "ipython3",
   "version": "3.9.7"
  }
 },
 "nbformat": 4,
 "nbformat_minor": 5
}
