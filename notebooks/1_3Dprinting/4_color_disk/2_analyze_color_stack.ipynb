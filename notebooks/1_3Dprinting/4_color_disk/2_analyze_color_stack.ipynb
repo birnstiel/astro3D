{
 "cells": [
  {
   "cell_type": "markdown",
   "id": "f338f3ae-c9fb-4e39-826d-0ecb50f191cc",
   "metadata": {
    "tags": []
   },
   "source": [
    "# Read image stack"
   ]
  },
  {
   "cell_type": "code",
   "execution_count": null,
   "id": "458e19ff-0b5f-4353-82d3-d3ff27926cd7",
   "metadata": {},
   "outputs": [],
   "source": [
    "import imageio\n",
    "from pathlib import Path\n",
    "\n",
    "import numpy as np\n",
    "\n",
    "import matplotlib.pyplot as plt\n",
    "from matplotlib.colors import LinearSegmentedColormap\n",
    "\n",
    "from tqdm.auto import tqdm\n",
    "\n",
    "from astro3d import image_stack"
   ]
  },
  {
   "cell_type": "markdown",
   "id": "ee52b82c-ac52-4798-b79e-cfc72486409f",
   "metadata": {},
   "source": [
    "## Settings\n",
    "\n",
    "We again need to set the printer-specific settings and the directory of the slides:"
   ]
  },
  {
   "cell_type": "code",
   "execution_count": null,
   "id": "d4e5775d-4bb1-470f-b657-c3e131644112",
   "metadata": {},
   "outputs": [],
   "source": [
    "dpi_x = 600\n",
    "dpi_y = 300\n",
    "dz    = 27e-4 # 27 micron\n",
    "# directory = 'slices_turbulent_box'\n",
    "directory = 'slices_pluto_color2/'"
   ]
  },
  {
   "cell_type": "markdown",
   "id": "1a6040a6-ca0c-4a46-a0d8-e84c636cfa9a",
   "metadata": {},
   "source": [
    "## Read Images"
   ]
  },
  {
   "cell_type": "markdown",
   "id": "2a3d4af8-3956-4d2b-b51e-8f1f2fc5d263",
   "metadata": {},
   "source": [
    "Get number of files and file dimensions"
   ]
  },
  {
   "cell_type": "code",
   "execution_count": null,
   "id": "610f850b-5861-4f76-b6cf-af87275805b8",
   "metadata": {},
   "outputs": [],
   "source": [
    "files = sorted(list(Path(directory).glob('*.png')))\n",
    "im = imageio.imread(files[len(files)//2]).transpose(1, 0, 2)\n",
    "_x = np.arange(im.shape[0])\n",
    "_y = np.arange(im.shape[1])\n",
    "\n",
    "dx = 2.54 / dpi_x\n",
    "dy = 2.54 / dpi_y\n",
    "dpi_z = 2.54 / dz"
   ]
  },
  {
   "cell_type": "markdown",
   "id": "3f84389b-6355-413b-a647-41d70a1948be",
   "metadata": {},
   "source": [
    "## Print out statistics"
   ]
  },
  {
   "cell_type": "code",
   "execution_count": null,
   "id": "ff7d9f63-d6bc-4f56-89a1-0eaf644ec6fb",
   "metadata": {},
   "outputs": [],
   "source": [
    "cols = image_stack.check_colors(im)\n",
    "plt.imshow([cols]).axes.tick_params(left=False, bottom=False, labelleft=False, labelbottom=False)"
   ]
  },
  {
   "cell_type": "markdown",
   "id": "d3a47a5e-aa2b-45ec-9923-0012bfe70f19",
   "metadata": {},
   "source": [
    "Sum up the individual colors other than white. This can take a few minutes for large stacks."
   ]
  },
  {
   "cell_type": "code",
   "execution_count": null,
   "id": "53572a41-88c5-44cf-8862-c948f02259d4",
   "metadata": {},
   "outputs": [],
   "source": [
    "%time summed = image_stack.image_sum(files, colors=cols)#[:-1])"
   ]
  },
  {
   "cell_type": "markdown",
   "id": "155faa15-9f7d-4745-a441-6a6d7073dd0c",
   "metadata": {},
   "source": [
    "Check that every pixel is assigned one color and not more"
   ]
  },
  {
   "cell_type": "code",
   "execution_count": null,
   "id": "dca0c02b-0d99-4972-bc71-5860c2abffdc",
   "metadata": {},
   "outputs": [],
   "source": [
    "print(f'Material assignment is {int(summed.sum() != len(files) * np.prod(im.shape[:2])) * \"NOT \"}OK')"
   ]
  },
  {
   "cell_type": "markdown",
   "id": "66a2d28f-736e-449c-9b14-147c6a426868",
   "metadata": {},
   "source": [
    "Show the distribution of materials"
   ]
  },
  {
   "cell_type": "code",
   "execution_count": null,
   "id": "dcdb48e3-b09a-4e17-95a3-0efa67e97553",
   "metadata": {},
   "outputs": [],
   "source": [
    "nc = len(cols)# - 1\n",
    "\n",
    "f, ax = plt.subplots(2, nc, figsize=(5 * nc, 5), gridspec_kw={'height_ratios': [1, 20]}, dpi=150)\n",
    "\n",
    "for ic, col in enumerate(cols):#[:-1]):\n",
    "    cc = ax[1, ic].imshow(summed[:, :, ic],\n",
    "                          vmin=0,\n",
    "                          vmax=5,#summed[:, :, ic].max(),\n",
    "                          cmap=LinearSegmentedColormap.from_list('my', [[1,1,1], cols[ic] / 255]))\n",
    "    ax[1, ic].set_aspect(0.5)\n",
    "    f.colorbar(cc, cax=ax[0, ic], orientation='horizontal');"
   ]
  },
  {
   "cell_type": "code",
   "execution_count": null,
   "id": "9b96ef06-8e22-4cd0-8fbf-f77f5715324f",
   "metadata": {},
   "outputs": [],
   "source": [
    "print(f'{len(files)} files')\n",
    "print(f'dimension = {im.shape[0] * dx:.2f} x {im.shape[1] * dy:.2f} x {len(files) * dz:.2f} cm')\n",
    "print(f'nr of empty pixels: {(summed[:,:,:-1].sum(-1)==0).sum() / np.prod(summed.shape[:2]):.2%}')\n",
    "print(f'most opaque pixel has {summed.max():n} filled pixels (={summed.max() / len(files):.2%} of all layers are filled)')\n",
    "\n",
    "plt.imshow([cols]).axes.axis('off');\n",
    "print('mean counts in non-transparent columns: ' + ', '.join([f'{np.mean(summed[:,:,i][summed[:,:,i]!=0]):.2g}' for i in range(len(cols))]))"
   ]
  },
  {
   "cell_type": "code",
   "execution_count": null,
   "id": "b5a2f638-a14c-4957-938c-1c5053714c64",
   "metadata": {},
   "outputs": [],
   "source": [
    "f, ax = plt.subplots(1, summed.shape[-1], figsize=(summed.shape[-1] * 4, 4), dpi=150)\n",
    "for _ax, ic in zip(ax, range(summed.shape[-1])):\n",
    "    _ax.imshow(summed[:, :, ic], origin='lower', vmin=0, vmax=1, cmap='gray_r')\n",
    "    _ax.set_aspect(dpi_y / dpi_x)"
   ]
  },
  {
   "cell_type": "code",
   "execution_count": null,
   "id": "f4fe2500-4110-4175-a5e9-e9c7b15c9e1b",
   "metadata": {},
   "outputs": [],
   "source": [
    "f, ax = plt.subplots()\n",
    "_= ax.hist(summed[:,:, 0].ravel(), bins=np.linspace(0,20,21)-0.5);\n",
    "ax.set_yscale('log')\n",
    "ax.set_xlim(right=10)"
   ]
  },
  {
   "cell_type": "markdown",
   "id": "482447f3-3509-4a92-919c-3181ad6b28bd",
   "metadata": {},
   "source": [
    "## Plots\n",
    "\n",
    "### Statistics plots\n",
    "Show fully transparent pixels and the density distribution."
   ]
  },
  {
   "cell_type": "code",
   "execution_count": null,
   "id": "6ec5a6ff-3c45-4dd0-9f1d-a545d029f346",
   "metadata": {},
   "outputs": [],
   "source": [
    "f, axs = plt.subplots(3, 1, figsize=(4, 15), dpi=200)\n",
    "\n",
    "summed_image = summed[:, :, :-1].sum(-1)\n",
    "\n",
    "ax = axs[0]\n",
    "cc=ax.imshow(summed_image>0, cmap='gray_r')\n",
    "ax.set_aspect(dpi_y / dpi_x)\n",
    "plt.colorbar(cc, ax=ax)\n",
    "ax.set_title('white = all voxels transparent');\n",
    "\n",
    "ax = axs[1]\n",
    "ax.set_aspect(dpi_x / dpi_y)\n",
    "i = ax.pcolormesh(_x, _y, summed_image.T, vmin=0, vmax=summed_image.max(), cmap='gray_r')\n",
    "cb = plt.colorbar(i, ax=ax)\n",
    "cb.set_label('# of opaque pixes along LOS')\n",
    "\n",
    "ax = axs[-1]\n",
    "counts, bins, patches = ax.hist(summed_image.ravel(), bins=np.arange(summed_image.max()))\n",
    "ax.set_xlabel('number of filled voxels in column')\n",
    "ax.set_xlabel('count');"
   ]
  },
  {
   "cell_type": "markdown",
   "id": "0078bf66-9256-437c-abbd-6f76e3514eb8",
   "metadata": {},
   "source": [
    "### Compare data to 3d-printed result"
   ]
  },
  {
   "cell_type": "code",
   "execution_count": null,
   "id": "c02fcaa4-2a68-456b-828d-8e1eabd44aa3",
   "metadata": {},
   "outputs": [],
   "source": [
    "slice_width = .1 # in cm\n",
    "n_slice = int(slice_width / dz)"
   ]
  },
  {
   "cell_type": "code",
   "execution_count": null,
   "id": "b1d5431e",
   "metadata": {},
   "outputs": [],
   "source": [
    "img = image_stack.image_sum(files[:n_slice])"
   ]
  },
  {
   "cell_type": "code",
   "execution_count": null,
   "id": "e4cb4460-f87f-46dd-9c1a-8458e4e14ffb",
   "metadata": {},
   "outputs": [],
   "source": [
    "f, axs = plt.subplots(1, 3, dpi=200, figsize=(15,5))\n",
    "axs[0].imshow(img.T / img.max(), cmap='gray_r')\n",
    "axs[0].set_aspect(dpi_x / dpi_y)\n",
    "axs[0].set_title(f'sum over first {slice_width:.2f} cm')\n",
    "\n",
    "axs[1].imshow(imageio.imread('results/img1.jpg'))\n",
    "axs[1].set_title('45º front illuminated')\n",
    "axs[2].axis('off')\n",
    "\n",
    "axs[2].imshow(imageio.imread('results/img2.jpg'))\n",
    "axs[2].set_title('side illuminated')\n",
    "axs[2].axis('off');"
   ]
  },
  {
   "cell_type": "code",
   "execution_count": null,
   "id": "492fccf5-ede3-4272-b5e1-1f319ee87759",
   "metadata": {},
   "outputs": [],
   "source": [
    "from IPython.display import Video\n",
    "Video('results/turbulent_box.mp4', width=500, html_attributes='autoplay loop')"
   ]
  },
  {
   "cell_type": "markdown",
   "id": "fd135692-f5aa-4f1c-8033-f5d3687e9548",
   "metadata": {},
   "source": [
    "# Top color"
   ]
  },
  {
   "cell_type": "code",
   "execution_count": null,
   "id": "bf088e5c-998a-4293-80cf-c15b830b6385",
   "metadata": {},
   "outputs": [],
   "source": [
    "im = imageio.imread(files[0])\n",
    "\n",
    "dummyval = 300\n",
    "\n",
    "im_set = dummyval * np.ones(im.shape, dtype=np.int32)\n",
    "bg = np.array([255] * 3, dtype=np.int32)\n",
    "empty = np.array([dummyval] * 3, dtype=np.int32)\n",
    "\n",
    "for file in tqdm(files):\n",
    "    im = imageio.imread(file)\n",
    "    im_set = np.where((np.all(im_set==empty[None, None, :], -1) &  ~np.all(im==bg[None, None, :], -1))[:,:,None], im, im_set)"
   ]
  },
  {
   "cell_type": "code",
   "execution_count": null,
   "id": "7fcecd38-3aef-4d3c-9d90-19ace64dc6a8",
   "metadata": {},
   "outputs": [],
   "source": [
    "f, ax = plt.subplots(dpi=300)\n",
    "ax.imshow(np.minimum(np.maximum(im_set, 0), 255))\n",
    "ax.set_aspect(dpi_x / dpi_y);"
   ]
  },
  {
   "cell_type": "code",
   "execution_count": null,
   "id": "3bacfbeb-1283-41bc-a779-581e1583c14f",
   "metadata": {},
   "outputs": [],
   "source": []
  }
 ],
 "metadata": {
  "kernelspec": {
   "display_name": "Python 3 (ipykernel)",
   "language": "python",
   "name": "python3"
  },
  "language_info": {
   "codemirror_mode": {
    "name": "ipython",
    "version": 3
   },
   "file_extension": ".py",
   "mimetype": "text/x-python",
   "name": "python",
   "nbconvert_exporter": "python",
   "pygments_lexer": "ipython3",
   "version": "3.9.7"
  },
  "vscode": {
   "interpreter": {
    "hash": "bccf082f898b2356c8628c9441a85af51350700d2f5e39f1a029accc41e42a3d"
   }
  }
 },
 "nbformat": 4,
 "nbformat_minor": 5
}
