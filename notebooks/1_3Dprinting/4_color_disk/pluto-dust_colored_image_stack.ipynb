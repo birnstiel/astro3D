{
 "cells": [
  {
   "cell_type": "markdown",
   "id": "378f04a0",
   "metadata": {
    "tags": []
   },
   "source": [
    "# 3D printing pluto dust"
   ]
  },
  {
   "cell_type": "code",
   "execution_count": null,
   "id": "f6ed839e",
   "metadata": {
    "tags": []
   },
   "outputs": [],
   "source": [
    "from pathlib import Path\n",
    "import sys\n",
    "import imageio\n",
    "\n",
    "import numpy as np\n",
    "\n",
    "from scipy.interpolate import RegularGridInterpolator\n",
    "\n",
    "import matplotlib.pyplot as plt\n",
    "from matplotlib.colors import LogNorm\n",
    "\n",
    "from IPython.display import display\n",
    "\n",
    "import astro3d\n",
    "from astro3d.image_stack import makeslice, process\n",
    "\n",
    "plt.style.use([{'image.cmap':'gray_r'}])"
   ]
  },
  {
   "cell_type": "markdown",
   "id": "a77b9412",
   "metadata": {},
   "source": [
    "Read data."
   ]
  },
  {
   "cell_type": "code",
   "execution_count": null,
   "id": "5d86216e",
   "metadata": {},
   "outputs": [],
   "source": [
    "with np.load('../../../data/pluto_data_norm.npz') as f:\n",
    "    data = f['rho']\n",
    "    x = f['x']\n",
    "    y = f['y']\n",
    "    z = f['z']"
   ]
  },
  {
   "cell_type": "markdown",
   "id": "dc467519",
   "metadata": {},
   "source": [
    "## Normalization"
   ]
  },
  {
   "cell_type": "markdown",
   "id": "b63f8c9c",
   "metadata": {},
   "source": [
    "Find the largest magnitude of the data values and define a logarithmic norm"
   ]
  },
  {
   "cell_type": "code",
   "execution_count": null,
   "id": "8b1dda6c",
   "metadata": {},
   "outputs": [],
   "source": [
    "dyn_range = 1e-4\n",
    "vmax = 10**np.ceil(np.log10(data.max()))\n",
    "norm = LogNorm(dyn_range * vmax, vmax, clip=True)"
   ]
  },
  {
   "cell_type": "markdown",
   "id": "8d8676b1",
   "metadata": {},
   "source": [
    "## Example plot"
   ]
  },
  {
   "cell_type": "markdown",
   "id": "f74422f1",
   "metadata": {},
   "source": [
    "Select which slice to plot"
   ]
  },
  {
   "cell_type": "code",
   "execution_count": null,
   "id": "4ea03116",
   "metadata": {},
   "outputs": [],
   "source": [
    "# Select which slice to plot\n",
    "i = int(np.ceil(data.shape[-1] / 2)) # midplane or just above if nz is even\n",
    "\n",
    "# apply the norm\n",
    "d_0 = np.array(norm(data[:, :, i]))\n",
    "\n",
    "# plot it and it's dithered version\n",
    "f, ax = plt.subplots(1, 2, figsize=(10, 5), dpi=150)\n",
    "ax[0].imshow(d_0, vmin=0, vmax=1)\n",
    "ax[1].imshow(astro3d.fmodule.dither(d_0), vmin=0, vmax=1);"
   ]
  },
  {
   "cell_type": "markdown",
   "id": "5989ad39",
   "metadata": {},
   "source": [
    "## Upscale the data"
   ]
  },
  {
   "cell_type": "markdown",
   "id": "0a80a006",
   "metadata": {},
   "source": [
    "### Coordinates & aspect ratios"
   ]
  },
  {
   "cell_type": "markdown",
   "id": "92cc6553-03a6-4378-8bcc-fbd3e25445f6",
   "metadata": {},
   "source": [
    "create an interpolation function for the non-normalized 3D data"
   ]
  },
  {
   "cell_type": "code",
   "execution_count": null,
   "id": "13e5e459",
   "metadata": {},
   "outputs": [],
   "source": [
    "f_interp = RegularGridInterpolator((x, y, z), data)"
   ]
  },
  {
   "cell_type": "markdown",
   "id": "355c125b",
   "metadata": {},
   "source": [
    "settings of the printer (printer specific and layer thickness can be chosen to be different)"
   ]
  },
  {
   "cell_type": "code",
   "execution_count": null,
   "id": "5b88e969-0b8f-4c84-92be-ebc40345b615",
   "metadata": {},
   "outputs": [],
   "source": [
    "# these are the values for the J850 Prime\n",
    "#dpi_x = 600\n",
    "#dpi_y = 600\n",
    "#dpi_z = 940  # 0.027 mm layer thickness\n",
    "\n",
    "# these are the values used in alphacams TEILEFABRIK, where we ordered some of our prints\n",
    "dpi_x = 600\n",
    "dpi_y = 300\n",
    "dpi_z = 940 # 0.027 mm layer thickness = 2.54 / dpi_z"
   ]
  },
  {
   "cell_type": "markdown",
   "id": "2dac5e78-a883-40ee-8940-0f545ee68b30",
   "metadata": {},
   "source": [
    "Choose the height of the print, the rest should rescale accordingly"
   ]
  },
  {
   "cell_type": "code",
   "execution_count": null,
   "id": "c47139fb-df27-4157-be97-4634ccde5108",
   "metadata": {},
   "outputs": [],
   "source": [
    "height = 2 # this should be the total height of the printed cube in cm"
   ]
  },
  {
   "cell_type": "markdown",
   "id": "5e80193b",
   "metadata": {},
   "source": [
    "calculate the new grids in x, y, z"
   ]
  },
  {
   "cell_type": "code",
   "execution_count": null,
   "id": "a64edeca",
   "metadata": {},
   "outputs": [],
   "source": [
    "#n_z = int(height / layer_thickness)\n",
    "n_z = int(height * dpi_z / 2.54)\n",
    "\n",
    "n_x = int(n_z * len(x) / len(z) / dpi_z * dpi_x)\n",
    "n_y = int(n_z * len(y) / len(z) / dpi_z * dpi_y)\n",
    "\n",
    "n_x += n_x%2 # add 1 to make it even if it isn't\n",
    "n_y += n_y%2 # add 1 to make it even if it isn't\n",
    "\n",
    "x2 = np.linspace(x[0], x[-1], n_x)\n",
    "y2 = np.linspace(y[0], y[-1], n_y)\n",
    "z2 = np.linspace(z[0], z[-1], n_z)"
   ]
  },
  {
   "cell_type": "markdown",
   "id": "663c7560",
   "metadata": {},
   "source": [
    "define the colors for color prints"
   ]
  },
  {
   "cell_type": "code",
   "execution_count": null,
   "id": "d0d5a7f9",
   "metadata": {},
   "outputs": [],
   "source": [
    "colors = np.array([\n",
    "    [255, 255, 255],\n",
    "    [255, 0.0, 0.0],\n",
    "    [0.0, 255, 0.0],\n",
    "    [0.0, 0.0, 255],\n",
    "])\n",
    "\n",
    "# the indices of the colors\n",
    "lst = np.arange(len(colors))"
   ]
  },
  {
   "cell_type": "markdown",
   "id": "da65d262",
   "metadata": {},
   "source": [
    "the CMY colors of the printer"
   ]
  },
  {
   "cell_type": "code",
   "execution_count": null,
   "id": "bc758d8b",
   "metadata": {},
   "outputs": [],
   "source": [
    "colors_CMY = np.array([\n",
    "    [0.0, 93, 127],\n",
    "    [166, 33, 98],\n",
    "    [200, 189, 17],\n",
    "])\n",
    "\n",
    "# the indices of the colors\n",
    "lst_CMY = np.arange(len(colors_CMY))"
   ]
  },
  {
   "cell_type": "markdown",
   "id": "4bbde937",
   "metadata": {},
   "source": [
    "### Iteration"
   ]
  },
  {
   "cell_type": "markdown",
   "id": "6ce452a0",
   "metadata": {},
   "source": [
    "we get the new layer by interpolating the 3D data. We store the images in the path set by `output_dir`."
   ]
  },
  {
   "cell_type": "code",
   "execution_count": null,
   "id": "9627c649",
   "metadata": {},
   "outputs": [],
   "source": [
    "output_dir = 'slices_pluto_color2'"
   ]
  },
  {
   "cell_type": "markdown",
   "id": "90b2a816",
   "metadata": {},
   "source": [
    "Prepare output folder"
   ]
  },
  {
   "cell_type": "code",
   "execution_count": null,
   "id": "e451feb5",
   "metadata": {},
   "outputs": [],
   "source": [
    "path = Path(output_dir)\n",
    "\n",
    "if not path.is_dir():\n",
    "    path.mkdir()\n",
    "else:\n",
    "    files = list(path.glob('slice*.png'))\n",
    "    if len(files)>0:\n",
    "        print('directory exists, deleting old files')\n",
    "        for file in files:\n",
    "            file.unlink()"
   ]
  },
  {
   "cell_type": "markdown",
   "id": "956ec56b",
   "metadata": {},
   "source": [
    "select which index in the new z-grid to process"
   ]
  },
  {
   "cell_type": "code",
   "execution_count": null,
   "id": "87ba3c02",
   "metadata": {},
   "outputs": [],
   "source": [
    "iz = int(np.ceil(n_z / 2))"
   ]
  },
  {
   "cell_type": "markdown",
   "id": "ea3acb3b",
   "metadata": {},
   "source": [
    "This cell does the same as `makeslice`: interpolates one layer, creates and dithers the image and writes it to file"
   ]
  },
  {
   "cell_type": "code",
   "execution_count": null,
   "id": "8190133a",
   "metadata": {},
   "outputs": [],
   "source": [
    "# update coordinates - only last entry changes\n",
    "_x, _y, _z = np.meshgrid(x2, y2, [z2[0]], sparse=False, indexing='ij')\n",
    "_z = np.array([[[z2[iz]]]])\n",
    "coords = (_x, _y, _z)\n",
    "\n",
    "# interpolate: note that we transpose here as this is how the image will be saved\n",
    "new_layer = f_interp(coords)[:, :, 0].T\n",
    "\n",
    "# normalize, convert to grayscale image\n",
    "layer_norm = np.array(norm(new_layer))\n",
    "layer_dither = astro3d.fmodule.dither(layer_norm)\n",
    "\n",
    "# save as png\n",
    "imageio.imwrite(path / f'slice_{iz:04d}.png', np.uint8(255 - 255 * layer_dither))"
   ]
  },
  {
   "cell_type": "code",
   "execution_count": null,
   "id": "fd0c7482-06b5-40b0-ab54-2a91a5910140",
   "metadata": {},
   "outputs": [],
   "source": [
    "f, axs = plt.subplots(3, 1, dpi=100, figsize=(2*3, 3*3), constrained_layout=True)\n",
    "axs[0].imshow(norm(data[:,:,round(iz / n_z * data.shape[-1])]).T, vmin=0, vmax=1, origin='lower')\n",
    "axs[1].imshow(layer_norm, vmin=0, vmax=1, origin='lower')\n",
    "axs[2].imshow(layer_dither, vmin=0, vmax=1, origin='lower')\n",
    "axs[0].text(0.05, 0.95, 'step 1: original data, log-normalized', fontsize='small', transform=axs[0].transAxes)\n",
    "axs[1].text(0.05, 0.95, 'step 2: interpolated to printer dimension', fontsize='small', transform=axs[1].transAxes)\n",
    "axs[2].text(0.05, 0.95, 'step 3: dithered', fontsize='small', transform=axs[2].transAxes)\n",
    "\n",
    "for ax in axs:\n",
    "    ax.set_ylabel('y [pixel]')\n",
    "    ax.set_anchor('W')\n",
    "axs[-1].set_xlabel('x [pixel]');"
   ]
  },
  {
   "cell_type": "markdown",
   "id": "2660942b",
   "metadata": {},
   "source": [
    "# color prints"
   ]
  },
  {
   "cell_type": "code",
   "execution_count": null,
   "id": "66e46e87-1e76-46c5-9aca-63b3b73f838d",
   "metadata": {},
   "outputs": [],
   "source": [
    "_x, _y, _z = np.meshgrid(x2, y2, [z2[0]], sparse=False, indexing='ij')\n",
    "_z = np.array([[[z2[iz]]]])\n",
    "coords = (_x, _y, _z)\n",
    "\n",
    "\n",
    "for iz in [n_z//2]:# range(739):\n",
    "    \n",
    "    coords = (_x, _y, np.array([[[z2[iz]]]]))\n",
    "\n",
    "    # interpolate\n",
    "    new_layer = f_interp(coords)[:, :, 0].T\n",
    "\n",
    "    # normalize, convert to grayscale image\n",
    "    layer_norm = np.array(norm(new_layer))\n",
    "    layer_dither = astro3d.fmodule.dither(layer_norm)\n",
    "\n",
    "    #convert to RGBA scale and save as a numpy array\n",
    "    a = np.array(255 - 255 * np.ones([*layer_dither.shape, 3]) * layer_dither[:, :, None], dtype=np.uint8)\n",
    "\n",
    "    # imageio.imwrite(path / f'slice_{iz:04d}.png', a, optimize=True, bits=32)"
   ]
  },
  {
   "cell_type": "markdown",
   "id": "be65196e-cd16-4b2b-ae3d-872f8b07ee2b",
   "metadata": {},
   "source": [
    "these are the thresholds used in the rendering: `[0.15, 0.42, 0.7]`. Here we compute what density values they correspond to on our scale. We also assign a width to each density contour and a filling factor."
   ]
  },
  {
   "cell_type": "code",
   "execution_count": null,
   "id": "4880b3f3-d62e-4a7e-b843-7323857aefe4",
   "metadata": {},
   "outputs": [],
   "source": [
    "rho_i = norm.inverse([0.15, 0.42, 0.7]).data\n",
    "\n",
    "sig = [0.05, 0.03, 0.04]\n",
    "fill = [0.1, 0.1, 0.1]"
   ]
  },
  {
   "cell_type": "markdown",
   "id": "6b070b09-bf77-4bf6-ae5e-4165cfc91b6d",
   "metadata": {},
   "source": [
    "Show a histogram of the data values"
   ]
  },
  {
   "cell_type": "code",
   "execution_count": null,
   "id": "d6825b18-6899-4931-8d74-9b141b8bc927",
   "metadata": {},
   "outputs": [],
   "source": [
    "bins = np.geomspace(dyn_range * vmax, vmax, 100)\n",
    "counts, _ = np.histogram(data.ravel(), bins=bins)"
   ]
  },
  {
   "cell_type": "code",
   "execution_count": null,
   "id": "920e19be-273f-4d97-bc1f-0a276a7a8724",
   "metadata": {},
   "outputs": [],
   "source": [
    "f, ax = plt.subplots()\n",
    "ax.bar(bins[:-1], counts, align='edge', width=np.diff(bins))\n",
    "ax.set_xscale('log')\n",
    "ax.set_yscale('log')\n",
    "ax2 = ax.secondary_xaxis('top', functions=(norm, norm.inverse))\n",
    "ax2.set_xscale('linear')\n",
    "for _rho, _sig in zip(rho_i, sig):\n",
    "    ax.axvline(_rho, c='k', ls='--')\n",
    "    ax.errorbar(_rho, 10.**np.mean(np.log10(ax.get_ylim())),\n",
    "                xerr=[\n",
    "                    [_rho - norm.inverse(norm(_rho) - _sig)],\n",
    "                    [norm.inverse(norm(_rho) + _sig) - _rho]], c='k', capsize=5)"
   ]
  },
  {
   "cell_type": "code",
   "execution_count": null,
   "id": "8c1a93ef-0863-4436-ad13-944f71faa9f4",
   "metadata": {},
   "outputs": [],
   "source": [
    "from tqdm.auto import tqdm"
   ]
  },
  {
   "cell_type": "code",
   "execution_count": null,
   "id": "a819c22d-af8f-4e05-afa1-83f238f7e52e",
   "metadata": {},
   "outputs": [],
   "source": [
    "#create mask\n",
    "dist_sq = (np.log10(np.array(rho_i)[None, None, :] / new_layer[..., None]) / sig)**2\n",
    "mask = (np.random.rand(*dist_sq.shape)<=fill) * np.random.randn(*dist_sq.shape)**2 > dist_sq\n",
    "\n",
    "\n",
    "# assign probabilities for each color\n",
    "p = np.concatenate(((mask.sum(-1)==0)[:, :, None], mask), axis=-1)\n",
    "p = p/p.sum(-1)[:, :, None]\n",
    "\n",
    "\n",
    "# loop over all pixels\n",
    "for i in tqdm(range(mask.shape[0])):\n",
    "    for j in range(mask.shape[1]):\n",
    "\n",
    "        # randomly pick one of the colors where mask is True (using the probabilities `p`)\n",
    "        idx = np.random.choice(lst, p=p[i,j])\n",
    "\n",
    "        # assign that color to the pixel\n",
    "        a[i,j,:] = colors[idx, :]"
   ]
  },
  {
   "cell_type": "code",
   "execution_count": null,
   "id": "513f93db-0e9d-4435-985d-972c525e6ea4",
   "metadata": {},
   "outputs": [],
   "source": [
    "%%file fort.f90\n",
    "\n",
    "subroutine color_dither()\n",
    "#create mask\n",
    "dist_sq = (np.log10(np.array(rho_i)[None, None, :] / new_layer[..., None]) / sig)**2\n",
    "mask = (np.random.rand(*dist_sq.shape)<=fill) * np.random.randn(*dist_sq.shape)**2 > dist_sq\n",
    "\n",
    "\n",
    "# assign probabilities for each color\n",
    "p = np.concatenate(((mask.sum(-1)==0)[:, :, None], mask), axis=-1)\n",
    "p = p/p.sum(-1)[:, :, None]\n",
    "\n",
    "\n",
    "# loop over all pixels\n",
    "for i in tqdm(range(mask.shape[0])):\n",
    "    for j in range(mask.shape[1]):\n",
    "\n",
    "        # randomly pick one of the colors where mask is True (using the probabilities `p`)\n",
    "        idx = np.random.choice(lst, p=p[i,j])\n",
    "\n",
    "        # assign that color to the pixel\n",
    "        a[i,j,:] = colors[idx, :]\n"
   ]
  },
  {
   "cell_type": "code",
   "execution_count": null,
   "id": "6be72559-acd6-4326-91ba-4ffc337d7fc3",
   "metadata": {},
   "outputs": [],
   "source": [
    "    \n",
    "    #convert red pixels into 75% magenta 25% yellow, green pixels into 50% cyan 50% yellow, blue pixels into 60% cyan 40% magenta\n",
    "    for i in range(mask.shape[0]):\n",
    "        for j in range(mask.shape[1]):\n",
    "            idx_r = np.random.choice(lst_CMY, p=[0, 0.75, 0.25])\n",
    "            idx_g = np.random.choice(lst_CMY, p=[0.5, 0, 0.5])\n",
    "            idx_b = np.random.choice(lst_CMY, p=[0.6, 0.4, 0])\n",
    "            if all(a[i,j] == [255, 0.0, 0.0]):\n",
    "                a[i,j] = colors_CMY[idx_r, :]\n",
    "            elif all(a[i,j] == [0.0, 255, 0.0]):\n",
    "                a[i,j] = colors_CMY[idx_g, :]\n",
    "            elif all(a[i,j] == [0.0, 0.0, 255]):\n",
    "                a[i,j] = colors_CMY[idx_b, :]\n",
    "    \n",
    "    #convert img array back into image\n",
    "    im = Image.fromarray(a, mode=\"RGB\")\n",
    "    \n",
    "    # save as 1bit bitmap\n",
    "    im.save(path / f'colored_slice_CMY_{iz:04d}.png', bits=1, optimize=True)"
   ]
  },
  {
   "cell_type": "markdown",
   "id": "3bffaad8",
   "metadata": {},
   "source": [
    "this is the same result using `makeslice`, but one can select between 1 or 32 bit. Fit.technology wants 32 bit."
   ]
  },
  {
   "cell_type": "code",
   "execution_count": null,
   "id": "5eb74382",
   "metadata": {},
   "outputs": [],
   "source": [
    "makeslice(iz, z2, f_interp, coords, norm, path, bits=32, fg=[255, 255, 255, 255], bg=[1, 1, 1, 250])"
   ]
  },
  {
   "cell_type": "markdown",
   "id": "a04ca701",
   "metadata": {},
   "source": [
    "get the colors in that slice"
   ]
  },
  {
   "cell_type": "code",
   "execution_count": null,
   "id": "9e86e7e0",
   "metadata": {},
   "outputs": [],
   "source": [
    "im = Image.open(\"slices_fit2/slice_0000.png\")\n",
    "colors = np.unique(np.array(im).reshape(-1, 4), axis=0)\n",
    "display(colors)\n",
    "display(im)"
   ]
  },
  {
   "cell_type": "markdown",
   "id": "e898a2d3",
   "metadata": {
    "tags": []
   },
   "source": [
    "## Batch processing"
   ]
  },
  {
   "cell_type": "markdown",
   "id": "5aafe3bb",
   "metadata": {},
   "source": [
    "all of the above can also be done in a loop with `process`:\n",
    "normalizing with the given norm, up-scaling and saving to images. We'll just do this same one here by specifying the `iz` keyword."
   ]
  },
  {
   "cell_type": "markdown",
   "id": "6c502eed",
   "metadata": {},
   "source": [
    "Here we just want to print the first cm."
   ]
  },
  {
   "cell_type": "code",
   "execution_count": null,
   "id": "d45bf5f2",
   "metadata": {},
   "outputs": [],
   "source": [
    "iz = np.arange(int(dpi_z/2.54))"
   ]
  },
  {
   "cell_type": "code",
   "execution_count": null,
   "id": "3af9f17b",
   "metadata": {},
   "outputs": [],
   "source": [
    "process(data,\n",
    "        height=height, dpi_x=dpi_x, dpi_y=dpi_y, dpi_z=dpi_z,\n",
    "        output_dir=output_dir,\n",
    "        norm=norm,\n",
    "        fg=[255, 255, 255, 255], bg=[1, 1, 1, 250]\n",
    "        #iz=iz\n",
    "       )"
   ]
  }
 ],
 "metadata": {
  "kernelspec": {
   "display_name": "Python 3 (ipykernel)",
   "language": "python",
   "name": "python3"
  },
  "language_info": {
   "codemirror_mode": {
    "name": "ipython",
    "version": 3
   },
   "file_extension": ".py",
   "mimetype": "text/x-python",
   "name": "python",
   "nbconvert_exporter": "python",
   "pygments_lexer": "ipython3",
   "version": "3.9.7"
  }
 },
 "nbformat": 4,
 "nbformat_minor": 5
}
