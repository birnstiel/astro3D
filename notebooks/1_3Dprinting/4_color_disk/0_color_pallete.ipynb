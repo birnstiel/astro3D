{
 "cells": [
  {
   "cell_type": "markdown",
   "id": "b5824742-8568-4b38-aede-d40f382b8775",
   "metadata": {},
   "source": [
    "# Test color mixing"
   ]
  },
  {
   "cell_type": "code",
   "execution_count": null,
   "id": "0c684ec2-6f7f-49bc-8570-f1133a26ee32",
   "metadata": {},
   "outputs": [],
   "source": [
    "import numpy as np\n",
    "import matplotlib.pyplot as plt"
   ]
  },
  {
   "cell_type": "code",
   "execution_count": null,
   "id": "5da1f3c3-fcb7-4e01-a809-335df0097730",
   "metadata": {},
   "outputs": [],
   "source": [
    "# there are what I measured from the PDF\n",
    "VeroT_sRGB = np.array([255, 255, 255]) / 255\n",
    "VeroC_sRGB = np.array([29,  85,  111]) / 255\n",
    "VeroM_sRGB = np.array([149, 39,  87])  / 255\n",
    "VeroY_sRGB = np.array([192, 183, 52])  / 255\n",
    "\n",
    "# these are the ones stated on the palette\n",
    "VeroT_RGB = np.array([255, 255, 255]) / 255\n",
    "VeroC_RGB = np.array([0,   93,  127]) / 255\n",
    "VeroM_RGB = np.array([166, 33,  98 ]) / 255\n",
    "VeroY_RGB = np.array([200, 189, 17 ]) / 255\n",
    "\n",
    "\n",
    "plt.imshow([[\n",
    "    VeroC_sRGB, VeroM_sRGB, VeroY_sRGB],[\n",
    "    VeroC_RGB,  VeroM_RGB,  VeroY_RGB]]);"
   ]
  },
  {
   "cell_type": "code",
   "execution_count": null,
   "id": "f1528ad8-f3d0-493d-ab78-63bb39bb9477",
   "metadata": {},
   "outputs": [],
   "source": [
    "def axis_distance(p1, p2, p):\n",
    "    \"distance to axis p2 - p1, assuming axis length is normalized to 1\"\n",
    "    a = p - p1\n",
    "    d = np.sqrt(np.dot(a, a) - np.dot(a, p2 - p1)**2)\n",
    "    return d\n",
    "\n",
    "def mix_colors(c1, c2, c3):\n",
    "    # triaxial color map\n",
    "    p1 = np.array([0, 0])\n",
    "    p2 = np.array([1, 0])\n",
    "    p3 = np.array([0.5, np.sqrt(3) / 2])\n",
    "    \n",
    "    x = np.linspace(0, 1, 50)\n",
    "    y = np.linspace(0, 1, 60)\n",
    "    \n",
    "    X, Y = np.meshgrid(x, y, indexing='ij')\n",
    "    \n",
    "    img = np.zeros([*X.shape,3])\n",
    "    \n",
    "    for ix in range(len(x)):\n",
    "        for iy in range(len(y)):\n",
    "            \n",
    "            p = np.array([X[ix, iy], Y[ix, iy]])\n",
    "\n",
    "            R = axis_distance(p1, p2, p)\n",
    "            G = axis_distance(p2, p3, p)\n",
    "            B = axis_distance(p3, p1, p)\n",
    "            img[ix, iy, :] = R * c1 + G * c2 + B * c3\n",
    "                \n",
    "            \n",
    "    mask = (np.arctan2(Y, X) > np.deg2rad(60)) | (np.arctan2(Y, 1-X) > np.deg2rad(60))\n",
    "    img = np.concatenate((img, 1.0 - mask[:,:,None]), axis=-1)\n",
    "            \n",
    "    f, ax = plt.subplots(figsize=(8, 8), dpi=150)\n",
    "    mesh = ax.pcolormesh(X, Y, img[:,:,0], facecolors=img.reshape(-1, 4))\n",
    "    # This is necessary to let the `color` argument determine the color\n",
    "    mesh.set_array(None)\n",
    "    ax.plot(*np.array([p1,p2,p3,p1]).T, 'k-')\n",
    "    ax.set_xlim(0, 1)\n",
    "    ax.set_ylim(0, 1)\n",
    "    ax.set_aspect(1)\n",
    "    ax.axis('off')\n",
    "            \n",
    "    return img\n",
    "\n",
    "img = mix_colors(\n",
    "    VeroC_sRGB,\n",
    "    VeroM_sRGB,\n",
    "    VeroY_sRGB)"
   ]
  }
 ],
 "metadata": {
  "kernelspec": {
   "display_name": "Python 3 (ipykernel)",
   "language": "python",
   "name": "python3"
  },
  "language_info": {
   "codemirror_mode": {
    "name": "ipython",
    "version": 3
   },
   "file_extension": ".py",
   "mimetype": "text/x-python",
   "name": "python",
   "nbconvert_exporter": "python",
   "pygments_lexer": "ipython3",
   "version": "3.9.7"
  }
 },
 "nbformat": 4,
 "nbformat_minor": 5
}
