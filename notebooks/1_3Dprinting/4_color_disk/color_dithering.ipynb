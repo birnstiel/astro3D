{
 "cells": [
  {
   "cell_type": "markdown",
   "id": "83559aa3-db7c-4427-b845-333fbb3f184e",
   "metadata": {},
   "source": [
    "# Color dithering"
   ]
  },
  {
   "cell_type": "code",
   "execution_count": null,
   "id": "ab08c25b-73a4-45ef-a172-ccbb885d01ba",
   "metadata": {},
   "outputs": [],
   "source": [
    "import matplotlib.pyplot as plt\n",
    "from matplotlib.colors import LogNorm\n",
    "from matplotlib import ticker\n",
    "\n",
    "import numpy as np\n",
    "\n",
    "import astro3d\n",
    "from astro3d.image_stack import color_replace"
   ]
  },
  {
   "cell_type": "markdown",
   "id": "e5c91e3f-ef1b-4851-aef8-9386e7df6ac8",
   "metadata": {},
   "source": [
    "Make up some fake data: two gaussian bumps"
   ]
  },
  {
   "cell_type": "code",
   "execution_count": null,
   "id": "ee08786d-f180-4331-a68f-ede57d0a3d9b",
   "metadata": {},
   "outputs": [],
   "source": [
    "x = np.linspace(-2, 2, 1000)\n",
    "y = np.linspace(-2, 2, 990)\n",
    "X,Y = np.meshgrid(x, y, indexing='ij')\n",
    "\n",
    "# peak density\n",
    "rho0 = 1e0\n",
    "dyn_range = 1e-3\n",
    "\n",
    "data = rho0 * (\n",
    "    1.0 * np.exp(- ((X-0.5)**2 + (Y-0.5)**2)/(2*0.5**2)) +\n",
    "    0.1 * np.exp(- ((X+0.5)**2 + (Y+0.5)**2)/(2*0.5**2))\n",
    "    )"
   ]
  },
  {
   "cell_type": "markdown",
   "id": "386d7c98-7900-4399-904c-30eeb358b14a",
   "metadata": {},
   "source": [
    "# Define norm and plot the data"
   ]
  },
  {
   "cell_type": "code",
   "execution_count": null,
   "id": "596b76ea-2def-445c-819e-5a5f4c5c7e84",
   "metadata": {},
   "outputs": [],
   "source": [
    "vmax = data.max()\n",
    "norm = LogNorm(dyn_range * vmax, vmax)\n",
    "\n",
    "# plot the data\n",
    "\n",
    "f, ax = plt.subplots()\n",
    "ax.set_aspect('equal')\n",
    "cc=ax.pcolormesh(x, y, data.T, norm=norm)\n",
    "plt.colorbar(cc);"
   ]
  },
  {
   "cell_type": "markdown",
   "id": "a0e36edc-f22b-4d30-9541-ed563efe79c2",
   "metadata": {},
   "source": [
    "Define three densities we want to color, along with the scatter around that density value in dex. Fill is the filling factor to scale some colors up or down."
   ]
  },
  {
   "cell_type": "code",
   "execution_count": null,
   "id": "fb8e330c-c965-4d13-8995-7bc5f588cd0a",
   "metadata": {},
   "outputs": [],
   "source": [
    "levels = np.array([0.15, 0.5, 0.7, 0.9])\n",
    "sigmas = np.array([0.1, 0.05, 0.03, 0.03])\n",
    "fill = np.array([0.5, 0.5, 0.5, 0.5])"
   ]
  },
  {
   "cell_type": "markdown",
   "id": "a34b3f40-379f-4c57-96bc-0743caa2796b",
   "metadata": {},
   "source": [
    "apply the norm to the data"
   ]
  },
  {
   "cell_type": "code",
   "execution_count": null,
   "id": "bd7a8c1e-7df8-429a-81e9-4ad51e109b01",
   "metadata": {},
   "outputs": [],
   "source": [
    "layer_norm = np.array(norm(data))"
   ]
  },
  {
   "cell_type": "markdown",
   "id": "eef5495d-29c9-4598-a5fc-826e027697ac",
   "metadata": {},
   "source": [
    "Show a histogram of the data values"
   ]
  },
  {
   "cell_type": "code",
   "execution_count": null,
   "id": "3c375b4b-a60d-4eec-81a0-77fd3b640b0a",
   "metadata": {},
   "outputs": [],
   "source": [
    "astro3d.image_stack.image_stack.sh"
   ]
  },
  {
   "cell_type": "code",
   "execution_count": null,
   "id": "c0a0376b-4504-4a35-94ec-05bb9cb764ce",
   "metadata": {},
   "outputs": [],
   "source": [
    "bins = np.linspace(0, 1, 100)\n",
    "counts, _ = np.histogram(layer_norm.ravel(), bins=bins)"
   ]
  },
  {
   "cell_type": "code",
   "execution_count": null,
   "id": "20043569-c211-4a06-adb9-3993f7870226",
   "metadata": {},
   "outputs": [],
   "source": [
    "f, ax = plt.subplots()\n",
    "ax.bar(bins[:-1], counts, align='edge', width=np.diff(bins), alpha=0.5)\n",
    "ax.set_xlim(0, 1)\n",
    "ax2 = ax.secondary_xaxis('top', functions=(norm.inverse, norm))\n",
    "for i, (_level, _sig) in enumerate(zip(levels, sigmas)):\n",
    "    line = ax.axvline(_level, ls='--', c=f'C{i}')\n",
    "    ax.errorbar(_level, np.mean(ax.get_ylim()) * (1 + 0.1 * i),\n",
    "                xerr=[\n",
    "                    [_sig],\n",
    "                    [_sig]], c=line.get_color(), capsize=5)\n",
    "    \n",
    "ax2.get_xaxis().set_major_locator(ticker.LogLocator())\n",
    "\n",
    "ax.set_xlabel('original density')\n",
    "ax2.set_xlabel('normalized density');"
   ]
  },
  {
   "cell_type": "markdown",
   "id": "82f18b3a-d416-4d3f-ac4f-0ede6e5716c4",
   "metadata": {},
   "source": [
    "for each color, we compute the distance-image, i.e. how far away we are from the desired contour.\n",
    "\n",
    "We use the weighted square-distance in normalized space for each pixel value $D_{k,l}$. Each color, which is specified by its normalized density level $N_i$ and the width around that density value in dex, $\\sigma_i$\n",
    "$$\n",
    "d^2_{k,l,i} = \\frac{\\left(N _i - D_{k, l}\\right)^2}{2\\, \\sigma_i^2}\n",
    "$$\n",
    "\n",
    "The amount of color is then assigned according to that distance:\n",
    "\n",
    "$$\\mathrm{color}_i = \\frac{1}{1 + d^2 _ {k,l,i}}$$"
   ]
  },
  {
   "cell_type": "code",
   "execution_count": null,
   "id": "1808ca70-7496-4d03-a343-f43a6a7bb295",
   "metadata": {},
   "outputs": [],
   "source": [
    "# dist_sq = (np.log10(np.array(rho_i)[None, None, :] / data[..., None]) / sig)**2\n",
    "dist_sq = (np.array(levels)[None, None, :] - layer_norm[..., None])**2 / (2 * sigmas**2)\n",
    "color_density = 1 / (1 + dist_sq) * fill"
   ]
  },
  {
   "cell_type": "code",
   "execution_count": null,
   "id": "921ef278-d7e9-4e43-8a8e-872d58da76ca",
   "metadata": {},
   "outputs": [],
   "source": [
    "example_fills = [0.1, 0.5, 1]\n",
    "\n",
    "f, ax = plt.subplots(len(example_fills), len(levels) + 1, dpi=100, figsize=(4 * (len(levels) + 1), 4 * len(example_fills)))\n",
    "\n",
    "for i, _fill in enumerate(example_fills):\n",
    "    \n",
    "    _color_density = 1 / (1 + dist_sq) * _fill\n",
    "    im_cd = astro3d.fmodule.dither_colors(_color_density)\n",
    "    \n",
    "    for j, _level in enumerate(levels):\n",
    "        ax[i,j].imshow(im_cd[:,:,j], origin='lower', vmin=0, vmax=1, cmap='gray_r')\n",
    "        ax[i,j].set_title(f'component {j}')\n",
    "        \n",
    "    ax[i, -1].imshow(_color_density.sum(-1), origin='lower', vmin=0, vmax=1, cmap='gray_r')\n",
    "    ax[i, -1].set_title('un-dithered')\n",
    "    ax[i, -1].set_ylabel(f'fill = {_fill:.2g}')\n",
    "    ax[i, -1].yaxis.set_label_position(\"right\")"
   ]
  },
  {
   "cell_type": "markdown",
   "id": "90f130c4-42e1-4923-bcdd-45dffa081554",
   "metadata": {},
   "source": [
    "Now for our chosen values of `fill`"
   ]
  },
  {
   "cell_type": "code",
   "execution_count": null,
   "id": "00db73c6-b7ae-4b59-81a0-9e1caa51d3ce",
   "metadata": {
    "tags": []
   },
   "outputs": [],
   "source": [
    "im_cd = astro3d.fmodule.dither_colors(color_density * fill)\n",
    "\n",
    "f, axs = plt.subplots(1, len(levels)+1, figsize=(3 * (len(levels) + 1), 3), dpi=150)\n",
    "args = {'origin':'lower', 'cmap':'gray_r'}\n",
    "\n",
    "for i in range(im_cd.shape[-1]):\n",
    "    axs[i].imshow(im_cd[:, :, i], **args)\n",
    "    axs[i].set_title(f'component {i}')\n",
    "\n",
    "    axs[-1].imshow(im_cd.sum(-1), **args)\n",
    "\n",
    "print(f'there is {\"no\" if im_cd.max(-1).max()==1 else \"\"} overlap')"
   ]
  },
  {
   "cell_type": "markdown",
   "id": "a0f69ff6-350c-4a37-b8b6-945037d429a9",
   "metadata": {},
   "source": [
    "# Replacing Colors"
   ]
  },
  {
   "cell_type": "markdown",
   "id": "52b2adff-0989-4280-980f-5eb981065fc5",
   "metadata": {},
   "source": [
    "So far we worked with 3 unique RGB colors. For the printing, we have, however only the 3 base-colors VeroCyan, VeroMagenta, and VeroYellow available. We can either use those or we could try to mix them to another color, for example by replacing 50% of the currently red pixels with Magenta, and 50% with Yellow. The mixing on the Stratasys Pallete between C, M, and Y looks different from just a linear interpolation."
   ]
  },
  {
   "cell_type": "code",
   "execution_count": null,
   "id": "1f825d51-7c1c-4695-9420-560041e78625",
   "metadata": {},
   "outputs": [],
   "source": [
    "from astro3d.image_stack import VeroC_sRGB, VeroM_sRGB, VeroT_sRGB, VeroY_sRGB"
   ]
  },
  {
   "cell_type": "markdown",
   "id": "d799e88d-35e2-4a06-a6c1-ec06d698edb4",
   "metadata": {},
   "source": [
    "## Simple case:\n",
    "replacing colors direclty (doesn't really make a difference as the material is assigned during printing by hand)."
   ]
  },
  {
   "cell_type": "code",
   "execution_count": null,
   "id": "22e76bfa-496a-494f-baa9-ffd0ce66916c",
   "metadata": {},
   "outputs": [],
   "source": [
    "im = im_cd.copy()\n",
    "\n",
    "old_colors = np.eye(len(levels))\n",
    "old_colors = np.vstack((old_colors, np.zeros(old_colors.shape[1])))\n",
    "\n",
    "new_colors = [VeroM_sRGB, VeroY_sRGB, VeroC_sRGB, 0.5 * (VeroM_sRGB + VeroC_sRGB), VeroT_sRGB]\n",
    "\n",
    "im_stack = []\n",
    "\n",
    "for col_o, col_n in zip(old_colors, new_colors):\n",
    "    im_stack += [color_replace(im, col_o, col_n)]\n",
    "\n",
    "im = np.array(im_stack).sum(0)\n",
    "\n",
    "#check that we didn't mess up the colors\n",
    "_cols = np.unique(im.reshape(-1, 3), axis=0)\n",
    "print(f'there are {len(_cols)} color(s) in the image')\n",
    "f, ax = plt.subplots()\n",
    "ax.imshow([_cols])\n",
    "ax.axis('off')\n",
    "\n",
    "f, ax = plt.subplots(1,2, dpi=150)\n",
    "ax[0].imshow(im_cd.sum(-1), cmap='gray_r', origin='lower')\n",
    "ax[1].imshow(im, origin='lower');"
   ]
  },
  {
   "cell_type": "markdown",
   "id": "8f115845-46c3-4799-b61a-c46c64305db1",
   "metadata": {
    "tags": []
   },
   "source": [
    "## Interesting case:\n",
    "replacing one color by a color mix"
   ]
  },
  {
   "cell_type": "code",
   "execution_count": null,
   "id": "4fa44704-fa4b-42bd-afdb-b8d66f4e6f8a",
   "metadata": {},
   "outputs": [],
   "source": [
    "im = im_cd.copy()\n",
    "\n",
    "new_colors = [\n",
    "    [VeroY_sRGB, VeroC_sRGB],\n",
    "    [VeroM_sRGB, VeroC_sRGB],\n",
    "    [VeroM_sRGB, VeroY_sRGB],\n",
    "    [VeroM_sRGB, VeroY_sRGB],\n",
    "    [VeroT_sRGB]\n",
    "    ]\n",
    "\n",
    "mixes = [\n",
    "    [0.2, 0.8],\n",
    "    [0.2, 0.8],\n",
    "    [0.5, 0.5],\n",
    "    [0.2, 0.8],\n",
    "    [1]\n",
    "    ]\n",
    "\n",
    "im_stack = []\n",
    "\n",
    "for col_o, col_n, _f in zip(old_colors, new_colors, mixes):\n",
    "    im_stack += [color_replace(im, col_o, col_n, f=_f, inplace=False)]\n",
    "\n",
    "im = np.array(im_stack).sum(0)\n",
    "\n",
    "\n",
    "# check that we didn't mess up the colors\n",
    "_cols = np.unique(im.reshape(-1, 3), axis=0)\n",
    "print(f'there are {len(_cols)} color(s) in the image')\n",
    "f, ax = plt.subplots()\n",
    "ax.imshow([_cols])\n",
    "ax.set_xticks([])\n",
    "ax.set_yticks([])\n",
    "\n",
    "f, ax1 = plt.subplots(1,2, dpi=150)\n",
    "ax1[0].imshow(im_cd.sum(-1), cmap='gray_r', origin='lower')\n",
    "ax1[1].imshow(im, origin='lower');"
   ]
  },
  {
   "cell_type": "code",
   "execution_count": null,
   "id": "d9fc5be4-108e-44a0-a604-2719f652f56e",
   "metadata": {},
   "outputs": [],
   "source": [
    "import imageio\n",
    "imageio.imsave('test.png', np.uint8(255 * im))"
   ]
  },
  {
   "cell_type": "markdown",
   "id": "fc293313-b050-4125-a183-a7d817278447",
   "metadata": {},
   "source": [
    "## Same with just one call"
   ]
  },
  {
   "cell_type": "code",
   "execution_count": null,
   "id": "e4094293-be5a-4153-bfb3-2d442b3111b9",
   "metadata": {},
   "outputs": [],
   "source": [
    "from astro3d.image_stack.image_stack import makeslice_color"
   ]
  },
  {
   "cell_type": "code",
   "execution_count": null,
   "id": "f1b54c71-4223-4fde-9003-3ecde5c83376",
   "metadata": {},
   "outputs": [],
   "source": [
    "makeslice_color(0, [0], lambda coords: np.array([data]).T,\n",
    "                np.array([[1],[2],[3]]), norm, './',\n",
    "                levels=levels, sigmas=sigmas, fill=fill,\n",
    "                colors=new_colors, f=mixes)"
   ]
  },
  {
   "cell_type": "code",
   "execution_count": null,
   "id": "34d28afd-3abf-485a-b695-ad358c8211ff",
   "metadata": {},
   "outputs": [],
   "source": [
    "f, ax = plt.subplots(dpi=150)\n",
    "ax.imshow(imageio.imread('slice_0000.png'), origin='lower');"
   ]
  },
  {
   "cell_type": "code",
   "execution_count": null,
   "id": "9798cb97-1296-4ecc-8086-8e369c641904",
   "metadata": {},
   "outputs": [],
   "source": [
    "N = 100\n",
    "\n",
    "a = np.zeros([2 * N, 4 * N, 3])\n",
    "\n",
    "a[:, 0 * N:1 * N, 0] = 1.\n",
    "a[:, 1 * N:2 * N, 1] = 1.\n",
    "a[:, 2 * N:3 * N, 2] = 1.\n",
    "\n",
    "a[:, 3 * N:, 0] = 1.0\n",
    "a[:, 3 * N:, 1] = 0.5\n",
    "a[:, 3 * N:, 2] = 1.0"
   ]
  },
  {
   "cell_type": "code",
   "execution_count": null,
   "id": "077515e2-7192-45e8-b74d-ecdc7b8b0781",
   "metadata": {},
   "outputs": [],
   "source": [
    "b = astro3d.fmodule.dither_colors(a)"
   ]
  },
  {
   "cell_type": "code",
   "execution_count": null,
   "id": "8b7bbfb2-bd41-4990-81be-4b636ce14c70",
   "metadata": {},
   "outputs": [],
   "source": [
    "f, ax = plt.subplots(1, 2)\n",
    "ax[0].imshow(a)\n",
    "ax[1].imshow(b)"
   ]
  }
 ],
 "metadata": {
  "kernelspec": {
   "display_name": "Python 3 (ipykernel)",
   "language": "python",
   "name": "python3"
  },
  "language_info": {
   "codemirror_mode": {
    "name": "ipython",
    "version": 3
   },
   "file_extension": ".py",
   "mimetype": "text/x-python",
   "name": "python",
   "nbconvert_exporter": "python",
   "pygments_lexer": "ipython3",
   "version": "3.9.7"
  }
 },
 "nbformat": 4,
 "nbformat_minor": 5
}
