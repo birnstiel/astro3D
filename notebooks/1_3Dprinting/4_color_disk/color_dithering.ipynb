{
 "cells": [
  {
   "cell_type": "markdown",
   "id": "83559aa3-db7c-4427-b845-333fbb3f184e",
   "metadata": {},
   "source": [
    "# Color dithering"
   ]
  },
  {
   "cell_type": "code",
   "execution_count": null,
   "id": "ab08c25b-73a4-45ef-a172-ccbb885d01ba",
   "metadata": {},
   "outputs": [],
   "source": [
    "import matplotlib.pyplot as plt\n",
    "from matplotlib.colors import LogNorm\n",
    "import numpy as np\n",
    "\n",
    "import astro3d\n",
    "from astro3d.image_stack import color_replace"
   ]
  },
  {
   "cell_type": "markdown",
   "id": "e5c91e3f-ef1b-4851-aef8-9386e7df6ac8",
   "metadata": {},
   "source": [
    "Make up some fake data: two gaussian bumps"
   ]
  },
  {
   "cell_type": "code",
   "execution_count": null,
   "id": "ee08786d-f180-4331-a68f-ede57d0a3d9b",
   "metadata": {},
   "outputs": [],
   "source": [
    "x = np.linspace(-2, 2, 1000)\n",
    "y = np.linspace(-2, 2, 990)\n",
    "X,Y = np.meshgrid(x, y, indexing='ij')\n",
    "\n",
    "# peak density\n",
    "rho0 = 1e0\n",
    "dyn_range = 1e-3\n",
    "\n",
    "data = rho0 * (\n",
    "    1.0 * np.exp(- ((X-0.5)**2 + (Y-0.5)**2)/(2*0.5**2)) +\n",
    "    0.1 * np.exp(- ((X+0.5)**2 + (Y+0.5)**2)/(2*0.5**2))\n",
    "    )"
   ]
  },
  {
   "cell_type": "markdown",
   "id": "386d7c98-7900-4399-904c-30eeb358b14a",
   "metadata": {},
   "source": [
    "# Define norm and plot the data"
   ]
  },
  {
   "cell_type": "code",
   "execution_count": null,
   "id": "596b76ea-2def-445c-819e-5a5f4c5c7e84",
   "metadata": {},
   "outputs": [],
   "source": [
    "vmax = data.max()\n",
    "norm = LogNorm(dyn_range * vmax, vmax)\n",
    "\n",
    "# plot the data\n",
    "\n",
    "f, ax = plt.subplots()\n",
    "ax.set_aspect('equal')\n",
    "cc=ax.pcolormesh(x, y, data.T, norm=norm)\n",
    "plt.colorbar(cc);"
   ]
  },
  {
   "cell_type": "markdown",
   "id": "a0e36edc-f22b-4d30-9541-ed563efe79c2",
   "metadata": {},
   "source": [
    "Define three densities we want to color, along with the scatter around that density value in dex. Fill is the filling factor to scale some colors up or down."
   ]
  },
  {
   "cell_type": "code",
   "execution_count": null,
   "id": "fb8e330c-c965-4d13-8995-7bc5f588cd0a",
   "metadata": {},
   "outputs": [],
   "source": [
    "#rho_i = [1e-2 * vmax, 1e-1 * vmax, vmax]\n",
    "rho_i = norm.inverse([0.15, 0.5, 0.8]).data\n",
    "sig = [0.3, 0.1, 0.3]\n",
    "fill = [1.0, 1.0, 1.0]"
   ]
  },
  {
   "cell_type": "markdown",
   "id": "eef5495d-29c9-4598-a5fc-826e027697ac",
   "metadata": {},
   "source": [
    "Show a histogram of the data values"
   ]
  },
  {
   "cell_type": "code",
   "execution_count": null,
   "id": "c0a0376b-4504-4a35-94ec-05bb9cb764ce",
   "metadata": {},
   "outputs": [],
   "source": [
    "bins = np.geomspace(dyn_range * vmax, vmax, 100)\n",
    "counts, _ = np.histogram(data.ravel(), bins=bins)"
   ]
  },
  {
   "cell_type": "code",
   "execution_count": null,
   "id": "20043569-c211-4a06-adb9-3993f7870226",
   "metadata": {},
   "outputs": [],
   "source": [
    "f, ax = plt.subplots()\n",
    "ax.bar(bins[:-1], counts, align='edge', width=np.diff(bins))\n",
    "ax.set_xscale('log')\n",
    "ax.set_yscale('log')\n",
    "ax2 = ax.secondary_xaxis('top', functions=(norm, norm.inverse))\n",
    "ax2.set_xscale('linear')\n",
    "for _rho, _sig in zip(rho_i, sig):\n",
    "    ax.axvline(_rho, c='k', ls='--')\n",
    "    ax.errorbar(_rho, 10.**np.mean(np.log10(ax.get_ylim())),\n",
    "                xerr=[\n",
    "                    [_rho - norm.inverse(norm(_rho) - _sig)],\n",
    "                    [norm.inverse(norm(_rho) + _sig) - _rho]], c='k', capsize=5)"
   ]
  },
  {
   "cell_type": "markdown",
   "id": "82f18b3a-d416-4d3f-ac4f-0ede6e5716c4",
   "metadata": {},
   "source": [
    "for each color, we compute the distance-image, i.e. how far away we are from the desired contour.\n",
    "\n",
    "We use the normalized squared distance in log space for each pixel value $D_{k,l}$. Each color, which is specified by its density threshold $\\rho_i$ and the width around that density value in dex, $\\sigma_i$\n",
    "$$\n",
    "d^2_{k,l,i} = \\frac{\\left(\\log_{10}(\\rho_i / D_{k, l})\\right)^2}{\\sigma_i^2}\n",
    "$$\n",
    "\n",
    "The amount of color is then assigned according to that distance:\n",
    "\n",
    "$$\\mathrm{color}_i = \\frac{1}{1 + d^2 _ {k,l,i}}$$"
   ]
  },
  {
   "cell_type": "code",
   "execution_count": null,
   "id": "1808ca70-7496-4d03-a343-f43a6a7bb295",
   "metadata": {},
   "outputs": [],
   "source": [
    "dist_sq = (np.log10(np.array(rho_i)[None, None, :] / data[..., None]) / sig)**2\n",
    "color_density = 1 / (1 + dist_sq) * fill"
   ]
  },
  {
   "cell_type": "code",
   "execution_count": null,
   "id": "921ef278-d7e9-4e43-8a8e-872d58da76ca",
   "metadata": {},
   "outputs": [],
   "source": [
    "f, ax = plt.subplots(1, 4, dpi=100, figsize=(16, 4))\n",
    "ax[-1].imshow(color_density, origin='lower', vmin=0, vmax=1)\n",
    "ax[-1].set_title('un-dithered')\n",
    "\n",
    "for i, _fill in enumerate([0.1, 0.5, 1]):\n",
    "    _color_density = 1 / (1 + dist_sq) * _fill\n",
    "\n",
    "    im_cd = astro3d.fmodule.dither_colors(_color_density)\n",
    "    ax[i].imshow(im_cd, origin='lower', vmin=0, vmax=1)\n",
    "    ax[i].set_title(f'fill = {_fill:.2g}')"
   ]
  },
  {
   "cell_type": "code",
   "execution_count": null,
   "id": "00db73c6-b7ae-4b59-81a0-9e1caa51d3ce",
   "metadata": {
    "tags": []
   },
   "outputs": [],
   "source": [
    "f, axs = plt.subplots(1, 4, figsize=(12, 3), dpi=150)\n",
    "args = {'origin':'lower', 'cmap':'gray_r'}\n",
    "\n",
    "axs[0].imshow(im_cd[:, :, 0], **args)\n",
    "axs[1].imshow(im_cd[:, :, 1], **args)\n",
    "axs[2].imshow(im_cd[:, :, 2], **args)\n",
    "axs[3].imshow(im_cd.sum(-1), **args)\n",
    "\n",
    "print(f'there is {\"no\" if im_cd.max(-1).max()==1 else \"\"} overlap')"
   ]
  },
  {
   "cell_type": "markdown",
   "id": "a0f69ff6-350c-4a37-b8b6-945037d429a9",
   "metadata": {},
   "source": [
    "# Replacing Colors"
   ]
  },
  {
   "cell_type": "markdown",
   "id": "52b2adff-0989-4280-980f-5eb981065fc5",
   "metadata": {},
   "source": [
    "So far we worked with 3 unique RGB colors. For the printing, we have, however only the 3 base-colors VeroCyan, VeroMagenta, and VeroYellow available. We can either use those or we could try to mix them to another color, for example by replacing 50% of the currently red pixels with Magenta, and 50% with Yellow. The mixing on the Stratasys Pallete between C, M, and Y looks different from just a linear interpolation."
   ]
  },
  {
   "cell_type": "code",
   "execution_count": null,
   "id": "1f825d51-7c1c-4695-9420-560041e78625",
   "metadata": {},
   "outputs": [],
   "source": [
    "VeroT_sRGB = np.array([255, 255, 255]) / 255\n",
    "VeroC_sRGB = np.array([29,  85,  111]) / 255\n",
    "VeroM_sRGB = np.array([149, 39,  87])  / 255\n",
    "VeroY_sRGB = np.array([192, 183, 52])  / 255"
   ]
  },
  {
   "cell_type": "markdown",
   "id": "d799e88d-35e2-4a06-a6c1-ec06d698edb4",
   "metadata": {},
   "source": [
    "## Simple case:\n",
    "replacing colors direclty (doesn't really make a difference as the material is assigned during printing by hand)."
   ]
  },
  {
   "cell_type": "code",
   "execution_count": null,
   "id": "e00a59e8-9f64-41cb-aed9-35a8daca3016",
   "metadata": {},
   "outputs": [],
   "source": [
    "im = im_cd.copy()\n",
    "im = color_replace(im, [1,0,0], VeroM_sRGB)\n",
    "im = color_replace(im, [0,1,0], VeroY_sRGB)\n",
    "im = color_replace(im, [0,0,1], VeroC_sRGB)\n",
    "im = color_replace(im, [0,0,0], VeroT_sRGB)\n",
    "\n",
    "#check that we didn't mess up the colors\n",
    "_cols = np.unique(im.reshape(-1, 3), axis=0)\n",
    "print(f'there are {len(_cols)} color(s) in the image')\n",
    "f, ax = plt.subplots()\n",
    "ax.imshow([_cols])\n",
    "ax.axis('off')\n",
    "\n",
    "f, ax = plt.subplots(1,2, dpi=150)\n",
    "ax[0].imshow(im_cd)\n",
    "ax[1].imshow(im);"
   ]
  },
  {
   "cell_type": "markdown",
   "id": "8f115845-46c3-4799-b61a-c46c64305db1",
   "metadata": {
    "tags": []
   },
   "source": [
    "## Interesting case:\n",
    "replacing one color by a color mix"
   ]
  },
  {
   "cell_type": "code",
   "execution_count": null,
   "id": "32c3fc73-8abb-4f07-a67a-6842227e66bc",
   "metadata": {},
   "outputs": [],
   "source": [
    "im = im_cd.copy()\n",
    "im = color_replace(im, [1,0,0], [VeroY_sRGB, VeroC_sRGB], f=[0.2, 0.8])\n",
    "im = color_replace(im, [0,1,0], [VeroM_sRGB, VeroC_sRGB], f=[0.2, 0.8])\n",
    "im = color_replace(im, [0,0,1], [VeroM_sRGB, VeroY_sRGB], f=[0.5, 0.5])\n",
    "im = color_replace(im, [0,0,0], VeroT_sRGB)\n",
    "\n",
    "# check that we didn't mess up the colors\n",
    "_cols = np.unique(im.reshape(-1, 3), axis=0)\n",
    "print(f'there are {len(_cols)} color(s) in the image')\n",
    "f, ax = plt.subplots()\n",
    "ax.imshow([_cols])\n",
    "ax.axis('off');\n",
    "\n",
    "f, ax1 = plt.subplots(1,2, dpi=150)\n",
    "ax1[0].imshow(im_cd)\n",
    "ax1[1].imshow(im)"
   ]
  }
 ],
 "metadata": {
  "kernelspec": {
   "display_name": "Python 3 (ipykernel)",
   "language": "python",
   "name": "python3"
  },
  "language_info": {
   "codemirror_mode": {
    "name": "ipython",
    "version": 3
   },
   "file_extension": ".py",
   "mimetype": "text/x-python",
   "name": "python",
   "nbconvert_exporter": "python",
   "pygments_lexer": "ipython3",
   "version": "3.9.7"
  }
 },
 "nbformat": 4,
 "nbformat_minor": 5
}
