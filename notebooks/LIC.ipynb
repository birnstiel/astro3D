{
 "cells": [
  {
   "cell_type": "markdown",
   "id": "d4c28309-a4a0-413f-a1ac-7777ed7b329e",
   "metadata": {},
   "source": [
    "# Line Integral Convolution"
   ]
  },
  {
   "cell_type": "code",
   "execution_count": null,
   "id": "2b52fc78-dade-49cb-8888-17f68556afce",
   "metadata": {},
   "outputs": [],
   "source": [
    "import numpy as np\n",
    "\n",
    "from scipy.ndimage import laplace\n",
    "\n",
    "import matplotlib.pyplot as plt\n",
    "from matplotlib.colors import Normalize\n",
    "from matplotlib.cm import get_cmap\n",
    "\n",
    "from PIL import Image\n",
    "\n",
    "import volrender"
   ]
  },
  {
   "cell_type": "markdown",
   "id": "aa83d54a-2ff3-4424-a4f9-d10cbeae2c01",
   "metadata": {},
   "source": [
    "Create the grid and some vector field"
   ]
  },
  {
   "cell_type": "code",
   "execution_count": null,
   "id": "6ff28b66-6336-439e-9480-03fc3cdb917f",
   "metadata": {},
   "outputs": [],
   "source": [
    "nx = 400\n",
    "ny = 200\n",
    "\n",
    "xi = np.linspace(0, 10, nx + 1)\n",
    "yi = np.linspace(0, 5, ny + 1)\n",
    "\n",
    "x = 0.5 * (xi[1:] + xi[:-1])\n",
    "y = 0.5 * (yi[1:] + yi[:-1])\n",
    "\n",
    "X, Y = np.meshgrid(x, y, indexing='ij')\n",
    "Xi, Yi = np.meshgrid(xi, yi, indexing='ij')\n",
    "\n",
    "vortex_x = 5.0\n",
    "vortex_y = 2.5\n",
    "\n",
    "dx = X - vortex_x\n",
    "dy = Y - vortex_y\n",
    "\n",
    "r = np.sqrt(dx**2 + dy**2)\n",
    "phi = np.arctan2(dy, dx)\n",
    "\n",
    "VX = 1     - 5 * np.exp(- r**2 / 4) * np.sin(phi)\n",
    "VY = Y / 5 + 5 * np.exp(- r**2 / 4) * np.cos(phi)\n",
    "\n",
    "# define 2D vector field and its magnitude\n",
    "vel = np.array([VX, VY]).transpose(1, 2, 0)\n",
    "V = np.sqrt(VX**2 + VY**2)"
   ]
  },
  {
   "cell_type": "markdown",
   "id": "61f31380-d91e-4c2d-adcb-0113d6b9dbfa",
   "metadata": {},
   "source": [
    "# Now the LIC"
   ]
  },
  {
   "cell_type": "code",
   "execution_count": null,
   "id": "ace712ca-1cc8-4fa6-858c-fe16a324053e",
   "metadata": {},
   "outputs": [],
   "source": [
    "def contrast_enhance(data, sig=2.0):\n",
    "    minval, maxval = data.mean() + sig * np.array([-1, 1]) * data.std()\n",
    "    minval = max(0.0, minval)\n",
    "    maxval = min(1.0, maxval)\n",
    "    output = np.clip((data - minval) / (maxval - minval), 0.0, 1.0)\n",
    "    return output"
   ]
  },
  {
   "cell_type": "markdown",
   "id": "44619de3-84cb-4433-aa51-5cb1563eafe2",
   "metadata": {},
   "source": [
    "Make the noise"
   ]
  },
  {
   "cell_type": "code",
   "execution_count": null,
   "id": "ee948702-af2a-4c9b-b631-08aa3d86281f",
   "metadata": {},
   "outputs": [],
   "source": [
    "noise = laplace(volrender.lic.gen_noise(nx, ny))"
   ]
  },
  {
   "cell_type": "code",
   "execution_count": null,
   "id": "428ff671-e805-4256-b52c-b4e2c48d9b64",
   "metadata": {},
   "outputs": [],
   "source": [
    "noise_CE = contrast_enhance(noise)\n",
    "noise_CE_LIC = volrender.lic.flic(noise_CE, x, y, vel)\n",
    "noise_CE_LIC_LAPC = 0.1 + 0.8 * contrast_enhance(laplace(noise_CE_LIC))\n",
    "noise_CE_LIC_LAP_LIC = volrender.lic.flic(noise_CE_LIC_LAPC, x, y, vel)\n",
    "noise_CE_LIC_LAP_LIC_CE = 0.1 + 0.8 * contrast_enhance(noise_CE_LIC_LAP_LIC)\n",
    "output = noise_CE_LIC_LAP_LIC_CE\n",
    "\n",
    "imgs = [\n",
    "    'noise',\n",
    "    'noise_CE',\n",
    "    'noise_CE_LIC',\n",
    "    'noise_CE_LIC_LAPC',\n",
    "    'noise_CE_LIC_LAP_LIC',\n",
    "    'noise_CE_LIC_LAP_LIC_CE',\n",
    "]\n",
    "n = len(imgs)\n",
    "f, ax = plt.subplots(n, 2, figsize=(8, 2 * n), dpi=100)\n",
    "\n",
    "for i, name in enumerate(imgs):\n",
    "    ax[i,0].imshow(locals()[name].T, cmap='gray', norm=Normalize(0, 1))\n",
    "    ax[i,0].set_title(name)\n",
    "    ax[i,0].set_axis_off()\n",
    "    \n",
    "    ax[i,1].hist(locals()[name].ravel(), fc='k')"
   ]
  },
  {
   "cell_type": "markdown",
   "id": "8b66d391-aa21-49a3-9a45-495b3baa0369",
   "metadata": {},
   "source": [
    "Stitch LIC + Color together in HSV space"
   ]
  },
  {
   "cell_type": "code",
   "execution_count": null,
   "id": "5b99e058-0405-4fa3-8b41-da9caa199cc2",
   "metadata": {},
   "outputs": [],
   "source": [
    "# get the RGB colors for the two images\n",
    "img_col = get_cmap('magma')(Normalize()(V))\n",
    "img_lic = get_cmap('gray')(Normalize()(output))\n",
    "\n",
    "# get numpy arrays of HSV values\n",
    "hsv_col = np.array(Image.fromarray(np.uint8(img_col[:, :, :3] * 255)).convert('HSV'))\n",
    "hsv_lic = np.array(Image.fromarray(np.uint8(img_lic[:, :, :3] * 255)).convert('HSV'))\n",
    "\n",
    "# put together\n",
    "hsv = hsv_col.copy()\n",
    "hsv[..., -1] = np.uint8((np.float16(hsv_col[..., 2]) + np.float16(hsv_lic[..., 2]))/2)\n",
    "\n",
    "# convert back to RGB-numpy array\n",
    "rgb2 = np.array(Image.fromarray(hsv, mode='HSV').convert('RGB'))"
   ]
  },
  {
   "cell_type": "code",
   "execution_count": null,
   "id": "d6b0b29f-e33d-4fba-a958-7811244652a2",
   "metadata": {},
   "outputs": [],
   "source": [
    "f, ax = plt.subplots(1, 3, figsize=(30, 5))\n",
    "ax[0].imshow(V.T, cmap='magma', origin='lower')\n",
    "ax[1].imshow(output.T, cmap='gray', origin='lower')\n",
    "ax[2].imshow(rgb2.transpose(1,0,2), origin='lower')"
   ]
  },
  {
   "cell_type": "markdown",
   "id": "3caafbe1-33eb-4f24-911e-0e1296fbd785",
   "metadata": {},
   "source": [
    "# Compare two approaches\n",
    "one is overlaying the images via the HSV color space, the other just somehow mixes the two matrices: LIC of the vectors and magnitude"
   ]
  },
  {
   "cell_type": "code",
   "execution_count": null,
   "id": "b1b6d9c5-5cf0-4a16-9316-81b130b960df",
   "metadata": {},
   "outputs": [],
   "source": [
    "f, ax = plt.subplots(2, 1, sharex=True, sharey=True, figsize=(8, 8))\n",
    "\n",
    "cc=ax[0].pcolormesh(Xi, Yi, rgb2[:, :, 0], facecolors=rgb2.transpose(0,1,2).reshape(-1, 3) / 255)\n",
    "cc.set_array(None)\n",
    "ax[0].set_title('via HSV')\n",
    "ax[0].set_aspect('equal')\n",
    "\n",
    "f = 0.25\n",
    "cc=ax[1].pcolormesh(Xi, Yi, V * (1 - f + 2 * f * output), cmap='magma')\n",
    "ax[1].set_title('matrix product')\n",
    "ax[1].set_aspect('equal')"
   ]
  }
 ],
 "metadata": {
  "kernelspec": {
   "display_name": "Python 3 (ipykernel)",
   "language": "python",
   "name": "python3"
  },
  "language_info": {
   "codemirror_mode": {
    "name": "ipython",
    "version": 3
   },
   "file_extension": ".py",
   "mimetype": "text/x-python",
   "name": "python",
   "nbconvert_exporter": "python",
   "pygments_lexer": "ipython3",
   "version": "3.9.7"
  }
 },
 "nbformat": 4,
 "nbformat_minor": 5
}
