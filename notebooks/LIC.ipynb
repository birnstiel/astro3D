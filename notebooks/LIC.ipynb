{
 "cells": [
  {
   "cell_type": "markdown",
   "id": "d4c28309-a4a0-413f-a1ac-7777ed7b329e",
   "metadata": {},
   "source": [
    "# Line Integral Convolution"
   ]
  },
  {
   "cell_type": "code",
   "execution_count": null,
   "id": "2b52fc78-dade-49cb-8888-17f68556afce",
   "metadata": {},
   "outputs": [],
   "source": [
    "import numpy as np\n",
    "\n",
    "from scipy.ndimage import laplace\n",
    "\n",
    "import matplotlib.pyplot as plt\n",
    "from matplotlib.colors import Normalize\n",
    "from matplotlib.cm import get_cmap\n",
    "\n",
    "from PIL import Image\n",
    "\n",
    "from volrender import lic"
   ]
  },
  {
   "cell_type": "markdown",
   "id": "aa83d54a-2ff3-4424-a4f9-d10cbeae2c01",
   "metadata": {},
   "source": [
    "Create the grid and some vector field"
   ]
  },
  {
   "cell_type": "code",
   "execution_count": null,
   "id": "6ff28b66-6336-439e-9480-03fc3cdb917f",
   "metadata": {},
   "outputs": [],
   "source": [
    "nx = 400\n",
    "ny = 200\n",
    "\n",
    "xi = np.linspace(0, 10, nx + 1)\n",
    "yi = np.linspace(0, 5, ny + 1)\n",
    "\n",
    "x = 0.5 * (xi[1:] + xi[:-1])\n",
    "y = 0.5 * (yi[1:] + yi[:-1])\n",
    "\n",
    "X, Y = np.meshgrid(x, y, indexing='ij')\n",
    "Xi, Yi = np.meshgrid(xi, yi, indexing='ij')\n",
    "\n",
    "vortex_x = 5.0\n",
    "vortex_y = 2.5\n",
    "\n",
    "dx = X - vortex_x\n",
    "dy = Y - vortex_y\n",
    "\n",
    "r = np.sqrt(dx**2 + dy**2)\n",
    "phi = np.arctan2(dy, dx)\n",
    "\n",
    "VX = 1     - 5 * np.exp(- r**2 / 4) * np.sin(phi)\n",
    "VY = Y / 5 + 5 * np.exp(- r**2 / 4) * np.cos(phi)\n",
    "\n",
    "# define 2D vector field and its magnitude\n",
    "vel = np.array([VX, VY]).transpose(1, 2, 0)\n",
    "V = np.sqrt(VX**2 + VY**2)"
   ]
  },
  {
   "cell_type": "code",
   "execution_count": null,
   "id": "81fab2df-87c1-4121-a4fb-0decacb4f066",
   "metadata": {},
   "outputs": [],
   "source": [
    "f, ax = plt.subplots()\n",
    "ax.pcolormesh(xi, yi, V.T)\n",
    "s = 7\n",
    "ax.quiver(x[::s], y[::s], VX.T[::s,::s], VY.T[::s,::s], color='w', pivot='mid')"
   ]
  },
  {
   "cell_type": "markdown",
   "id": "61f31380-d91e-4c2d-adcb-0113d6b9dbfa",
   "metadata": {},
   "source": [
    "# Call the LIC"
   ]
  },
  {
   "cell_type": "markdown",
   "id": "1cae61ed-73b5-4639-8569-45b8f49e6069",
   "metadata": {},
   "source": [
    "Make a single LIC from a noise pattern"
   ]
  },
  {
   "cell_type": "code",
   "execution_count": null,
   "id": "a9751876-4b25-418d-89a6-e016f07b71c5",
   "metadata": {},
   "outputs": [],
   "source": [
    "noise = lic.gen_noise_fast(nx, ny)\n",
    "LIC1 = Normalize()(lic.LIC(noise, x, y, vel))"
   ]
  },
  {
   "cell_type": "markdown",
   "id": "0fd4c8c7-e40d-49ec-9a25-c5de2f10e2b4",
   "metadata": {},
   "source": [
    "Call the two-stage LIC with contrast enhancements"
   ]
  },
  {
   "cell_type": "code",
   "execution_count": null,
   "id": "76bc1455-3c62-400e-9472-920c28abd764",
   "metadata": {},
   "outputs": [],
   "source": [
    "LIC2 = lic.LIC_twostage(x, y, vel, generate_plot=True)"
   ]
  },
  {
   "cell_type": "markdown",
   "id": "b5f24113-38eb-4362-9a9c-369b1d7aa9e4",
   "metadata": {
    "tags": []
   },
   "source": [
    "# Compare two LIC methods\n",
    "one is overlaying the images via the HSV color space, the other just somehow mixes the two matrices: LIC of the vectors and magnitude"
   ]
  },
  {
   "cell_type": "code",
   "execution_count": null,
   "id": "d6b0b29f-e33d-4fba-a958-7811244652a2",
   "metadata": {},
   "outputs": [],
   "source": [
    "for LIC in [LIC1, LIC2]:\n",
    "    rgb = lic.hsv_mix(V, LIC)\n",
    "    f, ax = plt.subplots(1, 3, figsize=(30, 5))\n",
    "    ax[0].imshow(V.T, cmap='magma', origin='lower')\n",
    "    ax[1].imshow(LIC.T, cmap='gray', origin='lower')\n",
    "    ax[2].imshow(rgb.transpose(1,0,2), origin='lower');"
   ]
  },
  {
   "cell_type": "markdown",
   "id": "3caafbe1-33eb-4f24-911e-0e1296fbd785",
   "metadata": {
    "tags": []
   },
   "source": [
    "# Compare LIC methods and stitching approaches\n",
    "one is overlaying the images via the HSV color space, the other just somehow mixes the two matrices: LIC of the vectors and magnitude"
   ]
  },
  {
   "cell_type": "code",
   "execution_count": null,
   "id": "b1b6d9c5-5cf0-4a16-9316-81b130b960df",
   "metadata": {},
   "outputs": [],
   "source": [
    "f, ax = plt.subplots(2, 2, sharex=True, sharey=True, figsize=(16, 8))\n",
    "\n",
    "for ix, LIC in enumerate([LIC1, LIC2]):\n",
    "    for iy in range(2):\n",
    "        if iy == 0:\n",
    "            rgb = lic.hsv_mix(V, LIC)\n",
    "            lic.pcolormesh_rgb(x, y, rgb, ax=ax[ix, iy])\n",
    "            ax[ix, iy].set_title('via HSV')\n",
    "        else:\n",
    "            f = 0.25\n",
    "            cc=ax[ix, iy].pcolormesh(Xi, Yi, V * (1 - f + 2 * f * LIC), cmap='magma')\n",
    "            ax[ix, iy].set_title('matrix product')\n",
    "            \n",
    "        ax[ix, iy].set_aspect('equal')\n",
    "        ax[ix, iy].set_title(f'LIC{ix+1}, ' + 'HSL' * (iy==0) + 'product' * (iy==1))"
   ]
  }
 ],
 "metadata": {
  "kernelspec": {
   "display_name": "Python 3 (ipykernel)",
   "language": "python",
   "name": "python3"
  },
  "language_info": {
   "codemirror_mode": {
    "name": "ipython",
    "version": 3
   },
   "file_extension": ".py",
   "mimetype": "text/x-python",
   "name": "python",
   "nbconvert_exporter": "python",
   "pygments_lexer": "ipython3",
   "version": "3.9.7"
  }
 },
 "nbformat": 4,
 "nbformat_minor": 5
}
