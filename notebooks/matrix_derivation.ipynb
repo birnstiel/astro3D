{
 "cells": [
  {
   "cell_type": "markdown",
   "id": "39744044-8b79-41e5-bc55-86f69dc60659",
   "metadata": {},
   "source": [
    "# Sympy derivation of matrix elements"
   ]
  },
  {
   "cell_type": "code",
   "execution_count": null,
   "id": "96abf049-6c12-4775-a02c-79cf09566f13",
   "metadata": {},
   "outputs": [],
   "source": [
    "import sympy as sp"
   ]
  },
  {
   "cell_type": "markdown",
   "id": "145f5f6d-6da2-4a2d-ba60-fdf3899154aa",
   "metadata": {},
   "source": [
    "Define some symbols"
   ]
  },
  {
   "cell_type": "code",
   "execution_count": null,
   "id": "988ec527-906a-44c2-a379-e381af0d4c8a",
   "metadata": {},
   "outputs": [],
   "source": [
    "phi, theta = sp.symbols('phi, theta', real=True)\n",
    "x, y, z = sp.symbols('x, y, z', real=True)"
   ]
  },
  {
   "cell_type": "markdown",
   "id": "b5846146-fdc7-45dd-a4b9-70a4cccfe543",
   "metadata": {},
   "source": [
    "Define the rotation matrices."
   ]
  },
  {
   "cell_type": "code",
   "execution_count": null,
   "id": "806eea70-06b0-4761-a7d0-45603d3c22e8",
   "metadata": {},
   "outputs": [],
   "source": [
    "def Rx(angle):\n",
    "    return sp.Matrix([\n",
    "    [1,       0,              0],\n",
    "    [0,       sp.cos(angle), -sp.sin(angle)],\n",
    "    [0,       sp.sin(angle),  sp.cos(angle)],\n",
    "])\n",
    "\n",
    "def Ry(angle):\n",
    "    return sp.Matrix([\n",
    "    [ sp.cos(angle), 0, sp.sin(angle)],\n",
    "    [0,              1, 0],\n",
    "    [-sp.sin(angle), 0, sp.cos(angle)],\n",
    "])\n",
    "\n",
    "def Rz(angle):\n",
    "    return sp.Matrix([\n",
    "    [sp.cos(angle), -sp.sin(angle), 0],\n",
    "    [sp.sin(angle),  sp.cos(angle), 0],\n",
    "    [0,              0,             1],\n",
    "])"
   ]
  },
  {
   "cell_type": "markdown",
   "id": "a9bc5729-900d-4054-bb64-d26dbf8e26c5",
   "metadata": {},
   "source": [
    "Define the initial coordinates $\\vec p_0 = \\begin{pmatrix}\n",
    "x\\\\\n",
    "y\\\\\n",
    "z\n",
    "\\end{pmatrix}$"
   ]
  },
  {
   "cell_type": "code",
   "execution_count": null,
   "id": "a50da1af-bf0e-42a3-a36d-5c323d555507",
   "metadata": {},
   "outputs": [],
   "source": [
    "p0 = sp.Matrix([x, y, z])"
   ]
  },
  {
   "cell_type": "markdown",
   "id": "be40b6e5-40bf-436f-b6b6-26b07fc1c025",
   "metadata": {},
   "source": [
    "We apply the rotation around z ($\\phi$) and then the tilt ($\\theta$)."
   ]
  },
  {
   "cell_type": "code",
   "execution_count": null,
   "id": "0bdc31c2-1ab0-430a-9928-3d8545318836",
   "metadata": {},
   "outputs": [],
   "source": [
    "p1 = Rz(phi) * Rx(theta) * p0"
   ]
  },
  {
   "cell_type": "markdown",
   "id": "00c3448e-9c4e-4933-b1ac-f3868ce0ddfa",
   "metadata": {},
   "source": [
    "The result is ..."
   ]
  },
  {
   "cell_type": "code",
   "execution_count": null,
   "id": "e499aa1b-6ed7-429a-a3d0-385d4be0b877",
   "metadata": {},
   "outputs": [],
   "source": [
    "p1"
   ]
  },
  {
   "cell_type": "markdown",
   "id": "1e22a8f8-3b8f-4fd5-b017-4aba53d058c9",
   "metadata": {},
   "source": [
    "... so we rather let `sympy` write the fortran code for us. This is what is put into the `fortran.f90` file."
   ]
  },
  {
   "cell_type": "code",
   "execution_count": null,
   "id": "7ce9324c-dafb-48b5-b112-226d3d8afd5c",
   "metadata": {},
   "outputs": [],
   "source": [
    "from sympy.printing import fcode\n",
    "print(fcode(p1[0], standard=2003, source_format='free'))\n",
    "print('')\n",
    "print(fcode(p1[1], standard=2003, source_format='free'))\n",
    "print('')\n",
    "print(fcode(p1[2], standard=2003, source_format='free'))"
   ]
  }
 ],
 "metadata": {
  "kernelspec": {
   "display_name": "Python 3",
   "language": "python",
   "name": "python3"
  },
  "language_info": {
   "codemirror_mode": {
    "name": "ipython",
    "version": 3
   },
   "file_extension": ".py",
   "mimetype": "text/x-python",
   "name": "python",
   "nbconvert_exporter": "python",
   "pygments_lexer": "ipython3",
   "version": "3.8.8"
  }
 },
 "nbformat": 4,
 "nbformat_minor": 5
}
