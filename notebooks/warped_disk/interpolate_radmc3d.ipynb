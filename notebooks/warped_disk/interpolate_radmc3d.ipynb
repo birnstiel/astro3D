{
 "cells": [
  {
   "cell_type": "markdown",
   "id": "9d0fd762-f6eb-4454-8757-0ab345c4c1f8",
   "metadata": {},
   "source": [
    "# Read RADMC-3D density and *cartesianize*"
   ]
  },
  {
   "cell_type": "code",
   "execution_count": null,
   "id": "dc0ac2c8-767f-4f4a-9059-67400b49a564",
   "metadata": {},
   "outputs": [],
   "source": [
    "import numpy as np\n",
    "from matplotlib.colors import LogNorm\n",
    "from scipy.interpolate import interpn\n",
    "\n",
    "from radmc3dPy.analyze import readData\n",
    "import astropy.constants as c\n",
    "\n",
    "au = c.au.cgs.value"
   ]
  },
  {
   "cell_type": "code",
   "execution_count": null,
   "id": "8862086b-87dc-4cf8-b316-653916bcdeec",
   "metadata": {},
   "outputs": [],
   "source": [
    "d = readData(ddens=True, binary=False)\n",
    "\n",
    "r = d.grid.x\n",
    "ri = d.grid.xi\n",
    "th = d.grid.y\n",
    "thi = d.grid.yi\n",
    "ph = d.grid.z\n",
    "phi = d.grid.zi\n",
    "rho = d.rhodust[..., 0]\n",
    "\n",
    "# Normalize with respect to mid-plane density\n",
    "\n",
    "rho_mid = rho.max(-1).max(-1)\n",
    "rho = rho / rho_mid[:, None, None]"
   ]
  },
  {
   "cell_type": "markdown",
   "id": "0446859d-0ab6-4c3f-893c-ab70697c5ad2",
   "metadata": {},
   "source": [
    "inspect data: make a 2D vertical slice"
   ]
  },
  {
   "cell_type": "code",
   "execution_count": null,
   "id": "2d860736-ce0d-432d-bb67-d1bb415deaee",
   "metadata": {},
   "outputs": [],
   "source": [
    "rri, tti = np.meshgrid(ri, thi, indexing='ij')\n",
    "\n",
    "xxi = rri * np.sin(tti)\n",
    "zzi = rri * np.cos(tti)\n",
    "\n",
    "i_phi = 0\n",
    "\n",
    "f, ax = plt.subplots(dpi=200)\n",
    "vmax = 10.**np.ceil(np.log10(rho.max()))\n",
    "cc =ax.pcolormesh(xxi / au, zzi / au, rho[:, :, i_phi], norm=LogNorm(vmin=1e-8 * vmax, vmax=vmax), shading='flat')\n",
    "ax.set_aspect('equal')\n",
    "pos = ax.get_position()\n",
    "cax = f.add_axes([pos.x1, pos.y0, pos.height / 30, pos.height])\n",
    "cb = plt.colorbar(cc, cax=cax)\n",
    "cb.set_label('$\\\\rho_{dust}$')"
   ]
  },
  {
   "cell_type": "markdown",
   "id": "18615261-186b-4f10-a5f7-658d1ebec44c",
   "metadata": {
    "tags": []
   },
   "source": [
    "## Prepare for interpolation"
   ]
  },
  {
   "cell_type": "markdown",
   "id": "e722fd49-1b27-459f-98b7-94922f4072e3",
   "metadata": {},
   "source": [
    "tricky part: we define the density only at grid centers, so there is a gap in $\\phi$ direction between the last and the first grid center as the interpolation will not know about the periodic dimension. We fix this by shifting the first point to be at exactly $\\phi=0$ and add a copy of this point at the end at $\\phi=2 \\pi$."
   ]
  },
  {
   "cell_type": "code",
   "execution_count": null,
   "id": "145df149-f3ad-45b3-9034-8a2f07d62fc6",
   "metadata": {},
   "outputs": [],
   "source": [
    "ph_mod = np.hstack((ph - ph[0], 2 * np.pi))\n",
    "rho_mod = np.concatenate((rho, rho[:, :, 0:1]), axis=2)"
   ]
  },
  {
   "cell_type": "markdown",
   "id": "34c122d8-40bf-45ee-944c-f09eb31dc310",
   "metadata": {},
   "source": [
    "We create a cartesian grid, here `(x, y)` is in the plane while we call the height `z`."
   ]
  },
  {
   "cell_type": "code",
   "execution_count": null,
   "id": "9490498d-120c-428b-a7f4-759187f6b090",
   "metadata": {},
   "outputs": [],
   "source": [
    "dx = 0.4\n",
    "\n",
    "x = np.arange(-70, 70, dx) * au\n",
    "y = np.arange(-70, 70, dx) * au\n",
    "z = np.arange(-70, 70, dx) * au\n",
    "\n",
    "X, Y, Z = np.meshgrid(x, y, z, indexing='ij')"
   ]
  },
  {
   "cell_type": "markdown",
   "id": "8361770e-8f4f-4e62-9554-8235d58562d4",
   "metadata": {},
   "source": [
    "We translate the coordinates of that slice to spherical coordinates.\n",
    "\n",
    "Note that phi goes from 0 to $2 \\pi$ in the original data, but the output of `np.arctan2` has negative angles and needs to be shifted"
   ]
  },
  {
   "cell_type": "code",
   "execution_count": null,
   "id": "50bca9ab-6948-4f7d-b171-d084d76b5975",
   "metadata": {},
   "outputs": [],
   "source": [
    "R = np.sqrt(X**2 + Y**2 + Z**2)\n",
    "T = np.pi/2 - np.arctan2(Z, np.sqrt(X**2 + Y**2))\n",
    "P = (np.arctan2(Y, X) + 2 * np.pi) % (2 * np.pi)"
   ]
  },
  {
   "cell_type": "markdown",
   "id": "bd87b39f-267b-4e32-9dee-ac5078864c55",
   "metadata": {},
   "source": [
    "We create an array of new points, shape is (N, 3)"
   ]
  },
  {
   "cell_type": "code",
   "execution_count": null,
   "id": "981a22ac-39e8-45a0-b33f-6bfc85deb93e",
   "metadata": {},
   "outputs": [],
   "source": [
    "points = np.array([R.ravel(), T.ravel(), P.ravel()]).T"
   ]
  },
  {
   "cell_type": "markdown",
   "id": "9b2a6b19-a92c-4e3e-8a44-68c1ea69ab01",
   "metadata": {},
   "source": [
    "We call the interpolation. There's values outside the box, so we assign them the value `0.0`."
   ]
  },
  {
   "cell_type": "code",
   "execution_count": null,
   "id": "04a049f4-4502-446f-ba0a-fa8b64ef2fce",
   "metadata": {},
   "outputs": [],
   "source": [
    "interp = interpn((r, th, ph_mod), rho_mod, points, fill_value=0.0, bounds_error=False)"
   ]
  },
  {
   "cell_type": "markdown",
   "id": "e5275cf5-f535-4db2-83c1-8c6677350280",
   "metadata": {},
   "source": [
    "The result is again one dimensional (one value per new point), so we need to reshape it to match the shape of the slice. After this, it is again 3-dimensional, since our slice has 3 dimensions, but the z-dimension is just one value here."
   ]
  },
  {
   "cell_type": "code",
   "execution_count": null,
   "id": "0d6fac26-9ac1-4906-ac1f-64ebd5128cd5",
   "metadata": {},
   "outputs": [],
   "source": [
    "interp = interp.reshape(X.shape)"
   ]
  },
  {
   "cell_type": "markdown",
   "id": "7b2678f8-da08-4fcd-83f2-40e89231cd8a",
   "metadata": {},
   "source": [
    "Plot it"
   ]
  },
  {
   "cell_type": "code",
   "execution_count": null,
   "id": "5d3dc4b7-9c1d-4137-a7f0-55f69b28301e",
   "metadata": {},
   "outputs": [],
   "source": [
    "f, axs = plt.subplots(1, 2, dpi=200, gridspec_kw={'width_ratios':[1, 1]}, figsize=(10, 5))\n",
    "\n",
    "vmax = 10.**np.ceil(np.log10(interp.max()))\n",
    "\n",
    "iy = len(y) // 2\n",
    "iz = len(z) // 2\n",
    "\n",
    "ax = axs[0]\n",
    "cc1 = ax.pcolormesh(X[:, iy, :] / au, Z[:, iy, :] / au, interp[:, iy, :], norm=LogNorm(vmin=1e-6 * vmax, vmax=vmax), shading='auto', rasterized=True)\n",
    "\n",
    "ax = axs[1]\n",
    "cc2 = ax.pcolormesh(X[:, :, iz] / au, Y[:, :, iz] / au, interp[:, :, iz], norm=LogNorm(vmin=1e-6 * vmax, vmax=vmax), shading='auto', rasterized=True)\n",
    "\n",
    "\n",
    "for ax, cc in zip(axs, [cc1, cc2]):\n",
    "    ax.set_aspect('equal')\n",
    "    pos = ax.get_position()\n",
    "    cax = f.add_axes([pos.x0, pos.y1, pos.width, pos.height / 20])\n",
    "    cb = plt.colorbar(cc, cax=cax, orientation='horizontal')\n",
    "    cb.set_label('$\\\\rho$')\n",
    "    cax.xaxis.set_label_position('top')\n",
    "    cax.xaxis.set_ticks_position('top')\n",
    "    ax.set_xlabel('x')\n",
    "    \n",
    "axs[0].set_ylabel('z')\n",
    "axs[1].set_ylabel('y')\n",
    "    \n",
    "f.savefig('plot.pdf', transparent=True, bbox_inches='tight')"
   ]
  },
  {
   "cell_type": "markdown",
   "id": "e57a0d8a-64eb-4b1e-af15-66f83049018d",
   "metadata": {},
   "source": [
    "## Export data"
   ]
  },
  {
   "cell_type": "markdown",
   "id": "025bd73b-4668-41f2-b117-3dc05aab6348",
   "metadata": {},
   "source": [
    "store the data in a simple format"
   ]
  },
  {
   "cell_type": "code",
   "execution_count": null,
   "id": "9bc813de-8484-4222-b00b-4bd5eae028fa",
   "metadata": {},
   "outputs": [],
   "source": [
    "np.savez('radmc3d_data.npz', x=x, y=y, z=z, rho=interp)"
   ]
  },
  {
   "cell_type": "markdown",
   "id": "8b330c72-0802-40fd-9587-f1526c3c79c4",
   "metadata": {},
   "source": [
    "# Rendering"
   ]
  },
  {
   "cell_type": "code",
   "execution_count": null,
   "id": "f7ff9a22-232c-434e-beec-8cce324eb036",
   "metadata": {},
   "outputs": [],
   "source": [
    "from volrender import Renderer, TransferFunction, render_movie\n",
    "from matplotlib.colors import LogNorm\n",
    "import matplotlib.pyplot as plt\n",
    "import numpy as np"
   ]
  },
  {
   "cell_type": "markdown",
   "id": "768e2218-b6b6-4de6-8c66-e145a0ab5601",
   "metadata": {},
   "source": [
    "this can be loaded with:"
   ]
  },
  {
   "cell_type": "code",
   "execution_count": null,
   "id": "b300decd-b0ff-4b97-abf6-8ef34bc50ff0",
   "metadata": {},
   "outputs": [],
   "source": [
    "with np.load('radmc3d_data.npz') as f:\n",
    "    x = f['x']\n",
    "    y = f['y']\n",
    "    z = f['z']\n",
    "    rho = f['rho']"
   ]
  },
  {
   "cell_type": "code",
   "execution_count": null,
   "id": "98702847-df73-4e62-ac21-3c31ebccba9c",
   "metadata": {},
   "outputs": [],
   "source": [
    "vmax = rho.max()\n",
    "datacube = LogNorm(vmin=vmax * 1e-8, vmax=vmax, clip=True)(rho.ravel()).reshape(rho.shape).data"
   ]
  },
  {
   "cell_type": "code",
   "execution_count": null,
   "id": "3f44d119-f32c-4cce-b39d-1e9287a9c077",
   "metadata": {},
   "outputs": [],
   "source": [
    "tf = TransferFunction(x0=[0.2, 0.5, 1.0], sigma=[0.05, 0.05, 0.01])\n",
    "tf.colors[:, -1] = np.array([0.04, 0.02, 0.01])\n",
    "r = Renderer(datacube, diagnostics=True, tf=tf)"
   ]
  },
  {
   "cell_type": "code",
   "execution_count": null,
   "id": "d4a532c4-cd55-40af-80f6-c73130bb9e3b",
   "metadata": {},
   "outputs": [],
   "source": [
    "#r.render(phi=10, theta=-60)\n",
    "r.render(phi=10, theta=60, bg=1.0)\n",
    "f, ax = r.plot(diagnostics=True)\n",
    "#f.savefig('render.pdf', transparent=True, bbox_inches='tight')"
   ]
  },
  {
   "cell_type": "code",
   "execution_count": null,
   "id": "40cabe7b-fb28-4609-a3a1-50fe8306617e",
   "metadata": {},
   "outputs": [],
   "source": [
    "nf = 96\n",
    "render_movie(datacube, 60 * np.ones(nf), np.linspace(0, 360, nf + 1)[::-1], ncpu=4, tf=tf, bg=1.0)"
   ]
  },
  {
   "cell_type": "code",
   "execution_count": null,
   "id": "ad9cda31-6f03-409e-abb7-0d4fa56c6c28",
   "metadata": {},
   "outputs": [],
   "source": [
    "from IPython.display import HTML\n",
    "HTML(f\"\"\"\n",
    "<video width=\"500\" controls>\n",
    "  <source src=\"movie.mp4\" type=\"video/mp4\">\n",
    "</video>\n",
    "\"\"\")"
   ]
  }
 ],
 "metadata": {
  "kernelspec": {
   "display_name": "Python 3 (ipykernel)",
   "language": "python",
   "name": "python3"
  },
  "language_info": {
   "codemirror_mode": {
    "name": "ipython",
    "version": 3
   },
   "file_extension": ".py",
   "mimetype": "text/x-python",
   "name": "python",
   "nbconvert_exporter": "python",
   "pygments_lexer": "ipython3",
   "version": "3.9.7"
  }
 },
 "nbformat": 4,
 "nbformat_minor": 5
}
