{
 "cells": [
  {
   "cell_type": "markdown",
   "id": "7d40ec98-5802-4090-a32f-8a993b70f302",
   "metadata": {},
   "source": [
    "# Create A Warped Disk Setup for RADMC-3D"
   ]
  },
  {
   "cell_type": "markdown",
   "id": "f5089a43-472c-47d8-9bb6-7f2cc00d1941",
   "metadata": {
    "lines_to_next_cell": 0
   },
   "source": [
    "## Imports"
   ]
  },
  {
   "cell_type": "code",
   "execution_count": null,
   "id": "969a749f-efe8-4765-b33b-b774b4fe2911",
   "metadata": {},
   "outputs": [],
   "source": [
    "import os\n",
    "import subprocess\n",
    "\n",
    "from matplotlib import cm\n",
    "from matplotlib import pyplot as plt\n",
    "from matplotlib.colors import LogNorm\n",
    "\n",
    "import numpy as np\n",
    "from tqdm.auto import tqdm\n",
    "\n",
    "from radmc3dPy.image import readImage, plotImage, makeImage\n",
    "from astropy import constants as c\n",
    "\n",
    "au = c.au.cgs.value\n",
    "pc = c.pc.cgs.value\n",
    "M_sun = c.M_sun.cgs.value\n",
    "L_sun = c.L_sun.cgs.value\n",
    "R_sun = c.R_sun.cgs.value\n",
    "Grav = c.G.cgs.value\n",
    "m_p = c.m_p.cgs.value"
   ]
  },
  {
   "cell_type": "markdown",
   "id": "1e0e877e-b2b4-4769-b3b1-e3a3f407efeb",
   "metadata": {
    "lines_to_next_cell": 0
   },
   "source": [
    "## Functions"
   ]
  },
  {
   "cell_type": "code",
   "execution_count": null,
   "id": "ee60c81a-6905-46ff-9ec8-86bd82c3e404",
   "metadata": {},
   "outputs": [],
   "source": [
    "def logistic(a, r, r0, dr):\n",
    "    return np.radians(a / (1.0 + np.exp((r - r0) / (0.1 * dr))))\n",
    "\n",
    "\n",
    "def grid_refine_inner_edge(x_orig, nlev, nspan):\n",
    "    x = x_orig.copy()\n",
    "    rev = x[0] > x[1]\n",
    "    for ilev in range(nlev):\n",
    "        x_new = 0.5 * (x[1:nspan + 1] + x[:nspan])\n",
    "        x_ref = np.hstack((x, x_new))\n",
    "        x_ref.sort()\n",
    "        x = x_ref\n",
    "        if rev:\n",
    "            x = x[::-1]\n",
    "    return x"
   ]
  },
  {
   "cell_type": "code",
   "execution_count": null,
   "id": "99eeb80d-a687-44fd-a512-92f2a7a0826d",
   "metadata": {},
   "outputs": [],
   "source": [
    "def call_radmc(cmd, verbose=False, total=None):\n",
    "    \"\"\"\n",
    "    Run radmc3d command and show progress bar instead.\n",
    "    \n",
    "    cmd : str\n",
    "        the command to run, e.g. 'radmc3d mctherm'\n",
    "        \n",
    "    verbose : bool\n",
    "        if True, then all output except the photon packges are shown\n",
    "        if False, just the progress is shown.\n",
    "        \n",
    "    total : None | int\n",
    "        total number of photon packages, if known\n",
    "    \"\"\"\n",
    "    p = subprocess.Popen(cmd, shell=True, stdout=subprocess.PIPE, text=True)\n",
    "    output = []\n",
    "    \n",
    "    if 'nphot' in cmd:\n",
    "        total = int(cmd.split('nphot')[1].split()[1])\n",
    "\n",
    "    with tqdm(total=total, unit='photons') as pbar:\n",
    "        for line in p.stdout:\n",
    "            if 'Photon nr' in line:\n",
    "                pbar.update(1000)\n",
    "            elif verbose:\n",
    "                print(line, end='')\n",
    "            output += [line]\n",
    "    rc = p.wait()\n",
    "    return rc, ''.join(output)"
   ]
  },
  {
   "cell_type": "code",
   "execution_count": null,
   "id": "26465866-7734-4236-8488-b94c08381ea3",
   "metadata": {},
   "outputs": [],
   "source": [
    "def warp_coordinates(x, y, z, phi, theta):\n",
    "    xprime = x * np.cos(phi)   - y * np.sin(phi) * np.cos(theta) + z * np.sin(phi)   * np.sin(theta)\n",
    "    yprime = x * np.sin(phi)   + y * np.cos(phi) * np.cos(theta) - z * np.sin(theta) * np.cos(phi)\n",
    "    zprime = y * np.sin(theta) + z * np.cos(theta)\n",
    "    return xprime, yprime, zprime"
   ]
  },
  {
   "cell_type": "code",
   "execution_count": null,
   "id": "d53c531e-29c6-43af-90a6-35862f1afc15",
   "metadata": {},
   "outputs": [],
   "source": [
    "def unwarp_coordinates(x, y, z, phi, theta):\n",
    "    xprime =  x * np.cos(phi) + y * np.sin(phi)\n",
    "    yprime = -x * np.sin(phi) * np.cos(theta) + y * np.cos(phi)   * np.cos(theta) + z * np.sin(theta)\n",
    "    zprime =  x * np.sin(phi) * np.sin(theta) - y * np.sin(theta) * np.cos(phi)   + z * np.cos(theta)\n",
    "    return xprime, yprime, zprime"
   ]
  },
  {
   "cell_type": "markdown",
   "id": "d8fce6c8-1208-42e4-8d94-8ff60e6c4614",
   "metadata": {
    "lines_to_next_cell": 0
   },
   "source": [
    "## Setup "
   ]
  },
  {
   "cell_type": "markdown",
   "id": "9e0ece39-ad8e-4bfb-97ca-a4dd2b20b513",
   "metadata": {
    "lines_to_next_cell": 0
   },
   "source": [
    "### Set general parameters"
   ]
  },
  {
   "cell_type": "code",
   "execution_count": null,
   "id": "38fc65e1",
   "metadata": {},
   "outputs": [],
   "source": [
    "# Monte Carlo parameters\n",
    "#\n",
    "nphot_therm = 1000000\n",
    "nphot_scat = 1000000"
   ]
  },
  {
   "cell_type": "code",
   "execution_count": null,
   "id": "c4951760",
   "metadata": {},
   "outputs": [],
   "source": [
    "# Grid parameters\n",
    "#\n",
    "n_r = 200\n",
    "n_theta = 128\n",
    "n_phi = 256\n",
    "r_in = 0.5 * au\n",
    "r_out = 100 * au\n",
    "thetaup = 0.1       # Theta grid starting point (0=pole, but singular, so choose >0)"
   ]
  },
  {
   "cell_type": "code",
   "execution_count": null,
   "id": "1d7c9f88",
   "metadata": {},
   "outputs": [],
   "source": [
    "# inner edge grid refinement\n",
    "nlev_rin = 8\n",
    "nspan_rin = 3"
   ]
  },
  {
   "cell_type": "code",
   "execution_count": null,
   "id": "406d2774",
   "metadata": {
    "lines_to_next_cell": 0
   },
   "outputs": [],
   "source": [
    "# Disk parameters\n",
    "#\n",
    "sigma_0 = 1e1           # Gas surface density at 1 au [g / cm^2]\n",
    "d2g = 0.01              # dust-to-gas ratio\n",
    "gamma_gas = 1.0         # power-law exponent of the surface density\n",
    "hor_0 = 0.05            # h/r at 1 au\n",
    "hor_exp = 0.1           # flaring exponent"
   ]
  },
  {
   "cell_type": "code",
   "execution_count": null,
   "id": "f45ce491",
   "metadata": {},
   "outputs": [],
   "source": [
    "# Star parameters\n",
    "#\n",
    "M_star = 2.4 * M_sun\n",
    "R_star = 2.4 * R_sun\n",
    "T_star = 1e4\n",
    "star_coord = np.array([0., 0., 0.])"
   ]
  },
  {
   "cell_type": "markdown",
   "id": "f19d0557-9e69-4f0f-98fa-f939f1f6f883",
   "metadata": {
    "lines_to_next_cell": 0
   },
   "source": [
    "### Make the coordinates"
   ]
  },
  {
   "cell_type": "code",
   "execution_count": null,
   "id": "9cbee434-460d-4067-b98e-f4229c92a40d",
   "metadata": {
    "lines_to_next_cell": 0
   },
   "outputs": [],
   "source": [
    "ri = np.geomspace(r_in, r_out, n_r + 1)\n",
    "ri = grid_refine_inner_edge(ri, nlev_rin, nspan_rin)   # Refinement at inner edge\n",
    "thetai = np.linspace(thetaup, np.pi - thetaup, n_theta + 1)\n",
    "phii = np.linspace(0.0, 2.0 * np.pi, n_phi + 1)\n",
    "rc = 0.5 * (ri[:-1] + ri[1:])\n",
    "thetac = 0.5 * (thetai[:-1] + thetai[1:])\n",
    "phic = 0.5 * (phii[:-1] + phii[1:])\n",
    "n_r = len(rc)     # Recompute nr, because of refinement at inner edge"
   ]
  },
  {
   "cell_type": "code",
   "execution_count": null,
   "id": "ebaca82b",
   "metadata": {
    "lines_to_next_cell": 0
   },
   "outputs": [],
   "source": [
    "# Make the full mesh\n",
    "RC, THETAC, PHIC = np.meshgrid(rc, thetac, phic, indexing='ij')\n",
    "XC = RC * np.sin(THETAC) * np.cos(PHIC)\n",
    "YC = RC * np.sin(THETAC) * np.sin(PHIC)\n",
    "ZC = RC * np.cos(THETAC)"
   ]
  },
  {
   "cell_type": "markdown",
   "id": "07900d3a-c2f0-4e59-b86a-e38a4662f1ea",
   "metadata": {
    "lines_to_next_cell": 0
   },
   "source": [
    "### Make the warped model"
   ]
  },
  {
   "cell_type": "code",
   "execution_count": null,
   "id": "bd63ab06",
   "metadata": {
    "lines_to_next_cell": 0
   },
   "outputs": [],
   "source": [
    "# un-warp the coordinates\n",
    "warp = 60.\n",
    "twist = 30.\n",
    "\n",
    "warp_array = logistic(warp, rc, 40 * au, 30 * au)  # Specify the r0 and dr in AU\n",
    "twist_array = logistic(twist, rc, 40 * au, 30 * au)\n",
    "\n",
    "XU, YU, ZU = unwarp_coordinates(\n",
    "    XC, YC, ZC,\n",
    "    warp_array[:, None, None],\n",
    "    twist_array[:, None, None])\n",
    "\n",
    "RU = np.sqrt(XU**2 + YU**2 + ZU**2)\n",
    "THETAU = np.pi / 2.0 - np.arctan2(ZU, np.sqrt(XU**2 + YU**2))\n",
    "PHIU = (np.arctan2(YU, XU) + 2 * np.pi)%(2 * np.pi)"
   ]
  },
  {
   "cell_type": "code",
   "execution_count": null,
   "id": "a9a95783",
   "metadata": {
    "lines_to_next_cell": 0
   },
   "outputs": [],
   "source": [
    "# Make the dust density model\n",
    "sig_g = sigma_0 * (RU / au)**-gamma_gas\n",
    "H = hor_0 * (RU / au)**hor_exp * RU\n",
    "rho_g = (sig_g / (np.sqrt(2. * np.pi) * H)) * np.exp(-(ZU**2 / H**2) / 2.0)\n",
    "rho_d = d2g * rho_g"
   ]
  },
  {
   "cell_type": "code",
   "execution_count": null,
   "id": "833e6807",
   "metadata": {
    "lines_to_next_cell": 0
   },
   "outputs": [],
   "source": [
    "# Make the velocity model\n",
    "# this velocity is the original r,theta,phi velocity in the un-warped state,\n",
    "# before warping to our coordinates\n",
    "# wasn't yet really computed\n",
    "VRU = np.zeros_like(RU)\n",
    "VTU = np.zeros_like(RU)\n",
    "VPU = np.sqrt(Grav * M_star / RU)\n",
    "\n",
    "vturb = 0.001 * VPU\n",
    "\n",
    "# make cartesian velocities\n",
    "\n",
    "VXU = VRU * np.sin(THETAU) * np.cos(PHIU) + VTU * np.cos(THETAU) * np.cos(PHIU) - VPU * np.sin(THETAU) * np.sin(PHIU)\n",
    "VYU = VRU * np.sin(THETAU) * np.sin(PHIU) + VTU * np.cos(THETAU) * np.sin(PHIU) + VPU * np.sin(THETAU) * np.cos(PHIU)\n",
    "VZU = VRU * np.cos(THETAU)                - VTU * np.sin(THETAU)\n",
    "\n",
    "# warp velocities\n",
    "VXW, VYW, VZW = warp_coordinates(\n",
    "    VXU, VYU, VZU,\n",
    "    warp_array[:, None, None],\n",
    "    twist_array[:, None, None])\n",
    "\n",
    "VRW =  VXW * np.sin(THETAC) * np.cos(PHIC) + VYW * np.sin(THETAC) * np.sin(PHIC) + VZW * np.cos(THETAC)\n",
    "VTW = -VXW * np.sin(THETAC) * np.sin(PHIC) + VYW * np.sin(THETAC) * np.cos(PHIC)\n",
    "VPW =  VXW * np.cos(THETAC) * np.cos(PHIC) + VYW * np.cos(THETAC) * np.sin(PHIC) - VZW * np.sin(THETAC)"
   ]
  },
  {
   "cell_type": "code",
   "execution_count": null,
   "id": "6977e1e2-7b80-4bf2-92b5-ae3d8b3265b3",
   "metadata": {},
   "outputs": [],
   "source": [
    "ir = 100\n",
    "it = int(n_theta // 2)\n",
    "s = 1\n",
    "\n",
    "f, ax = plt.subplots(subplot_kw={'projection':'3d'}, figsize=(12, 12))\n",
    "_r = 3\n",
    "ax.set_xlim(-_r, _r)\n",
    "ax.set_ylim(-_r, _r)\n",
    "ax.set_zlim(-_r, _r)\n",
    "\n",
    "ax.view_init(elev=5, azim=120)\n",
    "\n",
    "#for ir in range(0, len(rc), s):\n",
    "ax.plot3D(XC[ir, it, :] / au, YC[ir, it, :] / au, ZC[ir, it, :] / au, 'k', lw=0.5)\n",
    "ax.plot3D(XU[ir, it, :] / au, YU[ir, it, :] / au, ZU[ir, it, :] / au, 'r', lw=0.5)\n",
    "\n",
    "scale = 5000000\n",
    "\n",
    "arr_u = np.array([[XU, XU + scale * VXU], [YU, YU + scale * VYU], [ZU, ZU + scale * VZU]])\n",
    "arr_w = np.array([[XC, XC + scale * VXW], [YC, YC + scale * VYW], [ZC, ZC + scale * VZW]])\n",
    "\n",
    "for iphi in range(n_phi):\n",
    "    ax.plot3D(*arr_u[:, :, ir, it, iphi]/au, 'r', lw=0.5)\n",
    "    ax.plot3D(*arr_w[:, :, ir, it, iphi]/au, 'k', lw=0.5)"
   ]
  },
  {
   "cell_type": "markdown",
   "id": "672c512c-cf3d-471c-9d7a-410d4722e9a7",
   "metadata": {
    "tags": []
   },
   "source": [
    "### Write RADMC3D setup"
   ]
  },
  {
   "cell_type": "code",
   "execution_count": null,
   "id": "aef7991a",
   "metadata": {
    "lines_to_next_cell": 0
   },
   "outputs": [],
   "source": [
    "# Write the wavelength_micron.inp file\n",
    "#\n",
    "lam1 = 0.1e0\n",
    "lam2 = 7.0e0\n",
    "lam3 = 25.e0\n",
    "lam4 = 1.0e4\n",
    "n12 = 20\n",
    "n23 = 100\n",
    "n34 = 30\n",
    "lam12 = np.geomspace(lam1, lam2, n12, endpoint=False)\n",
    "lam23 = np.geomspace(lam2, lam3, n23, endpoint=False)\n",
    "lam34 = np.geomspace(lam3, lam4, n34, endpoint=True)\n",
    "lam = np.concatenate([lam12, lam23, lam34])\n",
    "nlam = lam.size"
   ]
  },
  {
   "cell_type": "code",
   "execution_count": null,
   "id": "9a321e2e",
   "metadata": {
    "lines_to_next_cell": 0
   },
   "outputs": [],
   "source": [
    "# Write the wavelength file\n",
    "#\n",
    "with open('wavelength_micron.inp', 'w+') as f:\n",
    "    f.write('%d\\n' % (nlam))\n",
    "    for value in lam:\n",
    "        f.write('%13.6e\\n' % (value))"
   ]
  },
  {
   "cell_type": "code",
   "execution_count": null,
   "id": "6cfef794",
   "metadata": {
    "lines_to_next_cell": 0
   },
   "outputs": [],
   "source": [
    "# Write the stars.inp file\n",
    "#\n",
    "with open('stars.inp', 'w+') as f:\n",
    "    f.write('2\\n')\n",
    "    f.write('1 %d\\n\\n' % (nlam))\n",
    "    f.write('%13.6e %13.6e %13.6e %13.6e %13.6e\\n\\n' % (R_star, M_star, *star_coord))\n",
    "    for value in lam:\n",
    "        f.write('%13.6e\\n' % (value))\n",
    "    f.write('\\n%13.6e\\n' % (-T_star))"
   ]
  },
  {
   "cell_type": "code",
   "execution_count": null,
   "id": "b3cb9fba",
   "metadata": {
    "lines_to_next_cell": 0
   },
   "outputs": [],
   "source": [
    "# Write the grid file\n",
    "#\n",
    "with open('amr_grid.inp', 'w+') as f:\n",
    "    f.write('1\\n')                       # iformat\n",
    "    f.write('0\\n')                       # AMR grid style  (0=regular grid, no AMR)\n",
    "    f.write('100\\n')                     # Coordinate system: spherical\n",
    "    f.write('0\\n')                       # gridinfo\n",
    "    f.write('1 1 1\\n')                   # Include r,theta coordinates\n",
    "    f.write('%d %d %d\\n' % (n_r, n_theta, n_phi))  # Size of grid\n",
    "    for value in ri:\n",
    "        f.write('%13.6e\\n' % (value))      # X coordinates (cell walls)\n",
    "    for value in thetai:\n",
    "        f.write('%13.6e\\n' % (value))      # Y coordinates (cell walls)\n",
    "    for value in phii:\n",
    "        f.write('%13.6e\\n' % (value))      # Z coordinates (cell walls)"
   ]
  },
  {
   "cell_type": "code",
   "execution_count": null,
   "id": "90f9eb36",
   "metadata": {
    "lines_to_next_cell": 0
   },
   "outputs": [],
   "source": [
    "# Write the density file\n",
    "#\n",
    "with open('dust_density.inp', 'w+') as f:\n",
    "    f.write('1\\n')                       # Format number\n",
    "    f.write('%d\\n' % (n_r * n_theta * n_phi))     # Nr of cells\n",
    "    f.write('1\\n')                       # Nr of dust species\n",
    "    data = rho_d.ravel(order='F')         # Create a 1-D view, fortran-style indexing\n",
    "    data.tofile(f, sep='\\n', format=\"%13.6e\")\n",
    "    f.write('\\n')"
   ]
  },
  {
   "cell_type": "code",
   "execution_count": null,
   "id": "64c12261",
   "metadata": {
    "lines_to_next_cell": 0
   },
   "outputs": [],
   "source": [
    "# Dust opacity control file\n",
    "#\n",
    "with open('dustopac.inp', 'w+') as f:\n",
    "    f.write('2               Format number of this file\\n')\n",
    "    f.write('1               Nr of dust species\\n')\n",
    "    f.write('============================================================================\\n')\n",
    "    f.write('1               Way in which this dust species is read\\n')\n",
    "    f.write('0               0=Thermal grain\\n')\n",
    "    f.write('silicate        Extension of name of dustkappa_***.inp file\\n')\n",
    "    f.write('----------------------------------------------------------------------------\\n')"
   ]
  },
  {
   "cell_type": "code",
   "execution_count": null,
   "id": "5e2c025f",
   "metadata": {
    "lines_to_next_cell": 0
   },
   "outputs": [],
   "source": [
    "# Write the molecule number density file.\n",
    "#\n",
    "CO_abundance = 1e-4\n",
    "fact_CO = CO_abundance / (2.3 * m_p)\n",
    "nco = rho_g * fact_CO\n",
    "with open('numberdens_co.inp', 'w+') as f:\n",
    "    f.write('1\\n')                       # Format number\n",
    "    f.write('%d\\n' % (n_r * n_theta * n_phi))     # Nr of cells\n",
    "    data = nco.ravel(order='F')          # Create a 1-D view, fortran-style indexing\n",
    "    data.tofile(f, sep='\\n', format=\"%13.6e\")\n",
    "    f.write('\\n')"
   ]
  },
  {
   "cell_type": "code",
   "execution_count": null,
   "id": "4e0dcaa3",
   "metadata": {
    "lines_to_next_cell": 0
   },
   "outputs": [],
   "source": [
    "# Write the gas velocity field\n",
    "#\n",
    "with open('gas_velocity.inp', 'w+') as f:\n",
    "    f.write('1\\n')                       # Format number\n",
    "    f.write('%d\\n' % (n_r * n_theta * n_phi))     # Nr of cells\n",
    "    for iphi in range(n_phi):\n",
    "        for itheta in range(n_theta):\n",
    "            for ir in range(n_r):\n",
    "                f.write('%13.6e %13.6e %13.6e\\n' % (VRW[ir, itheta, iphi], VTW[ir, itheta, iphi], VPW[ir, itheta, iphi]))"
   ]
  },
  {
   "cell_type": "code",
   "execution_count": null,
   "id": "b312bd03",
   "metadata": {
    "lines_to_next_cell": 0
   },
   "outputs": [],
   "source": [
    "# Write the microturbulence file\n",
    "#\n",
    "with open('microturbulence.inp', 'w+') as f:\n",
    "    f.write('1\\n')                       # Format number\n",
    "    f.write('%d\\n' % (n_r * n_theta * n_phi))     # Nr of cells\n",
    "    data = vturb.ravel(order='F')        # Create a 1-D view, fortran-style indexing\n",
    "    data.tofile(f, sep='\\n', format=\"%13.6e\")\n",
    "    f.write('\\n')"
   ]
  },
  {
   "cell_type": "code",
   "execution_count": null,
   "id": "bcc0295f",
   "metadata": {
    "lines_to_next_cell": 0
   },
   "outputs": [],
   "source": [
    "# Write the lines.inp control file\n",
    "#\n",
    "with open('lines.inp', 'w') as f:\n",
    "    f.write('1\\n')\n",
    "    f.write('1\\n')\n",
    "    f.write('co    leiden    0    0\\n')"
   ]
  },
  {
   "cell_type": "code",
   "execution_count": null,
   "id": "9e9e320b",
   "metadata": {},
   "outputs": [],
   "source": [
    "# Write the radmc3d.inp control file\n",
    "#\n",
    "with open('radmc3d.inp', 'w+') as f:\n",
    "    f.write('nphot = %d\\n' % (nphot_therm))\n",
    "    f.write('nphot_scat = %d\\n' % (nphot_scat))\n",
    "    f.write('scattering_mode_max = 1\\n')\n",
    "    f.write('iranfreqmode = 1\\n')\n",
    "    f.write('tgas_eq_tdust = 1\\n')"
   ]
  },
  {
   "cell_type": "markdown",
   "id": "92370714-434c-466d-9597-90f44df90c1b",
   "metadata": {
    "tags": []
   },
   "source": [
    "## Run RADMC-3D"
   ]
  },
  {
   "cell_type": "markdown",
   "id": "0c8268c1-c314-4f75-854d-fe00166edde6",
   "metadata": {},
   "source": [
    "General image parameters"
   ]
  },
  {
   "cell_type": "code",
   "execution_count": null,
   "id": "4411cf18",
   "metadata": {},
   "outputs": [],
   "source": [
    "dpc         = 140.     # Distance in parsec (for conversion to Jy/pixel in 1.3 mm map)\n",
    "incl        = 45.\n",
    "phi         = 45.\n",
    "npix        = 200\n",
    "sizeau      = 100\n",
    "lamda_image = 1.3e3"
   ]
  },
  {
   "cell_type": "markdown",
   "id": "028b26b7-c4a9-4531-907d-cfd144cf6a8b",
   "metadata": {
    "tags": []
   },
   "source": [
    "### Thermal Monte Carlo"
   ]
  },
  {
   "cell_type": "code",
   "execution_count": null,
   "id": "b0242f6e-6266-48ca-abc5-43aa1da22261",
   "metadata": {},
   "outputs": [],
   "source": [
    "rc, output = call_radmc('radmc3d mctherm setthreads 8', total=nphot_therm)"
   ]
  },
  {
   "cell_type": "markdown",
   "id": "1d0524fb-874b-41f1-8876-e9a3842f8a5d",
   "metadata": {
    "tags": []
   },
   "source": [
    "### Channel Map"
   ]
  },
  {
   "cell_type": "code",
   "execution_count": null,
   "id": "a8446773",
   "metadata": {
    "lines_to_next_cell": 2
   },
   "outputs": [],
   "source": [
    "# Now let's make a set of channel maps\n",
    "vkms = 0\n",
    "rc, output = call_radmc(f'radmc3d image imolspec 1 iline 2 vkms {vkms} incl {incl} phi {phi} npix {npix} setthreads 8 sizeau {sizeau}', total=nphot_scat)"
   ]
  },
  {
   "cell_type": "markdown",
   "id": "ab257861-44de-4a38-a9a3-954a371dca04",
   "metadata": {},
   "source": [
    "Read and plot the image"
   ]
  },
  {
   "cell_type": "code",
   "execution_count": null,
   "id": "d7b4a547-03d6-4abb-a9aa-c39cc90c3e51",
   "metadata": {},
   "outputs": [],
   "source": [
    "im = readImage()\n",
    "f, ax = plt.subplots(figsize=(10, 8))\n",
    "plotImage(im, au=True, cmap=cm.hot, ax=ax)"
   ]
  },
  {
   "cell_type": "code",
   "execution_count": null,
   "id": "4716aea7-ac64-401c-b8d2-4d25c58b012f",
   "metadata": {},
   "outputs": [],
   "source": [
    "f, ax = plt.subplots()\n",
    "vmax = im.image.max()\n",
    "ax.imshow(im.image[:,:,0], norm=LogNorm(vmin=1e-2 * vmax, vmax=vmax), interpolation='none', extent=np.array([-r_out, r_out, -r_out, r_out])/au)\n",
    "ax.set_xlim(-100,100)\n",
    "ax.set_ylim(-100,100);"
   ]
  },
  {
   "cell_type": "markdown",
   "id": "a7165411-5a2a-497d-8e99-22b4ceec6c95",
   "metadata": {
    "tags": []
   },
   "source": [
    "### Continuum image"
   ]
  },
  {
   "cell_type": "code",
   "execution_count": null,
   "id": "5dfe9cbc-c533-47e3-a7f3-35acc7ea443a",
   "metadata": {},
   "outputs": [],
   "source": [
    "rc, output = call_radmc(f'radmc3d image dpc {dpc} incl {incl} phi {phi} lambda {lamda_image} sizeau {sizeau} npix {npix} setthreads 8', total=nphot_scat)"
   ]
  },
  {
   "cell_type": "code",
   "execution_count": null,
   "id": "b3e142b3-12c1-4b1d-8136-fde076f0ce3a",
   "metadata": {},
   "outputs": [],
   "source": [
    "im_mm = readImage()\n",
    "f, ax = plt.subplots(figsize=(10, 8))\n",
    "plotImage(im_mm, au=True, log=True, maxlog=3, bunit='inu', dpc=dpc, cmap='magma', ax=ax);"
   ]
  },
  {
   "cell_type": "code",
   "execution_count": null,
   "id": "016f61c0-cbcc-4f74-af5d-5e06818d651d",
   "metadata": {},
   "outputs": [],
   "source": [
    "plt.show()"
   ]
  }
 ],
 "metadata": {
  "jupytext": {
   "cell_metadata_filter": "-all",
   "executable": "/usr/bin/env python",
   "main_language": "python",
   "notebook_metadata_filter": "-all"
  },
  "kernelspec": {
   "display_name": "Python 3 (ipykernel)",
   "language": "python",
   "name": "python3"
  },
  "language_info": {
   "codemirror_mode": {
    "name": "ipython",
    "version": 3
   },
   "file_extension": ".py",
   "mimetype": "text/x-python",
   "name": "python",
   "nbconvert_exporter": "python",
   "pygments_lexer": "ipython3",
   "version": "3.9.7"
  }
 },
 "nbformat": 4,
 "nbformat_minor": 5
}
