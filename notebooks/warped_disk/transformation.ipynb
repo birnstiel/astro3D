{
 "cells": [
  {
   "cell_type": "markdown",
   "id": "c0dc90f7-f20f-4140-9e41-b18ab83080fb",
   "metadata": {},
   "source": [
    "# Derive Rotation Matrix"
   ]
  },
  {
   "cell_type": "code",
   "execution_count": null,
   "id": "5934c7f8-2507-43f4-b881-25cc1d966b95",
   "metadata": {
    "tags": []
   },
   "outputs": [],
   "source": [
    "import numpy as np\n",
    "import sympy as sp\n",
    "from sympy.printing import fcode, numpy\n",
    "\n",
    "%matplotlib widget"
   ]
  },
  {
   "cell_type": "markdown",
   "id": "bec8eee6-a62c-47fe-847f-1ee91b816421",
   "metadata": {},
   "source": [
    "We define the angles $\\theta $ (inclination) and $\\phi $ (twist) and the rotation matrices."
   ]
  },
  {
   "cell_type": "code",
   "execution_count": null,
   "id": "d6c39402-89e7-40a1-86da-976ed7fe3d8d",
   "metadata": {},
   "outputs": [],
   "source": [
    "theta, phi = sp.symbols('theta, phi', real=True)\n",
    "x, y, z = sp.symbols('x, y, z', real=True)\n",
    "\n",
    "def Rx(angle):\n",
    "    return sp.Matrix([\n",
    "    [1,       0,              0],\n",
    "    [0,       sp.cos(angle), -sp.sin(angle)],\n",
    "    [0,       sp.sin(angle),  sp.cos(angle)],\n",
    "])\n",
    "\n",
    "def Ry(angle):\n",
    "    return sp.Matrix([\n",
    "    [ sp.cos(angle), 0, sp.sin(angle)],\n",
    "    [0,              1, 0],\n",
    "    [-sp.sin(angle), 0, sp.cos(angle)],\n",
    "])\n",
    "\n",
    "def Rz(angle):\n",
    "    return sp.Matrix([\n",
    "    [sp.cos(angle), -sp.sin(angle), 0],\n",
    "    [sp.sin(angle),  sp.cos(angle), 0],\n",
    "    [0,              0,             1],\n",
    "])"
   ]
  },
  {
   "cell_type": "markdown",
   "id": "573689ad-2905-44e7-b141-3cfc7f654b6e",
   "metadata": {},
   "source": [
    "Define the point $p_0=\\begin{pmatrix}x\\\\y\\\\z\\end{pmatrix}$ and then the rotation matrix and it's inverse. $p_1$ and $p_2$ are then the rotated (or un-rotated) coordinates of a point."
   ]
  },
  {
   "cell_type": "code",
   "execution_count": null,
   "id": "52e7a543-ee3d-4760-ab12-f0c40c83dc96",
   "metadata": {},
   "outputs": [],
   "source": [
    "p0 = sp.Matrix([x, y, z])\n",
    "\n",
    "M = Rz(phi) * Rx(theta)\n",
    "\n",
    "p1 = sp.simplify(M) * p0\n",
    "p2 = sp.simplify(M.inv()) * p0"
   ]
  },
  {
   "cell_type": "markdown",
   "id": "60f57a3d-6f8e-4d2c-accb-55618be1b6fc",
   "metadata": {},
   "source": [
    "Print it in a way that we can easily turn into code"
   ]
  },
  {
   "cell_type": "code",
   "execution_count": null,
   "id": "554a203d-4492-4af0-8d3d-b4a856fdc601",
   "metadata": {},
   "outputs": [],
   "source": [
    "printer=numpy.NumPyPrinter()\n",
    "print('Rotation:')\n",
    "for v in p1: print(printer.doprint(v).replace('numpy', 'np'))\n",
    "\n",
    "print('\\nDe-Rotation:')\n",
    "for v in p2: print(printer.doprint(v).replace('numpy', 'np'))"
   ]
  },
  {
   "cell_type": "markdown",
   "id": "889d2185-4d8f-49c6-a6a1-a05e91fc04e2",
   "metadata": {
    "tags": []
   },
   "source": [
    "# Transformation"
   ]
  },
  {
   "cell_type": "code",
   "execution_count": null,
   "id": "073e985c-8c66-49c0-b39d-ff607b7ce0b6",
   "metadata": {},
   "outputs": [],
   "source": [
    "def warp(x, y, z, phi, theta):\n",
    "    xprime = x * np.cos(phi)   - y * np.sin(phi) * np.cos(theta) + z * np.sin(phi)   * np.sin(theta)\n",
    "    yprime = x * np.sin(phi)   + y * np.cos(phi) * np.cos(theta) - z * np.sin(theta) * np.cos(phi)\n",
    "    zprime = y * np.sin(theta) + z * np.cos(theta)\n",
    "    return xprime, yprime, zprime"
   ]
  },
  {
   "cell_type": "code",
   "execution_count": null,
   "id": "e5da13a4-f559-456d-b5fc-734766ed45fa",
   "metadata": {},
   "outputs": [],
   "source": [
    "def unwarp(x, y, z, phi, theta):\n",
    "    xprime =  x * np.cos(phi) + y * np.sin(phi)\n",
    "    yprime = -x * np.sin(phi) * np.cos(theta) + y * np.cos(phi)   * np.cos(theta) + z * np.sin(theta)\n",
    "    zprime =  x * np.sin(phi) * np.sin(theta) - y * np.sin(theta) * np.cos(phi)   + z * np.cos(theta)\n",
    "    return xprime, yprime, zprime"
   ]
  },
  {
   "cell_type": "code",
   "execution_count": null,
   "id": "be9605cf-c102-4ec0-8178-d697628b8122",
   "metadata": {},
   "outputs": [],
   "source": [
    "def logistic(a, r, r0, dr):\n",
    "    return np.radians( a / (1 + np.exp((r - r0) / (0.1 * dr))))"
   ]
  },
  {
   "cell_type": "code",
   "execution_count": null,
   "id": "38357415-411e-4c2e-b78b-3cbe834b9c1b",
   "metadata": {},
   "outputs": [],
   "source": [
    "incw = 60.\n",
    "PAw = 60."
   ]
  },
  {
   "cell_type": "code",
   "execution_count": null,
   "id": "aada83a6-79a5-4b0e-9929-d6abed66c84c",
   "metadata": {},
   "outputs": [],
   "source": [
    "nphi = 60\n",
    "nr = 15\n",
    "r0 = np.linspace(0.8, 1.2, nr)\n",
    "phi0 = np.linspace(0, 2 * np.pi, nphi)\n",
    "R, PHI = np.meshgrid(r0, phi0, indexing='ij')"
   ]
  },
  {
   "cell_type": "code",
   "execution_count": null,
   "id": "ef447cc3-0196-485e-bdb5-02564b025a13",
   "metadata": {},
   "outputs": [],
   "source": [
    "x = R * np.cos(PHI)\n",
    "y = R * np.sin(PHI)\n",
    "z = np.zeros_like(y)"
   ]
  },
  {
   "cell_type": "code",
   "execution_count": null,
   "id": "2fa9a0b0-86a5-44c6-9e03-420460ce8d33",
   "metadata": {},
   "outputs": [],
   "source": [
    "inc_a     = logistic(incw, r0, 1, 0.4) ### Specify the r0 and dr in AU \n",
    "PA_a      = logistic(PAw, r0, 1, 0.4)"
   ]
  },
  {
   "cell_type": "code",
   "execution_count": null,
   "id": "d096463c-adbb-471d-8736-759439e3894d",
   "metadata": {},
   "outputs": [],
   "source": [
    "xw, yw, zw = warp(x, y, z, inc_a[:, None], PA_a[:, None])"
   ]
  },
  {
   "cell_type": "code",
   "execution_count": null,
   "id": "a5bcba81-5661-4d81-8fce-38cd22854c33",
   "metadata": {},
   "outputs": [],
   "source": [
    "xu, yu, zu = unwarp(xw, yw, zw, inc_a[:, None], PA_a[:, None])"
   ]
  },
  {
   "cell_type": "code",
   "execution_count": null,
   "id": "98dfe282-ee17-4733-8297-0d7a8ddf2c28",
   "metadata": {},
   "outputs": [],
   "source": [
    "f = plt.figure()\n",
    "ax = f.add_subplot(projection='3d')\n",
    "ax.set_xlim(-1, 1)\n",
    "ax.set_ylim(-1, 1)\n",
    "ax.set_zlim(-1, 1)\n",
    "\n",
    "for ir in range(nr):\n",
    "    ax.plot(x[ir, :], y[ir, :], z[ir,:], 'k')\n",
    "    ax.plot(xw[ir, :], yw[ir, :], zw[ir,:], 'r-', lw=1)\n",
    "    ax.plot(xu[ir, :], yu[ir, :], zu[ir,:], 'g--', lw=1)"
   ]
  }
 ],
 "metadata": {
  "kernelspec": {
   "display_name": "Python 3 (ipykernel)",
   "language": "python",
   "name": "python3"
  },
  "language_info": {
   "codemirror_mode": {
    "name": "ipython",
    "version": 3
   },
   "file_extension": ".py",
   "mimetype": "text/x-python",
   "name": "python",
   "nbconvert_exporter": "python",
   "pygments_lexer": "ipython3",
   "version": "3.9.7"
  }
 },
 "nbformat": 4,
 "nbformat_minor": 5
}
