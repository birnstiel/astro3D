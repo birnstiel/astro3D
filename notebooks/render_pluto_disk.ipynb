{
 "cells": [
  {
   "cell_type": "markdown",
   "id": "11d7e55e-c11e-4481-bcc6-5515b258cc49",
   "metadata": {
    "tags": []
   },
   "source": [
    "# Rendering 3D spherical PLUTO data"
   ]
  },
  {
   "cell_type": "markdown",
   "id": "79950ed9-86fd-4e93-b697-9ff56ff098eb",
   "metadata": {},
   "source": [
    "# Part 1: generate data\n",
    "generating the cartesian data out of the original pluto data."
   ]
  },
  {
   "cell_type": "code",
   "execution_count": null,
   "id": "68a7693c-f1c9-4657-a9dc-393ba836f37e",
   "metadata": {},
   "outputs": [],
   "source": [
    "import numpy as np\n",
    "import matplotlib.pyplot as plt\n",
    "from matplotlib.colors import LogNorm\n",
    "from scipy.interpolate import interpn\n",
    "from astropy import constants as c"
   ]
  },
  {
   "cell_type": "markdown",
   "id": "50bbb01f-4642-4bd5-b775-70a91fc4ba83",
   "metadata": {},
   "source": [
    "Note: I required [this fork of pyPLUTO](https://gitlab.mpcdf.mpg.de/sdoetsch/pypluto.git) to work, because of changes in the standard library, see [this fix](https://gitlab.mpcdf.mpg.de/sdoetsch/pypluto/-/commit/7b8243c6073785d1486f1bd495a98082f09f95f3)"
   ]
  },
  {
   "cell_type": "code",
   "execution_count": null,
   "id": "cebd3991-6b06-4d3f-b4a2-4cb8bef807a0",
   "metadata": {},
   "outputs": [],
   "source": [
    "import pyPLUTO as pp\n",
    "au = c.au.cgs.value"
   ]
  },
  {
   "cell_type": "code",
   "execution_count": null,
   "id": "2abd4828-d326-4289-8f6c-48a5729b09b2",
   "metadata": {},
   "outputs": [],
   "source": [
    "data = pp.pload.pload(10, datatype='flt', w_dir='/Users/birnstiel/Desktop/PLUTO_Planet/data/')\n",
    "\n",
    "UNIT_DENSITY  = 3.604e-13 # (gr/cm^3)\n",
    "UNIT_VELOCITY = 6.679e+05 # (cm/s)\n",
    "UNIT_LENGTH   = 2.992e+14 # (cm)\n",
    "\n",
    "r = data.x1 * UNIT_LENGTH\n",
    "ri = data.x1r * UNIT_LENGTH\n",
    "th = data.x2\n",
    "thi = data.x2r\n",
    "ph = data.x3\n",
    "phi = data.x3r\n",
    "rho = data.rho.copy() * UNIT_DENSITY"
   ]
  },
  {
   "cell_type": "code",
   "execution_count": null,
   "id": "ec3590df-45cd-453b-ac74-d25473f678b0",
   "metadata": {},
   "outputs": [],
   "source": [
    "rhod0 = data.rho * data.tr1 * UNIT_DENSITY"
   ]
  },
  {
   "cell_type": "markdown",
   "id": "2f2cf40e-ef15-44b8-9075-601109fbbf99",
   "metadata": {},
   "source": [
    "## Inspect the data"
   ]
  },
  {
   "cell_type": "markdown",
   "id": "0928e04b-8b7d-4de8-b484-38da16f56006",
   "metadata": {},
   "source": [
    "Here are the original data dimensions"
   ]
  },
  {
   "cell_type": "code",
   "execution_count": null,
   "id": "9a524d9a-45e3-4f60-8717-22808cc06bda",
   "metadata": {},
   "outputs": [],
   "source": [
    "r.shape, th.shape, ph.shape"
   ]
  },
  {
   "cell_type": "code",
   "execution_count": null,
   "id": "524c9125-72ff-431b-aa85-2a32ebeb99a5",
   "metadata": {},
   "outputs": [],
   "source": [
    "rho.shape"
   ]
  },
  {
   "cell_type": "markdown",
   "id": "e7bf8f8c-003f-496b-b481-ea05cd9a8c1c",
   "metadata": {},
   "source": [
    "make a 2D vertical slice"
   ]
  },
  {
   "cell_type": "code",
   "execution_count": null,
   "id": "3a8c997c-94a4-4e5e-9e2d-3e61fac013a3",
   "metadata": {},
   "outputs": [],
   "source": [
    "rri, tti = np.meshgrid(ri, thi, indexing='ij')\n",
    "\n",
    "xxi = rri * np.sin(tti)\n",
    "zzi = rri * np.cos(tti)\n",
    "\n",
    "i_phi = 151\n",
    "\n",
    "f, ax = plt.subplots(dpi=200)\n",
    "vmax = 10.**np.ceil(np.log10(rhod0.max()))\n",
    "cc =ax.pcolormesh(xxi / au, zzi / au, rhod0[:, :, i_phi], norm=LogNorm(vmin=1e-8 * vmax, vmax=vmax), shading='flat')\n",
    "ax.set_aspect('equal')\n",
    "pos = ax.get_position()\n",
    "cax = f.add_axes([pos.x1, pos.y0, pos.height / 30, pos.height])\n",
    "cb = plt.colorbar(cc, cax=cax)\n",
    "cb.set_label('$\\\\rho_{gas}$')"
   ]
  },
  {
   "cell_type": "markdown",
   "id": "170c7ad4-aff0-401a-a2c4-fa65eed72937",
   "metadata": {},
   "source": [
    "Divide out the mid-plane gradient. This normalizes the disk to mostly take out the general radial gradient."
   ]
  },
  {
   "cell_type": "code",
   "execution_count": null,
   "id": "632cd871-0b3d-4151-a29f-9e617c5495f5",
   "metadata": {},
   "outputs": [],
   "source": [
    "rho_mid = rho[:, data.n2//2].mean(-1)\n",
    "rho_mid_ini = 4e-12 * (data.x1/data.x1[0])**-2.5"
   ]
  },
  {
   "cell_type": "code",
   "execution_count": null,
   "id": "e35aea18-4ed9-4937-ac02-d58a7d37ffef",
   "metadata": {},
   "outputs": [],
   "source": [
    "f, ax = plt.subplots()\n",
    "ax.loglog(data.x1, rho_mid)\n",
    "ax.loglog(data.x1, rho_mid_ini)"
   ]
  },
  {
   "cell_type": "code",
   "execution_count": null,
   "id": "060021f8-14d5-4e7f-8f1f-152d8dfa8bc6",
   "metadata": {},
   "outputs": [],
   "source": [
    "rri, tti = np.meshgrid(ri, thi, indexing='ij')\n",
    "\n",
    "xxi = rri * np.sin(tti)\n",
    "zzi = rri * np.cos(tti)\n",
    "\n",
    "i_phi = 151\n",
    "\n",
    "rho_norm = rhod0 * 100 / rho_mid_ini[:, None, None]\n",
    "\n",
    "f, ax = plt.subplots(dpi=200)\n",
    "vmax = 10.**np.ceil(np.log10(rho_norm.max()))\n",
    "cc =ax.pcolormesh(xxi / au, zzi / au, rho_norm[:, :, i_phi], norm=LogNorm(vmin=1e-5 * vmax, vmax=vmax), shading='flat')\n",
    "ax.set_aspect('equal')\n",
    "pos = ax.get_position()\n",
    "cax = f.add_axes([pos.x1, pos.y0, pos.height / 30, pos.height])\n",
    "cb = plt.colorbar(cc, cax=cax)\n",
    "cb.set_label('$\\\\rho_{gas}$')"
   ]
  },
  {
   "cell_type": "markdown",
   "id": "36c7498e-7037-46af-ac66-c8e8ce33861c",
   "metadata": {
    "tags": []
   },
   "source": [
    "## Prepare for interpolation"
   ]
  },
  {
   "cell_type": "markdown",
   "id": "b5c1c522-3552-4b9e-af95-b92ac508a1c6",
   "metadata": {},
   "source": [
    "select which density we want to write out, here we take the normalized dust density defined above."
   ]
  },
  {
   "cell_type": "code",
   "execution_count": null,
   "id": "8cac853f-fd81-42fd-88a5-b2f1de258516",
   "metadata": {},
   "outputs": [],
   "source": [
    "rho_out = rho_norm"
   ]
  },
  {
   "cell_type": "markdown",
   "id": "8497684f-ec11-42c0-b355-3a8050fd9d57",
   "metadata": {},
   "source": [
    "also a bit tricky: we define the density only grid centers, so there is a gap in phi direction between the last and the first grid center as the interpolation will not know about the periodic direction. We close this here by adding another point beyond $2\\pi$ which is a copy of the first point near $\\phi = 0$."
   ]
  },
  {
   "cell_type": "code",
   "execution_count": null,
   "id": "72b31bf9-9356-4b9e-a7bc-3f611b7ba465",
   "metadata": {},
   "outputs": [],
   "source": [
    "ph_mod = np.hstack((ph - ph[0], 2 * np.pi))\n",
    "rho_mod = np.concatenate((rho_out, rho_out[:, :, 0:1]), axis=2)"
   ]
  },
  {
   "cell_type": "markdown",
   "id": "64adfce6-b4eb-4821-bc6b-30f378a881f7",
   "metadata": {},
   "source": [
    "We create a cartesian slice, here in the mid-plane `(x, y)` while we call the height `z`"
   ]
  },
  {
   "cell_type": "code",
   "execution_count": null,
   "id": "839dcdfe-3b7b-427e-b51a-e609a42fe016",
   "metadata": {},
   "outputs": [],
   "source": [
    "dx = 0.1\n",
    "\n",
    "x = np.arange(-40, 40, dx) * au\n",
    "y = np.arange(-40, 40, dx) * au\n",
    "z = np.arange(-5, 5, dx) * au\n",
    "\n",
    "X, Y, Z = np.meshgrid(x, y, z, indexing='ij')"
   ]
  },
  {
   "cell_type": "markdown",
   "id": "5c489352-4372-40be-98cc-bfc329f9404a",
   "metadata": {},
   "source": [
    "We translate the coordinates of that slice to spherical coordinates.\n",
    "\n",
    "Note that phi goes from 0 to $2 \\pi$ in the original data, but the output of `np.arctan2` has negative angles and needs to be shifted"
   ]
  },
  {
   "cell_type": "code",
   "execution_count": null,
   "id": "37f5f57f-5ed8-4f5c-b645-f7a5fe23157f",
   "metadata": {},
   "outputs": [],
   "source": [
    "R = np.sqrt(X**2 + Y**2 + Z**2)\n",
    "T = np.pi/2 - np.arctan2(Z, np.sqrt(X**2 + Y**2))\n",
    "P = (np.arctan2(Y, X) + 2 * np.pi) % (2 * np.pi)"
   ]
  },
  {
   "cell_type": "markdown",
   "id": "e338f609-3cf2-4ca4-8c19-766d34b58d4b",
   "metadata": {},
   "source": [
    "We create a array of new points, shape is (N, 3)"
   ]
  },
  {
   "cell_type": "code",
   "execution_count": null,
   "id": "5d8c01ab-a682-494c-a3c6-33656aa37803",
   "metadata": {},
   "outputs": [],
   "source": [
    "points = np.array([R.ravel(), T.ravel(), P.ravel()]).T"
   ]
  },
  {
   "cell_type": "markdown",
   "id": "c6fb0636-eafc-47c8-a1e8-0510e12720bb",
   "metadata": {},
   "source": [
    "We call the interpolation. There's values outside the box, so we assign them the value `0.0`."
   ]
  },
  {
   "cell_type": "code",
   "execution_count": null,
   "id": "e9da9a19-bc5a-46a1-bb5f-c45778a77c60",
   "metadata": {},
   "outputs": [],
   "source": [
    "interp = interpn((r, th, ph_mod), rho_mod, points, fill_value=0.0, bounds_error=False)"
   ]
  },
  {
   "cell_type": "markdown",
   "id": "46803de6-5399-46fb-9afd-6b27bae9a0e4",
   "metadata": {},
   "source": [
    "The result is again one dimensional (one value per new point), so we need to reshape it to match the shape of the slice. After this, it is again 3-dimensional, since our slice has 3 dimensions, but the z-dimension is just one value here."
   ]
  },
  {
   "cell_type": "code",
   "execution_count": null,
   "id": "58699d05-fa68-4cd5-958c-04df5ed84908",
   "metadata": {},
   "outputs": [],
   "source": [
    "interp = interp.reshape(X.shape)"
   ]
  },
  {
   "cell_type": "markdown",
   "id": "967adaf7-9901-41b4-95cc-784c0a4c1985",
   "metadata": {},
   "source": [
    "Plot it"
   ]
  },
  {
   "cell_type": "code",
   "execution_count": null,
   "id": "da8b33d8-7366-4b48-9471-11413e2decc4",
   "metadata": {},
   "outputs": [],
   "source": [
    "f, axs = plt.subplots(1, 2, dpi=200, gridspec_kw={'width_ratios':[4, 1]}, figsize=(10, 2))\n",
    "\n",
    "vmax = 10.**np.ceil(np.log10(interp.max()))\n",
    "\n",
    "iy = len(y) // 2 \n",
    "iz = len(z) // 2\n",
    "\n",
    "ax = axs[0]\n",
    "cc1 = ax.pcolormesh(X[:, iy, :] / au, Z[:, iy, :] / au, interp[:, iy, :], norm=LogNorm(vmin=1e-3 * vmax, vmax=vmax), shading='auto', rasterized=True)\n",
    "\n",
    "ax = axs[1]\n",
    "cc2 = ax.pcolormesh(X[:, :, iz] / au, Y[:, :, iz] / au, interp[:, :, iz], norm=LogNorm(vmin=1e-3 * vmax, vmax=vmax), shading='auto', rasterized=True)\n",
    "\n",
    "\n",
    "for ax, cc in zip(axs, [cc1, cc2]):\n",
    "    ax.set_aspect('equal')\n",
    "    pos = ax.get_position()\n",
    "    cax = f.add_axes([pos.x0, pos.y1, pos.width, pos.height / 20])\n",
    "    cb = plt.colorbar(cc, cax=cax, orientation='horizontal')\n",
    "    cb.set_label('$\\\\rho_{gas}$')\n",
    "    cax.xaxis.set_label_position('top')\n",
    "    cax.xaxis.set_ticks_position('top')"
   ]
  },
  {
   "cell_type": "markdown",
   "id": "ff12d206-e921-49ab-89f0-fe27bcb1e493",
   "metadata": {
    "tags": []
   },
   "source": [
    "## Export data"
   ]
  },
  {
   "cell_type": "markdown",
   "id": "dd45e519-ff7a-4fa8-ba40-ac31fd22a34d",
   "metadata": {},
   "source": [
    "store the data in a simple format"
   ]
  },
  {
   "cell_type": "code",
   "execution_count": null,
   "id": "b5a6b294-ca9b-4e78-b683-a973c650c00a",
   "metadata": {},
   "outputs": [],
   "source": [
    "np.savez('../data/pluto_data_norm.npz', x=x, y=y, z=z, rho=interp)"
   ]
  },
  {
   "cell_type": "markdown",
   "id": "df889700-af01-4bfe-912d-4b07cd3d3935",
   "metadata": {},
   "source": [
    "this can be loaded with:"
   ]
  },
  {
   "cell_type": "markdown",
   "id": "66f4eae1-b63c-4e37-b161-51e20b0677fa",
   "metadata": {
    "tags": []
   },
   "source": [
    "# Part 2: Rendering"
   ]
  },
  {
   "cell_type": "code",
   "execution_count": null,
   "id": "214f7997-eb04-4aaf-9687-6bccb0c65532",
   "metadata": {},
   "outputs": [],
   "source": [
    "import numpy as np\n",
    "import matplotlib.pyplot as plt\n",
    "from volrender import TransferFunction, Renderer, render_movie\n",
    "from matplotlib.colors import LogNorm"
   ]
  },
  {
   "cell_type": "markdown",
   "id": "d8dc7f0c-9582-4db0-b3cf-d41f94657b5b",
   "metadata": {},
   "source": [
    "## Load interpolated data"
   ]
  },
  {
   "cell_type": "code",
   "execution_count": null,
   "id": "acba839d-7c0a-493c-9a10-2d15b652dcb4",
   "metadata": {},
   "outputs": [],
   "source": [
    "with np.load('../data/pluto_data_norm.npz') as f:\n",
    "    x = f['x']\n",
    "    y = f['y']\n",
    "    z = f['z']\n",
    "    interp = f['rho']"
   ]
  },
  {
   "cell_type": "markdown",
   "id": "2460c7f4-de5d-499b-8e9e-d4da318fd43b",
   "metadata": {},
   "source": [
    "## Rescale data and define the transfer function"
   ]
  },
  {
   "cell_type": "code",
   "execution_count": null,
   "id": "3bd492eb-3541-4f27-a169-d59b2b6b4134",
   "metadata": {},
   "outputs": [],
   "source": [
    "vmax = interp.max()\n",
    "datacube = LogNorm(vmin=1e-4 * vmax, vmax=vmax, clip=True)(interp.ravel()).reshape(interp.shape)"
   ]
  },
  {
   "cell_type": "code",
   "execution_count": null,
   "id": "081095b5-7521-4648-a757-e0b697cea20d",
   "metadata": {},
   "outputs": [],
   "source": [
    "tf = TransferFunction(x0=[0.25, 0.6, 0.8], sigma=0.04 * np.ones(3))\n",
    "\n",
    "tf.x0[:] = [0.25, 0.6, 0.75]\n",
    "tf.colors[:, -1] = np.array([0.15, 0.05, 0.3])\n",
    "tf.sigma[:] = np.array([0.05, 0.03, 0.04])"
   ]
  },
  {
   "cell_type": "markdown",
   "id": "c7db1c8b-278f-41a6-92b9-8c0799b54524",
   "metadata": {},
   "source": [
    "## Render images"
   ]
  },
  {
   "cell_type": "markdown",
   "id": "f3c12163-9787-40eb-a805-afe767e2a496",
   "metadata": {},
   "source": [
    "Note: this is quite high resolution and takes of the order of a minute to render. Reduce `N` to something like 300 to get results in seconds for testing."
   ]
  },
  {
   "cell_type": "code",
   "execution_count": null,
   "id": "71a563bb-efda-4279-8863-208959df9609",
   "metadata": {},
   "outputs": [],
   "source": [
    "r = Renderer(datacube, tf=tf, N=800)\n",
    "r.render(phi=40, theta=60, transparent=False, bg=1.0)"
   ]
  },
  {
   "cell_type": "markdown",
   "id": "eaa238a3-f749-4e56-83f6-dd51bb18ae5d",
   "metadata": {},
   "source": [
    "Make two plots, one with white background, the other one transparent.\n",
    "\n",
    "**Note:** the alpha channel contains the optical depth, i.e. we have to invert it. To get a good looking scaling, we also take it to the fourth power."
   ]
  },
  {
   "cell_type": "code",
   "execution_count": null,
   "id": "09d76355-b30d-4411-af87-2cdd58baad84",
   "metadata": {},
   "outputs": [],
   "source": [
    "alpha = 1 - r.image[:,:,-1]**4\n",
    "for i,_alpha in enumerate([1, alpha]):\n",
    "    f, ax = r.plot(alpha=_alpha)\n",
    "    ax.set_facecolor('none')\n",
    "    f.savefig(f'output/disk_{i}.pdf', dpi=600, transparent=True, bbox_inches='tight')"
   ]
  },
  {
   "cell_type": "markdown",
   "id": "577424dc-9fc1-4b1e-96e3-39d8c2cee871",
   "metadata": {},
   "source": [
    "## Render movie\n",
    "\n",
    "Again: N is quite high, so each frame takes about a minute to render on my laptop. Reduce this to get a (probably $N^3$) speed-up."
   ]
  },
  {
   "cell_type": "code",
   "execution_count": null,
   "id": "4da50f77-4fd3-45de-b84f-dc0ca848b24b",
   "metadata": {},
   "outputs": [],
   "source": [
    "phi = np.linspace(0, 360, 97)[:-1]\n",
    "fname = 'output/movie_disk.mp4'\n",
    "render_movie(datacube, theta=60 *np.ones_like(phi), phi=phi, ncpu=1, tf=tf, N=800, dpi=600, bg=1.0, fname=fname)"
   ]
  },
  {
   "cell_type": "code",
   "execution_count": null,
   "id": "2e33dbfa-c77f-42da-b70b-65a35a0c2717",
   "metadata": {},
   "outputs": [],
   "source": [
    "from IPython.display import HTML\n",
    "HTML(f\"\"\"\n",
    "<video width=\"500\" controls loop autoplay>\n",
    "  <source src=\"{fname}\" type=\"video/mp4\">\n",
    "</video>\n",
    "\"\"\")"
   ]
  }
 ],
 "metadata": {
  "kernelspec": {
   "display_name": "Python 3 (ipykernel)",
   "language": "python",
   "name": "python3"
  },
  "language_info": {
   "codemirror_mode": {
    "name": "ipython",
    "version": 3
   },
   "file_extension": ".py",
   "mimetype": "text/x-python",
   "name": "python",
   "nbconvert_exporter": "python",
   "pygments_lexer": "ipython3",
   "version": "3.9.7"
  }
 },
 "nbformat": 4,
 "nbformat_minor": 5
}
