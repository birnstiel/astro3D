{
 "cells": [
  {
   "cell_type": "markdown",
   "id": "b72365d2-4ea9-4513-acfb-cd8c8864e69d",
   "metadata": {},
   "source": [
    "# Make Bubbles"
   ]
  },
  {
   "cell_type": "markdown",
   "id": "b76d714b",
   "metadata": {},
   "source": [
    "To test the capapbilities, we make up some data and then visualize it."
   ]
  },
  {
   "cell_type": "code",
   "execution_count": null,
   "id": "24a87afa",
   "metadata": {},
   "outputs": [],
   "source": [
    "import numpy as np\n",
    "import matplotlib.pyplot as plt\n",
    "%matplotlib widget\n",
    "\n",
    "from volrender import Renderer\n",
    "from volrender import TransferFunction\n",
    "from volrender.render_helper import render_movie"
   ]
  },
  {
   "cell_type": "markdown",
   "id": "fdb27cb0",
   "metadata": {},
   "source": [
    "## Generate data"
   ]
  },
  {
   "cell_type": "code",
   "execution_count": null,
   "id": "5e7c029f-9b85-483d-8dc7-b2c903c168e7",
   "metadata": {},
   "outputs": [],
   "source": [
    "N = 300\n",
    "x = y = z = np.linspace(0, 1, N)\n",
    "X, Y, Z = np.meshgrid(x, y, z)\n",
    "\n",
    "data = np.zeros_like(X)\n",
    "for i in range(20):\n",
    "    sig = 0.02 + 0.2 * np.random.rand()\n",
    "    x0, y0, z0 = np.random.rand(3) \n",
    "    data += 0.5 * np.exp(- ((X-x0)**2 + (Y-y0)**2 + (Z-z0)**2)/(2 * sig**2))"
   ]
  },
  {
   "cell_type": "markdown",
   "id": "6977bc9a",
   "metadata": {},
   "source": [
    "Save it to test the command line interface"
   ]
  },
  {
   "cell_type": "code",
   "execution_count": null,
   "id": "600b97f0",
   "metadata": {},
   "outputs": [],
   "source": [
    "np.savez_compressed('bubbles.npz', data)"
   ]
  },
  {
   "cell_type": "markdown",
   "id": "22c774eb",
   "metadata": {},
   "source": [
    "## Interactive Plot"
   ]
  },
  {
   "cell_type": "markdown",
   "id": "d525c1c7",
   "metadata": {},
   "source": [
    "Define a transfer function"
   ]
  },
  {
   "cell_type": "code",
   "execution_count": null,
   "id": "3bf82aeb",
   "metadata": {},
   "outputs": [],
   "source": [
    "tf = TransferFunction(x0=[0.2, 0.4, 0.9], sigma=1e-2 * np.ones(3),\n",
    "                      colors=np.array([\n",
    "                          [1, 1, 0, 0.1],\n",
    "                          [0, 1, 1, 0.1],\n",
    "                          [1, 0, 1, 0.1],\n",
    "                      ])\n",
    "                     )"
   ]
  },
  {
   "cell_type": "markdown",
   "id": "331d5499",
   "metadata": {},
   "source": [
    "Initialize the Renderer object"
   ]
  },
  {
   "cell_type": "code",
   "execution_count": null,
   "id": "34179429-e99d-4268-a770-4bb0076ce94d",
   "metadata": {},
   "outputs": [],
   "source": [
    "r = Renderer(data, interactive=True, diagnostics=False, tf=tf)"
   ]
  },
  {
   "cell_type": "markdown",
   "id": "eb8e851b",
   "metadata": {},
   "source": [
    "## Make a movie"
   ]
  },
  {
   "cell_type": "code",
   "execution_count": null,
   "id": "8054f964",
   "metadata": {
    "scrolled": true
   },
   "outputs": [],
   "source": [
    "phi = np.linspace(0, 359, 359)\n",
    "theta = phi\n",
    "render_movie(data, theta, phi, ncpu=5, tf=tf)"
   ]
  },
  {
   "cell_type": "code",
   "execution_count": null,
   "id": "97e9a051",
   "metadata": {},
   "outputs": [],
   "source": [
    "from IPython.display import HTML\n",
    "HTML(f\"\"\"\n",
    "<video width=\"500\" controls>\n",
    "  <source src=\"movie.mp4\" type=\"video/mp4\">\n",
    "</video>\n",
    "\"\"\")"
   ]
  }
 ],
 "metadata": {
  "kernelspec": {
   "display_name": "Python 3 (ipykernel)",
   "language": "python",
   "name": "python3"
  },
  "language_info": {
   "codemirror_mode": {
    "name": "ipython",
    "version": 3
   },
   "file_extension": ".py",
   "mimetype": "text/x-python",
   "name": "python",
   "nbconvert_exporter": "python",
   "pygments_lexer": "ipython3",
   "version": "3.9.7"
  }
 },
 "nbformat": 4,
 "nbformat_minor": 5
}
