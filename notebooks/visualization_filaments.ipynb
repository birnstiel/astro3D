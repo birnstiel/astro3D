{
 "cells": [
  {
   "cell_type": "code",
   "execution_count": null,
   "id": "46733b70-d349-46f0-8fd6-a87ea95a3d2c",
   "metadata": {
    "tags": []
   },
   "outputs": [],
   "source": [
    "from pathlib import Path\n",
    "import numpy as np\n",
    "import matplotlib.pyplot as plt\n",
    "from matplotlib.colors import Normalize, LogNorm\n",
    "\n",
    "from scipy.interpolate import RegularGridInterpolator\n",
    "from tqdm import tqdm"
   ]
  },
  {
   "cell_type": "markdown",
   "id": "b26cd52f-c336-46d7-a9fd-77d88f52fe6e",
   "metadata": {},
   "source": [
    "Read **STEFAN HEIGLS** data. Data is currently (until 01.02.2022) available [here](https://gigamove.rwth-aachen.de/de/download/4abe80f1c550806021f85af8c57c886e)."
   ]
  },
  {
   "cell_type": "code",
   "execution_count": null,
   "id": "4501b15b-8287-4987-848f-1bb969689b5c",
   "metadata": {},
   "outputs": [],
   "source": [
    "with np.load('../data/mhddisk.npz') as f:\n",
    "    data = f['arr_0'][()]"
   ]
  },
  {
   "cell_type": "markdown",
   "id": "ab8b7523-6018-489a-acff-02c652e49754",
   "metadata": {
    "tags": []
   },
   "source": [
    "# Visualization"
   ]
  },
  {
   "cell_type": "markdown",
   "id": "9f218125-7572-4fac-8cff-db3b47285248",
   "metadata": {},
   "source": [
    "## My own renderer"
   ]
  },
  {
   "cell_type": "code",
   "execution_count": null,
   "id": "18822403-c562-44d3-a52b-a032f6f23139",
   "metadata": {},
   "outputs": [],
   "source": [
    "import volrender\n",
    "from astropy import constants as c\n",
    "from matplotlib.colors import ListedColormap\n",
    "from  matplotlib import cm"
   ]
  },
  {
   "cell_type": "code",
   "execution_count": null,
   "id": "ae65ff0c",
   "metadata": {},
   "outputs": [],
   "source": [
    "vmax = data.max()\n",
    "lognorm = LogNorm(vmin=vmax * 1e-4, vmax=vmax, clip=True)\n",
    "datacube = lognorm(data.ravel()).reshape(data.shape).data"
   ]
  },
  {
   "cell_type": "markdown",
   "id": "5c69c036-e963-4a28-b3c5-39fa438f479b",
   "metadata": {},
   "source": [
    "define a transfer function"
   ]
  },
  {
   "cell_type": "code",
   "execution_count": null,
   "id": "fdc8540b-e035-4be0-b641-d93ee29a0bfe",
   "metadata": {},
   "outputs": [],
   "source": [
    "tf = volrender.TransferFunction(\n",
    "    A  = [0.15, 0.2, 0.35],\n",
    "    x0 = [0.1, 0.4, 0.92],\n",
    "    sigma = [0.03, 0.05, 0.03],\n",
    "    colors = np.array([\n",
    "        [1.  , 0.5 , 0.  , 0.05],\n",
    "        [0.25, 0.25, 0.75, 0.2 ],\n",
    "        [1.  , 0.  , 0.25, 0.1 ]])\n",
    "    )"
   ]
  },
  {
   "cell_type": "markdown",
   "id": "e604746c-701b-4c09-ae02-50e3ffb9a936",
   "metadata": {},
   "source": [
    "create the renderer"
   ]
  },
  {
   "cell_type": "code",
   "execution_count": null,
   "id": "db9fdc99-8056-4b05-89f9-d7a6d55bd2e5",
   "metadata": {},
   "outputs": [],
   "source": [
    "ren = volrender.Renderer(datacube, interactive=False, tf=tf)"
   ]
  },
  {
   "cell_type": "code",
   "execution_count": null,
   "id": "28ffae96-a5e3-4bae-bfd7-20939b2da5ef",
   "metadata": {},
   "outputs": [],
   "source": [
    "v = (c.pc/c.au).cgs.value\n",
    "\n",
    "L  = 0.004 # box length in pc\n",
    "L  *= v\n",
    "M  = 1.19046233 # central mass in solar masses\n",
    "# position of the sink\n",
    "x0 = 0.46407932\n",
    "y0 = 0.55431781\n",
    "z0 = 0.49871549"
   ]
  },
  {
   "cell_type": "code",
   "execution_count": null,
   "id": "e6c8b999-0500-4883-8d7f-7f25657cbf65",
   "metadata": {},
   "outputs": [],
   "source": [
    "ren.render(theta=45, phi=128)"
   ]
  },
  {
   "cell_type": "markdown",
   "id": "0f5234e1-9c32-4138-99c6-f74f4142a5f2",
   "metadata": {},
   "source": [
    "### Plotting"
   ]
  },
  {
   "cell_type": "markdown",
   "id": "f1da1049-78ad-4cb3-8796-582658532438",
   "metadata": {},
   "source": [
    "#### Single plot with colorbar"
   ]
  },
  {
   "cell_type": "code",
   "execution_count": null,
   "id": "0bee5014-62c4-4c32-b948-a50162756464",
   "metadata": {},
   "outputs": [],
   "source": [
    "ren.plot(norm=lognorm)"
   ]
  },
  {
   "cell_type": "code",
   "execution_count": null,
   "id": "81a9940e-813e-4bcf-8a2e-1e03eccdfcbd",
   "metadata": {},
   "outputs": [],
   "source": [
    "f, ax = plt.subplots(dpi=200)\n",
    "x = np.linspace(-L/2, L/2, data.shape[0] + 1)\n",
    "\n",
    "data_sum = data.sum(2) * 0.004 * c.pc.to('cm').value\n",
    "vmax = data_sum.max()\n",
    "vmin = vmax*1e-3\n",
    "\n",
    "cc=ax.pcolormesh(x, x, data_sum, norm=LogNorm(vmin=vmin, vmax=vmax), cmap='Blues')\n",
    "ax.set_aspect('equal')\n",
    "ax.set_xlabel('x [au]')\n",
    "ax.set_ylabel('y [au]')\n",
    "\n",
    "cb = plt.colorbar(cc, pad=0, ax=ax)\n",
    "cb.set_label('column density [g/cm$^2$]', fontsize='small')"
   ]
  },
  {
   "cell_type": "markdown",
   "id": "43275030-0a32-4bff-8972-fca882aead4e",
   "metadata": {},
   "source": [
    "#### Plot with histogram"
   ]
  },
  {
   "cell_type": "code",
   "execution_count": null,
   "id": "52cde532-3290-49ac-ba00-ce89dea5047d",
   "metadata": {},
   "outputs": [],
   "source": [
    "f, ax = ren.plot(norm=lognorm, diagnostics=True)\n",
    "f.subplots_adjust(wspace=0.5)"
   ]
  },
  {
   "cell_type": "markdown",
   "id": "52132eb5-6e7e-497c-90f1-1e01e0c8d504",
   "metadata": {
    "tags": []
   },
   "source": [
    "#### Make a movie"
   ]
  },
  {
   "cell_type": "code",
   "execution_count": null,
   "id": "601c3d79-3735-4179-81de-3e3960e9ed8d",
   "metadata": {},
   "outputs": [],
   "source": [
    "N = 360\n",
    "theta = np.linspace(45, 45, N)\n",
    "phi = np.linspace(0, 359, N)"
   ]
  },
  {
   "cell_type": "code",
   "execution_count": null,
   "id": "00638b4c-996b-435a-b8aa-a70e12da083a",
   "metadata": {},
   "outputs": [],
   "source": [
    "fname = 'movie_mhddisk.mp4'\n",
    "volrender.render_helper.render_movie(datacube, theta, phi, ncpu=10, fname=fname)"
   ]
  },
  {
   "cell_type": "code",
   "execution_count": null,
   "id": "f448a9f0",
   "metadata": {},
   "outputs": [],
   "source": [
    "from IPython.display import HTML\n",
    "HTML(f\"\"\"\n",
    "<video width=\"500\" controls>\n",
    "  <source src=\"{fname}\" type=\"video/mp4\">\n",
    "</video>\n",
    "\"\"\")"
   ]
  },
  {
   "cell_type": "markdown",
   "id": "20301797",
   "metadata": {},
   "source": [
    "## Pyvista"
   ]
  },
  {
   "cell_type": "code",
   "execution_count": null,
   "id": "1a730671",
   "metadata": {},
   "outputs": [],
   "source": [
    "import pyvista"
   ]
  },
  {
   "cell_type": "code",
   "execution_count": null,
   "id": "b6a9157c",
   "metadata": {},
   "outputs": [],
   "source": [
    "grid = pyvista.UniformGrid()\n",
    "grid.dimensions = np.array(data.shape) + 1\n",
    "grid.spacing = (1, 1, 1)\n",
    "grid.cell_data[\"density\"] = np.log10(data.flatten(order=\"F\"))\n",
    "\n",
    "vmax = grid['density'].max()\n",
    "grid['opac'] = Normalize(vmin=vmax - 1.5, vmax=vmax)(grid['density'])"
   ]
  },
  {
   "cell_type": "code",
   "execution_count": null,
   "id": "2214d7ef",
   "metadata": {},
   "outputs": [],
   "source": [
    "pyvista.close_all()"
   ]
  },
  {
   "cell_type": "code",
   "execution_count": null,
   "id": "605e88f5",
   "metadata": {},
   "outputs": [],
   "source": [
    "p = pyvista.Plotter()\n",
    "p.set_background('white')\n",
    "p.add_volume(grid, scalars='opac', cmap=\"viridis\", clim=[0, 1], opacity='linear', shade=False, opacity_unit_distance=.010)\n",
    "p.show()"
   ]
  }
 ],
 "metadata": {
  "kernelspec": {
   "display_name": "Python 3 (ipykernel)",
   "language": "python",
   "name": "python3"
  },
  "language_info": {
   "codemirror_mode": {
    "name": "ipython",
    "version": 3
   },
   "file_extension": ".py",
   "mimetype": "text/x-python",
   "name": "python",
   "nbconvert_exporter": "python",
   "pygments_lexer": "ipython3",
   "version": "3.9.7"
  }
 },
 "nbformat": 4,
 "nbformat_minor": 5
}
