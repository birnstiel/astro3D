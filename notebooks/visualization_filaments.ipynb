{
 "cells": [
  {
   "cell_type": "markdown",
   "id": "3c394823-50f9-495f-aeef-617902f9a3e4",
   "metadata": {
    "tags": []
   },
   "source": [
    "# Visualization of MHD disk"
   ]
  },
  {
   "cell_type": "code",
   "execution_count": null,
   "id": "e28e90bf-e7d2-4e67-b4c9-41d6529eac01",
   "metadata": {
    "tags": []
   },
   "outputs": [],
   "source": [
    "import numpy as np\n",
    "import matplotlib.pyplot as plt\n",
    "from matplotlib.colors import LogNorm\n",
    "from astropy import constants as c\n",
    "\n",
    "import volrender"
   ]
  },
  {
   "cell_type": "markdown",
   "id": "b26cd52f-c336-46d7-a9fd-77d88f52fe6e",
   "metadata": {},
   "source": [
    "Read **STEFAN HEIGLS** data. Data is currently (until 01.02.2022) available [here](https://gigamove.rwth-aachen.de/de/download/4abe80f1c550806021f85af8c57c886e)."
   ]
  },
  {
   "cell_type": "code",
   "execution_count": null,
   "id": "4501b15b-8287-4987-848f-1bb969689b5c",
   "metadata": {},
   "outputs": [],
   "source": [
    "with np.load('../data/mhddisk.npz') as f:\n",
    "    data = f['arr_0'][()]"
   ]
  },
  {
   "cell_type": "markdown",
   "id": "c9641de6-cc1a-4c0d-bff7-f1ffc54fcffe",
   "metadata": {},
   "source": [
    "Normalize"
   ]
  },
  {
   "cell_type": "code",
   "execution_count": null,
   "id": "ae65ff0c",
   "metadata": {},
   "outputs": [],
   "source": [
    "vmax = data.max()\n",
    "lognorm = LogNorm(vmin=vmax * 1e-4, vmax=vmax, clip=True)\n",
    "datacube = lognorm(data.ravel()).reshape(data.shape).data"
   ]
  },
  {
   "cell_type": "markdown",
   "id": "5c69c036-e963-4a28-b3c5-39fa438f479b",
   "metadata": {},
   "source": [
    "define a transfer function"
   ]
  },
  {
   "cell_type": "code",
   "execution_count": null,
   "id": "fdc8540b-e035-4be0-b641-d93ee29a0bfe",
   "metadata": {},
   "outputs": [],
   "source": [
    "tf = volrender.TransferFunction(\n",
    "    x0 = [0.1, 0.4, 0.92],\n",
    "    sigma = [0.03, 0.05, 0.03],\n",
    "    colors = np.array([\n",
    "        [1.  , 0.5 , 0.  , 0.004],\n",
    "        [0.25, 0.25, 0.75, 0.05],\n",
    "        [1.  , 0.  , 0.25, 0.4 ]])\n",
    "    )\n",
    "tf.colors[1:,-1] /= 1.5"
   ]
  },
  {
   "cell_type": "markdown",
   "id": "e604746c-701b-4c09-ae02-50e3ffb9a936",
   "metadata": {},
   "source": [
    "create the renderer"
   ]
  },
  {
   "cell_type": "code",
   "execution_count": null,
   "id": "db9fdc99-8056-4b05-89f9-d7a6d55bd2e5",
   "metadata": {},
   "outputs": [],
   "source": [
    "ren = volrender.Renderer(datacube, interactive=False, tf=tf, N=500)"
   ]
  },
  {
   "cell_type": "code",
   "execution_count": null,
   "id": "28ffae96-a5e3-4bae-bfd7-20939b2da5ef",
   "metadata": {},
   "outputs": [],
   "source": [
    "v = (c.pc/c.au).cgs.value\n",
    "\n",
    "L  = 0.004 # box length in pc\n",
    "L  *= v\n",
    "M  = 1.19046233 # central mass in solar masses\n",
    "# position of the sink\n",
    "x0 = 0.46407932\n",
    "y0 = 0.55431781\n",
    "z0 = 0.49871549"
   ]
  },
  {
   "cell_type": "code",
   "execution_count": null,
   "id": "624cfc18-96d8-4854-86ed-c1a1bc948947",
   "metadata": {},
   "outputs": [],
   "source": [
    "ren.render(theta=50, phi=300, bg=1.0)"
   ]
  },
  {
   "cell_type": "markdown",
   "id": "0f5234e1-9c32-4138-99c6-f74f4142a5f2",
   "metadata": {},
   "source": [
    "## Plotting"
   ]
  },
  {
   "cell_type": "markdown",
   "id": "f1da1049-78ad-4cb3-8796-582658532438",
   "metadata": {},
   "source": [
    "### Single plot with colorbar"
   ]
  },
  {
   "cell_type": "code",
   "execution_count": null,
   "id": "83868f4a-330f-446a-84c0-f41d3fbf428c",
   "metadata": {},
   "outputs": [],
   "source": [
    "from matplotlib.colors import Normalize"
   ]
  },
  {
   "cell_type": "code",
   "execution_count": null,
   "id": "ba6efc33-25af-478c-9a3a-4da04c6bf040",
   "metadata": {},
   "outputs": [],
   "source": [
    "im = ren.image.copy()\n",
    "alpha = im[:, :, -1]\n",
    "\n",
    "vmax = alpha.max()\n",
    "vmin = alpha.min()\n",
    "\n",
    "alpha = LogNorm(vmin=vmin, vmax=vmax, clip=True)(alpha)\n",
    "\n",
    "im[:, :, -1] = alpha\n",
    "f,ax = plt.subplots()\n",
    "ax.set_facecolor('none')\n",
    "ax.imshow(im.transpose(1,0,2), origin='lower');"
   ]
  },
  {
   "cell_type": "code",
   "execution_count": null,
   "id": "0bee5014-62c4-4c32-b948-a50162756464",
   "metadata": {},
   "outputs": [],
   "source": [
    "f, ax = ren.plot(cb_norm=lognorm, alpha=(1 - alpha**4), invert=True)\n",
    "im=ax.get_children()[0]\n",
    "im.set_array(im.get_array().transpose(1,0,2)[:,:,:])\n",
    "f.savefig('output/render2.pdf', transparent=True, bbox_inches='tight')"
   ]
  },
  {
   "cell_type": "code",
   "execution_count": null,
   "id": "81a9940e-813e-4bcf-8a2e-1e03eccdfcbd",
   "metadata": {},
   "outputs": [],
   "source": [
    "f, ax = plt.subplots(dpi=200)\n",
    "x = np.linspace(-L/2, L/2, data.shape[0] + 1)\n",
    "\n",
    "data_sum = data.sum(2) * 0.004 * c.pc.to('cm').value\n",
    "vmax = data_sum.max()\n",
    "vmin = vmax*1e-3\n",
    "\n",
    "cc=ax.pcolormesh(x, x, data_sum, norm=LogNorm(vmin=vmin, vmax=vmax), cmap='Blues')\n",
    "ax.set_aspect('equal')\n",
    "ax.set_xlabel('x [au]')\n",
    "ax.set_ylabel('y [au]')\n",
    "\n",
    "cb = plt.colorbar(cc, pad=0, ax=ax)\n",
    "cb.set_label('column density [g/cm$^2$]', fontsize='small')"
   ]
  },
  {
   "cell_type": "markdown",
   "id": "43275030-0a32-4bff-8972-fca882aead4e",
   "metadata": {},
   "source": [
    "### Plot with histogram"
   ]
  },
  {
   "cell_type": "code",
   "execution_count": null,
   "id": "52cde532-3290-49ac-ba00-ce89dea5047d",
   "metadata": {},
   "outputs": [],
   "source": [
    "f, ax = ren.plot(cb_norm=lognorm, diagnostics=True)\n",
    "f.subplots_adjust(wspace=0.5)"
   ]
  },
  {
   "cell_type": "markdown",
   "id": "52132eb5-6e7e-497c-90f1-1e01e0c8d504",
   "metadata": {
    "tags": []
   },
   "source": [
    "### Make a movie"
   ]
  },
  {
   "cell_type": "code",
   "execution_count": null,
   "id": "601c3d79-3735-4179-81de-3e3960e9ed8d",
   "metadata": {},
   "outputs": [],
   "source": [
    "N = 360\n",
    "theta = np.linspace(25, 25, N)\n",
    "phi = np.linspace(0, 359, N)"
   ]
  },
  {
   "cell_type": "code",
   "execution_count": null,
   "id": "00638b4c-996b-435a-b8aa-a70e12da083a",
   "metadata": {},
   "outputs": [],
   "source": [
    "fname = 'output/movie_mhddisk.mp4'\n",
    "volrender.render_helper.render_movie(datacube, theta, phi, ncpu=1, fname=fname, tf=tf, N=500, dpi=600, bg=1.0)"
   ]
  },
  {
   "cell_type": "code",
   "execution_count": null,
   "id": "f448a9f0",
   "metadata": {},
   "outputs": [],
   "source": [
    "from IPython.display import HTML\n",
    "HTML(f\"\"\"\n",
    "<video width=\"500\" controls loop autoplay>\n",
    "  <source src=\"{fname}\" type=\"video/mp4\">\n",
    "</video>\n",
    "\"\"\")"
   ]
  }
 ],
 "metadata": {
  "kernelspec": {
   "display_name": "Python 3 (ipykernel)",
   "language": "python",
   "name": "python3"
  },
  "language_info": {
   "codemirror_mode": {
    "name": "ipython",
    "version": 3
   },
   "file_extension": ".py",
   "mimetype": "text/x-python",
   "name": "python",
   "nbconvert_exporter": "python",
   "pygments_lexer": "ipython3",
   "version": "3.9.7"
  }
 },
 "nbformat": 4,
 "nbformat_minor": 5
}
