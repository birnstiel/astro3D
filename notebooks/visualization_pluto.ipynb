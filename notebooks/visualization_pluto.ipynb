{
 "cells": [
  {
   "cell_type": "markdown",
   "id": "136c84ef-f7b7-4512-b730-552a7734a503",
   "metadata": {
    "tags": []
   },
   "source": [
    "# Visualization of Planet-forming Disk"
   ]
  },
  {
   "cell_type": "code",
   "execution_count": null,
   "id": "cb63c255-428f-4c41-b0e4-3af41ed82752",
   "metadata": {},
   "outputs": [],
   "source": [
    "import numpy as np\n",
    "import matplotlib.pyplot as plt\n",
    "from matplotlib.colors import Normalize, LogNorm\n",
    "\n",
    "import volrender"
   ]
  },
  {
   "cell_type": "markdown",
   "id": "74fc6ca9",
   "metadata": {},
   "source": [
    "Read **THOMAS PFEILS** data. Data is currently (until 02.02.2022) available [here](https://gigamove.rwth-aachen.de/de/download/ebdbc12c85438bd224a5015206840893)."
   ]
  },
  {
   "cell_type": "code",
   "execution_count": null,
   "id": "4cc9846e-4c1c-411a-842c-c940a34d7c18",
   "metadata": {},
   "outputs": [],
   "source": [
    "with np.load('../data/pluto_data.npz') as f:\n",
    "    data = f['rho']"
   ]
  },
  {
   "cell_type": "code",
   "execution_count": null,
   "id": "ae65ff0c",
   "metadata": {},
   "outputs": [],
   "source": [
    "vmax = data.max()\n",
    "lognorm = LogNorm(vmin=vmax * 1e-4, vmax=vmax, clip=True)\n",
    "datacube = lognorm(data.ravel()).reshape(data.shape).data"
   ]
  },
  {
   "cell_type": "code",
   "execution_count": null,
   "id": "db9fdc99-8056-4b05-89f9-d7a6d55bd2e5",
   "metadata": {
    "tags": []
   },
   "outputs": [],
   "source": [
    "ren = volrender.Renderer(datacube)\n",
    "colors = ren.transferfunction.colors.copy()\n",
    "\n",
    "ren.transferfunction.x0            = [0.1, 0.4, 0.9]\n",
    "ren.transferfunction.sigma         = [0.03, 0.03, 0.05]\n",
    "ren.transferfunction.colors        = colors\n",
    "ren.transferfunction.colors[:, -1] = [0.1, 0.2, 0.1]\n",
    "ren.transferfunction.A             = [0.2, 0.1, 0.3]"
   ]
  },
  {
   "cell_type": "code",
   "execution_count": null,
   "id": "706b02e4",
   "metadata": {},
   "outputs": [],
   "source": [
    "ren.render(0, 0)"
   ]
  },
  {
   "cell_type": "markdown",
   "id": "e12e3073-2a99-471b-86c7-d281b8f5136f",
   "metadata": {},
   "source": [
    "## Test Interpolation"
   ]
  },
  {
   "cell_type": "code",
   "execution_count": null,
   "id": "9f3656a8-a729-42e4-9717-eb238fc99334",
   "metadata": {},
   "outputs": [],
   "source": [
    "ren.init_interpolation()"
   ]
  },
  {
   "cell_type": "code",
   "execution_count": null,
   "id": "3e86fbd0-4c7d-4c84-8cb6-af246134052f",
   "metadata": {},
   "outputs": [],
   "source": [
    "%%time\n",
    "ren._f_int = False\n",
    "ren.render(10, 0)\n",
    "res_p = ren.data_obs.copy()"
   ]
  },
  {
   "cell_type": "code",
   "execution_count": null,
   "id": "ab7d0d0a-de60-49b2-a3a0-4271830b9aef",
   "metadata": {},
   "outputs": [],
   "source": [
    "%%time\n",
    "ren._f_int = True\n",
    "ren.render(10, 0)\n",
    "res_f = ren.data_obs.copy()"
   ]
  },
  {
   "cell_type": "code",
   "execution_count": null,
   "id": "3ea939f0-b467-4db4-98fa-f7f96a4b5fc2",
   "metadata": {},
   "outputs": [],
   "source": [
    "x = np.linspace(ren.x[0], ren.x[-1], ren._N)\n",
    "y = np.linspace(ren.y[0], ren.y[-1], ren._N)\n",
    "z = np.linspace(ren.z[0], ren.z[-1], ren._N)\n",
    "\n",
    "_x = 150\n",
    "_y = 245\n",
    "_z = 0\n",
    "\n",
    "ix = x.searchsorted(_x)\n",
    "iy = y.searchsorted(_y)\n",
    "iz = z.searchsorted(_z)\n",
    "\n",
    "vmax = np.max(ren.data)\n",
    "vmin = 0\n",
    "norm = Normalize(vmin=vmin, vmax=vmax)\n",
    "#norm = LogNorm(vmin=1e-4 * vmax, vmax=vmax)\n",
    "\n",
    "f, axs = plt.subplots(1, 3, figsize=(15,4), sharex=True, sharey=True)\n",
    "for ax in axs:\n",
    "    ax.set_aspect('equal')\n",
    "axs[0].pcolormesh(ren.x, ren.y, datacube[:, :, datacube.shape[-1] // 2].T, norm=norm)\n",
    "axs[1].pcolormesh(x, y, res_p[:, :, iz].T, norm=norm)\n",
    "axs[2].pcolormesh(x, y, res_f[:, :, iz].T, norm=norm, lw=0.001, ec='w')\n",
    "axs[2].set_xlim(0, 200)\n",
    "axs[2].set_ylim(80, 250)\n",
    "\n",
    "for ax in axs:\n",
    "    ax.plot(x[ix], y[iy], 'rx')"
   ]
  },
  {
   "cell_type": "markdown",
   "id": "f6f3d5cd-0009-41ea-9467-e693ca49b982",
   "metadata": {
    "tags": []
   },
   "source": [
    "## Plots"
   ]
  },
  {
   "cell_type": "code",
   "execution_count": null,
   "id": "a31f3b34-9a93-4ecb-91c6-bb4198984152",
   "metadata": {
    "tags": []
   },
   "outputs": [],
   "source": [
    "f, ax = ren.plot(norm=lognorm, diagnostics=True)"
   ]
  },
  {
   "cell_type": "markdown",
   "id": "ffd5b9ac-5435-4405-915d-731e97eb62fd",
   "metadata": {},
   "source": [
    "Same disk different transfer function"
   ]
  },
  {
   "cell_type": "code",
   "execution_count": null,
   "id": "1aa9d9fe-3f63-44f1-bac8-fe15dff0a656",
   "metadata": {},
   "outputs": [],
   "source": [
    "ren.transferfunction.x0     = np.array([0.2, 0.88])\n",
    "ren.transferfunction.sigma  = np.array([0.05, 0.02])\n",
    "ren.transferfunction.colors = np.array([\n",
    "    [1.  , .5  , 0.  , 0.1],\n",
    "    [.25  , .25  , .75  , 0.2]])\n",
    "ren.render(update=False)\n",
    "ren.plot(diagnostics=False)"
   ]
  },
  {
   "cell_type": "markdown",
   "id": "52132eb5-6e7e-497c-90f1-1e01e0c8d504",
   "metadata": {},
   "source": [
    "## Make a movie"
   ]
  },
  {
   "cell_type": "markdown",
   "id": "039bf0a8-5e02-4fd5-a667-5df52ee8b3d0",
   "metadata": {},
   "source": [
    "due to the size, here we can just use 1 CPU or we get memory issues"
   ]
  },
  {
   "cell_type": "code",
   "execution_count": null,
   "id": "d81d5f60-9b2c-49a8-bede-7ccb1d4516d4",
   "metadata": {},
   "outputs": [],
   "source": [
    "n_ang = 90\n",
    "theta = np.linspace(45, 45, n_ang)\n",
    "phi = np.linspace(0, 180, n_ang)\n",
    "fname = 'movie_pluto.mp4'\n",
    "volrender.render_helper.render_movie(ren.data, theta, phi, ncpu=1, tf=ren.transferfunction, fname=fname)"
   ]
  },
  {
   "cell_type": "code",
   "execution_count": null,
   "id": "f448a9f0",
   "metadata": {},
   "outputs": [],
   "source": [
    "from IPython.display import HTML\n",
    "HTML(f\"\"\"\n",
    "<video width=\"500\" controls>\n",
    "  <source src=\"{fname}\" type=\"video/mp4\">\n",
    "</video>\n",
    "\"\"\")"
   ]
  }
 ],
 "metadata": {
  "kernelspec": {
   "display_name": "Python 3 (ipykernel)",
   "language": "python",
   "name": "python3"
  },
  "language_info": {
   "codemirror_mode": {
    "name": "ipython",
    "version": 3
   },
   "file_extension": ".py",
   "mimetype": "text/x-python",
   "name": "python",
   "nbconvert_exporter": "python",
   "pygments_lexer": "ipython3",
   "version": "3.9.7"
  }
 },
 "nbformat": 4,
 "nbformat_minor": 5
}
