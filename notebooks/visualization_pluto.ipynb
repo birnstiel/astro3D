{
 "cells": [
  {
   "cell_type": "code",
   "execution_count": null,
   "id": "46733b70-d349-46f0-8fd6-a87ea95a3d2c",
   "metadata": {},
   "outputs": [],
   "source": [
    "from pathlib import Path\n",
    "import numpy as np\n",
    "import matplotlib.pyplot as plt\n",
    "from matplotlib.colors import Normalize, LogNorm\n",
    "\n",
    "from scipy.interpolate import RegularGridInterpolator\n",
    "from tqdm import tqdm"
   ]
  },
  {
   "cell_type": "markdown",
   "id": "b26cd52f-c336-46d7-a9fd-77d88f52fe6e",
   "metadata": {},
   "source": [
    "Read **STEFAN HEIGLS** data. Data is currently (until 01.02.2022) available [here](https://gigamove.rwth-aachen.de/de/download/4abe80f1c550806021f85af8c57c886e)."
   ]
  },
  {
   "cell_type": "code",
   "execution_count": null,
   "id": "4501b15b-8287-4987-848f-1bb969689b5c",
   "metadata": {},
   "outputs": [],
   "source": [
    "f = np.load('../data/turbulentbox.npy')\n",
    "data = f.copy()\n",
    "del f"
   ]
  },
  {
   "cell_type": "markdown",
   "id": "74fc6ca9",
   "metadata": {},
   "source": [
    "Read **THOMAS PFEILS** data. Data is currently (until 02.02.2022) available [here](https://gigamove.rwth-aachen.de/de/download/ebdbc12c85438bd224a5015206840893)."
   ]
  },
  {
   "cell_type": "code",
   "execution_count": null,
   "id": "4cc9846e-4c1c-411a-842c-c940a34d7c18",
   "metadata": {},
   "outputs": [],
   "source": [
    "with np.load('../data/pluto_data.npz') as f:\n",
    "    data = f['rho']"
   ]
  },
  {
   "cell_type": "markdown",
   "id": "ab8b7523-6018-489a-acff-02c652e49754",
   "metadata": {
    "tags": []
   },
   "source": [
    "# Visualization"
   ]
  },
  {
   "cell_type": "markdown",
   "id": "9f218125-7572-4fac-8cff-db3b47285248",
   "metadata": {},
   "source": [
    "## My own renderer"
   ]
  },
  {
   "cell_type": "code",
   "execution_count": null,
   "id": "2d72c6da",
   "metadata": {},
   "outputs": [],
   "source": [
    "import volrender"
   ]
  },
  {
   "cell_type": "code",
   "execution_count": null,
   "id": "ae65ff0c",
   "metadata": {},
   "outputs": [],
   "source": [
    "vmax = data.max()\n",
    "lognorm = LogNorm(vmin=vmax * 1e-4, vmax=vmax, clip=True)\n",
    "datacube = lognorm(data.ravel()).reshape(data.shape).data"
   ]
  },
  {
   "cell_type": "code",
   "execution_count": null,
   "id": "db9fdc99-8056-4b05-89f9-d7a6d55bd2e5",
   "metadata": {},
   "outputs": [],
   "source": [
    "ren = volrender.Renderer(np.moveaxis(datacube, 0, 1))\n",
    "colors = ren.transferfunction.colors.copy()\n",
    "\n",
    "ren.transferfunction.x0            = [0.1, 0.4, 0.9]\n",
    "ren.transferfunction.sigma         = [0.05, 0.05, 0.1]\n",
    "ren.transferfunction.colors        = colors\n",
    "ren.transferfunction.colors[:, -1] = [0.1, 0.2, 0.1]\n",
    "ren.transferfunction.A             = [0.2, 0.1, 0.3]"
   ]
  },
  {
   "cell_type": "code",
   "execution_count": null,
   "id": "706b02e4",
   "metadata": {},
   "outputs": [],
   "source": [
    "ren.render(0, 50)"
   ]
  },
  {
   "cell_type": "markdown",
   "id": "f6f3d5cd-0009-41ea-9467-e693ca49b982",
   "metadata": {},
   "source": [
    "### Plots"
   ]
  },
  {
   "cell_type": "code",
   "execution_count": null,
   "id": "a31f3b34-9a93-4ecb-91c6-bb4198984152",
   "metadata": {},
   "outputs": [],
   "source": [
    "f, ax = ren.plot(norm=lognorm, diagnostics=True)"
   ]
  },
  {
   "cell_type": "markdown",
   "id": "ffd5b9ac-5435-4405-915d-731e97eb62fd",
   "metadata": {},
   "source": [
    "Same disk different transfer function"
   ]
  },
  {
   "cell_type": "code",
   "execution_count": null,
   "id": "1aa9d9fe-3f63-44f1-bac8-fe15dff0a656",
   "metadata": {},
   "outputs": [],
   "source": [
    "ren.transferfunction.x0     = np.array([0.2, 0.88])\n",
    "ren.transferfunction.sigma  = np.array([0.05, 0.02])\n",
    "ren.transferfunction.colors = np.array([\n",
    "    [1.  , .5  , 0.  , 0.1],\n",
    "    [.25  , .25  , .75  , 0.1]])\n",
    "ren.transferfunction.A      = np.array([1, 2])\n",
    "ren.render(update=False)\n",
    "ren.plot(diagnostics=False)"
   ]
  },
  {
   "cell_type": "markdown",
   "id": "52132eb5-6e7e-497c-90f1-1e01e0c8d504",
   "metadata": {},
   "source": [
    "### Make a movie"
   ]
  },
  {
   "cell_type": "markdown",
   "id": "039bf0a8-5e02-4fd5-a667-5df52ee8b3d0",
   "metadata": {},
   "source": [
    "due to the size, here we can just use 1 CPU or we get memory issues"
   ]
  },
  {
   "cell_type": "code",
   "execution_count": null,
   "id": "d81d5f60-9b2c-49a8-bede-7ccb1d4516d4",
   "metadata": {},
   "outputs": [],
   "source": [
    "n_ang = 90\n",
    "theta = np.linspace(45, 45, n_ang)\n",
    "phi = np.linspace(0, 180, n_ang)\n",
    "fname = 'movie_pluto.mp4'\n",
    "volrender.render_helper.render_movie(ren.data, theta, phi, ncpu=1, tf=ren.transferfunction, fname=fname)"
   ]
  },
  {
   "cell_type": "code",
   "execution_count": null,
   "id": "f448a9f0",
   "metadata": {},
   "outputs": [],
   "source": [
    "from IPython.display import HTML\n",
    "HTML(f\"\"\"\n",
    "<video width=\"500\" controls>\n",
    "  <source src=\"{fname}\" type=\"video/mp4\">\n",
    "</video>\n",
    "\"\"\")"
   ]
  },
  {
   "cell_type": "markdown",
   "id": "20301797",
   "metadata": {},
   "source": [
    "## Pyvista"
   ]
  },
  {
   "cell_type": "code",
   "execution_count": null,
   "id": "1a730671",
   "metadata": {},
   "outputs": [],
   "source": [
    "import pyvista"
   ]
  },
  {
   "cell_type": "code",
   "execution_count": null,
   "id": "b6a9157c",
   "metadata": {},
   "outputs": [],
   "source": [
    "grid = pyvista.UniformGrid()\n",
    "grid.dimensions = np.array(data.shape) + 1\n",
    "grid.spacing = (1, 1, 1)\n",
    "grid.cell_data[\"density\"] = np.log10(data.flatten(order=\"F\"))\n",
    "\n",
    "vmax = grid['density'].max()\n",
    "grid['opac'] = Normalize(vmin=vmax - 1.5, vmax=vmax)(grid['density'])"
   ]
  },
  {
   "cell_type": "code",
   "execution_count": null,
   "id": "2214d7ef",
   "metadata": {},
   "outputs": [],
   "source": [
    "pyvista.close_all()"
   ]
  },
  {
   "cell_type": "code",
   "execution_count": null,
   "id": "605e88f5",
   "metadata": {},
   "outputs": [],
   "source": [
    "p = pyvista.Plotter()\n",
    "p.set_background('white')\n",
    "p.add_volume(grid, scalars='opac', cmap=\"viridis\", clim=[0, 1], opacity='linear', shade=False, opacity_unit_distance=.010)\n",
    "p.show()"
   ]
  },
  {
   "cell_type": "markdown",
   "id": "6384aac1-bef1-4450-80b8-6de124c157fb",
   "metadata": {},
   "source": [
    "## YT"
   ]
  },
  {
   "cell_type": "code",
   "execution_count": null,
   "id": "43362e7e-d249-4a3d-a05d-d1cce2f83052",
   "metadata": {},
   "outputs": [],
   "source": [
    "import yt"
   ]
  },
  {
   "cell_type": "code",
   "execution_count": null,
   "id": "94a04301-85e5-4521-b4b9-81aa15edcbd4",
   "metadata": {},
   "outputs": [],
   "source": [
    "plt.style.use({'figure.dpi':150})"
   ]
  },
  {
   "cell_type": "code",
   "execution_count": null,
   "id": "f7072d25",
   "metadata": {},
   "outputs": [],
   "source": [
    "with np.load('pluto_data.npz') as f:\n",
    "    data = f['rho']"
   ]
  },
  {
   "cell_type": "code",
   "execution_count": null,
   "id": "0ca1d3e6-8eb8-46d5-90b7-1b8ead572bd5",
   "metadata": {},
   "outputs": [],
   "source": [
    "data_dict = dict(density = (data, \"cm**-3\"))\n",
    "bbox = np.array([[-1, 1], [-1, 1], [-1, 1]])\n",
    "ds = yt.load_uniform_grid(data_dict, data.shape, bbox=bbox)"
   ]
  },
  {
   "cell_type": "code",
   "execution_count": null,
   "id": "ef891363-07b9-4ce6-bca7-ff1225962bb1",
   "metadata": {},
   "outputs": [],
   "source": [
    "slc = yt.SlicePlot(ds, \"z\", (\"gas\", \"density\"))\n",
    "slc.set_cmap((\"gas\", \"density\"), \"Blues\")\n",
    "slc.annotate_grids(cmap=None)\n",
    "slc.show()"
   ]
  },
  {
   "cell_type": "code",
   "execution_count": null,
   "id": "715a250e-612f-4ee5-a55e-91cc22510017",
   "metadata": {},
   "outputs": [],
   "source": [
    "sc = yt.create_scene(ds)\n",
    "\n",
    "# Get a reference to the VolumeSource associated with this scene\n",
    "# It is the first source associated with the scene, so we can refer to it\n",
    "# using index 0.\n",
    "source = sc[0]\n",
    "\n",
    "# Set the bounds of the transfer function\n",
    "source.tfh.set_bounds((1e-23, 1e-20))\n",
    "\n",
    "# set that the transfer function should be evaluated in log space\n",
    "source.tfh.set_log(True)\n",
    "\n",
    "# Make underdense regions appear opaque\n",
    "source.tfh.grey_opacity = False\n",
    "\n",
    "# Plot the transfer function, along with the CDF of the density field to\n",
    "# see how the transfer function corresponds to structure in the CDF\n",
    "source.tfh.plot(\"transfer_function.png\", profile_field=(\"gas\", \"density\"))\n",
    "\n",
    "# save the image, flooring especially bright pixels for better contrast\n",
    "sc.save(\"rendering.pdf\", sigma_clip=6.0)"
   ]
  },
  {
   "cell_type": "code",
   "execution_count": null,
   "id": "6c10b2b1-9dc3-4c01-8f64-903989da9b43",
   "metadata": {},
   "outputs": [],
   "source": [
    "!open rendering.pdf"
   ]
  }
 ],
 "metadata": {
  "kernelspec": {
   "display_name": "Python 3 (ipykernel)",
   "language": "python",
   "name": "python3"
  },
  "language_info": {
   "codemirror_mode": {
    "name": "ipython",
    "version": 3
   },
   "file_extension": ".py",
   "mimetype": "text/x-python",
   "name": "python",
   "nbconvert_exporter": "python",
   "pygments_lexer": "ipython3",
   "version": "3.9.7"
  }
 },
 "nbformat": 4,
 "nbformat_minor": 5
}
