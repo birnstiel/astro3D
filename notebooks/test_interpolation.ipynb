{
 "cells": [
  {
   "cell_type": "markdown",
   "id": "b2e3a08d-127d-472b-8cf6-64615f16a5d2",
   "metadata": {
    "tags": []
   },
   "source": [
    "# Test interpolation\n",
    "\n",
    "Tests my fortran interpolation routine"
   ]
  },
  {
   "cell_type": "code",
   "execution_count": null,
   "id": "75730034-156f-4538-820d-0eb280c05450",
   "metadata": {},
   "outputs": [],
   "source": [
    "import numpy as np\n",
    "import matplotlib.pyplot as plt\n",
    "from matplotlib.colors import Normalize\n",
    "\n",
    "from volrender import fmodule"
   ]
  },
  {
   "cell_type": "code",
   "execution_count": null,
   "id": "9447991a-f783-452b-8b44-d54a4f658c7c",
   "metadata": {},
   "outputs": [],
   "source": [
    "from scipy.interpolate import RegularGridInterpolator"
   ]
  },
  {
   "cell_type": "markdown",
   "id": "a076ecab-f647-4fca-82a0-f72361b7456e",
   "metadata": {},
   "source": [
    "## Define test function\n",
    "It takes the data, generates random points and overplots the interpolations"
   ]
  },
  {
   "cell_type": "code",
   "execution_count": null,
   "id": "9421b2f9-0feb-4a3d-8838-54e9dc03ac4f",
   "metadata": {},
   "outputs": [],
   "source": [
    "def test(x, y, z, vals, n_p=100, fct=None):\n",
    "\n",
    "    vmax = vals.max()\n",
    "    vmin = 0.0\n",
    "    norm = Normalize(vmin=vmin, vmax=vmax)\n",
    "\n",
    "    xo, yo = np.random.rand(2, n_p)\n",
    "    yo *= y[-1]\n",
    "    zo = np.ones(n_p) * 0.5\n",
    "    points = np.array([xo, yo, zo]).T\n",
    "\n",
    "    vals_int = fmodule.interpolate(x, y, z, vals, points)\n",
    "\n",
    "    \n",
    "    if fct is not None:\n",
    "        vals_true = fct(*points.T)\n",
    "        \n",
    "    f_scipy = RegularGridInterpolator((x,y,z), vals)\n",
    "    vals_scipy = f_scipy(points)\n",
    "\n",
    "    cm = plt.cm.RdBu\n",
    "    c = cm(norm(vals_int))\n",
    "\n",
    "    iz = 0\n",
    "    f, ax = plt.subplots(dpi=200)\n",
    "    ax.set_aspect('equal')\n",
    "    cc = ax.pcolormesh(x, y, vals[:, :, iz].T, norm=norm, cmap=cm, shading='gouraud')\n",
    "    ax.set_xlabel('x')\n",
    "    ax.set_ylabel('y')\n",
    "    plt.colorbar(cc);\n",
    "    ax.scatter(xo, yo, c=c, norm=norm, ec='w');\n",
    "    \n",
    "    if fct is not None:\n",
    "        idx = vals_scipy.argsort()\n",
    "        f, ax = plt.subplots(dpi=200)\n",
    "        ax.plot(np.arange(n_p), vals_true[idx], 'k', lw=3, label='true')\n",
    "        ax.plot(np.arange(n_p), vals_scipy[idx], '--', label='scipy')\n",
    "        ax.plot(np.arange(n_p), vals_int[idx], ':', label='fmodule')\n",
    "        ax.legend()"
   ]
  },
  {
   "cell_type": "markdown",
   "id": "ac7b59b3-f7c7-4fe6-b7bb-a16cf5a2b863",
   "metadata": {},
   "source": [
    "## Test 1"
   ]
  },
  {
   "cell_type": "code",
   "execution_count": null,
   "id": "07a18a54-fbe7-440a-8878-0039e702edd3",
   "metadata": {},
   "outputs": [],
   "source": [
    "nx = 50\n",
    "ny = 40\n",
    "nz = 2\n",
    "\n",
    "x = np.linspace(0.0, 1.0, nx)\n",
    "y = np.linspace(0.0, 2.0, ny)\n",
    "z = np.linspace(0.0, 1.0, nz)\n",
    "\n",
    "X, Y, Z = np.meshgrid(x, y, z, indexing='ij')\n",
    "\n",
    "def f(x,y,z):\n",
    "    return np.sqrt(x**2 + y**2) * x * np.sin(2*np.pi * y)\n",
    "\n",
    "vals = f(X, Y, Z)"
   ]
  },
  {
   "cell_type": "code",
   "execution_count": null,
   "id": "b2b9a449-1ff3-4c4e-9add-8bf134f5290f",
   "metadata": {},
   "outputs": [],
   "source": [
    "test(x, y, z, vals, fct=f)"
   ]
  },
  {
   "cell_type": "markdown",
   "id": "b4217e22-3581-4ad9-92be-106c2255325f",
   "metadata": {},
   "source": [
    "## Test 2"
   ]
  },
  {
   "cell_type": "code",
   "execution_count": null,
   "id": "37367620-3f68-4b7e-8438-688ee08fb2b7",
   "metadata": {},
   "outputs": [],
   "source": [
    "x = np.array([0.0, 1.0])\n",
    "y = np.array([0.0, 1.0])\n",
    "z = np.array([0.0, 1.0])\n",
    "\n",
    "xi = np.array([0.0, 0.5, 1.0])\n",
    "yi = np.array([0.0, 0.5, 1.0])\n",
    "zi = np.array([0.0, 0.5, 1.0])\n",
    "\n",
    "valsc = np.zeros([2, 2, 2])\n",
    "valsc[:, 1, :] += 1.0\n",
    "valsc[1, :, :] += 1.0\n",
    "\n",
    "def f(x, y, z):\n",
    "    return x + y\n",
    "\n",
    "X, Y, Z = np.meshgrid(x, y, z, indexing='ij')\n",
    "valsc = f(X, Y, Z)"
   ]
  },
  {
   "cell_type": "code",
   "execution_count": null,
   "id": "3a7e6171-0846-4ce8-97ff-3b7bcea6fd51",
   "metadata": {},
   "outputs": [],
   "source": [
    "test(x, y, z, valsc, fct=f)"
   ]
  },
  {
   "cell_type": "markdown",
   "id": "f36ce1fe-8c9b-4c0a-87a5-0699fa4147d6",
   "metadata": {},
   "source": [
    "## Test 3"
   ]
  },
  {
   "cell_type": "markdown",
   "id": "91a5e0c6-9c5e-4cb2-bce0-5725342ea61b",
   "metadata": {},
   "source": [
    "here we test it in real data with out-of boundary cases"
   ]
  },
  {
   "cell_type": "code",
   "execution_count": null,
   "id": "a0ab4bf9-7f24-4b64-8e6d-e400f84760d8",
   "metadata": {},
   "outputs": [],
   "source": [
    "from matplotlib.colors import LogNorm\n",
    "import volrender"
   ]
  },
  {
   "cell_type": "code",
   "execution_count": null,
   "id": "e3497e95-64e4-472a-8132-031d00e78b69",
   "metadata": {},
   "outputs": [],
   "source": [
    "with np.load('../data/pluto_data_norm.npz') as f:\n",
    "    data = f['rho']"
   ]
  },
  {
   "cell_type": "code",
   "execution_count": null,
   "id": "61e2d11a-491a-4ba6-ae92-9f8c1a51e4f5",
   "metadata": {},
   "outputs": [],
   "source": [
    "vmax = data.max()\n",
    "lognorm = LogNorm(vmin=vmax * 1e-4, vmax=vmax, clip=True)\n",
    "datacube = lognorm(data.ravel()).reshape(data.shape).data"
   ]
  },
  {
   "cell_type": "code",
   "execution_count": null,
   "id": "91121a95-f0ef-44ef-b24d-987c424149f7",
   "metadata": {
    "tags": []
   },
   "outputs": [],
   "source": [
    "ren = volrender.Renderer(datacube)\n",
    "ren.render(0, 0)\n",
    "ren.init_interpolation()"
   ]
  },
  {
   "cell_type": "markdown",
   "id": "ee9764ee-bea4-499b-a0df-6c4ec5d4c427",
   "metadata": {},
   "source": [
    "Render once with the **python/scipy** functions"
   ]
  },
  {
   "cell_type": "code",
   "execution_count": null,
   "id": "9d03c6ef-aafc-483d-8ec2-d23df1ca6acd",
   "metadata": {},
   "outputs": [],
   "source": [
    "%%time\n",
    "ren._f_int = False\n",
    "ren.render(phi=10, theta=0)\n",
    "res_p = ren.data_obs.copy()"
   ]
  },
  {
   "cell_type": "markdown",
   "id": "35350c6f-d60c-4c88-a6c8-3830b37af6e2",
   "metadata": {},
   "source": [
    "Render once with the **fortran** functions"
   ]
  },
  {
   "cell_type": "code",
   "execution_count": null,
   "id": "e01b25a9-53d1-4dfc-9182-049c3c40f9e5",
   "metadata": {},
   "outputs": [],
   "source": [
    "%%time\n",
    "ren._f_int = True\n",
    "ren.render(phi=10, theta=0)\n",
    "res_f = ren.data_obs.copy()"
   ]
  },
  {
   "cell_type": "markdown",
   "id": "cb7c64a8-583b-4d1a-a018-22189c1ec3e2",
   "metadata": {},
   "source": [
    "Compare original data and the two rotated cases"
   ]
  },
  {
   "cell_type": "code",
   "execution_count": null,
   "id": "0b09e15b-ceab-4224-b7f5-d2198ae1c61b",
   "metadata": {},
   "outputs": [],
   "source": [
    "x = np.linspace(ren.x[0], ren.x[-1], ren._N)\n",
    "y = np.linspace(ren.y[0], ren.y[-1], ren._N)\n",
    "z = np.linspace(ren.z[0], ren.z[-1], ren._N)\n",
    "\n",
    "_x = 250\n",
    "_y = 345\n",
    "_z = 0\n",
    "\n",
    "ix = x.searchsorted(_x)\n",
    "iy = y.searchsorted(_y)\n",
    "iz = z.searchsorted(_z)\n",
    "\n",
    "vmax = np.max(ren.data)\n",
    "vmin = 0\n",
    "norm = Normalize(vmin=vmin, vmax=vmax)\n",
    "#norm = LogNorm(vmin=1e-4 * vmax, vmax=vmax)\n",
    "\n",
    "f, axs = plt.subplots(1, 3, figsize=(15,4), sharex=True, sharey=True)\n",
    "for ax in axs:\n",
    "    ax.set_aspect('equal')\n",
    "axs[0].pcolormesh(ren.x, ren.y, datacube[:, :, datacube.shape[-1] // 2].T, norm=norm)\n",
    "axs[1].pcolormesh(x, y, res_p[:, :, iz].T, norm=norm)\n",
    "axs[2].pcolormesh(x, y, res_f[:, :, iz].T, norm=norm, lw=0.001, ec='w')\n",
    "axs[2].set_xlim(0, 400)\n",
    "axs[2].set_ylim(80, 400)\n",
    "\n",
    "for ax in axs:\n",
    "    ax.plot(x[ix], y[iy], 'rx')"
   ]
  }
 ],
 "metadata": {
  "kernelspec": {
   "display_name": "Python 3 (ipykernel)",
   "language": "python",
   "name": "python3"
  },
  "language_info": {
   "codemirror_mode": {
    "name": "ipython",
    "version": 3
   },
   "file_extension": ".py",
   "mimetype": "text/x-python",
   "name": "python",
   "nbconvert_exporter": "python",
   "pygments_lexer": "ipython3",
   "version": "3.9.7"
  }
 },
 "nbformat": 4,
 "nbformat_minor": 5
}
