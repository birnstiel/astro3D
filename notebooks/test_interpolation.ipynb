{
 "cells": [
  {
   "cell_type": "markdown",
   "id": "b2e3a08d-127d-472b-8cf6-64615f16a5d2",
   "metadata": {},
   "source": [
    "# Test interpolation\n",
    "\n",
    "Tests my fortran interpolation routine"
   ]
  },
  {
   "cell_type": "code",
   "execution_count": null,
   "id": "75730034-156f-4538-820d-0eb280c05450",
   "metadata": {},
   "outputs": [],
   "source": [
    "import numpy as np\n",
    "import matplotlib.pyplot as plt\n",
    "from matplotlib.colors import Normalize\n",
    "\n",
    "from volrender.volrender import fmodule"
   ]
  },
  {
   "cell_type": "code",
   "execution_count": null,
   "id": "9447991a-f783-452b-8b44-d54a4f658c7c",
   "metadata": {},
   "outputs": [],
   "source": [
    "from scipy.interpolate import RegularGridInterpolator"
   ]
  },
  {
   "cell_type": "markdown",
   "id": "a076ecab-f647-4fca-82a0-f72361b7456e",
   "metadata": {},
   "source": [
    "## Define test function\n",
    "It takes the data, generates random points and overplots the interpolations"
   ]
  },
  {
   "cell_type": "code",
   "execution_count": null,
   "id": "9421b2f9-0feb-4a3d-8838-54e9dc03ac4f",
   "metadata": {},
   "outputs": [],
   "source": [
    "def test(x, y, z, vals, n_p=100, fct=None):\n",
    "\n",
    "    vmax = vals.max()\n",
    "    vmin = 0.0\n",
    "    norm = Normalize(vmin=vmin, vmax=vmax)\n",
    "\n",
    "    xo, yo = np.random.rand(2, n_p)\n",
    "    yo *= y[-1]\n",
    "    zo = np.ones(n_p) * 0.5\n",
    "    points = np.array([xo, yo, zo]).T\n",
    "\n",
    "    vals_int = fmodule.interpolate(x, y, z, vals, points)\n",
    "\n",
    "    \n",
    "    if fct is not None:\n",
    "        vals_true = fct(*points.T)\n",
    "        \n",
    "    f_scipy = RegularGridInterpolator((x,y,z), vals)\n",
    "    vals_scipy = f_scipy(points)\n",
    "\n",
    "    cm = plt.cm.RdBu\n",
    "    c = cm(norm(vals_int))\n",
    "\n",
    "    iz = 0\n",
    "    f, ax = plt.subplots(dpi=200)\n",
    "    ax.set_aspect('equal')\n",
    "    cc = ax.pcolormesh(x, y, vals[:, :, iz].T, norm=norm, cmap=cm, shading='gouraud')\n",
    "    ax.set_xlabel('x')\n",
    "    ax.set_ylabel('y')\n",
    "    plt.colorbar(cc);\n",
    "    ax.scatter(xo, yo, c=c, norm=norm, ec='w');\n",
    "    \n",
    "    if fct is not None:\n",
    "        idx = vals_scipy.argsort()\n",
    "        f, ax = plt.subplots(dpi=200)\n",
    "        ax.plot(np.arange(n_p), vals_true[idx], 'k', lw=3, label='true')\n",
    "        ax.plot(np.arange(n_p), vals_scipy[idx], '--', label='scipy')\n",
    "        ax.plot(np.arange(n_p), vals_int[idx], ':', label='fmodule')\n",
    "        ax.legend()"
   ]
  },
  {
   "cell_type": "markdown",
   "id": "ac7b59b3-f7c7-4fe6-b7bb-a16cf5a2b863",
   "metadata": {},
   "source": [
    "## Test 1"
   ]
  },
  {
   "cell_type": "code",
   "execution_count": null,
   "id": "07a18a54-fbe7-440a-8878-0039e702edd3",
   "metadata": {},
   "outputs": [],
   "source": [
    "nx = 50\n",
    "ny = 40\n",
    "nz = 2\n",
    "\n",
    "x = np.linspace(0.0, 1.0, nx)\n",
    "y = np.linspace(0.0, 2.0, ny)\n",
    "z = np.linspace(0.0, 1.0, nz)\n",
    "\n",
    "X, Y, Z = np.meshgrid(x, y, z, indexing='ij')\n",
    "\n",
    "def f(x,y,z):\n",
    "    return np.sqrt(x**2 + y**2) * x * np.sin(2*np.pi * y)\n",
    "\n",
    "vals = f(X, Y, Z)"
   ]
  },
  {
   "cell_type": "code",
   "execution_count": null,
   "id": "b2b9a449-1ff3-4c4e-9add-8bf134f5290f",
   "metadata": {},
   "outputs": [],
   "source": [
    "test(x, y, z, vals, fct=f)"
   ]
  },
  {
   "cell_type": "markdown",
   "id": "b4217e22-3581-4ad9-92be-106c2255325f",
   "metadata": {},
   "source": [
    "## Test data 2"
   ]
  },
  {
   "cell_type": "code",
   "execution_count": null,
   "id": "37367620-3f68-4b7e-8438-688ee08fb2b7",
   "metadata": {},
   "outputs": [],
   "source": [
    "x = np.array([0.0, 1.0])\n",
    "y = np.array([0.0, 1.0])\n",
    "z = np.array([0.0, 1.0])\n",
    "\n",
    "xi = np.array([0.0, 0.5, 1.0])\n",
    "yi = np.array([0.0, 0.5, 1.0])\n",
    "zi = np.array([0.0, 0.5, 1.0])\n",
    "\n",
    "valsc = np.zeros([2, 2, 2])\n",
    "valsc[:, 1, :] += 1.0\n",
    "valsc[1, :, :] += 1.0\n",
    "\n",
    "def f(x, y, z):\n",
    "    return x + y\n",
    "\n",
    "X, Y, Z = np.meshgrid(x, y, z, indexing='ij')\n",
    "valsc = f(X, Y, Z)"
   ]
  },
  {
   "cell_type": "code",
   "execution_count": null,
   "id": "3a7e6171-0846-4ce8-97ff-3b7bcea6fd51",
   "metadata": {},
   "outputs": [],
   "source": [
    "test(x, y, z, valsc, fct=f)"
   ]
  }
 ],
 "metadata": {
  "kernelspec": {
   "display_name": "Python 3 (ipykernel)",
   "language": "python",
   "name": "python3"
  },
  "language_info": {
   "codemirror_mode": {
    "name": "ipython",
    "version": 3
   },
   "file_extension": ".py",
   "mimetype": "text/x-python",
   "name": "python",
   "nbconvert_exporter": "python",
   "pygments_lexer": "ipython3",
   "version": "3.9.7"
  }
 },
 "nbformat": 4,
 "nbformat_minor": 5
}
