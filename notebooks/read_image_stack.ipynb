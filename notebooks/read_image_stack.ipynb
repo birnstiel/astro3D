{
 "cells": [
  {
   "cell_type": "markdown",
   "id": "f338f3ae-c9fb-4e39-826d-0ecb50f191cc",
   "metadata": {},
   "source": [
    "# Read image stack"
   ]
  },
  {
   "cell_type": "code",
   "execution_count": null,
   "id": "458e19ff-0b5f-4353-82d3-d3ff27926cd7",
   "metadata": {},
   "outputs": [],
   "source": [
    "import imageio\n",
    "from pathlib import Path\n",
    "import numpy as np\n",
    "import matplotlib.pyplot as plt"
   ]
  },
  {
   "cell_type": "code",
   "execution_count": null,
   "id": "4e734d80-04fe-42a4-922b-3bbc8d5549db",
   "metadata": {},
   "outputs": [],
   "source": [
    "files = sorted(list(Path('slices_1cm/').glob('*.png')))\n",
    "im = imageio.imread(files[0])\n",
    "summed_image = np.zeros(im.shape)\n",
    "\n",
    "for file in files:\n",
    "    summed_image += np.array(imageio.imread(file), dtype=float) / 255.0\n",
    "    \n",
    "summed_image = len(files) - summed_image\n",
    "    \n",
    "_x = np.arange(im.shape[0])\n",
    "_y = np.arange(im.shape[1])"
   ]
  },
  {
   "cell_type": "code",
   "execution_count": null,
   "id": "db94fa71-ac91-4500-95fd-f780834fddd9",
   "metadata": {},
   "outputs": [],
   "source": [
    "f, ax = plt.subplots()\n",
    "ax.set_aspect('equal')\n",
    "i = ax.pcolormesh(_x, _y, summed_image, vmin=0, vmax=370, cmap='gray_r')\n",
    "cb = plt.colorbar(i)\n",
    "cb.set_label('# of opaque pixes along LOS')\n",
    "\n",
    "print(f'nr of empty columns: {(summed_image==0).sum() / np.prod(summed_image.shape):.2%}')\n",
    "print(f'most opaque pixel has {summed_image.max():n} filled pixels ({summed_image.max() / len(files):.2%} of all layers)')"
   ]
  }
 ],
 "metadata": {
  "kernelspec": {
   "display_name": "Python 3 (ipykernel)",
   "language": "python",
   "name": "python3"
  },
  "language_info": {
   "codemirror_mode": {
    "name": "ipython",
    "version": 3
   },
   "file_extension": ".py",
   "mimetype": "text/x-python",
   "name": "python",
   "nbconvert_exporter": "python",
   "pygments_lexer": "ipython3",
   "version": "3.9.7"
  }
 },
 "nbformat": 4,
 "nbformat_minor": 5
}
