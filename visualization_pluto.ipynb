{
 "cells": [
  {
   "cell_type": "code",
   "execution_count": 1,
   "id": "46733b70-d349-46f0-8fd6-a87ea95a3d2c",
   "metadata": {},
   "outputs": [],
   "source": [
    "from pathlib import Path\n",
    "import numpy as np\n",
    "import matplotlib.pyplot as plt\n",
    "from matplotlib.colors import Normalize, LogNorm\n",
    "\n",
    "from scipy.interpolate import interpn\n",
    "from tqdm import tqdm"
   ]
  },
  {
   "cell_type": "markdown",
   "id": "b26cd52f-c336-46d7-a9fd-77d88f52fe6e",
   "metadata": {},
   "source": [
    "Read **STEFAN HEIGLS** data. Data is currently (until 01.02.2022) available [here](https://gigamove.rwth-aachen.de/de/download/4abe80f1c550806021f85af8c57c886e)."
   ]
  },
  {
   "cell_type": "code",
   "execution_count": null,
   "id": "4501b15b-8287-4987-848f-1bb969689b5c",
   "metadata": {},
   "outputs": [],
   "source": [
    "f = np.load('turbulentbox.npy')\n",
    "data = f.copy()\n",
    "del f"
   ]
  },
  {
   "cell_type": "markdown",
   "id": "8468ee4c",
   "metadata": {},
   "source": [
    "Read **THOMAS PFEILS** data. Data is currently (until 02.02.2022) available [here](https://gigamove.rwth-aachen.de/de/download/ebdbc12c85438bd224a5015206840893)."
   ]
  },
  {
   "cell_type": "code",
   "execution_count": 25,
   "id": "0565fef7",
   "metadata": {},
   "outputs": [],
   "source": [
    "Slider?"
   ]
  },
  {
   "cell_type": "code",
   "execution_count": 2,
   "id": "4cc9846e-4c1c-411a-842c-c940a34d7c18",
   "metadata": {},
   "outputs": [],
   "source": [
    "with np.load('pluto_data.npz') as f:\n",
    "    data = f['rho']"
   ]
  },
  {
   "cell_type": "markdown",
   "id": "ab8b7523-6018-489a-acff-02c652e49754",
   "metadata": {
    "tags": []
   },
   "source": [
    "# Visualization"
   ]
  },
  {
   "cell_type": "markdown",
   "id": "0ec31fcf-897b-46bc-95fa-f5bbc7859fb8",
   "metadata": {},
   "source": [
    "## Pyvista"
   ]
  },
  {
   "cell_type": "code",
   "execution_count": null,
   "id": "c99802d6-319d-4ae8-98f0-f28f976f03ac",
   "metadata": {},
   "outputs": [],
   "source": [
    "import pyvista"
   ]
  },
  {
   "cell_type": "code",
   "execution_count": null,
   "id": "90386915-f092-41c0-89a3-8ea73e2d8285",
   "metadata": {},
   "outputs": [],
   "source": [
    "grid = pyvista.UniformGrid()\n",
    "grid.dimensions = np.array(data.shape) + 1\n",
    "grid.spacing = (1, 1, 1)\n",
    "grid.cell_data[\"density\"] = np.log10(data.flatten(order=\"F\"))\n",
    "\n",
    "vmax = grid['density'].max()\n",
    "grid['opac'] = Normalize(vmin=vmax - 1.5, vmax=vmax)(grid['density'])"
   ]
  },
  {
   "cell_type": "code",
   "execution_count": null,
   "id": "83bc60a1-b4d4-4986-89ea-13c484be1168",
   "metadata": {},
   "outputs": [],
   "source": [
    "pyvista.close_all()"
   ]
  },
  {
   "cell_type": "code",
   "execution_count": null,
   "id": "3469dcab-2b38-4d8d-9aa8-626dd4ac235b",
   "metadata": {},
   "outputs": [],
   "source": [
    "p = pyvista.Plotter()\n",
    "p.set_background('white')\n",
    "p.add_volume(grid, scalars='opac', cmap=\"viridis\", clim=[0, 1], opacity='linear', shade=False, opacity_unit_distance=.010)\n",
    "p.show()"
   ]
  },
  {
   "cell_type": "markdown",
   "id": "9f218125-7572-4fac-8cff-db3b47285248",
   "metadata": {},
   "source": [
    "## Volumerender"
   ]
  },
  {
   "cell_type": "markdown",
   "id": "07591144-3343-4a5c-b024-59f2afa61548",
   "metadata": {},
   "source": [
    "Define the transfer function: it assigns color values and alpha values to each density"
   ]
  },
  {
   "cell_type": "code",
   "execution_count": 3,
   "id": "ce6b61fc-6768-4a13-8e16-093caa8c103a",
   "metadata": {},
   "outputs": [],
   "source": [
    "def transferFunction(x, x0, A, sigma, colors):\n",
    "    \n",
    "    extra_dims = tuple(np.arange(x.ndim))\n",
    "    \n",
    "    x0     = np.expand_dims(x0, axis=extra_dims)\n",
    "    A      = np.expand_dims(A, axis=extra_dims)\n",
    "    sigma  = np.expand_dims(sigma, axis=extra_dims)\n",
    "    colors = np.expand_dims(colors, axis=extra_dims)\n",
    "\n",
    "    assert x0.shape == A.shape == sigma.shape, 'shapes of x0, A, and sigma must match'\n",
    "    \n",
    "    vals = colors[..., :, :]  * A[..., :, None] *  np.exp(-(x[..., None, None] - x0[..., :, None] )**2 / (2 * sigma[..., :, None]**2))\n",
    "\n",
    "    return vals.sum(-2).T"
   ]
  },
  {
   "cell_type": "markdown",
   "id": "1049b296-75d5-48ee-88ef-7a25f8217f9d",
   "metadata": {},
   "source": [
    "Define function that roates and ray-traces image"
   ]
  },
  {
   "cell_type": "code",
   "execution_count": 5,
   "id": "279402df-4524-46a6-a64e-d21616e96c3f",
   "metadata": {},
   "outputs": [],
   "source": [
    "def makeslice(phi, theta, N=180):\n",
    "\n",
    "    # Camera Grid / Query Points -- rotate camera view\n",
    "    c = np.linspace(-N / 2, N / 2, N)\n",
    "    qx, qy, qz = np.meshgrid(c, c, c)\n",
    "    # qxR = qx\n",
    "    # qyR = qy * np.cos(angle) - qz * np.sin(angle)\n",
    "    # qzR = qy * np.sin(angle) + qz * np.cos(angle)\n",
    "    \n",
    "    qxR = qx * np.cos(phi)   - qy * np.sin(phi) * np.cos(theta) + qz * np.sin(phi) * np.sin(theta)\n",
    "    qyR = qx * np.sin(phi)   + qy * np.cos(phi) * np.cos(theta) - qz * np.sin(theta) * np.cos(phi)\n",
    "    qzR = qy * np.sin(theta) + qz * np.cos(theta)\n",
    "    \n",
    "    qi = np.array([qxR.ravel(), qyR.ravel(), qzR.ravel()]).T\n",
    "\n",
    "    # Interpolate onto Camera Grid\n",
    "    camera_grid = interpn(points, datacube, qi, method='linear', bounds_error=False, fill_value=0.0).reshape((N, N, N))\n",
    "\n",
    "    # Do Volume Rendering\n",
    "    image = np.zeros((camera_grid.shape[1], camera_grid.shape[2], 3))\n",
    "\n",
    "    for dataslice in camera_grid:\n",
    "        r, g, b, a = transferFunction(dataslice, x0, A, sigma, colors)\n",
    "        image[:, :, 0] = a * r + (1 - a) * image[:, :, 0]\n",
    "        image[:, :, 1] = a * g + (1 - a) * image[:, :, 1]\n",
    "        image[:, :, 2] = a * b + (1 - a) * image[:, :, 2]\n",
    "\n",
    "    image = np.clip(image, 0.0, 1.0)\n",
    "    return image"
   ]
  },
  {
   "cell_type": "code",
   "execution_count": 7,
   "id": "87a67cf1",
   "metadata": {},
   "outputs": [],
   "source": [
    "N = 100\n",
    "phi = 0.0\n",
    "theta = np.pi / 4\n",
    "\n",
    "# Camera Grid / Query Points -- rotate camera view\n",
    "c = np.linspace(-N / 2, N / 2, N)\n",
    "qx, qy, qz = np.meshgrid(c, c, c)\n",
    "# qxR = qx\n",
    "# qyR = qy * np.cos(angle) - qz * np.sin(angle)\n",
    "# qzR = qy * np.sin(angle) + qz * np.cos(angle)\n",
    "\n",
    "qxR = qx * np.cos(phi)   - qy * np.sin(phi) * np.cos(theta) + qz * np.sin(phi) * np.sin(theta)\n",
    "qyR = qx * np.sin(phi)   + qy * np.cos(phi) * np.cos(theta) - qz * np.sin(theta) * np.cos(phi)\n",
    "qzR = qy * np.sin(theta) + qz * np.cos(theta)\n",
    "\n",
    "qi = np.array([qxR.ravel(), qyR.ravel(), qzR.ravel()]).T"
   ]
  },
  {
   "cell_type": "code",
   "execution_count": 10,
   "id": "63a490f5",
   "metadata": {},
   "outputs": [],
   "source": [
    "camera_grid = interpn((x, y, z), datacube, qi, method='linear', bounds_error=False, fill_value=0.0).reshape((N, N, N))"
   ]
  },
  {
   "cell_type": "code",
   "execution_count": 111,
   "id": "fcaca557",
   "metadata": {},
   "outputs": [],
   "source": [
    "from scipy.interpolate import LinearNDInterpolator"
   ]
  },
  {
   "cell_type": "code",
   "execution_count": 11,
   "id": "dd112c1a",
   "metadata": {},
   "outputs": [],
   "source": [
    "from scipy.interpolate import RegularGridInterpolator"
   ]
  },
  {
   "cell_type": "code",
   "execution_count": 12,
   "id": "6e3705a8",
   "metadata": {},
   "outputs": [
    {
     "name": "stdout",
     "output_type": "stream",
     "text": [
      "(3, 500, 515, 72)\n"
     ]
    }
   ],
   "source": [
    "p = np.array(np.meshgrid(x,y,z, indexing='ij'))\n",
    "print(p.shape)\n",
    "p = p.reshape([3, -1])"
   ]
  },
  {
   "cell_type": "code",
   "execution_count": 16,
   "id": "07f15670",
   "metadata": {},
   "outputs": [],
   "source": [
    "interp = RegularGridInterpolator((x, y, z), datacube, bounds_error=False, fill_value=0.0)\n",
    "\n",
    "camera_grid2 = interp(qi).reshape((N, N, N))"
   ]
  },
  {
   "cell_type": "markdown",
   "id": "7a698443-5601-4061-869e-d92665322a39",
   "metadata": {},
   "source": [
    "Normalize data to 0...1 and define grid points"
   ]
  },
  {
   "cell_type": "code",
   "execution_count": 9,
   "id": "73a910ca-81ab-43db-b777-d7e0f478907f",
   "metadata": {},
   "outputs": [],
   "source": [
    "vmax = data.max()\n",
    "datacube = LogNorm(vmin=vmax * 1e-4, vmax=vmax, clip=True)(data)\n",
    "# Datacube Grid\n",
    "Nx, Ny, Nz = datacube.shape\n",
    "x = np.linspace(-Nx / 2, Nx / 2, Nx)\n",
    "y = np.linspace(-Ny / 2, Ny / 2, Ny)\n",
    "z = np.linspace(-Nz / 2, Nz / 2, Nz)\n",
    "points = (x, y, z)"
   ]
  },
  {
   "cell_type": "markdown",
   "id": "d9e8b712",
   "metadata": {},
   "source": [
    "Show some statistics of the data"
   ]
  },
  {
   "cell_type": "code",
   "execution_count": null,
   "id": "ae2d6959",
   "metadata": {},
   "outputs": [],
   "source": [
    "from scipy.integrate import cumtrapz\n",
    "\n",
    "f, axs = plt.subplots(1, 2, figsize=(10, 4))\n",
    "\n",
    "ax = axs[0]\n",
    "ax.plot(z, cumtrapz(datacube, x=z, axis=-1, initial=0).mean(0).mean(0), 'r', lw=3)\n",
    "for i in range(50):\n",
    "    ix = np.random.choice(np.arange(len(x)))\n",
    "    iy = np.random.choice(np.arange(len(y)))\n",
    "    ax.plot(z, cumtrapz(datacube[ix, iy, :], x=z, initial=0), 'k', alpha=0.1)\n",
    "ax.set_xlabel('z')\n",
    "\n",
    "ax = axs[1]\n",
    "counts, edges, bars = ax.hist(datacube.ravel(), 50)\n",
    "ax.set_yscale('log')"
   ]
  },
  {
   "cell_type": "markdown",
   "id": "9c798ded-13f7-40bf-8738-698590fd02dc",
   "metadata": {},
   "source": [
    "Set the parameters of the transfer function"
   ]
  },
  {
   "cell_type": "code",
   "execution_count": null,
   "id": "f684cafe-1b97-4a3d-b4ae-07582ff3ec3d",
   "metadata": {},
   "outputs": [],
   "source": [
    "x0    = np.array([0.2, 0.4, 0.9])\n",
    "A     = np.array([0.1, 0.1, 0.1])\n",
    "sigma = [0.02, 0.02, 0.02]\n",
    "colors = np.array([\n",
    "    [1.0, 0.0, 0.0, 1e-2],\n",
    "    [0.0, 1.0, 0.0, 5e-2],\n",
    "    [0.0, 0.0, 1.0, 1e-1],\n",
    "])"
   ]
  },
  {
   "cell_type": "code",
   "execution_count": null,
   "id": "d5a4daa7-7de1-4470-962e-b76087babd6e",
   "metadata": {
    "scrolled": true
   },
   "outputs": [],
   "source": [
    "f, ax = plt.subplots()\n",
    "counts, edges, bars = ax.hist(datacube.ravel(), 50, density=True)\n",
    "centers = 0.5 * (edges[1:] + edges[:-1])\n",
    "\n",
    "r, g, b, a = transferFunction(centers, x0, A, sigma, colors)\n",
    "_r, _g, _b, _a = volumerender.transferFunction(centers)\n",
    "\n",
    "ax.plot(centers, r, 'r', label='r')\n",
    "ax.plot(centers, g, 'g', label='g')\n",
    "ax.plot(centers, b, 'b', label='b')\n",
    "\n",
    "ax.plot(centers, _r, '--r', label='_r')\n",
    "ax.plot(centers, _g, '--g', label='_g')\n",
    "ax.plot(centers, _b, '--b', label='_b')\n",
    "\n",
    "ax.plot(centers, a / colors[:,-1].max(), 'k--', label='a');\n",
    "ax.semilogy()\n",
    "ax.set_ylim(1e-3, 1e1)"
   ]
  },
  {
   "cell_type": "code",
   "execution_count": null,
   "id": "0bf27275",
   "metadata": {},
   "outputs": [],
   "source": [
    "plt.imshow"
   ]
  },
  {
   "cell_type": "code",
   "execution_count": null,
   "id": "4f1cb2d8-1744-41c6-b899-75427f4ef3c5",
   "metadata": {
    "scrolled": false
   },
   "outputs": [],
   "source": [
    "# make the plot\n",
    "f,ax = plt.subplots(figsize=(4, 4), dpi=150)\n",
    "image = makeslice(0, np.pi/4, N=300)\n",
    "# pimg = ax.imshow(255 * Normalize()(image, clip=True))\n",
    "pimg = ax.imshow(255 * image)\n",
    "ax.axis('off')\n",
    "print(image.max())"
   ]
  },
  {
   "cell_type": "markdown",
   "id": "52132eb5-6e7e-497c-90f1-1e01e0c8d504",
   "metadata": {},
   "source": [
    "Make a movie"
   ]
  },
  {
   "cell_type": "code",
   "execution_count": null,
   "id": "9392dff1-811b-4dc0-9efa-eedb2abf07ef",
   "metadata": {},
   "outputs": [],
   "source": [
    "# prepare output folder\n",
    "frames_path = Path('frames')\n",
    "if not frames_path.is_dir():\n",
    "    frames_path.mkdir()\n",
    "    \n",
    "# make the plot\n",
    "f,ax = plt.subplots(figsize=(4, 4), dpi=150)\n",
    "pimg = ax.imshow(255 * image)\n",
    "ax.axis('off')\n",
    "    \n",
    "# make the loop    \n",
    "n_angles = 25\n",
    "phi = np.deg2rad(np.linspace(45, 20, n_angles))\n",
    "theta = np.deg2rad(np.linspace(45, 20, n_angles))\n",
    "    \n",
    "for i, (_phi, _theta) in enumerate(tqdm(zip(phi, theta), total=n_angles)):\n",
    "    image = makeslice(_phi, _theta, N=300)\n",
    "    pimg.set_array(255 * image)\n",
    "    f.savefig(frames_path / f'frame_{i:03d}.jpg', bbox_inches='tight', dpi=200)"
   ]
  },
  {
   "cell_type": "code",
   "execution_count": null,
   "id": "a2bef5b3",
   "metadata": {
    "scrolled": false
   },
   "outputs": [],
   "source": [
    "!ffmpeg -y -i {frames_path}/frame_%03d.jpg -c:v libx264 -crf 15 -maxrate 400k -pix_fmt yuv420p -r 20 -bufsize 1835k movie_01.mp4"
   ]
  },
  {
   "cell_type": "code",
   "execution_count": 103,
   "id": "5927ce38",
   "metadata": {},
   "outputs": [
    {
     "data": {
      "text/html": [
       "\n",
       "<video width=\"500\" controls>\n",
       "  <source src=\"movie_01.mp4\" type=\"video/mp4\">\n",
       "</video>\n"
      ],
      "text/plain": [
       "<IPython.core.display.HTML object>"
      ]
     },
     "execution_count": 103,
     "metadata": {},
     "output_type": "execute_result"
    }
   ],
   "source": [
    "from IPython.display import HTML\n",
    "HTML(f\"\"\"\n",
    "<video width=\"500\" controls>\n",
    "  <source src=\"movie_01.mp4\" type=\"video/mp4\">\n",
    "</video>\n",
    "\"\"\")"
   ]
  },
  {
   "cell_type": "code",
   "execution_count": null,
   "id": "48e17f41-2655-498c-8e4f-26679a4cb40a",
   "metadata": {},
   "outputs": [],
   "source": [
    "!open frames"
   ]
  },
  {
   "cell_type": "markdown",
   "id": "6384aac1-bef1-4450-80b8-6de124c157fb",
   "metadata": {},
   "source": [
    "## YT"
   ]
  },
  {
   "cell_type": "code",
   "execution_count": null,
   "id": "43362e7e-d249-4a3d-a05d-d1cce2f83052",
   "metadata": {},
   "outputs": [],
   "source": [
    "import yt"
   ]
  },
  {
   "cell_type": "code",
   "execution_count": null,
   "id": "94a04301-85e5-4521-b4b9-81aa15edcbd4",
   "metadata": {},
   "outputs": [],
   "source": [
    "plt.style.use({'figure.dpi':150})"
   ]
  },
  {
   "cell_type": "code",
   "execution_count": null,
   "id": "9fb1c575",
   "metadata": {},
   "outputs": [],
   "source": [
    "with np.load('pluto_data.npz') as f:\n",
    "    data = f['rho']"
   ]
  },
  {
   "cell_type": "code",
   "execution_count": null,
   "id": "0ca1d3e6-8eb8-46d5-90b7-1b8ead572bd5",
   "metadata": {},
   "outputs": [],
   "source": [
    "data_dict = dict(density = (data, \"cm**-3\"))\n",
    "bbox = np.array([[-1, 1], [-1, 1], [-1, 1]])\n",
    "ds = yt.load_uniform_grid(data_dict, data.shape, bbox=bbox)"
   ]
  },
  {
   "cell_type": "code",
   "execution_count": null,
   "id": "ef891363-07b9-4ce6-bca7-ff1225962bb1",
   "metadata": {},
   "outputs": [],
   "source": [
    "slc = yt.SlicePlot(ds, \"z\", (\"gas\", \"density\"))\n",
    "slc.set_cmap((\"gas\", \"density\"), \"Blues\")\n",
    "slc.annotate_grids(cmap=None)\n",
    "slc.show()"
   ]
  },
  {
   "cell_type": "code",
   "execution_count": null,
   "id": "715a250e-612f-4ee5-a55e-91cc22510017",
   "metadata": {},
   "outputs": [],
   "source": [
    "sc = yt.create_scene(ds)\n",
    "\n",
    "# Get a reference to the VolumeSource associated with this scene\n",
    "# It is the first source associated with the scene, so we can refer to it\n",
    "# using index 0.\n",
    "source = sc[0]\n",
    "\n",
    "# Set the bounds of the transfer function\n",
    "source.tfh.set_bounds((1e-23, 1e-20))\n",
    "\n",
    "# set that the transfer function should be evaluated in log space\n",
    "source.tfh.set_log(True)\n",
    "\n",
    "# Make underdense regions appear opaque\n",
    "source.tfh.grey_opacity = False\n",
    "\n",
    "# Plot the transfer function, along with the CDF of the density field to\n",
    "# see how the transfer function corresponds to structure in the CDF\n",
    "source.tfh.plot(\"transfer_function.png\", profile_field=(\"gas\", \"density\"))\n",
    "\n",
    "# save the image, flooring especially bright pixels for better contrast\n",
    "sc.save(\"rendering.pdf\", sigma_clip=6.0)"
   ]
  },
  {
   "cell_type": "code",
   "execution_count": null,
   "id": "6c10b2b1-9dc3-4c01-8f64-903989da9b43",
   "metadata": {},
   "outputs": [],
   "source": [
    "!open rendering.pdf"
   ]
  }
 ],
 "metadata": {
  "kernelspec": {
   "display_name": "Python 3",
   "language": "python",
   "name": "python3"
  },
  "language_info": {
   "codemirror_mode": {
    "name": "ipython",
    "version": 3
   },
   "file_extension": ".py",
   "mimetype": "text/x-python",
   "name": "python",
   "nbconvert_exporter": "python",
   "pygments_lexer": "ipython3",
   "version": "3.8.8"
  }
 },
 "nbformat": 4,
 "nbformat_minor": 5
}
